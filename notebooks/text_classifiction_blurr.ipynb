{
  "nbformat": 4,
  "nbformat_minor": 0,
  "metadata": {
    "colab": {
      "provenance": [],
      "gpuType": "T4"
    },
    "kernelspec": {
      "name": "python3",
      "display_name": "Python 3"
    },
    "language_info": {
      "name": "python"
    },
    "accelerator": "GPU",
    "widgets": {
      "application/vnd.jupyter.widget-state+json": {
        "44207979ac3c48b8a1efbca1a930479f": {
          "model_module": "@jupyter-widgets/controls",
          "model_name": "HBoxModel",
          "model_module_version": "1.5.0",
          "state": {
            "_dom_classes": [],
            "_model_module": "@jupyter-widgets/controls",
            "_model_module_version": "1.5.0",
            "_model_name": "HBoxModel",
            "_view_count": null,
            "_view_module": "@jupyter-widgets/controls",
            "_view_module_version": "1.5.0",
            "_view_name": "HBoxView",
            "box_style": "",
            "children": [
              "IPY_MODEL_c32cceb7f4a141878f90d792d36a8b66",
              "IPY_MODEL_58d2f5ce6c034f4db09207ba897a6fc0",
              "IPY_MODEL_458be37e6e464f1fb11c4b365430547f"
            ],
            "layout": "IPY_MODEL_922c1fe6a88548e0b744462b30f2a288"
          }
        },
        "c32cceb7f4a141878f90d792d36a8b66": {
          "model_module": "@jupyter-widgets/controls",
          "model_name": "HTMLModel",
          "model_module_version": "1.5.0",
          "state": {
            "_dom_classes": [],
            "_model_module": "@jupyter-widgets/controls",
            "_model_module_version": "1.5.0",
            "_model_name": "HTMLModel",
            "_view_count": null,
            "_view_module": "@jupyter-widgets/controls",
            "_view_module_version": "1.5.0",
            "_view_name": "HTMLView",
            "description": "",
            "description_tooltip": null,
            "layout": "IPY_MODEL_50080fcb741f42ec976ca78dc1c1f77a",
            "placeholder": "​",
            "style": "IPY_MODEL_50c14b9f46d0480595b3f396e69480be",
            "value": "Downloading builder script: "
          }
        },
        "58d2f5ce6c034f4db09207ba897a6fc0": {
          "model_module": "@jupyter-widgets/controls",
          "model_name": "FloatProgressModel",
          "model_module_version": "1.5.0",
          "state": {
            "_dom_classes": [],
            "_model_module": "@jupyter-widgets/controls",
            "_model_module_version": "1.5.0",
            "_model_name": "FloatProgressModel",
            "_view_count": null,
            "_view_module": "@jupyter-widgets/controls",
            "_view_module_version": "1.5.0",
            "_view_name": "ProgressView",
            "bar_style": "success",
            "description": "",
            "description_tooltip": null,
            "layout": "IPY_MODEL_f5f926bd62e04326959cd4c0e61aef38",
            "max": 1715,
            "min": 0,
            "orientation": "horizontal",
            "style": "IPY_MODEL_49ad7c6fdffb450ba883711200637f71",
            "value": 1715
          }
        },
        "458be37e6e464f1fb11c4b365430547f": {
          "model_module": "@jupyter-widgets/controls",
          "model_name": "HTMLModel",
          "model_module_version": "1.5.0",
          "state": {
            "_dom_classes": [],
            "_model_module": "@jupyter-widgets/controls",
            "_model_module_version": "1.5.0",
            "_model_name": "HTMLModel",
            "_view_count": null,
            "_view_module": "@jupyter-widgets/controls",
            "_view_module_version": "1.5.0",
            "_view_name": "HTMLView",
            "description": "",
            "description_tooltip": null,
            "layout": "IPY_MODEL_b4b450abca8f4c25ae4e998f6bf582d6",
            "placeholder": "​",
            "style": "IPY_MODEL_2bd283d79012427db48f221fcf6148d7",
            "value": " 4.50k/? [00:00&lt;00:00, 135kB/s]"
          }
        },
        "922c1fe6a88548e0b744462b30f2a288": {
          "model_module": "@jupyter-widgets/base",
          "model_name": "LayoutModel",
          "model_module_version": "1.2.0",
          "state": {
            "_model_module": "@jupyter-widgets/base",
            "_model_module_version": "1.2.0",
            "_model_name": "LayoutModel",
            "_view_count": null,
            "_view_module": "@jupyter-widgets/base",
            "_view_module_version": "1.2.0",
            "_view_name": "LayoutView",
            "align_content": null,
            "align_items": null,
            "align_self": null,
            "border": null,
            "bottom": null,
            "display": null,
            "flex": null,
            "flex_flow": null,
            "grid_area": null,
            "grid_auto_columns": null,
            "grid_auto_flow": null,
            "grid_auto_rows": null,
            "grid_column": null,
            "grid_gap": null,
            "grid_row": null,
            "grid_template_areas": null,
            "grid_template_columns": null,
            "grid_template_rows": null,
            "height": null,
            "justify_content": null,
            "justify_items": null,
            "left": null,
            "margin": null,
            "max_height": null,
            "max_width": null,
            "min_height": null,
            "min_width": null,
            "object_fit": null,
            "object_position": null,
            "order": null,
            "overflow": null,
            "overflow_x": null,
            "overflow_y": null,
            "padding": null,
            "right": null,
            "top": null,
            "visibility": null,
            "width": null
          }
        },
        "50080fcb741f42ec976ca78dc1c1f77a": {
          "model_module": "@jupyter-widgets/base",
          "model_name": "LayoutModel",
          "model_module_version": "1.2.0",
          "state": {
            "_model_module": "@jupyter-widgets/base",
            "_model_module_version": "1.2.0",
            "_model_name": "LayoutModel",
            "_view_count": null,
            "_view_module": "@jupyter-widgets/base",
            "_view_module_version": "1.2.0",
            "_view_name": "LayoutView",
            "align_content": null,
            "align_items": null,
            "align_self": null,
            "border": null,
            "bottom": null,
            "display": null,
            "flex": null,
            "flex_flow": null,
            "grid_area": null,
            "grid_auto_columns": null,
            "grid_auto_flow": null,
            "grid_auto_rows": null,
            "grid_column": null,
            "grid_gap": null,
            "grid_row": null,
            "grid_template_areas": null,
            "grid_template_columns": null,
            "grid_template_rows": null,
            "height": null,
            "justify_content": null,
            "justify_items": null,
            "left": null,
            "margin": null,
            "max_height": null,
            "max_width": null,
            "min_height": null,
            "min_width": null,
            "object_fit": null,
            "object_position": null,
            "order": null,
            "overflow": null,
            "overflow_x": null,
            "overflow_y": null,
            "padding": null,
            "right": null,
            "top": null,
            "visibility": null,
            "width": null
          }
        },
        "50c14b9f46d0480595b3f396e69480be": {
          "model_module": "@jupyter-widgets/controls",
          "model_name": "DescriptionStyleModel",
          "model_module_version": "1.5.0",
          "state": {
            "_model_module": "@jupyter-widgets/controls",
            "_model_module_version": "1.5.0",
            "_model_name": "DescriptionStyleModel",
            "_view_count": null,
            "_view_module": "@jupyter-widgets/base",
            "_view_module_version": "1.2.0",
            "_view_name": "StyleView",
            "description_width": ""
          }
        },
        "f5f926bd62e04326959cd4c0e61aef38": {
          "model_module": "@jupyter-widgets/base",
          "model_name": "LayoutModel",
          "model_module_version": "1.2.0",
          "state": {
            "_model_module": "@jupyter-widgets/base",
            "_model_module_version": "1.2.0",
            "_model_name": "LayoutModel",
            "_view_count": null,
            "_view_module": "@jupyter-widgets/base",
            "_view_module_version": "1.2.0",
            "_view_name": "LayoutView",
            "align_content": null,
            "align_items": null,
            "align_self": null,
            "border": null,
            "bottom": null,
            "display": null,
            "flex": null,
            "flex_flow": null,
            "grid_area": null,
            "grid_auto_columns": null,
            "grid_auto_flow": null,
            "grid_auto_rows": null,
            "grid_column": null,
            "grid_gap": null,
            "grid_row": null,
            "grid_template_areas": null,
            "grid_template_columns": null,
            "grid_template_rows": null,
            "height": null,
            "justify_content": null,
            "justify_items": null,
            "left": null,
            "margin": null,
            "max_height": null,
            "max_width": null,
            "min_height": null,
            "min_width": null,
            "object_fit": null,
            "object_position": null,
            "order": null,
            "overflow": null,
            "overflow_x": null,
            "overflow_y": null,
            "padding": null,
            "right": null,
            "top": null,
            "visibility": null,
            "width": null
          }
        },
        "49ad7c6fdffb450ba883711200637f71": {
          "model_module": "@jupyter-widgets/controls",
          "model_name": "ProgressStyleModel",
          "model_module_version": "1.5.0",
          "state": {
            "_model_module": "@jupyter-widgets/controls",
            "_model_module_version": "1.5.0",
            "_model_name": "ProgressStyleModel",
            "_view_count": null,
            "_view_module": "@jupyter-widgets/base",
            "_view_module_version": "1.2.0",
            "_view_name": "StyleView",
            "bar_color": null,
            "description_width": ""
          }
        },
        "b4b450abca8f4c25ae4e998f6bf582d6": {
          "model_module": "@jupyter-widgets/base",
          "model_name": "LayoutModel",
          "model_module_version": "1.2.0",
          "state": {
            "_model_module": "@jupyter-widgets/base",
            "_model_module_version": "1.2.0",
            "_model_name": "LayoutModel",
            "_view_count": null,
            "_view_module": "@jupyter-widgets/base",
            "_view_module_version": "1.2.0",
            "_view_name": "LayoutView",
            "align_content": null,
            "align_items": null,
            "align_self": null,
            "border": null,
            "bottom": null,
            "display": null,
            "flex": null,
            "flex_flow": null,
            "grid_area": null,
            "grid_auto_columns": null,
            "grid_auto_flow": null,
            "grid_auto_rows": null,
            "grid_column": null,
            "grid_gap": null,
            "grid_row": null,
            "grid_template_areas": null,
            "grid_template_columns": null,
            "grid_template_rows": null,
            "height": null,
            "justify_content": null,
            "justify_items": null,
            "left": null,
            "margin": null,
            "max_height": null,
            "max_width": null,
            "min_height": null,
            "min_width": null,
            "object_fit": null,
            "object_position": null,
            "order": null,
            "overflow": null,
            "overflow_x": null,
            "overflow_y": null,
            "padding": null,
            "right": null,
            "top": null,
            "visibility": null,
            "width": null
          }
        },
        "2bd283d79012427db48f221fcf6148d7": {
          "model_module": "@jupyter-widgets/controls",
          "model_name": "DescriptionStyleModel",
          "model_module_version": "1.5.0",
          "state": {
            "_model_module": "@jupyter-widgets/controls",
            "_model_module_version": "1.5.0",
            "_model_name": "DescriptionStyleModel",
            "_view_count": null,
            "_view_module": "@jupyter-widgets/base",
            "_view_module_version": "1.2.0",
            "_view_name": "StyleView",
            "description_width": ""
          }
        },
        "75479e6034914c36803d41a9cc1a12c3": {
          "model_module": "@jupyter-widgets/controls",
          "model_name": "HBoxModel",
          "model_module_version": "1.5.0",
          "state": {
            "_dom_classes": [],
            "_model_module": "@jupyter-widgets/controls",
            "_model_module_version": "1.5.0",
            "_model_name": "HBoxModel",
            "_view_count": null,
            "_view_module": "@jupyter-widgets/controls",
            "_view_module_version": "1.5.0",
            "_view_name": "HBoxView",
            "box_style": "",
            "children": [
              "IPY_MODEL_fe7e23db6843465d830382ce42757bdb",
              "IPY_MODEL_c4b047035823498a8ed9227da6137c1b",
              "IPY_MODEL_02d6be891f4b4450b68fc44138e837b3"
            ],
            "layout": "IPY_MODEL_5129a306ffd74480b38ab2a4f6106d86"
          }
        },
        "fe7e23db6843465d830382ce42757bdb": {
          "model_module": "@jupyter-widgets/controls",
          "model_name": "HTMLModel",
          "model_module_version": "1.5.0",
          "state": {
            "_dom_classes": [],
            "_model_module": "@jupyter-widgets/controls",
            "_model_module_version": "1.5.0",
            "_model_name": "HTMLModel",
            "_view_count": null,
            "_view_module": "@jupyter-widgets/controls",
            "_view_module_version": "1.5.0",
            "_view_name": "HTMLView",
            "description": "",
            "description_tooltip": null,
            "layout": "IPY_MODEL_8d5902f7a79c49c6820a1d6d1d1821df",
            "placeholder": "​",
            "style": "IPY_MODEL_6b359b51b2a9421a849489add22298a9",
            "value": "Downloading extra modules: "
          }
        },
        "c4b047035823498a8ed9227da6137c1b": {
          "model_module": "@jupyter-widgets/controls",
          "model_name": "FloatProgressModel",
          "model_module_version": "1.5.0",
          "state": {
            "_dom_classes": [],
            "_model_module": "@jupyter-widgets/controls",
            "_model_module_version": "1.5.0",
            "_model_name": "FloatProgressModel",
            "_view_count": null,
            "_view_module": "@jupyter-widgets/controls",
            "_view_module_version": "1.5.0",
            "_view_name": "ProgressView",
            "bar_style": "success",
            "description": "",
            "description_tooltip": null,
            "layout": "IPY_MODEL_135d7cbf00fb48c5b29b36f367943f1a",
            "max": 1109,
            "min": 0,
            "orientation": "horizontal",
            "style": "IPY_MODEL_eaadd5fc10304277bb99bab53547eeb5",
            "value": 1109
          }
        },
        "02d6be891f4b4450b68fc44138e837b3": {
          "model_module": "@jupyter-widgets/controls",
          "model_name": "HTMLModel",
          "model_module_version": "1.5.0",
          "state": {
            "_dom_classes": [],
            "_model_module": "@jupyter-widgets/controls",
            "_model_module_version": "1.5.0",
            "_model_name": "HTMLModel",
            "_view_count": null,
            "_view_module": "@jupyter-widgets/controls",
            "_view_module_version": "1.5.0",
            "_view_name": "HTMLView",
            "description": "",
            "description_tooltip": null,
            "layout": "IPY_MODEL_f73b8b06d3f14342a367eb4bab4c5372",
            "placeholder": "​",
            "style": "IPY_MODEL_85b442df6da14efd849d191330031b98",
            "value": " 3.30k/? [00:00&lt;00:00, 115kB/s]"
          }
        },
        "5129a306ffd74480b38ab2a4f6106d86": {
          "model_module": "@jupyter-widgets/base",
          "model_name": "LayoutModel",
          "model_module_version": "1.2.0",
          "state": {
            "_model_module": "@jupyter-widgets/base",
            "_model_module_version": "1.2.0",
            "_model_name": "LayoutModel",
            "_view_count": null,
            "_view_module": "@jupyter-widgets/base",
            "_view_module_version": "1.2.0",
            "_view_name": "LayoutView",
            "align_content": null,
            "align_items": null,
            "align_self": null,
            "border": null,
            "bottom": null,
            "display": null,
            "flex": null,
            "flex_flow": null,
            "grid_area": null,
            "grid_auto_columns": null,
            "grid_auto_flow": null,
            "grid_auto_rows": null,
            "grid_column": null,
            "grid_gap": null,
            "grid_row": null,
            "grid_template_areas": null,
            "grid_template_columns": null,
            "grid_template_rows": null,
            "height": null,
            "justify_content": null,
            "justify_items": null,
            "left": null,
            "margin": null,
            "max_height": null,
            "max_width": null,
            "min_height": null,
            "min_width": null,
            "object_fit": null,
            "object_position": null,
            "order": null,
            "overflow": null,
            "overflow_x": null,
            "overflow_y": null,
            "padding": null,
            "right": null,
            "top": null,
            "visibility": null,
            "width": null
          }
        },
        "8d5902f7a79c49c6820a1d6d1d1821df": {
          "model_module": "@jupyter-widgets/base",
          "model_name": "LayoutModel",
          "model_module_version": "1.2.0",
          "state": {
            "_model_module": "@jupyter-widgets/base",
            "_model_module_version": "1.2.0",
            "_model_name": "LayoutModel",
            "_view_count": null,
            "_view_module": "@jupyter-widgets/base",
            "_view_module_version": "1.2.0",
            "_view_name": "LayoutView",
            "align_content": null,
            "align_items": null,
            "align_self": null,
            "border": null,
            "bottom": null,
            "display": null,
            "flex": null,
            "flex_flow": null,
            "grid_area": null,
            "grid_auto_columns": null,
            "grid_auto_flow": null,
            "grid_auto_rows": null,
            "grid_column": null,
            "grid_gap": null,
            "grid_row": null,
            "grid_template_areas": null,
            "grid_template_columns": null,
            "grid_template_rows": null,
            "height": null,
            "justify_content": null,
            "justify_items": null,
            "left": null,
            "margin": null,
            "max_height": null,
            "max_width": null,
            "min_height": null,
            "min_width": null,
            "object_fit": null,
            "object_position": null,
            "order": null,
            "overflow": null,
            "overflow_x": null,
            "overflow_y": null,
            "padding": null,
            "right": null,
            "top": null,
            "visibility": null,
            "width": null
          }
        },
        "6b359b51b2a9421a849489add22298a9": {
          "model_module": "@jupyter-widgets/controls",
          "model_name": "DescriptionStyleModel",
          "model_module_version": "1.5.0",
          "state": {
            "_model_module": "@jupyter-widgets/controls",
            "_model_module_version": "1.5.0",
            "_model_name": "DescriptionStyleModel",
            "_view_count": null,
            "_view_module": "@jupyter-widgets/base",
            "_view_module_version": "1.2.0",
            "_view_name": "StyleView",
            "description_width": ""
          }
        },
        "135d7cbf00fb48c5b29b36f367943f1a": {
          "model_module": "@jupyter-widgets/base",
          "model_name": "LayoutModel",
          "model_module_version": "1.2.0",
          "state": {
            "_model_module": "@jupyter-widgets/base",
            "_model_module_version": "1.2.0",
            "_model_name": "LayoutModel",
            "_view_count": null,
            "_view_module": "@jupyter-widgets/base",
            "_view_module_version": "1.2.0",
            "_view_name": "LayoutView",
            "align_content": null,
            "align_items": null,
            "align_self": null,
            "border": null,
            "bottom": null,
            "display": null,
            "flex": null,
            "flex_flow": null,
            "grid_area": null,
            "grid_auto_columns": null,
            "grid_auto_flow": null,
            "grid_auto_rows": null,
            "grid_column": null,
            "grid_gap": null,
            "grid_row": null,
            "grid_template_areas": null,
            "grid_template_columns": null,
            "grid_template_rows": null,
            "height": null,
            "justify_content": null,
            "justify_items": null,
            "left": null,
            "margin": null,
            "max_height": null,
            "max_width": null,
            "min_height": null,
            "min_width": null,
            "object_fit": null,
            "object_position": null,
            "order": null,
            "overflow": null,
            "overflow_x": null,
            "overflow_y": null,
            "padding": null,
            "right": null,
            "top": null,
            "visibility": null,
            "width": null
          }
        },
        "eaadd5fc10304277bb99bab53547eeb5": {
          "model_module": "@jupyter-widgets/controls",
          "model_name": "ProgressStyleModel",
          "model_module_version": "1.5.0",
          "state": {
            "_model_module": "@jupyter-widgets/controls",
            "_model_module_version": "1.5.0",
            "_model_name": "ProgressStyleModel",
            "_view_count": null,
            "_view_module": "@jupyter-widgets/base",
            "_view_module_version": "1.2.0",
            "_view_name": "StyleView",
            "bar_color": null,
            "description_width": ""
          }
        },
        "f73b8b06d3f14342a367eb4bab4c5372": {
          "model_module": "@jupyter-widgets/base",
          "model_name": "LayoutModel",
          "model_module_version": "1.2.0",
          "state": {
            "_model_module": "@jupyter-widgets/base",
            "_model_module_version": "1.2.0",
            "_model_name": "LayoutModel",
            "_view_count": null,
            "_view_module": "@jupyter-widgets/base",
            "_view_module_version": "1.2.0",
            "_view_name": "LayoutView",
            "align_content": null,
            "align_items": null,
            "align_self": null,
            "border": null,
            "bottom": null,
            "display": null,
            "flex": null,
            "flex_flow": null,
            "grid_area": null,
            "grid_auto_columns": null,
            "grid_auto_flow": null,
            "grid_auto_rows": null,
            "grid_column": null,
            "grid_gap": null,
            "grid_row": null,
            "grid_template_areas": null,
            "grid_template_columns": null,
            "grid_template_rows": null,
            "height": null,
            "justify_content": null,
            "justify_items": null,
            "left": null,
            "margin": null,
            "max_height": null,
            "max_width": null,
            "min_height": null,
            "min_width": null,
            "object_fit": null,
            "object_position": null,
            "order": null,
            "overflow": null,
            "overflow_x": null,
            "overflow_y": null,
            "padding": null,
            "right": null,
            "top": null,
            "visibility": null,
            "width": null
          }
        },
        "85b442df6da14efd849d191330031b98": {
          "model_module": "@jupyter-widgets/controls",
          "model_name": "DescriptionStyleModel",
          "model_module_version": "1.5.0",
          "state": {
            "_model_module": "@jupyter-widgets/controls",
            "_model_module_version": "1.5.0",
            "_model_name": "DescriptionStyleModel",
            "_view_count": null,
            "_view_module": "@jupyter-widgets/base",
            "_view_module_version": "1.2.0",
            "_view_name": "StyleView",
            "description_width": ""
          }
        },
        "dcf19d185d6549b38ac9eb3dd0414978": {
          "model_module": "@jupyter-widgets/controls",
          "model_name": "HBoxModel",
          "model_module_version": "1.5.0",
          "state": {
            "_dom_classes": [],
            "_model_module": "@jupyter-widgets/controls",
            "_model_module_version": "1.5.0",
            "_model_name": "HBoxModel",
            "_view_count": null,
            "_view_module": "@jupyter-widgets/controls",
            "_view_module_version": "1.5.0",
            "_view_name": "HBoxView",
            "box_style": "",
            "children": [
              "IPY_MODEL_1f148b8b94204d7387f22170d0bc272c",
              "IPY_MODEL_023df1b123a24e6b8c98e3c05bcb76fe",
              "IPY_MODEL_fa9bf86cbaa74c829c2ad16c8d235a7e"
            ],
            "layout": "IPY_MODEL_bbd72d359b044658b79e2a585b7cc5a6"
          }
        },
        "1f148b8b94204d7387f22170d0bc272c": {
          "model_module": "@jupyter-widgets/controls",
          "model_name": "HTMLModel",
          "model_module_version": "1.5.0",
          "state": {
            "_dom_classes": [],
            "_model_module": "@jupyter-widgets/controls",
            "_model_module_version": "1.5.0",
            "_model_name": "HTMLModel",
            "_view_count": null,
            "_view_module": "@jupyter-widgets/controls",
            "_view_module_version": "1.5.0",
            "_view_name": "HTMLView",
            "description": "",
            "description_tooltip": null,
            "layout": "IPY_MODEL_631debdc9eb04726890bf00a1ab2d69f",
            "placeholder": "​",
            "style": "IPY_MODEL_dc7e46219259471c9bb340b68fc4588e",
            "value": "config.json: 100%"
          }
        },
        "023df1b123a24e6b8c98e3c05bcb76fe": {
          "model_module": "@jupyter-widgets/controls",
          "model_name": "FloatProgressModel",
          "model_module_version": "1.5.0",
          "state": {
            "_dom_classes": [],
            "_model_module": "@jupyter-widgets/controls",
            "_model_module_version": "1.5.0",
            "_model_name": "FloatProgressModel",
            "_view_count": null,
            "_view_module": "@jupyter-widgets/controls",
            "_view_module_version": "1.5.0",
            "_view_name": "ProgressView",
            "bar_style": "success",
            "description": "",
            "description_tooltip": null,
            "layout": "IPY_MODEL_71295ec994734200895c05aaa15b97c8",
            "max": 480,
            "min": 0,
            "orientation": "horizontal",
            "style": "IPY_MODEL_854eafbb3a3e4309a9b37cba312fc4ca",
            "value": 480
          }
        },
        "fa9bf86cbaa74c829c2ad16c8d235a7e": {
          "model_module": "@jupyter-widgets/controls",
          "model_name": "HTMLModel",
          "model_module_version": "1.5.0",
          "state": {
            "_dom_classes": [],
            "_model_module": "@jupyter-widgets/controls",
            "_model_module_version": "1.5.0",
            "_model_name": "HTMLModel",
            "_view_count": null,
            "_view_module": "@jupyter-widgets/controls",
            "_view_module_version": "1.5.0",
            "_view_name": "HTMLView",
            "description": "",
            "description_tooltip": null,
            "layout": "IPY_MODEL_e7d1290514d94d57b66b48e8f899e4ec",
            "placeholder": "​",
            "style": "IPY_MODEL_66dd92d565164de2a865933f4ed6d463",
            "value": " 480/480 [00:00&lt;00:00, 28.6kB/s]"
          }
        },
        "bbd72d359b044658b79e2a585b7cc5a6": {
          "model_module": "@jupyter-widgets/base",
          "model_name": "LayoutModel",
          "model_module_version": "1.2.0",
          "state": {
            "_model_module": "@jupyter-widgets/base",
            "_model_module_version": "1.2.0",
            "_model_name": "LayoutModel",
            "_view_count": null,
            "_view_module": "@jupyter-widgets/base",
            "_view_module_version": "1.2.0",
            "_view_name": "LayoutView",
            "align_content": null,
            "align_items": null,
            "align_self": null,
            "border": null,
            "bottom": null,
            "display": null,
            "flex": null,
            "flex_flow": null,
            "grid_area": null,
            "grid_auto_columns": null,
            "grid_auto_flow": null,
            "grid_auto_rows": null,
            "grid_column": null,
            "grid_gap": null,
            "grid_row": null,
            "grid_template_areas": null,
            "grid_template_columns": null,
            "grid_template_rows": null,
            "height": null,
            "justify_content": null,
            "justify_items": null,
            "left": null,
            "margin": null,
            "max_height": null,
            "max_width": null,
            "min_height": null,
            "min_width": null,
            "object_fit": null,
            "object_position": null,
            "order": null,
            "overflow": null,
            "overflow_x": null,
            "overflow_y": null,
            "padding": null,
            "right": null,
            "top": null,
            "visibility": null,
            "width": null
          }
        },
        "631debdc9eb04726890bf00a1ab2d69f": {
          "model_module": "@jupyter-widgets/base",
          "model_name": "LayoutModel",
          "model_module_version": "1.2.0",
          "state": {
            "_model_module": "@jupyter-widgets/base",
            "_model_module_version": "1.2.0",
            "_model_name": "LayoutModel",
            "_view_count": null,
            "_view_module": "@jupyter-widgets/base",
            "_view_module_version": "1.2.0",
            "_view_name": "LayoutView",
            "align_content": null,
            "align_items": null,
            "align_self": null,
            "border": null,
            "bottom": null,
            "display": null,
            "flex": null,
            "flex_flow": null,
            "grid_area": null,
            "grid_auto_columns": null,
            "grid_auto_flow": null,
            "grid_auto_rows": null,
            "grid_column": null,
            "grid_gap": null,
            "grid_row": null,
            "grid_template_areas": null,
            "grid_template_columns": null,
            "grid_template_rows": null,
            "height": null,
            "justify_content": null,
            "justify_items": null,
            "left": null,
            "margin": null,
            "max_height": null,
            "max_width": null,
            "min_height": null,
            "min_width": null,
            "object_fit": null,
            "object_position": null,
            "order": null,
            "overflow": null,
            "overflow_x": null,
            "overflow_y": null,
            "padding": null,
            "right": null,
            "top": null,
            "visibility": null,
            "width": null
          }
        },
        "dc7e46219259471c9bb340b68fc4588e": {
          "model_module": "@jupyter-widgets/controls",
          "model_name": "DescriptionStyleModel",
          "model_module_version": "1.5.0",
          "state": {
            "_model_module": "@jupyter-widgets/controls",
            "_model_module_version": "1.5.0",
            "_model_name": "DescriptionStyleModel",
            "_view_count": null,
            "_view_module": "@jupyter-widgets/base",
            "_view_module_version": "1.2.0",
            "_view_name": "StyleView",
            "description_width": ""
          }
        },
        "71295ec994734200895c05aaa15b97c8": {
          "model_module": "@jupyter-widgets/base",
          "model_name": "LayoutModel",
          "model_module_version": "1.2.0",
          "state": {
            "_model_module": "@jupyter-widgets/base",
            "_model_module_version": "1.2.0",
            "_model_name": "LayoutModel",
            "_view_count": null,
            "_view_module": "@jupyter-widgets/base",
            "_view_module_version": "1.2.0",
            "_view_name": "LayoutView",
            "align_content": null,
            "align_items": null,
            "align_self": null,
            "border": null,
            "bottom": null,
            "display": null,
            "flex": null,
            "flex_flow": null,
            "grid_area": null,
            "grid_auto_columns": null,
            "grid_auto_flow": null,
            "grid_auto_rows": null,
            "grid_column": null,
            "grid_gap": null,
            "grid_row": null,
            "grid_template_areas": null,
            "grid_template_columns": null,
            "grid_template_rows": null,
            "height": null,
            "justify_content": null,
            "justify_items": null,
            "left": null,
            "margin": null,
            "max_height": null,
            "max_width": null,
            "min_height": null,
            "min_width": null,
            "object_fit": null,
            "object_position": null,
            "order": null,
            "overflow": null,
            "overflow_x": null,
            "overflow_y": null,
            "padding": null,
            "right": null,
            "top": null,
            "visibility": null,
            "width": null
          }
        },
        "854eafbb3a3e4309a9b37cba312fc4ca": {
          "model_module": "@jupyter-widgets/controls",
          "model_name": "ProgressStyleModel",
          "model_module_version": "1.5.0",
          "state": {
            "_model_module": "@jupyter-widgets/controls",
            "_model_module_version": "1.5.0",
            "_model_name": "ProgressStyleModel",
            "_view_count": null,
            "_view_module": "@jupyter-widgets/base",
            "_view_module_version": "1.2.0",
            "_view_name": "StyleView",
            "bar_color": null,
            "description_width": ""
          }
        },
        "e7d1290514d94d57b66b48e8f899e4ec": {
          "model_module": "@jupyter-widgets/base",
          "model_name": "LayoutModel",
          "model_module_version": "1.2.0",
          "state": {
            "_model_module": "@jupyter-widgets/base",
            "_model_module_version": "1.2.0",
            "_model_name": "LayoutModel",
            "_view_count": null,
            "_view_module": "@jupyter-widgets/base",
            "_view_module_version": "1.2.0",
            "_view_name": "LayoutView",
            "align_content": null,
            "align_items": null,
            "align_self": null,
            "border": null,
            "bottom": null,
            "display": null,
            "flex": null,
            "flex_flow": null,
            "grid_area": null,
            "grid_auto_columns": null,
            "grid_auto_flow": null,
            "grid_auto_rows": null,
            "grid_column": null,
            "grid_gap": null,
            "grid_row": null,
            "grid_template_areas": null,
            "grid_template_columns": null,
            "grid_template_rows": null,
            "height": null,
            "justify_content": null,
            "justify_items": null,
            "left": null,
            "margin": null,
            "max_height": null,
            "max_width": null,
            "min_height": null,
            "min_width": null,
            "object_fit": null,
            "object_position": null,
            "order": null,
            "overflow": null,
            "overflow_x": null,
            "overflow_y": null,
            "padding": null,
            "right": null,
            "top": null,
            "visibility": null,
            "width": null
          }
        },
        "66dd92d565164de2a865933f4ed6d463": {
          "model_module": "@jupyter-widgets/controls",
          "model_name": "DescriptionStyleModel",
          "model_module_version": "1.5.0",
          "state": {
            "_model_module": "@jupyter-widgets/controls",
            "_model_module_version": "1.5.0",
            "_model_name": "DescriptionStyleModel",
            "_view_count": null,
            "_view_module": "@jupyter-widgets/base",
            "_view_module_version": "1.2.0",
            "_view_name": "StyleView",
            "description_width": ""
          }
        },
        "e28e684dbb8944e1ab94cd174ad72b46": {
          "model_module": "@jupyter-widgets/controls",
          "model_name": "HBoxModel",
          "model_module_version": "1.5.0",
          "state": {
            "_dom_classes": [],
            "_model_module": "@jupyter-widgets/controls",
            "_model_module_version": "1.5.0",
            "_model_name": "HBoxModel",
            "_view_count": null,
            "_view_module": "@jupyter-widgets/controls",
            "_view_module_version": "1.5.0",
            "_view_name": "HBoxView",
            "box_style": "",
            "children": [
              "IPY_MODEL_76c18fbaf07f43d3b0d9044041409b19",
              "IPY_MODEL_7cd696924816485ea23ec3c192bd627d",
              "IPY_MODEL_a2d3decb2e28413b86991ca341b9634e"
            ],
            "layout": "IPY_MODEL_94154997812e4ebdb1ac06d049c4be29"
          }
        },
        "76c18fbaf07f43d3b0d9044041409b19": {
          "model_module": "@jupyter-widgets/controls",
          "model_name": "HTMLModel",
          "model_module_version": "1.5.0",
          "state": {
            "_dom_classes": [],
            "_model_module": "@jupyter-widgets/controls",
            "_model_module_version": "1.5.0",
            "_model_name": "HTMLModel",
            "_view_count": null,
            "_view_module": "@jupyter-widgets/controls",
            "_view_module_version": "1.5.0",
            "_view_name": "HTMLView",
            "description": "",
            "description_tooltip": null,
            "layout": "IPY_MODEL_0b5dbbf1881f4f099f3e205999aa27b8",
            "placeholder": "​",
            "style": "IPY_MODEL_aeed6282575e4af6bd511e803bb19051",
            "value": "vocab.json: 100%"
          }
        },
        "7cd696924816485ea23ec3c192bd627d": {
          "model_module": "@jupyter-widgets/controls",
          "model_name": "FloatProgressModel",
          "model_module_version": "1.5.0",
          "state": {
            "_dom_classes": [],
            "_model_module": "@jupyter-widgets/controls",
            "_model_module_version": "1.5.0",
            "_model_name": "FloatProgressModel",
            "_view_count": null,
            "_view_module": "@jupyter-widgets/controls",
            "_view_module_version": "1.5.0",
            "_view_name": "ProgressView",
            "bar_style": "success",
            "description": "",
            "description_tooltip": null,
            "layout": "IPY_MODEL_e2bdac36036640129a96f6bce5318846",
            "max": 898823,
            "min": 0,
            "orientation": "horizontal",
            "style": "IPY_MODEL_597624f671654eefaca6d3442d48856e",
            "value": 898823
          }
        },
        "a2d3decb2e28413b86991ca341b9634e": {
          "model_module": "@jupyter-widgets/controls",
          "model_name": "HTMLModel",
          "model_module_version": "1.5.0",
          "state": {
            "_dom_classes": [],
            "_model_module": "@jupyter-widgets/controls",
            "_model_module_version": "1.5.0",
            "_model_name": "HTMLModel",
            "_view_count": null,
            "_view_module": "@jupyter-widgets/controls",
            "_view_module_version": "1.5.0",
            "_view_name": "HTMLView",
            "description": "",
            "description_tooltip": null,
            "layout": "IPY_MODEL_e030c4b441a7405a928dad97135df729",
            "placeholder": "​",
            "style": "IPY_MODEL_b70a5ea1cc484297a776ccb40aa55b65",
            "value": " 899k/899k [00:00&lt;00:00, 1.21MB/s]"
          }
        },
        "94154997812e4ebdb1ac06d049c4be29": {
          "model_module": "@jupyter-widgets/base",
          "model_name": "LayoutModel",
          "model_module_version": "1.2.0",
          "state": {
            "_model_module": "@jupyter-widgets/base",
            "_model_module_version": "1.2.0",
            "_model_name": "LayoutModel",
            "_view_count": null,
            "_view_module": "@jupyter-widgets/base",
            "_view_module_version": "1.2.0",
            "_view_name": "LayoutView",
            "align_content": null,
            "align_items": null,
            "align_self": null,
            "border": null,
            "bottom": null,
            "display": null,
            "flex": null,
            "flex_flow": null,
            "grid_area": null,
            "grid_auto_columns": null,
            "grid_auto_flow": null,
            "grid_auto_rows": null,
            "grid_column": null,
            "grid_gap": null,
            "grid_row": null,
            "grid_template_areas": null,
            "grid_template_columns": null,
            "grid_template_rows": null,
            "height": null,
            "justify_content": null,
            "justify_items": null,
            "left": null,
            "margin": null,
            "max_height": null,
            "max_width": null,
            "min_height": null,
            "min_width": null,
            "object_fit": null,
            "object_position": null,
            "order": null,
            "overflow": null,
            "overflow_x": null,
            "overflow_y": null,
            "padding": null,
            "right": null,
            "top": null,
            "visibility": null,
            "width": null
          }
        },
        "0b5dbbf1881f4f099f3e205999aa27b8": {
          "model_module": "@jupyter-widgets/base",
          "model_name": "LayoutModel",
          "model_module_version": "1.2.0",
          "state": {
            "_model_module": "@jupyter-widgets/base",
            "_model_module_version": "1.2.0",
            "_model_name": "LayoutModel",
            "_view_count": null,
            "_view_module": "@jupyter-widgets/base",
            "_view_module_version": "1.2.0",
            "_view_name": "LayoutView",
            "align_content": null,
            "align_items": null,
            "align_self": null,
            "border": null,
            "bottom": null,
            "display": null,
            "flex": null,
            "flex_flow": null,
            "grid_area": null,
            "grid_auto_columns": null,
            "grid_auto_flow": null,
            "grid_auto_rows": null,
            "grid_column": null,
            "grid_gap": null,
            "grid_row": null,
            "grid_template_areas": null,
            "grid_template_columns": null,
            "grid_template_rows": null,
            "height": null,
            "justify_content": null,
            "justify_items": null,
            "left": null,
            "margin": null,
            "max_height": null,
            "max_width": null,
            "min_height": null,
            "min_width": null,
            "object_fit": null,
            "object_position": null,
            "order": null,
            "overflow": null,
            "overflow_x": null,
            "overflow_y": null,
            "padding": null,
            "right": null,
            "top": null,
            "visibility": null,
            "width": null
          }
        },
        "aeed6282575e4af6bd511e803bb19051": {
          "model_module": "@jupyter-widgets/controls",
          "model_name": "DescriptionStyleModel",
          "model_module_version": "1.5.0",
          "state": {
            "_model_module": "@jupyter-widgets/controls",
            "_model_module_version": "1.5.0",
            "_model_name": "DescriptionStyleModel",
            "_view_count": null,
            "_view_module": "@jupyter-widgets/base",
            "_view_module_version": "1.2.0",
            "_view_name": "StyleView",
            "description_width": ""
          }
        },
        "e2bdac36036640129a96f6bce5318846": {
          "model_module": "@jupyter-widgets/base",
          "model_name": "LayoutModel",
          "model_module_version": "1.2.0",
          "state": {
            "_model_module": "@jupyter-widgets/base",
            "_model_module_version": "1.2.0",
            "_model_name": "LayoutModel",
            "_view_count": null,
            "_view_module": "@jupyter-widgets/base",
            "_view_module_version": "1.2.0",
            "_view_name": "LayoutView",
            "align_content": null,
            "align_items": null,
            "align_self": null,
            "border": null,
            "bottom": null,
            "display": null,
            "flex": null,
            "flex_flow": null,
            "grid_area": null,
            "grid_auto_columns": null,
            "grid_auto_flow": null,
            "grid_auto_rows": null,
            "grid_column": null,
            "grid_gap": null,
            "grid_row": null,
            "grid_template_areas": null,
            "grid_template_columns": null,
            "grid_template_rows": null,
            "height": null,
            "justify_content": null,
            "justify_items": null,
            "left": null,
            "margin": null,
            "max_height": null,
            "max_width": null,
            "min_height": null,
            "min_width": null,
            "object_fit": null,
            "object_position": null,
            "order": null,
            "overflow": null,
            "overflow_x": null,
            "overflow_y": null,
            "padding": null,
            "right": null,
            "top": null,
            "visibility": null,
            "width": null
          }
        },
        "597624f671654eefaca6d3442d48856e": {
          "model_module": "@jupyter-widgets/controls",
          "model_name": "ProgressStyleModel",
          "model_module_version": "1.5.0",
          "state": {
            "_model_module": "@jupyter-widgets/controls",
            "_model_module_version": "1.5.0",
            "_model_name": "ProgressStyleModel",
            "_view_count": null,
            "_view_module": "@jupyter-widgets/base",
            "_view_module_version": "1.2.0",
            "_view_name": "StyleView",
            "bar_color": null,
            "description_width": ""
          }
        },
        "e030c4b441a7405a928dad97135df729": {
          "model_module": "@jupyter-widgets/base",
          "model_name": "LayoutModel",
          "model_module_version": "1.2.0",
          "state": {
            "_model_module": "@jupyter-widgets/base",
            "_model_module_version": "1.2.0",
            "_model_name": "LayoutModel",
            "_view_count": null,
            "_view_module": "@jupyter-widgets/base",
            "_view_module_version": "1.2.0",
            "_view_name": "LayoutView",
            "align_content": null,
            "align_items": null,
            "align_self": null,
            "border": null,
            "bottom": null,
            "display": null,
            "flex": null,
            "flex_flow": null,
            "grid_area": null,
            "grid_auto_columns": null,
            "grid_auto_flow": null,
            "grid_auto_rows": null,
            "grid_column": null,
            "grid_gap": null,
            "grid_row": null,
            "grid_template_areas": null,
            "grid_template_columns": null,
            "grid_template_rows": null,
            "height": null,
            "justify_content": null,
            "justify_items": null,
            "left": null,
            "margin": null,
            "max_height": null,
            "max_width": null,
            "min_height": null,
            "min_width": null,
            "object_fit": null,
            "object_position": null,
            "order": null,
            "overflow": null,
            "overflow_x": null,
            "overflow_y": null,
            "padding": null,
            "right": null,
            "top": null,
            "visibility": null,
            "width": null
          }
        },
        "b70a5ea1cc484297a776ccb40aa55b65": {
          "model_module": "@jupyter-widgets/controls",
          "model_name": "DescriptionStyleModel",
          "model_module_version": "1.5.0",
          "state": {
            "_model_module": "@jupyter-widgets/controls",
            "_model_module_version": "1.5.0",
            "_model_name": "DescriptionStyleModel",
            "_view_count": null,
            "_view_module": "@jupyter-widgets/base",
            "_view_module_version": "1.2.0",
            "_view_name": "StyleView",
            "description_width": ""
          }
        },
        "82a2f5e749a94eb7897958e4c65f2a82": {
          "model_module": "@jupyter-widgets/controls",
          "model_name": "HBoxModel",
          "model_module_version": "1.5.0",
          "state": {
            "_dom_classes": [],
            "_model_module": "@jupyter-widgets/controls",
            "_model_module_version": "1.5.0",
            "_model_name": "HBoxModel",
            "_view_count": null,
            "_view_module": "@jupyter-widgets/controls",
            "_view_module_version": "1.5.0",
            "_view_name": "HBoxView",
            "box_style": "",
            "children": [
              "IPY_MODEL_98c8dc68c5ad411f9e2e596aa1f3dcf7",
              "IPY_MODEL_c153e5264d92473fa660e1a99790cd69",
              "IPY_MODEL_c04a88dc19774c3f8b292ae38c4a37cc"
            ],
            "layout": "IPY_MODEL_a2603ddadcab46a99f32edf2561b0dc0"
          }
        },
        "98c8dc68c5ad411f9e2e596aa1f3dcf7": {
          "model_module": "@jupyter-widgets/controls",
          "model_name": "HTMLModel",
          "model_module_version": "1.5.0",
          "state": {
            "_dom_classes": [],
            "_model_module": "@jupyter-widgets/controls",
            "_model_module_version": "1.5.0",
            "_model_name": "HTMLModel",
            "_view_count": null,
            "_view_module": "@jupyter-widgets/controls",
            "_view_module_version": "1.5.0",
            "_view_name": "HTMLView",
            "description": "",
            "description_tooltip": null,
            "layout": "IPY_MODEL_262cec3fa1454c42894672741c841bcf",
            "placeholder": "​",
            "style": "IPY_MODEL_e3a76434611b4d92a983f09ddc1df26b",
            "value": "merges.txt: 100%"
          }
        },
        "c153e5264d92473fa660e1a99790cd69": {
          "model_module": "@jupyter-widgets/controls",
          "model_name": "FloatProgressModel",
          "model_module_version": "1.5.0",
          "state": {
            "_dom_classes": [],
            "_model_module": "@jupyter-widgets/controls",
            "_model_module_version": "1.5.0",
            "_model_name": "FloatProgressModel",
            "_view_count": null,
            "_view_module": "@jupyter-widgets/controls",
            "_view_module_version": "1.5.0",
            "_view_name": "ProgressView",
            "bar_style": "success",
            "description": "",
            "description_tooltip": null,
            "layout": "IPY_MODEL_73c224474ca84653aba60f83f3ac69e9",
            "max": 456318,
            "min": 0,
            "orientation": "horizontal",
            "style": "IPY_MODEL_9d559a9fc81e40eeab2999cf273b0909",
            "value": 456318
          }
        },
        "c04a88dc19774c3f8b292ae38c4a37cc": {
          "model_module": "@jupyter-widgets/controls",
          "model_name": "HTMLModel",
          "model_module_version": "1.5.0",
          "state": {
            "_dom_classes": [],
            "_model_module": "@jupyter-widgets/controls",
            "_model_module_version": "1.5.0",
            "_model_name": "HTMLModel",
            "_view_count": null,
            "_view_module": "@jupyter-widgets/controls",
            "_view_module_version": "1.5.0",
            "_view_name": "HTMLView",
            "description": "",
            "description_tooltip": null,
            "layout": "IPY_MODEL_21ae74bc62d141adb95f38e141aef331",
            "placeholder": "​",
            "style": "IPY_MODEL_4ae04f819993478a9de24bd0e8a9e504",
            "value": " 456k/456k [00:00&lt;00:00, 983kB/s]"
          }
        },
        "a2603ddadcab46a99f32edf2561b0dc0": {
          "model_module": "@jupyter-widgets/base",
          "model_name": "LayoutModel",
          "model_module_version": "1.2.0",
          "state": {
            "_model_module": "@jupyter-widgets/base",
            "_model_module_version": "1.2.0",
            "_model_name": "LayoutModel",
            "_view_count": null,
            "_view_module": "@jupyter-widgets/base",
            "_view_module_version": "1.2.0",
            "_view_name": "LayoutView",
            "align_content": null,
            "align_items": null,
            "align_self": null,
            "border": null,
            "bottom": null,
            "display": null,
            "flex": null,
            "flex_flow": null,
            "grid_area": null,
            "grid_auto_columns": null,
            "grid_auto_flow": null,
            "grid_auto_rows": null,
            "grid_column": null,
            "grid_gap": null,
            "grid_row": null,
            "grid_template_areas": null,
            "grid_template_columns": null,
            "grid_template_rows": null,
            "height": null,
            "justify_content": null,
            "justify_items": null,
            "left": null,
            "margin": null,
            "max_height": null,
            "max_width": null,
            "min_height": null,
            "min_width": null,
            "object_fit": null,
            "object_position": null,
            "order": null,
            "overflow": null,
            "overflow_x": null,
            "overflow_y": null,
            "padding": null,
            "right": null,
            "top": null,
            "visibility": null,
            "width": null
          }
        },
        "262cec3fa1454c42894672741c841bcf": {
          "model_module": "@jupyter-widgets/base",
          "model_name": "LayoutModel",
          "model_module_version": "1.2.0",
          "state": {
            "_model_module": "@jupyter-widgets/base",
            "_model_module_version": "1.2.0",
            "_model_name": "LayoutModel",
            "_view_count": null,
            "_view_module": "@jupyter-widgets/base",
            "_view_module_version": "1.2.0",
            "_view_name": "LayoutView",
            "align_content": null,
            "align_items": null,
            "align_self": null,
            "border": null,
            "bottom": null,
            "display": null,
            "flex": null,
            "flex_flow": null,
            "grid_area": null,
            "grid_auto_columns": null,
            "grid_auto_flow": null,
            "grid_auto_rows": null,
            "grid_column": null,
            "grid_gap": null,
            "grid_row": null,
            "grid_template_areas": null,
            "grid_template_columns": null,
            "grid_template_rows": null,
            "height": null,
            "justify_content": null,
            "justify_items": null,
            "left": null,
            "margin": null,
            "max_height": null,
            "max_width": null,
            "min_height": null,
            "min_width": null,
            "object_fit": null,
            "object_position": null,
            "order": null,
            "overflow": null,
            "overflow_x": null,
            "overflow_y": null,
            "padding": null,
            "right": null,
            "top": null,
            "visibility": null,
            "width": null
          }
        },
        "e3a76434611b4d92a983f09ddc1df26b": {
          "model_module": "@jupyter-widgets/controls",
          "model_name": "DescriptionStyleModel",
          "model_module_version": "1.5.0",
          "state": {
            "_model_module": "@jupyter-widgets/controls",
            "_model_module_version": "1.5.0",
            "_model_name": "DescriptionStyleModel",
            "_view_count": null,
            "_view_module": "@jupyter-widgets/base",
            "_view_module_version": "1.2.0",
            "_view_name": "StyleView",
            "description_width": ""
          }
        },
        "73c224474ca84653aba60f83f3ac69e9": {
          "model_module": "@jupyter-widgets/base",
          "model_name": "LayoutModel",
          "model_module_version": "1.2.0",
          "state": {
            "_model_module": "@jupyter-widgets/base",
            "_model_module_version": "1.2.0",
            "_model_name": "LayoutModel",
            "_view_count": null,
            "_view_module": "@jupyter-widgets/base",
            "_view_module_version": "1.2.0",
            "_view_name": "LayoutView",
            "align_content": null,
            "align_items": null,
            "align_self": null,
            "border": null,
            "bottom": null,
            "display": null,
            "flex": null,
            "flex_flow": null,
            "grid_area": null,
            "grid_auto_columns": null,
            "grid_auto_flow": null,
            "grid_auto_rows": null,
            "grid_column": null,
            "grid_gap": null,
            "grid_row": null,
            "grid_template_areas": null,
            "grid_template_columns": null,
            "grid_template_rows": null,
            "height": null,
            "justify_content": null,
            "justify_items": null,
            "left": null,
            "margin": null,
            "max_height": null,
            "max_width": null,
            "min_height": null,
            "min_width": null,
            "object_fit": null,
            "object_position": null,
            "order": null,
            "overflow": null,
            "overflow_x": null,
            "overflow_y": null,
            "padding": null,
            "right": null,
            "top": null,
            "visibility": null,
            "width": null
          }
        },
        "9d559a9fc81e40eeab2999cf273b0909": {
          "model_module": "@jupyter-widgets/controls",
          "model_name": "ProgressStyleModel",
          "model_module_version": "1.5.0",
          "state": {
            "_model_module": "@jupyter-widgets/controls",
            "_model_module_version": "1.5.0",
            "_model_name": "ProgressStyleModel",
            "_view_count": null,
            "_view_module": "@jupyter-widgets/base",
            "_view_module_version": "1.2.0",
            "_view_name": "StyleView",
            "bar_color": null,
            "description_width": ""
          }
        },
        "21ae74bc62d141adb95f38e141aef331": {
          "model_module": "@jupyter-widgets/base",
          "model_name": "LayoutModel",
          "model_module_version": "1.2.0",
          "state": {
            "_model_module": "@jupyter-widgets/base",
            "_model_module_version": "1.2.0",
            "_model_name": "LayoutModel",
            "_view_count": null,
            "_view_module": "@jupyter-widgets/base",
            "_view_module_version": "1.2.0",
            "_view_name": "LayoutView",
            "align_content": null,
            "align_items": null,
            "align_self": null,
            "border": null,
            "bottom": null,
            "display": null,
            "flex": null,
            "flex_flow": null,
            "grid_area": null,
            "grid_auto_columns": null,
            "grid_auto_flow": null,
            "grid_auto_rows": null,
            "grid_column": null,
            "grid_gap": null,
            "grid_row": null,
            "grid_template_areas": null,
            "grid_template_columns": null,
            "grid_template_rows": null,
            "height": null,
            "justify_content": null,
            "justify_items": null,
            "left": null,
            "margin": null,
            "max_height": null,
            "max_width": null,
            "min_height": null,
            "min_width": null,
            "object_fit": null,
            "object_position": null,
            "order": null,
            "overflow": null,
            "overflow_x": null,
            "overflow_y": null,
            "padding": null,
            "right": null,
            "top": null,
            "visibility": null,
            "width": null
          }
        },
        "4ae04f819993478a9de24bd0e8a9e504": {
          "model_module": "@jupyter-widgets/controls",
          "model_name": "DescriptionStyleModel",
          "model_module_version": "1.5.0",
          "state": {
            "_model_module": "@jupyter-widgets/controls",
            "_model_module_version": "1.5.0",
            "_model_name": "DescriptionStyleModel",
            "_view_count": null,
            "_view_module": "@jupyter-widgets/base",
            "_view_module_version": "1.2.0",
            "_view_name": "StyleView",
            "description_width": ""
          }
        },
        "3943f10ef59d4a5a94c500290dd1dcf8": {
          "model_module": "@jupyter-widgets/controls",
          "model_name": "HBoxModel",
          "model_module_version": "1.5.0",
          "state": {
            "_dom_classes": [],
            "_model_module": "@jupyter-widgets/controls",
            "_model_module_version": "1.5.0",
            "_model_name": "HBoxModel",
            "_view_count": null,
            "_view_module": "@jupyter-widgets/controls",
            "_view_module_version": "1.5.0",
            "_view_name": "HBoxView",
            "box_style": "",
            "children": [
              "IPY_MODEL_49ec80491d4a429e8848801186101a90",
              "IPY_MODEL_297698cd0ef34ddf9661233ccc0c89aa",
              "IPY_MODEL_4d15a62d5e614fdcb5d6347631af9bbb"
            ],
            "layout": "IPY_MODEL_46ad8b5400b44e3ca37cda5e99cc1205"
          }
        },
        "49ec80491d4a429e8848801186101a90": {
          "model_module": "@jupyter-widgets/controls",
          "model_name": "HTMLModel",
          "model_module_version": "1.5.0",
          "state": {
            "_dom_classes": [],
            "_model_module": "@jupyter-widgets/controls",
            "_model_module_version": "1.5.0",
            "_model_name": "HTMLModel",
            "_view_count": null,
            "_view_module": "@jupyter-widgets/controls",
            "_view_module_version": "1.5.0",
            "_view_name": "HTMLView",
            "description": "",
            "description_tooltip": null,
            "layout": "IPY_MODEL_5809d0b6f0744b6689a7904ed4fcb16f",
            "placeholder": "​",
            "style": "IPY_MODEL_e4e3676ca4d14c1dba8463cdfbdc4488",
            "value": "tokenizer.json: 100%"
          }
        },
        "297698cd0ef34ddf9661233ccc0c89aa": {
          "model_module": "@jupyter-widgets/controls",
          "model_name": "FloatProgressModel",
          "model_module_version": "1.5.0",
          "state": {
            "_dom_classes": [],
            "_model_module": "@jupyter-widgets/controls",
            "_model_module_version": "1.5.0",
            "_model_name": "FloatProgressModel",
            "_view_count": null,
            "_view_module": "@jupyter-widgets/controls",
            "_view_module_version": "1.5.0",
            "_view_name": "ProgressView",
            "bar_style": "success",
            "description": "",
            "description_tooltip": null,
            "layout": "IPY_MODEL_7d4de92aa2e941d2a6e55ab8364de8fc",
            "max": 1355863,
            "min": 0,
            "orientation": "horizontal",
            "style": "IPY_MODEL_e3c0391407434131aaa4fc92d25ea412",
            "value": 1355863
          }
        },
        "4d15a62d5e614fdcb5d6347631af9bbb": {
          "model_module": "@jupyter-widgets/controls",
          "model_name": "HTMLModel",
          "model_module_version": "1.5.0",
          "state": {
            "_dom_classes": [],
            "_model_module": "@jupyter-widgets/controls",
            "_model_module_version": "1.5.0",
            "_model_name": "HTMLModel",
            "_view_count": null,
            "_view_module": "@jupyter-widgets/controls",
            "_view_module_version": "1.5.0",
            "_view_name": "HTMLView",
            "description": "",
            "description_tooltip": null,
            "layout": "IPY_MODEL_35a7304e8d7f43e885dae882b827c772",
            "placeholder": "​",
            "style": "IPY_MODEL_39e38d4031a647f6a5f821d5cf613101",
            "value": " 1.36M/1.36M [00:00&lt;00:00, 1.38MB/s]"
          }
        },
        "46ad8b5400b44e3ca37cda5e99cc1205": {
          "model_module": "@jupyter-widgets/base",
          "model_name": "LayoutModel",
          "model_module_version": "1.2.0",
          "state": {
            "_model_module": "@jupyter-widgets/base",
            "_model_module_version": "1.2.0",
            "_model_name": "LayoutModel",
            "_view_count": null,
            "_view_module": "@jupyter-widgets/base",
            "_view_module_version": "1.2.0",
            "_view_name": "LayoutView",
            "align_content": null,
            "align_items": null,
            "align_self": null,
            "border": null,
            "bottom": null,
            "display": null,
            "flex": null,
            "flex_flow": null,
            "grid_area": null,
            "grid_auto_columns": null,
            "grid_auto_flow": null,
            "grid_auto_rows": null,
            "grid_column": null,
            "grid_gap": null,
            "grid_row": null,
            "grid_template_areas": null,
            "grid_template_columns": null,
            "grid_template_rows": null,
            "height": null,
            "justify_content": null,
            "justify_items": null,
            "left": null,
            "margin": null,
            "max_height": null,
            "max_width": null,
            "min_height": null,
            "min_width": null,
            "object_fit": null,
            "object_position": null,
            "order": null,
            "overflow": null,
            "overflow_x": null,
            "overflow_y": null,
            "padding": null,
            "right": null,
            "top": null,
            "visibility": null,
            "width": null
          }
        },
        "5809d0b6f0744b6689a7904ed4fcb16f": {
          "model_module": "@jupyter-widgets/base",
          "model_name": "LayoutModel",
          "model_module_version": "1.2.0",
          "state": {
            "_model_module": "@jupyter-widgets/base",
            "_model_module_version": "1.2.0",
            "_model_name": "LayoutModel",
            "_view_count": null,
            "_view_module": "@jupyter-widgets/base",
            "_view_module_version": "1.2.0",
            "_view_name": "LayoutView",
            "align_content": null,
            "align_items": null,
            "align_self": null,
            "border": null,
            "bottom": null,
            "display": null,
            "flex": null,
            "flex_flow": null,
            "grid_area": null,
            "grid_auto_columns": null,
            "grid_auto_flow": null,
            "grid_auto_rows": null,
            "grid_column": null,
            "grid_gap": null,
            "grid_row": null,
            "grid_template_areas": null,
            "grid_template_columns": null,
            "grid_template_rows": null,
            "height": null,
            "justify_content": null,
            "justify_items": null,
            "left": null,
            "margin": null,
            "max_height": null,
            "max_width": null,
            "min_height": null,
            "min_width": null,
            "object_fit": null,
            "object_position": null,
            "order": null,
            "overflow": null,
            "overflow_x": null,
            "overflow_y": null,
            "padding": null,
            "right": null,
            "top": null,
            "visibility": null,
            "width": null
          }
        },
        "e4e3676ca4d14c1dba8463cdfbdc4488": {
          "model_module": "@jupyter-widgets/controls",
          "model_name": "DescriptionStyleModel",
          "model_module_version": "1.5.0",
          "state": {
            "_model_module": "@jupyter-widgets/controls",
            "_model_module_version": "1.5.0",
            "_model_name": "DescriptionStyleModel",
            "_view_count": null,
            "_view_module": "@jupyter-widgets/base",
            "_view_module_version": "1.2.0",
            "_view_name": "StyleView",
            "description_width": ""
          }
        },
        "7d4de92aa2e941d2a6e55ab8364de8fc": {
          "model_module": "@jupyter-widgets/base",
          "model_name": "LayoutModel",
          "model_module_version": "1.2.0",
          "state": {
            "_model_module": "@jupyter-widgets/base",
            "_model_module_version": "1.2.0",
            "_model_name": "LayoutModel",
            "_view_count": null,
            "_view_module": "@jupyter-widgets/base",
            "_view_module_version": "1.2.0",
            "_view_name": "LayoutView",
            "align_content": null,
            "align_items": null,
            "align_self": null,
            "border": null,
            "bottom": null,
            "display": null,
            "flex": null,
            "flex_flow": null,
            "grid_area": null,
            "grid_auto_columns": null,
            "grid_auto_flow": null,
            "grid_auto_rows": null,
            "grid_column": null,
            "grid_gap": null,
            "grid_row": null,
            "grid_template_areas": null,
            "grid_template_columns": null,
            "grid_template_rows": null,
            "height": null,
            "justify_content": null,
            "justify_items": null,
            "left": null,
            "margin": null,
            "max_height": null,
            "max_width": null,
            "min_height": null,
            "min_width": null,
            "object_fit": null,
            "object_position": null,
            "order": null,
            "overflow": null,
            "overflow_x": null,
            "overflow_y": null,
            "padding": null,
            "right": null,
            "top": null,
            "visibility": null,
            "width": null
          }
        },
        "e3c0391407434131aaa4fc92d25ea412": {
          "model_module": "@jupyter-widgets/controls",
          "model_name": "ProgressStyleModel",
          "model_module_version": "1.5.0",
          "state": {
            "_model_module": "@jupyter-widgets/controls",
            "_model_module_version": "1.5.0",
            "_model_name": "ProgressStyleModel",
            "_view_count": null,
            "_view_module": "@jupyter-widgets/base",
            "_view_module_version": "1.2.0",
            "_view_name": "StyleView",
            "bar_color": null,
            "description_width": ""
          }
        },
        "35a7304e8d7f43e885dae882b827c772": {
          "model_module": "@jupyter-widgets/base",
          "model_name": "LayoutModel",
          "model_module_version": "1.2.0",
          "state": {
            "_model_module": "@jupyter-widgets/base",
            "_model_module_version": "1.2.0",
            "_model_name": "LayoutModel",
            "_view_count": null,
            "_view_module": "@jupyter-widgets/base",
            "_view_module_version": "1.2.0",
            "_view_name": "LayoutView",
            "align_content": null,
            "align_items": null,
            "align_self": null,
            "border": null,
            "bottom": null,
            "display": null,
            "flex": null,
            "flex_flow": null,
            "grid_area": null,
            "grid_auto_columns": null,
            "grid_auto_flow": null,
            "grid_auto_rows": null,
            "grid_column": null,
            "grid_gap": null,
            "grid_row": null,
            "grid_template_areas": null,
            "grid_template_columns": null,
            "grid_template_rows": null,
            "height": null,
            "justify_content": null,
            "justify_items": null,
            "left": null,
            "margin": null,
            "max_height": null,
            "max_width": null,
            "min_height": null,
            "min_width": null,
            "object_fit": null,
            "object_position": null,
            "order": null,
            "overflow": null,
            "overflow_x": null,
            "overflow_y": null,
            "padding": null,
            "right": null,
            "top": null,
            "visibility": null,
            "width": null
          }
        },
        "39e38d4031a647f6a5f821d5cf613101": {
          "model_module": "@jupyter-widgets/controls",
          "model_name": "DescriptionStyleModel",
          "model_module_version": "1.5.0",
          "state": {
            "_model_module": "@jupyter-widgets/controls",
            "_model_module_version": "1.5.0",
            "_model_name": "DescriptionStyleModel",
            "_view_count": null,
            "_view_module": "@jupyter-widgets/base",
            "_view_module_version": "1.2.0",
            "_view_name": "StyleView",
            "description_width": ""
          }
        },
        "b7a40249c0424d10808c70d353fab8ef": {
          "model_module": "@jupyter-widgets/controls",
          "model_name": "HBoxModel",
          "model_module_version": "1.5.0",
          "state": {
            "_dom_classes": [],
            "_model_module": "@jupyter-widgets/controls",
            "_model_module_version": "1.5.0",
            "_model_name": "HBoxModel",
            "_view_count": null,
            "_view_module": "@jupyter-widgets/controls",
            "_view_module_version": "1.5.0",
            "_view_name": "HBoxView",
            "box_style": "",
            "children": [
              "IPY_MODEL_01c9800675154283b3ea39c41f57c04b",
              "IPY_MODEL_a2b2142795f24e0f8d53b298641c50be",
              "IPY_MODEL_265ebf1bde664ef7987beb996685298c"
            ],
            "layout": "IPY_MODEL_c01a5d749a0e442d9dd7c18dd07d2b67"
          }
        },
        "01c9800675154283b3ea39c41f57c04b": {
          "model_module": "@jupyter-widgets/controls",
          "model_name": "HTMLModel",
          "model_module_version": "1.5.0",
          "state": {
            "_dom_classes": [],
            "_model_module": "@jupyter-widgets/controls",
            "_model_module_version": "1.5.0",
            "_model_name": "HTMLModel",
            "_view_count": null,
            "_view_module": "@jupyter-widgets/controls",
            "_view_module_version": "1.5.0",
            "_view_name": "HTMLView",
            "description": "",
            "description_tooltip": null,
            "layout": "IPY_MODEL_beb7de9c5e6b48f7ae66d6002a5757a9",
            "placeholder": "​",
            "style": "IPY_MODEL_c7ac2e39ab9f4a6a969982997c318d72",
            "value": "model.safetensors: 100%"
          }
        },
        "a2b2142795f24e0f8d53b298641c50be": {
          "model_module": "@jupyter-widgets/controls",
          "model_name": "FloatProgressModel",
          "model_module_version": "1.5.0",
          "state": {
            "_dom_classes": [],
            "_model_module": "@jupyter-widgets/controls",
            "_model_module_version": "1.5.0",
            "_model_name": "FloatProgressModel",
            "_view_count": null,
            "_view_module": "@jupyter-widgets/controls",
            "_view_module_version": "1.5.0",
            "_view_name": "ProgressView",
            "bar_style": "success",
            "description": "",
            "description_tooltip": null,
            "layout": "IPY_MODEL_64f84552b1734697a97d9185bba7d246",
            "max": 331055963,
            "min": 0,
            "orientation": "horizontal",
            "style": "IPY_MODEL_31a62aac682641a0bb6fcfc9825bac47",
            "value": 331055963
          }
        },
        "265ebf1bde664ef7987beb996685298c": {
          "model_module": "@jupyter-widgets/controls",
          "model_name": "HTMLModel",
          "model_module_version": "1.5.0",
          "state": {
            "_dom_classes": [],
            "_model_module": "@jupyter-widgets/controls",
            "_model_module_version": "1.5.0",
            "_model_name": "HTMLModel",
            "_view_count": null,
            "_view_module": "@jupyter-widgets/controls",
            "_view_module_version": "1.5.0",
            "_view_name": "HTMLView",
            "description": "",
            "description_tooltip": null,
            "layout": "IPY_MODEL_145a46a9d30049ba9eb01df0f054b506",
            "placeholder": "​",
            "style": "IPY_MODEL_15b7f57e0f6447af97fa9a055c39ef67",
            "value": " 331M/331M [00:22&lt;00:00, 16.7MB/s]"
          }
        },
        "c01a5d749a0e442d9dd7c18dd07d2b67": {
          "model_module": "@jupyter-widgets/base",
          "model_name": "LayoutModel",
          "model_module_version": "1.2.0",
          "state": {
            "_model_module": "@jupyter-widgets/base",
            "_model_module_version": "1.2.0",
            "_model_name": "LayoutModel",
            "_view_count": null,
            "_view_module": "@jupyter-widgets/base",
            "_view_module_version": "1.2.0",
            "_view_name": "LayoutView",
            "align_content": null,
            "align_items": null,
            "align_self": null,
            "border": null,
            "bottom": null,
            "display": null,
            "flex": null,
            "flex_flow": null,
            "grid_area": null,
            "grid_auto_columns": null,
            "grid_auto_flow": null,
            "grid_auto_rows": null,
            "grid_column": null,
            "grid_gap": null,
            "grid_row": null,
            "grid_template_areas": null,
            "grid_template_columns": null,
            "grid_template_rows": null,
            "height": null,
            "justify_content": null,
            "justify_items": null,
            "left": null,
            "margin": null,
            "max_height": null,
            "max_width": null,
            "min_height": null,
            "min_width": null,
            "object_fit": null,
            "object_position": null,
            "order": null,
            "overflow": null,
            "overflow_x": null,
            "overflow_y": null,
            "padding": null,
            "right": null,
            "top": null,
            "visibility": null,
            "width": null
          }
        },
        "beb7de9c5e6b48f7ae66d6002a5757a9": {
          "model_module": "@jupyter-widgets/base",
          "model_name": "LayoutModel",
          "model_module_version": "1.2.0",
          "state": {
            "_model_module": "@jupyter-widgets/base",
            "_model_module_version": "1.2.0",
            "_model_name": "LayoutModel",
            "_view_count": null,
            "_view_module": "@jupyter-widgets/base",
            "_view_module_version": "1.2.0",
            "_view_name": "LayoutView",
            "align_content": null,
            "align_items": null,
            "align_self": null,
            "border": null,
            "bottom": null,
            "display": null,
            "flex": null,
            "flex_flow": null,
            "grid_area": null,
            "grid_auto_columns": null,
            "grid_auto_flow": null,
            "grid_auto_rows": null,
            "grid_column": null,
            "grid_gap": null,
            "grid_row": null,
            "grid_template_areas": null,
            "grid_template_columns": null,
            "grid_template_rows": null,
            "height": null,
            "justify_content": null,
            "justify_items": null,
            "left": null,
            "margin": null,
            "max_height": null,
            "max_width": null,
            "min_height": null,
            "min_width": null,
            "object_fit": null,
            "object_position": null,
            "order": null,
            "overflow": null,
            "overflow_x": null,
            "overflow_y": null,
            "padding": null,
            "right": null,
            "top": null,
            "visibility": null,
            "width": null
          }
        },
        "c7ac2e39ab9f4a6a969982997c318d72": {
          "model_module": "@jupyter-widgets/controls",
          "model_name": "DescriptionStyleModel",
          "model_module_version": "1.5.0",
          "state": {
            "_model_module": "@jupyter-widgets/controls",
            "_model_module_version": "1.5.0",
            "_model_name": "DescriptionStyleModel",
            "_view_count": null,
            "_view_module": "@jupyter-widgets/base",
            "_view_module_version": "1.2.0",
            "_view_name": "StyleView",
            "description_width": ""
          }
        },
        "64f84552b1734697a97d9185bba7d246": {
          "model_module": "@jupyter-widgets/base",
          "model_name": "LayoutModel",
          "model_module_version": "1.2.0",
          "state": {
            "_model_module": "@jupyter-widgets/base",
            "_model_module_version": "1.2.0",
            "_model_name": "LayoutModel",
            "_view_count": null,
            "_view_module": "@jupyter-widgets/base",
            "_view_module_version": "1.2.0",
            "_view_name": "LayoutView",
            "align_content": null,
            "align_items": null,
            "align_self": null,
            "border": null,
            "bottom": null,
            "display": null,
            "flex": null,
            "flex_flow": null,
            "grid_area": null,
            "grid_auto_columns": null,
            "grid_auto_flow": null,
            "grid_auto_rows": null,
            "grid_column": null,
            "grid_gap": null,
            "grid_row": null,
            "grid_template_areas": null,
            "grid_template_columns": null,
            "grid_template_rows": null,
            "height": null,
            "justify_content": null,
            "justify_items": null,
            "left": null,
            "margin": null,
            "max_height": null,
            "max_width": null,
            "min_height": null,
            "min_width": null,
            "object_fit": null,
            "object_position": null,
            "order": null,
            "overflow": null,
            "overflow_x": null,
            "overflow_y": null,
            "padding": null,
            "right": null,
            "top": null,
            "visibility": null,
            "width": null
          }
        },
        "31a62aac682641a0bb6fcfc9825bac47": {
          "model_module": "@jupyter-widgets/controls",
          "model_name": "ProgressStyleModel",
          "model_module_version": "1.5.0",
          "state": {
            "_model_module": "@jupyter-widgets/controls",
            "_model_module_version": "1.5.0",
            "_model_name": "ProgressStyleModel",
            "_view_count": null,
            "_view_module": "@jupyter-widgets/base",
            "_view_module_version": "1.2.0",
            "_view_name": "StyleView",
            "bar_color": null,
            "description_width": ""
          }
        },
        "145a46a9d30049ba9eb01df0f054b506": {
          "model_module": "@jupyter-widgets/base",
          "model_name": "LayoutModel",
          "model_module_version": "1.2.0",
          "state": {
            "_model_module": "@jupyter-widgets/base",
            "_model_module_version": "1.2.0",
            "_model_name": "LayoutModel",
            "_view_count": null,
            "_view_module": "@jupyter-widgets/base",
            "_view_module_version": "1.2.0",
            "_view_name": "LayoutView",
            "align_content": null,
            "align_items": null,
            "align_self": null,
            "border": null,
            "bottom": null,
            "display": null,
            "flex": null,
            "flex_flow": null,
            "grid_area": null,
            "grid_auto_columns": null,
            "grid_auto_flow": null,
            "grid_auto_rows": null,
            "grid_column": null,
            "grid_gap": null,
            "grid_row": null,
            "grid_template_areas": null,
            "grid_template_columns": null,
            "grid_template_rows": null,
            "height": null,
            "justify_content": null,
            "justify_items": null,
            "left": null,
            "margin": null,
            "max_height": null,
            "max_width": null,
            "min_height": null,
            "min_width": null,
            "object_fit": null,
            "object_position": null,
            "order": null,
            "overflow": null,
            "overflow_x": null,
            "overflow_y": null,
            "padding": null,
            "right": null,
            "top": null,
            "visibility": null,
            "width": null
          }
        },
        "15b7f57e0f6447af97fa9a055c39ef67": {
          "model_module": "@jupyter-widgets/controls",
          "model_name": "DescriptionStyleModel",
          "model_module_version": "1.5.0",
          "state": {
            "_model_module": "@jupyter-widgets/controls",
            "_model_module_version": "1.5.0",
            "_model_name": "DescriptionStyleModel",
            "_view_count": null,
            "_view_module": "@jupyter-widgets/base",
            "_view_module_version": "1.2.0",
            "_view_name": "StyleView",
            "description_width": ""
          }
        }
      }
    }
  },
  "cells": [
    {
      "cell_type": "markdown",
      "source": [
        "# Multilabel Classification"
      ],
      "metadata": {
        "id": "rKYhM6MtR1cm"
      }
    },
    {
      "cell_type": "markdown",
      "source": [
        "In multi-label classification, each sample can have multiple labels associated with it, as opposed to the traditional single-label classification where each sample can have only one label associated with it. <br/>\n",
        "\n",
        "This means that the output of a multi-label classifier is an array of probabilities, one for each label, indicating the probability of the input sample belonging to each label."
      ],
      "metadata": {
        "id": "JewfQCXhR2TP"
      }
    },
    {
      "cell_type": "markdown",
      "source": [
        "# Setting Up"
      ],
      "metadata": {
        "id": "oR8G_Vj-ws13"
      }
    },
    {
      "cell_type": "code",
      "source": [
        "!nvidia-smi"
      ],
      "metadata": {
        "id": "vgzY7lcvwti8",
        "outputId": "f6cd7bf4-1520-4ff2-d037-9ef6f1b22e96",
        "colab": {
          "base_uri": "https://localhost:8080/"
        }
      },
      "execution_count": 1,
      "outputs": [
        {
          "output_type": "stream",
          "name": "stdout",
          "text": [
            "Tue Jan  9 15:26:45 2024       \n",
            "+---------------------------------------------------------------------------------------+\n",
            "| NVIDIA-SMI 535.104.05             Driver Version: 535.104.05   CUDA Version: 12.2     |\n",
            "|-----------------------------------------+----------------------+----------------------+\n",
            "| GPU  Name                 Persistence-M | Bus-Id        Disp.A | Volatile Uncorr. ECC |\n",
            "| Fan  Temp   Perf          Pwr:Usage/Cap |         Memory-Usage | GPU-Util  Compute M. |\n",
            "|                                         |                      |               MIG M. |\n",
            "|=========================================+======================+======================|\n",
            "|   0  Tesla T4                       Off | 00000000:00:04.0 Off |                    0 |\n",
            "| N/A   38C    P8               9W /  70W |      0MiB / 15360MiB |      0%      Default |\n",
            "|                                         |                      |                  N/A |\n",
            "+-----------------------------------------+----------------------+----------------------+\n",
            "                                                                                         \n",
            "+---------------------------------------------------------------------------------------+\n",
            "| Processes:                                                                            |\n",
            "|  GPU   GI   CI        PID   Type   Process name                            GPU Memory |\n",
            "|        ID   ID                                                             Usage      |\n",
            "|=======================================================================================|\n",
            "|  No running processes found                                                           |\n",
            "+---------------------------------------------------------------------------------------+\n"
          ]
        }
      ]
    },
    {
      "cell_type": "code",
      "source": [
        "%reload_ext autoreload\n",
        "%autoreload 2\n",
        "%matplotlib inline"
      ],
      "metadata": {
        "id": "9eeYpREerq6m"
      },
      "execution_count": 2,
      "outputs": []
    },
    {
      "cell_type": "code",
      "source": [
        "! pip install -q transformers[sentencepiece] fastbook fastai ohmeow-blurr nbdev"
      ],
      "metadata": {
        "id": "L953GTXErur0",
        "outputId": "fdc40185-388e-4413-8811-eab137bcde4f",
        "colab": {
          "base_uri": "https://localhost:8080/"
        }
      },
      "execution_count": 3,
      "outputs": [
        {
          "output_type": "stream",
          "name": "stdout",
          "text": [
            "\u001b[2K     \u001b[90m━━━━━━━━━━━━━━━━━━━━━━━━━━━━━━━━━━━━━━━━\u001b[0m \u001b[32m719.8/719.8 kB\u001b[0m \u001b[31m6.5 MB/s\u001b[0m eta \u001b[36m0:00:00\u001b[0m\n",
            "\u001b[2K     \u001b[90m━━━━━━━━━━━━━━━━━━━━━━━━━━━━━━━━━━━━━━━━\u001b[0m \u001b[32m81.1/81.1 kB\u001b[0m \u001b[31m5.3 MB/s\u001b[0m eta \u001b[36m0:00:00\u001b[0m\n",
            "\u001b[2K     \u001b[90m━━━━━━━━━━━━━━━━━━━━━━━━━━━━━━━━━━━━━━━━\u001b[0m \u001b[32m66.1/66.1 kB\u001b[0m \u001b[31m6.0 MB/s\u001b[0m eta \u001b[36m0:00:00\u001b[0m\n",
            "\u001b[2K     \u001b[90m━━━━━━━━━━━━━━━━━━━━━━━━━━━━━━━━━━━━━━━━\u001b[0m \u001b[32m1.3/1.3 MB\u001b[0m \u001b[31m34.1 MB/s\u001b[0m eta \u001b[36m0:00:00\u001b[0m\n",
            "\u001b[2K     \u001b[90m━━━━━━━━━━━━━━━━━━━━━━━━━━━━━━━━━━━━━━━━\u001b[0m \u001b[32m507.1/507.1 kB\u001b[0m \u001b[31m28.8 MB/s\u001b[0m eta \u001b[36m0:00:00\u001b[0m\n",
            "\u001b[2K     \u001b[90m━━━━━━━━━━━━━━━━━━━━━━━━━━━━━━━━━━━━━━━━\u001b[0m \u001b[32m887.5/887.5 MB\u001b[0m \u001b[31m1.7 MB/s\u001b[0m eta \u001b[36m0:00:00\u001b[0m\n",
            "\u001b[2K     \u001b[90m━━━━━━━━━━━━━━━━━━━━━━━━━━━━━━━━━━━━━━━━\u001b[0m \u001b[32m43.6/43.6 kB\u001b[0m \u001b[31m3.9 MB/s\u001b[0m eta \u001b[36m0:00:00\u001b[0m\n",
            "\u001b[?25h  Preparing metadata (setup.py) ... \u001b[?25l\u001b[?25hdone\n",
            "  Preparing metadata (setup.py) ... \u001b[?25l\u001b[?25hdone\n",
            "\u001b[2K     \u001b[90m━━━━━━━━━━━━━━━━━━━━━━━━━━━━━━━━━━━━━━━━\u001b[0m \u001b[32m58.7/58.7 kB\u001b[0m \u001b[31m7.7 MB/s\u001b[0m eta \u001b[36m0:00:00\u001b[0m\n",
            "\u001b[2K     \u001b[90m━━━━━━━━━━━━━━━━━━━━━━━━━━━━━━━━━━━━━━━━\u001b[0m \u001b[32m82.1/82.1 kB\u001b[0m \u001b[31m8.1 MB/s\u001b[0m eta \u001b[36m0:00:00\u001b[0m\n",
            "\u001b[2K     \u001b[90m━━━━━━━━━━━━━━━━━━━━━━━━━━━━━━━━━━━━━━━━\u001b[0m \u001b[32m849.3/849.3 kB\u001b[0m \u001b[31m31.1 MB/s\u001b[0m eta \u001b[36m0:00:00\u001b[0m\n",
            "\u001b[2K     \u001b[90m━━━━━━━━━━━━━━━━━━━━━━━━━━━━━━━━━━━━━━━━\u001b[0m \u001b[32m557.1/557.1 MB\u001b[0m \u001b[31m3.0 MB/s\u001b[0m eta \u001b[36m0:00:00\u001b[0m\n",
            "\u001b[2K     \u001b[90m━━━━━━━━━━━━━━━━━━━━━━━━━━━━━━━━━━━━━━━━\u001b[0m \u001b[32m317.1/317.1 MB\u001b[0m \u001b[31m4.8 MB/s\u001b[0m eta \u001b[36m0:00:00\u001b[0m\n",
            "\u001b[2K     \u001b[90m━━━━━━━━━━━━━━━━━━━━━━━━━━━━━━━━━━━━━━━━\u001b[0m \u001b[32m21.0/21.0 MB\u001b[0m \u001b[31m68.3 MB/s\u001b[0m eta \u001b[36m0:00:00\u001b[0m\n",
            "\u001b[2K     \u001b[90m━━━━━━━━━━━━━━━━━━━━━━━━━━━━━━━━━━━━━━━━\u001b[0m \u001b[32m6.8/6.8 MB\u001b[0m \u001b[31m96.3 MB/s\u001b[0m eta \u001b[36m0:00:00\u001b[0m\n",
            "\u001b[2K     \u001b[90m━━━━━━━━━━━━━━━━━━━━━━━━━━━━━━━━━━━━━━━━\u001b[0m \u001b[32m6.8/6.8 MB\u001b[0m \u001b[31m105.7 MB/s\u001b[0m eta \u001b[36m0:00:00\u001b[0m\n",
            "\u001b[2K     \u001b[90m━━━━━━━━━━━━━━━━━━━━━━━━━━━━━━━━━━━━━━━━\u001b[0m \u001b[32m6.9/6.9 MB\u001b[0m \u001b[31m98.0 MB/s\u001b[0m eta \u001b[36m0:00:00\u001b[0m\n",
            "\u001b[2K     \u001b[90m━━━━━━━━━━━━━━━━━━━━━━━━━━━━━━━━━━━━━━━━\u001b[0m \u001b[32m6.0/6.0 MB\u001b[0m \u001b[31m91.7 MB/s\u001b[0m eta \u001b[36m0:00:00\u001b[0m\n",
            "\u001b[2K     \u001b[90m━━━━━━━━━━━━━━━━━━━━━━━━━━━━━━━━━━━━━━━━\u001b[0m \u001b[32m6.0/6.0 MB\u001b[0m \u001b[31m99.3 MB/s\u001b[0m eta \u001b[36m0:00:00\u001b[0m\n",
            "\u001b[2K     \u001b[90m━━━━━━━━━━━━━━━━━━━━━━━━━━━━━━━━━━━━━━━━\u001b[0m \u001b[32m24.2/24.2 MB\u001b[0m \u001b[31m15.9 MB/s\u001b[0m eta \u001b[36m0:00:00\u001b[0m\n",
            "\u001b[2K     \u001b[90m━━━━━━━━━━━━━━━━━━━━━━━━━━━━━━━━━━━━━━━━\u001b[0m \u001b[32m115.3/115.3 kB\u001b[0m \u001b[31m17.3 MB/s\u001b[0m eta \u001b[36m0:00:00\u001b[0m\n",
            "\u001b[2K     \u001b[90m━━━━━━━━━━━━━━━━━━━━━━━━━━━━━━━━━━━━━━━━\u001b[0m \u001b[32m134.8/134.8 kB\u001b[0m \u001b[31m20.3 MB/s\u001b[0m eta \u001b[36m0:00:00\u001b[0m\n",
            "\u001b[2K     \u001b[90m━━━━━━━━━━━━━━━━━━━━━━━━━━━━━━━━━━━━━━━━\u001b[0m \u001b[32m1.6/1.6 MB\u001b[0m \u001b[31m82.2 MB/s\u001b[0m eta \u001b[36m0:00:00\u001b[0m\n",
            "\u001b[?25h  Building wheel for rouge-score (setup.py) ... \u001b[?25l\u001b[?25hdone\n",
            "  Building wheel for seqeval (setup.py) ... \u001b[?25l\u001b[?25hdone\n",
            "\u001b[31mERROR: pip's dependency resolver does not currently take into account all the packages that are installed. This behaviour is the source of the following dependency conflicts.\n",
            "torchaudio 2.1.0+cu121 requires torch==2.1.0, but you have torch 1.13.1 which is incompatible.\n",
            "torchdata 0.7.0 requires torch==2.1.0, but you have torch 1.13.1 which is incompatible.\n",
            "torchtext 0.16.0 requires torch==2.1.0, but you have torch 1.13.1 which is incompatible.\u001b[0m\u001b[31m\n",
            "\u001b[0m"
          ]
        }
      ]
    },
    {
      "cell_type": "code",
      "source": [
        "import torch\n",
        "from transformers import AutoModelForSequenceClassification, AutoConfig\n",
        "from fastai.text.all import *\n",
        "from blurr.text.data.all import *\n",
        "from blurr.text.modeling.all import *"
      ],
      "metadata": {
        "id": "Blu6MvJdsw7Y",
        "outputId": "512d9b52-fd33-4f65-ece9-90523f683af7",
        "colab": {
          "base_uri": "https://localhost:8080/",
          "height": 267,
          "referenced_widgets": [
            "44207979ac3c48b8a1efbca1a930479f",
            "c32cceb7f4a141878f90d792d36a8b66",
            "58d2f5ce6c034f4db09207ba897a6fc0",
            "458be37e6e464f1fb11c4b365430547f",
            "922c1fe6a88548e0b744462b30f2a288",
            "50080fcb741f42ec976ca78dc1c1f77a",
            "50c14b9f46d0480595b3f396e69480be",
            "f5f926bd62e04326959cd4c0e61aef38",
            "49ad7c6fdffb450ba883711200637f71",
            "b4b450abca8f4c25ae4e998f6bf582d6",
            "2bd283d79012427db48f221fcf6148d7",
            "75479e6034914c36803d41a9cc1a12c3",
            "fe7e23db6843465d830382ce42757bdb",
            "c4b047035823498a8ed9227da6137c1b",
            "02d6be891f4b4450b68fc44138e837b3",
            "5129a306ffd74480b38ab2a4f6106d86",
            "8d5902f7a79c49c6820a1d6d1d1821df",
            "6b359b51b2a9421a849489add22298a9",
            "135d7cbf00fb48c5b29b36f367943f1a",
            "eaadd5fc10304277bb99bab53547eeb5",
            "f73b8b06d3f14342a367eb4bab4c5372",
            "85b442df6da14efd849d191330031b98"
          ]
        }
      },
      "execution_count": 4,
      "outputs": [
        {
          "output_type": "stream",
          "name": "stderr",
          "text": [
            "/usr/local/lib/python3.10/dist-packages/blurr/text/modeling/question_answering.py:31: FutureWarning: load_metric is deprecated and will be removed in the next major version of datasets. Use 'evaluate.load' instead, from the new library 🤗 Evaluate: https://huggingface.co/docs/evaluate\n",
            "  squad_metric = load_metric(\"squad\")\n",
            "/usr/local/lib/python3.10/dist-packages/datasets/load.py:752: FutureWarning: The repository for squad contains custom code which must be executed to correctly load the metric. You can inspect the repository content at https://raw.githubusercontent.com/huggingface/datasets/2.16.1/metrics/squad/squad.py\n",
            "You can avoid this message in future by passing the argument `trust_remote_code=True`.\n",
            "Passing `trust_remote_code=True` will be mandatory to load this metric from the next major release of `datasets`.\n",
            "  warnings.warn(\n"
          ]
        },
        {
          "output_type": "display_data",
          "data": {
            "text/plain": [
              "Downloading builder script:   0%|          | 0.00/1.72k [00:00<?, ?B/s]"
            ],
            "application/vnd.jupyter.widget-view+json": {
              "version_major": 2,
              "version_minor": 0,
              "model_id": "44207979ac3c48b8a1efbca1a930479f"
            }
          },
          "metadata": {}
        },
        {
          "output_type": "display_data",
          "data": {
            "text/plain": [
              "Downloading extra modules:   0%|          | 0.00/1.11k [00:00<?, ?B/s]"
            ],
            "application/vnd.jupyter.widget-view+json": {
              "version_major": 2,
              "version_minor": 0,
              "model_id": "75479e6034914c36803d41a9cc1a12c3"
            }
          },
          "metadata": {}
        }
      ]
    },
    {
      "cell_type": "code",
      "source": [
        "from google.colab import drive\n",
        "drive.mount('/content/drive')"
      ],
      "metadata": {
        "id": "UoR6dhZ-s-UH",
        "outputId": "1c397be0-cb00-402f-abfd-524b973fc5bc",
        "colab": {
          "base_uri": "https://localhost:8080/"
        }
      },
      "execution_count": 5,
      "outputs": [
        {
          "output_type": "stream",
          "name": "stdout",
          "text": [
            "Mounted at /content/drive\n"
          ]
        }
      ]
    },
    {
      "cell_type": "code",
      "source": [
        "%cd /content/drive/MyDrive/Capstone_3"
      ],
      "metadata": {
        "id": "8xm3PrJStJEz",
        "outputId": "9b7ac8f7-dc3f-4a84-ed63-3357e219b264",
        "colab": {
          "base_uri": "https://localhost:8080/"
        }
      },
      "execution_count": 6,
      "outputs": [
        {
          "output_type": "stream",
          "name": "stdout",
          "text": [
            "/content/drive/MyDrive/Capstone_3\n"
          ]
        }
      ]
    },
    {
      "cell_type": "markdown",
      "source": [
        "# Data"
      ],
      "metadata": {
        "id": "mJVQO1B7tUCL"
      }
    },
    {
      "cell_type": "code",
      "source": [
        "df = pd.read_csv(\"/content/drive/MyDrive/Capstone_3/Stack_Overflow_data.csv\")\n",
        "df.head()"
      ],
      "metadata": {
        "id": "gg1rT5oBtU3Y",
        "outputId": "2dc64e99-8dd7-426b-fde0-b121e21d05cc",
        "colab": {
          "base_uri": "https://localhost:8080/",
          "height": 675
        }
      },
      "execution_count": 7,
      "outputs": [
        {
          "output_type": "execute_result",
          "data": {
            "text/plain": [
              "                                                      Question  \\\n",
              "0                 IntelliJ IDEA and Glassfish for Java web app   \n",
              "1                  How to style Menu item in Ng Prime Menubar?   \n",
              "2                      How does this function not return true?   \n",
              "3          Error in setting cell values for a TableView column   \n",
              "4  Updating the coordinates of the child element after scaling   \n",
              "\n",
              "                                                                                                                                                                                                        Summary  \\\n",
              "0   I am having trouble getting a simple java web app running. I am going through this tutorial. I am using: IntelliJ IDEA ultimate ed. 2023.3.2 JDK: 19.0.1 Glassfish: 7.0.9 I have gotten to part 5 under ...   \n",
              "1                                            i just started using ng prime, i used the p-menubar <p-menubar [model]=\"items\"></p-menubar> this is the component file : this.items = [ { label: 'First item', ...   \n",
              "2   I am writing a program in Python and so far everthing seems working correctly. I am a bit confused by only one result in a series of mathematics, in the case of x = 169, i = 13 this function seems to ...   \n",
              "3  I'm a newbie to JavaFX (still learning) and I'm currently in the topic of TableViews. I have followed this one particular YouTube video where he made a program about inserting cells to a TableView and ...   \n",
              "4      Help me figure out how to update coordinates for child elements in the form of imgElement images in div canvas-cameras. In the center there is a div with a background picture. In the div, I add as ...   \n",
              "\n",
              "                                                    Tags  \\\n",
              "0  ['java', 'intellij-idea', 'permissions', 'glassfish']   \n",
              "1                                 ['angular', 'primeng']   \n",
              "2                     ['python', 'python-3.x', 'mpmath']   \n",
              "3                                     ['java', 'javafx']   \n",
              "4                          ['javascript', 'html', 'css']   \n",
              "\n",
              "                Username  \n",
              "0                  Krabs  \n",
              "1  yacine ben gharsallah  \n",
              "2               Willtech  \n",
              "3               Doggoder  \n",
              "4             Snacker991  "
            ],
            "text/html": [
              "\n",
              "  <div id=\"df-f7703146-76bd-4f79-9f89-f3df367f39aa\" class=\"colab-df-container\">\n",
              "    <div>\n",
              "<style scoped>\n",
              "    .dataframe tbody tr th:only-of-type {\n",
              "        vertical-align: middle;\n",
              "    }\n",
              "\n",
              "    .dataframe tbody tr th {\n",
              "        vertical-align: top;\n",
              "    }\n",
              "\n",
              "    .dataframe thead th {\n",
              "        text-align: right;\n",
              "    }\n",
              "</style>\n",
              "<table border=\"1\" class=\"dataframe\">\n",
              "  <thead>\n",
              "    <tr style=\"text-align: right;\">\n",
              "      <th></th>\n",
              "      <th>Question</th>\n",
              "      <th>Summary</th>\n",
              "      <th>Tags</th>\n",
              "      <th>Username</th>\n",
              "    </tr>\n",
              "  </thead>\n",
              "  <tbody>\n",
              "    <tr>\n",
              "      <th>0</th>\n",
              "      <td>IntelliJ IDEA and Glassfish for Java web app</td>\n",
              "      <td>I am having trouble getting a simple java web app running. I am going through this tutorial. I am using: IntelliJ IDEA ultimate ed. 2023.3.2 JDK: 19.0.1 Glassfish: 7.0.9 I have gotten to part 5 under ...</td>\n",
              "      <td>['java', 'intellij-idea', 'permissions', 'glassfish']</td>\n",
              "      <td>Krabs</td>\n",
              "    </tr>\n",
              "    <tr>\n",
              "      <th>1</th>\n",
              "      <td>How to style Menu item in Ng Prime Menubar?</td>\n",
              "      <td>i just started using ng prime, i used the p-menubar &lt;p-menubar [model]=\"items\"&gt;&lt;/p-menubar&gt; this is the component file : this.items = [ { label: 'First item', ...</td>\n",
              "      <td>['angular', 'primeng']</td>\n",
              "      <td>yacine ben gharsallah</td>\n",
              "    </tr>\n",
              "    <tr>\n",
              "      <th>2</th>\n",
              "      <td>How does this function not return true?</td>\n",
              "      <td>I am writing a program in Python and so far everthing seems working correctly. I am a bit confused by only one result in a series of mathematics, in the case of x = 169, i = 13 this function seems to ...</td>\n",
              "      <td>['python', 'python-3.x', 'mpmath']</td>\n",
              "      <td>Willtech</td>\n",
              "    </tr>\n",
              "    <tr>\n",
              "      <th>3</th>\n",
              "      <td>Error in setting cell values for a TableView column</td>\n",
              "      <td>I'm a newbie to JavaFX (still learning) and I'm currently in the topic of TableViews. I have followed this one particular YouTube video where he made a program about inserting cells to a TableView and ...</td>\n",
              "      <td>['java', 'javafx']</td>\n",
              "      <td>Doggoder</td>\n",
              "    </tr>\n",
              "    <tr>\n",
              "      <th>4</th>\n",
              "      <td>Updating the coordinates of the child element after scaling</td>\n",
              "      <td>Help me figure out how to update coordinates for child elements in the form of imgElement images in div canvas-cameras. In the center there is a div with a background picture. In the div, I add as ...</td>\n",
              "      <td>['javascript', 'html', 'css']</td>\n",
              "      <td>Snacker991</td>\n",
              "    </tr>\n",
              "  </tbody>\n",
              "</table>\n",
              "</div>\n",
              "    <div class=\"colab-df-buttons\">\n",
              "\n",
              "  <div class=\"colab-df-container\">\n",
              "    <button class=\"colab-df-convert\" onclick=\"convertToInteractive('df-f7703146-76bd-4f79-9f89-f3df367f39aa')\"\n",
              "            title=\"Convert this dataframe to an interactive table.\"\n",
              "            style=\"display:none;\">\n",
              "\n",
              "  <svg xmlns=\"http://www.w3.org/2000/svg\" height=\"24px\" viewBox=\"0 -960 960 960\">\n",
              "    <path d=\"M120-120v-720h720v720H120Zm60-500h600v-160H180v160Zm220 220h160v-160H400v160Zm0 220h160v-160H400v160ZM180-400h160v-160H180v160Zm440 0h160v-160H620v160ZM180-180h160v-160H180v160Zm440 0h160v-160H620v160Z\"/>\n",
              "  </svg>\n",
              "    </button>\n",
              "\n",
              "  <style>\n",
              "    .colab-df-container {\n",
              "      display:flex;\n",
              "      gap: 12px;\n",
              "    }\n",
              "\n",
              "    .colab-df-convert {\n",
              "      background-color: #E8F0FE;\n",
              "      border: none;\n",
              "      border-radius: 50%;\n",
              "      cursor: pointer;\n",
              "      display: none;\n",
              "      fill: #1967D2;\n",
              "      height: 32px;\n",
              "      padding: 0 0 0 0;\n",
              "      width: 32px;\n",
              "    }\n",
              "\n",
              "    .colab-df-convert:hover {\n",
              "      background-color: #E2EBFA;\n",
              "      box-shadow: 0px 1px 2px rgba(60, 64, 67, 0.3), 0px 1px 3px 1px rgba(60, 64, 67, 0.15);\n",
              "      fill: #174EA6;\n",
              "    }\n",
              "\n",
              "    .colab-df-buttons div {\n",
              "      margin-bottom: 4px;\n",
              "    }\n",
              "\n",
              "    [theme=dark] .colab-df-convert {\n",
              "      background-color: #3B4455;\n",
              "      fill: #D2E3FC;\n",
              "    }\n",
              "\n",
              "    [theme=dark] .colab-df-convert:hover {\n",
              "      background-color: #434B5C;\n",
              "      box-shadow: 0px 1px 3px 1px rgba(0, 0, 0, 0.15);\n",
              "      filter: drop-shadow(0px 1px 2px rgba(0, 0, 0, 0.3));\n",
              "      fill: #FFFFFF;\n",
              "    }\n",
              "  </style>\n",
              "\n",
              "    <script>\n",
              "      const buttonEl =\n",
              "        document.querySelector('#df-f7703146-76bd-4f79-9f89-f3df367f39aa button.colab-df-convert');\n",
              "      buttonEl.style.display =\n",
              "        google.colab.kernel.accessAllowed ? 'block' : 'none';\n",
              "\n",
              "      async function convertToInteractive(key) {\n",
              "        const element = document.querySelector('#df-f7703146-76bd-4f79-9f89-f3df367f39aa');\n",
              "        const dataTable =\n",
              "          await google.colab.kernel.invokeFunction('convertToInteractive',\n",
              "                                                    [key], {});\n",
              "        if (!dataTable) return;\n",
              "\n",
              "        const docLinkHtml = 'Like what you see? Visit the ' +\n",
              "          '<a target=\"_blank\" href=https://colab.research.google.com/notebooks/data_table.ipynb>data table notebook</a>'\n",
              "          + ' to learn more about interactive tables.';\n",
              "        element.innerHTML = '';\n",
              "        dataTable['output_type'] = 'display_data';\n",
              "        await google.colab.output.renderOutput(dataTable, element);\n",
              "        const docLink = document.createElement('div');\n",
              "        docLink.innerHTML = docLinkHtml;\n",
              "        element.appendChild(docLink);\n",
              "      }\n",
              "    </script>\n",
              "  </div>\n",
              "\n",
              "\n",
              "<div id=\"df-ebaf4f6f-57f5-48d1-b76e-f18b8eb27690\">\n",
              "  <button class=\"colab-df-quickchart\" onclick=\"quickchart('df-ebaf4f6f-57f5-48d1-b76e-f18b8eb27690')\"\n",
              "            title=\"Suggest charts\"\n",
              "            style=\"display:none;\">\n",
              "\n",
              "<svg xmlns=\"http://www.w3.org/2000/svg\" height=\"24px\"viewBox=\"0 0 24 24\"\n",
              "     width=\"24px\">\n",
              "    <g>\n",
              "        <path d=\"M19 3H5c-1.1 0-2 .9-2 2v14c0 1.1.9 2 2 2h14c1.1 0 2-.9 2-2V5c0-1.1-.9-2-2-2zM9 17H7v-7h2v7zm4 0h-2V7h2v10zm4 0h-2v-4h2v4z\"/>\n",
              "    </g>\n",
              "</svg>\n",
              "  </button>\n",
              "\n",
              "<style>\n",
              "  .colab-df-quickchart {\n",
              "      --bg-color: #E8F0FE;\n",
              "      --fill-color: #1967D2;\n",
              "      --hover-bg-color: #E2EBFA;\n",
              "      --hover-fill-color: #174EA6;\n",
              "      --disabled-fill-color: #AAA;\n",
              "      --disabled-bg-color: #DDD;\n",
              "  }\n",
              "\n",
              "  [theme=dark] .colab-df-quickchart {\n",
              "      --bg-color: #3B4455;\n",
              "      --fill-color: #D2E3FC;\n",
              "      --hover-bg-color: #434B5C;\n",
              "      --hover-fill-color: #FFFFFF;\n",
              "      --disabled-bg-color: #3B4455;\n",
              "      --disabled-fill-color: #666;\n",
              "  }\n",
              "\n",
              "  .colab-df-quickchart {\n",
              "    background-color: var(--bg-color);\n",
              "    border: none;\n",
              "    border-radius: 50%;\n",
              "    cursor: pointer;\n",
              "    display: none;\n",
              "    fill: var(--fill-color);\n",
              "    height: 32px;\n",
              "    padding: 0;\n",
              "    width: 32px;\n",
              "  }\n",
              "\n",
              "  .colab-df-quickchart:hover {\n",
              "    background-color: var(--hover-bg-color);\n",
              "    box-shadow: 0 1px 2px rgba(60, 64, 67, 0.3), 0 1px 3px 1px rgba(60, 64, 67, 0.15);\n",
              "    fill: var(--button-hover-fill-color);\n",
              "  }\n",
              "\n",
              "  .colab-df-quickchart-complete:disabled,\n",
              "  .colab-df-quickchart-complete:disabled:hover {\n",
              "    background-color: var(--disabled-bg-color);\n",
              "    fill: var(--disabled-fill-color);\n",
              "    box-shadow: none;\n",
              "  }\n",
              "\n",
              "  .colab-df-spinner {\n",
              "    border: 2px solid var(--fill-color);\n",
              "    border-color: transparent;\n",
              "    border-bottom-color: var(--fill-color);\n",
              "    animation:\n",
              "      spin 1s steps(1) infinite;\n",
              "  }\n",
              "\n",
              "  @keyframes spin {\n",
              "    0% {\n",
              "      border-color: transparent;\n",
              "      border-bottom-color: var(--fill-color);\n",
              "      border-left-color: var(--fill-color);\n",
              "    }\n",
              "    20% {\n",
              "      border-color: transparent;\n",
              "      border-left-color: var(--fill-color);\n",
              "      border-top-color: var(--fill-color);\n",
              "    }\n",
              "    30% {\n",
              "      border-color: transparent;\n",
              "      border-left-color: var(--fill-color);\n",
              "      border-top-color: var(--fill-color);\n",
              "      border-right-color: var(--fill-color);\n",
              "    }\n",
              "    40% {\n",
              "      border-color: transparent;\n",
              "      border-right-color: var(--fill-color);\n",
              "      border-top-color: var(--fill-color);\n",
              "    }\n",
              "    60% {\n",
              "      border-color: transparent;\n",
              "      border-right-color: var(--fill-color);\n",
              "    }\n",
              "    80% {\n",
              "      border-color: transparent;\n",
              "      border-right-color: var(--fill-color);\n",
              "      border-bottom-color: var(--fill-color);\n",
              "    }\n",
              "    90% {\n",
              "      border-color: transparent;\n",
              "      border-bottom-color: var(--fill-color);\n",
              "    }\n",
              "  }\n",
              "</style>\n",
              "\n",
              "  <script>\n",
              "    async function quickchart(key) {\n",
              "      const quickchartButtonEl =\n",
              "        document.querySelector('#' + key + ' button');\n",
              "      quickchartButtonEl.disabled = true;  // To prevent multiple clicks.\n",
              "      quickchartButtonEl.classList.add('colab-df-spinner');\n",
              "      try {\n",
              "        const charts = await google.colab.kernel.invokeFunction(\n",
              "            'suggestCharts', [key], {});\n",
              "      } catch (error) {\n",
              "        console.error('Error during call to suggestCharts:', error);\n",
              "      }\n",
              "      quickchartButtonEl.classList.remove('colab-df-spinner');\n",
              "      quickchartButtonEl.classList.add('colab-df-quickchart-complete');\n",
              "    }\n",
              "    (() => {\n",
              "      let quickchartButtonEl =\n",
              "        document.querySelector('#df-ebaf4f6f-57f5-48d1-b76e-f18b8eb27690 button');\n",
              "      quickchartButtonEl.style.display =\n",
              "        google.colab.kernel.accessAllowed ? 'block' : 'none';\n",
              "    })();\n",
              "  </script>\n",
              "</div>\n",
              "\n",
              "    </div>\n",
              "  </div>\n"
            ]
          },
          "metadata": {},
          "execution_count": 7
        }
      ]
    },
    {
      "cell_type": "code",
      "source": [
        "df.shape"
      ],
      "metadata": {
        "id": "5MqWCme9tdfq",
        "outputId": "332b427d-1214-45b3-df39-245a23f01eca",
        "colab": {
          "base_uri": "https://localhost:8080/"
        }
      },
      "execution_count": 8,
      "outputs": [
        {
          "output_type": "execute_result",
          "data": {
            "text/plain": [
              "(29949, 4)"
            ]
          },
          "metadata": {},
          "execution_count": 8
        }
      ]
    },
    {
      "cell_type": "code",
      "source": [
        " df.isnull().sum()"
      ],
      "metadata": {
        "id": "fyvxcfUItjIq",
        "outputId": "c29ffe39-d9bb-4f28-cd92-dd0923495e80",
        "colab": {
          "base_uri": "https://localhost:8080/"
        }
      },
      "execution_count": 9,
      "outputs": [
        {
          "output_type": "execute_result",
          "data": {
            "text/plain": [
              "Question    0\n",
              "Summary     0\n",
              "Tags        0\n",
              "Username    1\n",
              "dtype: int64"
            ]
          },
          "metadata": {},
          "execution_count": 9
        }
      ]
    },
    {
      "cell_type": "code",
      "source": [
        "df = df.dropna().reset_index(drop=True)\n",
        "df.shape"
      ],
      "metadata": {
        "id": "HK8Gf2wv2Jah",
        "outputId": "1e5062c4-0686-4bd5-db83-f9219e567d37",
        "colab": {
          "base_uri": "https://localhost:8080/"
        }
      },
      "execution_count": 10,
      "outputs": [
        {
          "output_type": "execute_result",
          "data": {
            "text/plain": [
              "(29948, 4)"
            ]
          },
          "metadata": {},
          "execution_count": 10
        }
      ]
    },
    {
      "cell_type": "code",
      "source": [
        "tags_list = df.Tags.to_list()\n",
        "tags_count = {}\n",
        "for Tags in tags_list:\n",
        "  tags_list = eval(Tags)\n",
        "  for Tags in tags_list:\n",
        "    if Tags in tags_count.keys():\n",
        "      tags_count[Tags] += 1\n",
        "    else:\n",
        "      tags_count[Tags] = 1\n",
        "print(f\"Number of Genres: {len(tags_count)}\")\n",
        "print(tags_count)"
      ],
      "metadata": {
        "id": "gAUbzkre2bxT",
        "outputId": "e46837d8-1c10-4985-f5c2-77d5c0b3bd1a",
        "colab": {
          "base_uri": "https://localhost:8080/"
        }
      },
      "execution_count": 11,
      "outputs": [
        {
          "output_type": "stream",
          "name": "stdout",
          "text": [
            "Number of Genres: 11970\n",
            "{'java': 1485, 'intellij-idea': 69, 'permissions': 23, 'glassfish': 7, 'angular': 539, 'primeng': 13, 'python': 3769, 'python-3.x': 480, 'mpmath': 2, 'javafx': 46, 'javascript': 2614, 'html': 1025, 'css': 746, 'react-native': 439, 'api': 3, 'mobile': 72, 'google-cloud-translate': 1, 'google-sheets': 160, 'xml-import': 1, 'adal': 1, 'msal': 13, 'c#': 1307, 'playwright': 42, 'julia': 15, 'extract': 8, 'data-processing': 1, 'cifar100': 1, 'ios': 478, 'swiftui': 263, 'visibility': 4, 'swiftui-list': 8, 'ansible': 42, 'ansible-automation-platform': 1, 'selenium-webdriver': 215, 'webdriver': 16, 'r': 676, 'shiny': 67, 'reactable': 2, 'android': 1180, 'android-studio': 156, 'gradle': 127, 'android-gradle-plugin': 17, 'build.gradle': 22, 'networking': 68, 'raspberry-pi': 40, 'snmp': 3, 'mib': 1, 'unit-testing': 86, 'go': 163, 'vue.js': 213, 'browser': 37, 'camera': 36, 'object-detection': 18, 'tensorflow.js': 8, 'django': 413, 'django-views': 49, 'mixins': 1, 'azure': 353, 'tensorboard': 3, 'reactjs': 1619, 'react-hooks': 115, 'flutter': 901, 'kotlin': 383, 'kotlin-coroutines': 19, 'flutter-image-picker': 1, 'button': 52, 'gridpanel': 1, 'laravel': 386, 'pyqt6': 10, 'asynchronous': 58, 'python-asyncio': 36, 'google-ai-platform': 2, 'django-rest-framework': 51, 'react-router': 47, 'jwt': 70, 'react-context': 18, 'oauth-2.0': 81, 'web-frontend': 10, 'cross-origin-opener-policy': 4, 'c++': 899, 'firebase': 271, 'web': 106, 'firebase-realtime-database': 43, 'import': 45, 'tkinter': 107, 'machine-learning': 170, 'lstm': 13, 'postgresql': 359, 'dbt': 18, 'c': 430, 'github-actions': 90, 'libgcrypt': 2, 'flask': 150, 'sqlalchemy': 62, 'sql': 483, 'mysql': 328, 'mysql-workbench': 9, 'isabelle': 2, 'formal-verification': 3, 'sel4': 1, 'arduino': 53, 'circuit': 6, 'jdbc': 29, 'mysql-connector': 7, 'docker': 441, 'ubuntu': 133, 'permission-denied': 5, 'jmeter': 30, 'load-testing': 10, 'sql-server': 218, 'performance': 90, 'frameworks': 13, 'swift': 424, 'navigationview': 2, 'uihostingcontroller': 3, 'uiviewcontrollerrepresentable': 1, 'visual-studio-code': 301, 'sdl': 19, 'msys2': 7, 'excel': 398, '.net-8.0': 90, 'mscorlib': 1, 'xml': 108, 'image': 108, 'jpeg': 3, 'sitemap': 5, 'webp': 5, 'design-patterns': 24, 'model': 22, 'maven': 108, 'keepass': 1, 'typescript': 747, 'eslint': 18, 'vite': 122, 'web-services': 9, 'rpa': 1, 'blueprism': 1, 'azure-file-share': 1, 'favicon': 7, 'silverlight-4.0': 1, 'silverstripe': 2, 'xamarin.forms': 31, 'maui': 140, 'maui-community-toolkit': 7, 'freshmvvm': 1, 'laravel-filament': 11, 'filamentphp': 8, 'prolog': 10, 'swi-prolog': 5, 'mongoose': 63, 'nestjs': 70, 'c++14': 5, 'functor': 2, 'facebook-login': 1, 'flutter-futurebuilder': 4, 'powerbi': 113, 'dax': 48, 'powerbi-desktop': 49, 'validation': 49, 'azure-functions': 60, 'asp.net-core-webapi': 55, 'file-descriptor': 4, 'descriptor': 4, 'visual-studio': 140, 'licensing': 7, 'tailwind-css': 134, 'vercel': 66, 'flowbite': 5, 'couchdb': 6, 'object': 27, 'arrow-functions': 1, 'cmd': 33, 'shellexecute': 2, 'mql5': 2, 'shellexecuteex': 2, 'google-chrome-extension': 76, 'pandas': 379, 'database': 208, 'dataframe': 217, 'vpn': 11, 'graph': 44, 'microsoft-graph-api': 47, 'microsoft-teams': 22, 'microsoft-graph-teams': 5, 'grafana': 21, 'mapbox': 20, 'mapbox-gl': 8, 'caching': 43, 'cartopy': 4, 'arrays': 228, 'class': 63, 'azure-sdk': 1, 'google-play': 28, 'google-play-console': 18, 'node.js': 798, 'express': 210, 'aggregate': 8, 'character': 3, 'json': 267, 'mysqli': 12, 'spring-boot': 512, 'testing': 69, 'testify': 1, 'react-query': 16, 'tanstackreact-query': 10, 'google-chrome': 109, 'material-ui': 85, 'amazon-s3': 98, 'database-design': 19, 'ssms': 13, 'email': 58, 'emacs': 6, 'hyperparameters': 9, 'autogluon': 1, 'docker-compose': 110, 'portainer': 6, 'camera-calibration': 3, 'noise': 3, 'canon-sdk': 2, 'animation': 62, 'gradient': 5, 'mask': 3, 'intellisense': 10, 'ipc': 6, 'fwrite': 5, 'fread': 1, 'authentication': 149, 'rabbitmq': 33, 'connection-refused': 3, 'data-science': 22, 'xgboost': 11, 'google-cloud-firestore': 113, 'firebase-authentication': 88, 'video': 33, 'windows': 267, 'desktop-application': 7, 'auth0': 11, 'state': 4, 'github': 178, 'deployment': 106, 'web-scraping': 139, 'selenium-chromedriver': 53, 'bluetooth': 23, 'btsnoop': 1, 'fastapi': 73, 'pydantic': 21, 'spring': 276, 'spring-integration': 7, 'centos7': 10, 'smb': 7, 'uima': 1, 'uimafit': 1, 'crate': 1, 'r-future': 1, 'carrier': 1, 'furrr': 1, 'alexa-skills-kit': 10, 'com': 9, 'marshalling': 2, 'enterprise-architect': 1, 'mule': 9, 'dataweave': 8, 'mulesoft': 10, 'mule4': 9, 'jenkins': 67, 'npm': 121, 'next.js': 534, 'dockerfile': 48, 'ssl': 69, 'redis': 71, 'tls1.3': 7, 'google-cloud-memorystore': 3, 'downtime': 2, 'pytorch': 117, 'evolutionary-algorithm': 3, 'quantum-computing': 4, 'swing': 29, 'foreign-keys': 10, 'unique-index': 1, 'partition-by': 2, 'postgresql-15': 3, 'react-datepicker': 4, 'google-cloud-storage': 14, '7zip': 5, 'wordpress': 285, 'iframe': 35, 'webshop': 1, 'azure-devops': 79, 'commit': 7, 'azureportal': 2, 'azure-repos': 2, 'nashorn': 1, 'liquibase': 7, 'ddl': 2, 'function': 106, 'gcc': 50, 'office365': 21, 'sharepoint-online': 17, 'labeling': 2, 'retention': 2, 'change-tracking': 1, 'temporal-tables': 1, 'samba': 1, 'pyautogui': 6, 'list': 79, 'arraylist': 13, 'zig': 9, 'frontend': 78, 'vuejs3': 136, 'radio-button': 4, 'primevue': 4, 'unselect': 1, 'pgbackrest': 2, 'typeorm': 19, 'algorithm': 106, 'intervals': 1, 'lapply': 1, 'seurat': 3, 'databricks-unity-catalog': 3, 'interface': 16, 'dom': 35, 'winforms': 84, 'docker-volume': 8, 'azure-container-instances': 3, 'azure-container-apps': 7, 'maya': 3, 'autodesk': 7, 'libgee': 1, 'rgee': 1, 'macos': 184, 'google-pay': 1, 'mongodb': 221, 'terraform': 75, 'php': 797, 'pdo': 8, 'compiler-errors': 34, 'memory-alignment': 1, 'reinterpret-cast': 1, 'file-upload': 27, 'jacoco': 4, 'airflow': 32, 'python-venv': 7, 'google-kubernetes-engine': 8, 'kubeadm': 3, 'kube-apiserver': 1, 'paging': 5, 'infinite-scroll': 9, 'flutter-dependencies': 45, 'flutter-stripe': 2, 'flutter-pub': 2, 'numpy': 133, 'vectorization': 18, 'algebra': 3, 'nunit': 6, 'matlab': 65, 'svm': 5, 'earth-movers-distance': 1, 'pyqt': 19, 'pyqt5': 23, 'qt-designer': 5, 'cucumber': 18, 'url': 32, 'beautifulsoup': 58, '.net': 335, 'native': 16, 'loops': 89, 'for-loop': 64, 'widget': 18, 'react-widgets': 1, 'path': 29, 'node-modules': 20, 'sapui5': 7, 'sap-fiori': 4, 'sap-business-technology-platform': 7, 'sap-cloud-foundry': 1, 'sap-cloud-connector': 1, 'wix': 11, 'custom-action': 3, 'wixsharp': 1, 'unity-game-engine': 210, 'bluestacks': 1, 'discord.js': 35, 'azure-devops-rest-api': 8, 'linux': 293, 'ping': 3, 'strace': 1, 'woocommerce': 110, 'coupon': 4, 'notice': 3, 'duplicates': 16, 'postgres-12': 1, 'data-wrangling': 2, 'eventdata': 1, 'powershell': 178, 'smo': 1, '.net-core': 112, 'linq': 30, 'entity-framework-core': 86, 'nginx': 125, 'windows-server-2016': 3, 'discord': 65, 'cluster-analysis': 13, 'random-seed': 3, 'tensorflow': 149, 'ml.net': 5, 'image-classification': 12, 'recaptcha': 7, 'debian': 28, 'windows-subsystem-for-linux': 28, 'glibc': 4, 'wsl-2': 23, 'apt': 8, 'admin': 5, 'validationrules': 1, 'azure-databricks': 28, 'render': 18, 'microsoft.ink': 1, 'sonarqube': 13, 'java-11': 7, 'sonarqube-scan': 2, 'sonarlint': 2, 'express-jwt': 4, 'hibernate': 82, 'spring-data-jpa': 60, 'spring-data': 18, 'bash': 117, 'applescript': 4, 'root': 5, 'sudo': 6, 'firebase-storage': 18, 'firebase-security': 17, 'responsive': 12, 'microsoft365': 3, 'jquery': 187, 'mutation-observers': 3, 'localhost': 19, 'rtmp': 5, 'obs': 3, 'nginx-config': 13, 'nginx-location': 4, 'streamlit': 29, 'agent': 4, 'sql-agent': 1, 'tikz': 2, 'manim': 5, 'amazon-web-services': 388, 'apache-flink': 30, 'statistics': 20, 'time-series': 45, 'rate': 3, 'significance': 3, 'google-cloud-platform': 149, 'google-cloud-networking': 1, 'google-cloud-vpn': 1, 'speech-recognition': 11, 'speech-to-text': 4, 'subtitle': 3, 'cors': 66, 'confluence-rest-api': 1, 'clion': 4, 'undefined-reference': 5, 'view': 12, 'components': 18, 'doxygen': 3, 'marklogic': 5, 'tde': 2, 'keras': 73, 'conv-neural-network': 41, 'ldap': 10, 'count': 10, 'ag-grid': 27, 'ag-grid-react': 10, 'debugging': 76, 'eclipse-cdt': 5, 'v8': 9, 'embedded-v8': 2, 'kubernetes': 153, 'kubernetes-helm': 31, 'monitoring': 6, 'metrics-server': 2, 'rke2': 1, 'pyspark': 94, 'libssh': 1, 'aws-lambda': 98, 'micronaut': 11, 'spring-mvc': 36, 'blazor': 97, 'mudblazor': 9, 'vba': 217, 'ms-access': 24, 'ms-word': 27, 'windows-10-desktop': 1, 'pip': 62, 'python-wheel': 4, 'variables': 51, 'static': 17, 'android-bluetooth': 3, 'solr': 7, 'homebrew': 22, 'homebrew-cask': 2, 'websocket': 60, 'socket.io': 37, 'stompjs': 2, 'spring-data-r2dbc': 4, 'alembic': 4, 'tf.keras': 10, 'generative-adversarial-network': 6, 'godot': 24, 'godot4': 20, 'string': 109, 'datetime': 56, 'data-conversion': 7, 'google-signin': 21, 'passport-google-oauth2': 1, 'jasper-reports': 2, 'embed': 6, 'visualize': 1, 'cloud9-ide': 1, 'cloud9': 1, 'aws-cloud9': 2, 'video-streaming': 27, 'rest': 96, 'ups': 5, 'vagrant': 4, 'vagrantfile': 2, 'libvirt': 5, 'vagrant-libvirt': 2, 'ssl-certificate': 34, 'android-activity': 15, 'android-automotive': 5, 'pine-script-v5': 47, 'neovim': 25, 'reactiveui': 2, 'date': 53, 'match': 12, 'gis': 20, 'power-automate': 22, 'recurrence': 1, 'winui-3': 21, 'clpfd': 1, 'sqlite': 93, 'emotion': 2, 'build': 35, 'navigation': 23, 'automation': 48, 'jira-rest-api': 5, 'powerbi-datasource': 4, 'power-bi-report-server': 3, 'vps': 13, 'pipx': 1, 'azure-web-app-service': 39, 'chatbot': 25, 'ruby-on-rails': 110, 'ruby': 85, 'rubygems': 16, 'ruby-on-rails-6': 2, 'ruby-2.7': 3, 'vitest': 17, 'sh': 9, 'logrotate': 1, 'log-rotation': 1, 'db2': 18, 'dask': 13, 'python-xarray': 10, 'netcdf': 9, 'netcdf4': 3, 'single-sign-on': 22, 'openid-connect': 20, 'saml': 7, 'google-sso': 1, 'custom-application': 1, 'file': 76, 'batch-file': 46, 'yfinance': 4, 'input': 35, 'webrtc': 32, 'usb-camera': 2, 'endpoint': 8, 'kobo': 2, 'kobotoolbox': 2, 'customtkinter': 10, 'open-telemetry': 18, 'rancher': 4, 'open-telemetry-collector': 7, 'ipv6': 5, 'netlink': 3, 'inertiajs': 14, 'webpack': 59, 'create-react-app': 19, 'quasar': 7, 'supabase': 49, 'hive': 13, 'templates': 62, 'casting': 15, 'asp.net': 159, 'gridview': 2, 'webforms': 6, 'code-behind': 3, 'unityscript': 11, 'ns-3': 8, 'node-streams': 1, 'artificial-intelligence': 66, 'rust': 255, 'lifetime': 5, 'borrow-checker': 9, 'linear-types': 1, 'ggplot2': 109, 'asp.net-core': 211, 'synology': 4, 'ngfor': 3, 'decisiontreeclassifier': 1, 'lisp': 6, 'common-lisp': 4, 'autocad': 6, 'autolisp': 1, 'multithreading': 87, 'random-forest': 6, 'r-caret': 7, 'party': 3, 'directory': 25, 'java-8': 12, 'utf-8': 16, 'session': 22, 'excel-formula': 80, 'range': 9, 'sumproduct': 5, 'pdfbox': 13, 'apache-tika': 1, 'fontbox': 1, 'asp.net-mvc': 74, 'jsonschema': 9, 'microk8s': 2, 'ssas': 2, 'row-level-security': 1, 'python-requests': 51, '.net-7.0': 19, 'hosted-blazor-webassembly': 3, 'fragment': 4, 'android-livedata': 3, 'mutablelivedata': 3, 'assembly': 98, 'reverse-engineering': 13, 'ida': 1, 'bypass': 2, 'server': 49, 'client': 10, 'mql4': 4, 'metatrader4': 3, 'mql': 1, 'mt4': 2, 'safari': 31, 'nlp': 56, 'bert-language-model': 9, 'unsupervised-learning': 4, 'fine-tuning': 18, 'nlp-question-answering': 2, 'amazon-quicksight': 2, 'aws-quicksight-assets': 1, 'pagespeed': 3, 'lighthouse': 8, 'google-pagespeed': 2, 'pagespeed-insights': 5, 'google-pagespeed-insights-api': 1, 'mapbox-marker': 4, 'daxstudio': 4, 'regex': 129, 'vue-component': 18, 'ckeditdor5': 2, 'jestjs': 68, 'next.js13': 79, 'nodemailer': 18, 'sendinblue': 1, 'mobile-application': 9, 'release': 5, 'confidence-interval': 5, 'extrapolation': 2, 'generics': 34, 'type-inference': 4, 'tampermonkey': 4, 'serialization': 33, 'spring-batch': 11, 'deserialization': 12, 'mapping': 21, 'geopandas': 6, 'folium': 8, 'xcode': 122, 'watchos': 5, 'eclipse': 59, 'google-maps': 43, 'pygbag': 1, 'compiler-optimization': 9, 'likely-unlikely': 1, 'pine-script': 55, 'tradingview-api': 25, 'algorithmic-trading': 5, '2-way-object-databinding': 1, 'datetime-conversion': 1, 'gmail': 22, 'gmail-api': 13, 'mbox': 1, 'zkteco': 1, 'playframework': 4, 'ebean': 2, 'reinforcement-learning': 12, 'ado.net': 5, 'finance': 12, 'trading': 10, 'forex': 4, 'rapidapi': 2, 'gtk': 15, 'gtk3': 15, 'stdio': 1, 'explorer': 5, 'ntfs': 5, 'last-modified': 2, 'django-models': 59, 'google-sheets-formula': 51, 'formula': 16, 'vlookup': 5, 'spring-webflux': 29, 'reactive-programming': 10, 'virtualenv': 9, 'windows-11': 15, 'symfony': 38, 'api-platform.com': 7, 'doctrine-extensions': 2, 'process': 16, 'redirectstandardoutput': 1, 'video-processing': 10, 'anomaly-detection': 4, 'solver': 2, 'dart': 302, 'shared-libraries': 11, 'highcharts': 11, 'heatmap': 7, 'axis-labels': 4, 'karate': 22, 'karate-call-single': 1, 'vector': 26, 'runtime-error': 32, 'jquery-selectors': 1, 'addeventlistener': 10, 'getelementbyid': 3, 'callback': 14, 'xamarin': 43, 'dplyr': 36, 'rowwise': 1, 'group-by': 27, 'twilio': 33, 'in-app-purchase': 15, 'google-bigquery': 82, 'looker-studio': 11, '.net-5': 2, 'nullreferenceexception': 3, 'typeinitializationexception': 1, 'git': 184, 'android-jetpack-compose': 138, 'glance-appwidget': 5, 'glance': 3, 'xslt': 14, 'xslt-2.0': 5, 'xamarin.android': 9, 'xamarin.ios': 9, 'adapter': 5, 'viewmodel': 12, 'android-viewpager2': 6, 'unity3d-editor': 2, '.net-6.0': 29, 'nuget-package': 9, 'excel-reader': 1, 'prism': 1, 'jinja2': 23, 'yaml': 42, 'serde': 10, 'oracle-sqldeveloper': 12, 'oracle-apex': 15, 'oracle-spatial': 1, 'http-headers': 11, 'content-security-policy': 10, 'google-places-api': 6, 'azure-synapse': 10, 'microsoft-fabric': 1, 'wpf': 75, 'material-design-in-xaml': 2, 'cdo-climate': 2, 'n8n': 2, 'rasa': 5, 'azure-container-registry': 3, 'iceberg': 4, 'nessie': 2, 'discord.py': 49, 'lightbox': 2, 'networkx': 9, 'geospatial': 16, 'openstreetmap': 14, 'osmnx': 6, 'tostring': 4, 'fill': 1, 'println': 2, 'notifications': 24, 'python-module': 2, 'azure-batch': 1, 'godbolt': 1, 'c++17': 31, 'game-theory': 3, 'anylogic': 16, 'ethereum': 21, 'blockchain': 27, 'bitcoin': 4, 'solana': 15, 'tslib': 2, 'drizzle': 4, 'amazon-dynamodb': 21, 'cmake': 106, 'nvcc': 3, 'clangd': 6, 'portfolio': 6, 'r-portfolioanalytics': 2, 'logging': 47, 'analytics': 9, 'monitor': 3, 'svg': 49, 'canvas': 47, 'html5-canvas': 20, 'fabricjs': 12, 'deep-learning': 118, 'optimization': 69, 'keyboard': 20, 'driver': 23, 'netsuite': 13, 'suitescript': 6, 'suitescript2.0': 4, 'producer-consumer': 5, 'ocr': 22, 'python-tesseract': 7, 'ngx-extended-pdf-viewer': 2, 'axios': 69, 'bootstrap-5': 54, 'vscode-remote': 10, 'hazelcast': 5, 'groovy': 29, 'nextflow': 2, 'subprocess': 13, 'stdout': 3, 'intune': 5, 'security': 71, 'environment-variables': 47, 'github-copilot': 3, 'testng': 8, 'appium': 18, 'scikit-learn': 34, 'angular-material': 43, 'v-for': 3, 'cron': 29, 'spring-security-oauth2': 3, 'feign': 5, 'data-access': 1, 'cassandra': 20, 'height': 4, 'gridlines': 1, 'playwright-test': 4, 'decimal': 9, 'etl': 9, 'sqldatatypes': 1, 'fixed-point': 2, 'ab-initio': 1, 'textures': 6, 'drools': 4, 'camunda': 3, 'kie': 2, 'dmn': 1, 'feel-language': 1, 'recurrent-neural-network': 7, 'redirect': 26, 'shopify': 17, 'shopify-api': 5, 'shopify-template': 3, 'nginx-reverse-proxy': 21, 'webflow': 4, 'nginx-upstreams': 1, 'ssl-handshake': 3, 'wso2': 8, 'ballerina': 15, 'pnpm': 6, 'keytool': 5, 'app-signing': 1, 'indexeddb': 3, 'sympy': 7, 'laplacian': 1, 'typescript-eslint': 2, 'erp': 3, 'erpnext': 5, 'case': 14, 'visual-studio-2019': 15, 'sfml': 13, 'distributive': 1, 'operating-system': 34, 'multipartform-data': 14, 'multipart': 3, 'scrollview': 14, 'tabbar': 2, 'flutter-sliver': 1, 'custom-lists': 1, 'jenkins-plugins': 10, 'realm': 7, 'outlook': 23, 'react-router-dom': 48, 'npm-start': 5, 'react-native-navigation': 10, 'gitlab': 50, 'continuous-integration': 17, 'fst': 1, 'elixir': 6, 'ecto': 1, 'amazon-ec2': 45, 'indexing': 29, 'aws-documentdb': 2, 'html-table': 6, 'setlocale': 3, 'tinylog': 1, 'sass': 43, 'bundle': 4, 'workflow': 10, 'google-cloud-dataflow': 12, 'apache-beam': 8, 'dbeaver': 6, 'gridsearchcv': 2, 'rolling-computation': 3, 'sharepoint': 38, 'pytest': 37, 'end-to-end': 1, 'pytest-django': 4, 'mixer': 1, 'breakpoints': 3, 'xcode15': 16, 'internationalization': 17, 'server-side-rendering': 34, 'angular17': 23, 'scheduling': 6, 'hook': 8, 'postman': 51, 'rust-tokio': 13, 'rust-rocket': 2, 'enums': 18, 'c++20': 32, 'c++-concepts': 4, 'expo': 113, 'tabnavigator': 1, 'expo-router': 7, 'react-redux': 24, 'apache-spark': 90, 'flink-streaming': 7, 'flink-batch': 3, 'shell': 65, 'ssh': 53, 'background-process': 6, 'io-redirection': 3, 'ros2': 10, 'colcon': 2, 'jira': 9, 'scriptrunner-for-jira': 2, 'aggregation-framework': 21, 'progress': 5, 'arima': 8, 'sarimax': 3, 'spring-security': 75, 'snowflake-cloud-data-platform': 52, 'rowid': 1, 'replace': 28, 'special-characters': 5, 'cassandra-3.0': 2, 'terminal': 49, 'webstorm': 10, 'jetbrains-ide': 23, 'three.js': 59, 'orthographic': 2, 'android-tablayout': 7, 'delphi': 50, 'printing': 40, 'point-of-sale': 3, 'neural-network': 38, 'face-recognition': 10, 'quarkus': 33, 'entitymanager': 5, 'quarkus-panache': 9, 'gpu': 39, 'wine': 4, 'mac-spoofing': 1, 'mui-x-data-grid': 5, 'google-analytics': 18, 'sorting': 51, 'auto-generate': 3, 'exception': 31, 'visual-c++': 42, 'static-analysis': 2, 'semantic-ui-react': 1, 'tomcat': 38, 'razor': 11, 'preg-replace': 2, 'nonetype': 1, 'facebook-prophet': 1, 'plot': 38, 'text': 32, 'quanteda': 3, 'feature-scaling': 1, 'newrelic': 3, 'exporter': 2, 'azure-rbac': 2, 'pygame': 60, 'box2d': 2, 'echarts': 7, 'apache-echarts': 4, 'vscode-debugger': 13, 'pagination': 18, 'prisma': 49, 'webhooks': 16, 'minikube': 14, 'vault': 5, 'elasticsearch': 71, 'nodes': 11, 'cluster-computing': 9, 'data-loss': 4, 'opencl': 5, 'amazon-lex': 3, 'amazon-connect': 2, 'amazon-kinesis': 10, 'aws-sts': 4, 'amazon-kinesis-analytics': 1, 'ffmpeg': 62, 'webview': 34, 'chromium': 16, 'report': 11, 'visual-studio-2022': 48, 'rdlc': 4, 'reportviewer': 1, 'dynamic': 26, 'traits': 4, 'implementation': 1, 'box': 5, 'gltf': 5, 'assimp': 4, 'jags': 1, 'winbugs': 2, 'rjags': 1, 'azure-data-factory': 29, 'deep-linking': 12, 'applinks': 3, 'android-deep-link': 6, 'android-app-links': 2, 'iis-express': 6, 'jelastic': 2, 't-sql': 27, 'java-threads': 3, 'jupyter-notebook': 67, 'jupyter': 18, 'sql-server-2022': 6, 'postgresql-16': 2, 'datatable': 21, 'anonymous-types': 1, 'sharepoint-api': 3, 'aws-amplify': 28, 'openshift': 13, 'seaborn': 22, 'filesystemwatcher': 2, 'sta': 1, 'scala': 42, 'apache-spark-sql': 19, 'flutterflow': 12, 'css-transforms': 2, 'rundeck': 1, 'spring-resttemplate': 2, 'project': 20, 'sharing': 3, 'libraries': 8, 'next-auth': 45, 'next.js14': 27, 'httprequest': 10, 'command-line': 12, 'clang': 28, 'jar': 14, 'sdk': 23, 'classloader': 4, 'apache-kafka': 80, 'kafka-consumer-api': 9, 'cross-domain': 3, 'tracking': 3, 'iphone': 32, 'grafana-alerts': 2, 'hosting': 20, 'dedicated-server': 1, 'apache': 54, '.htaccess': 27, 'mod-rewrite': 14, 'backend': 58, 'mongoose-auto-increment': 1, 'join': 24, 'data-modeling': 6, 'event-log': 3, 'process-mining': 1, 'bupar': 2, 'floating-point': 20, 'integer': 24, 'number-formatting': 6, 'python-dataclasses': 3, 'webpack-5': 3, 'multi-user': 2, 'vpc': 1, 'ebpf': 9, 'bpf': 4, 'xdp-bpf': 1, 'libbpf': 2, 'xdp-pdf': 1, 'ms-access-2010': 1, 'here-api': 1, 'here-maps-rest': 1, 'spring-data-redis': 4, 'spring-cache': 2, 'ios-simulator': 6, 'google-apps-script': 101, 'boost-optional': 1, 'traefik': 14, 'lets-encrypt': 7, 'ngrx': 9, 'excel-addins': 7, 'redux-devtools': 2, 'flask-socketio': 11, 'reload': 2, 'trustpilot': 1, 'webserver': 9, 'puma': 3, 'ruby-on-rails-7': 9, 'css-in-js': 2, 'tty': 2, 'sudoers': 1, 'json-server': 10, 'background': 12, 'mapreduce': 1, 'google-colaboratory': 49, 'mediapipe': 7, 'worker-thread': 2, 'geometry': 22, 'coordinates': 9, 'coordinate-systems': 1, 'railway': 4, 'reserved': 3, 'poc': 2, 'winapi': 56, 'mern': 29, 'x509certificate': 7, 'sha256': 4, 'x509': 6, 'rsa-sha256': 1, 'json-web-signature': 1, 'textfield': 9, 'kaggle': 9, 'feature-engineering': 3, 'mlr3': 1, 'google-cloud-vertex-ai': 18, 'envoyproxy': 1, 'azure-pipelines': 39, 'branch': 5, 'buildpack': 4, 'ajax': 71, 'mypy': 16, 'python-watchdog': 1, 'admob': 22, 'ump': 2, 'msal-react': 2, 'whatsapp': 25, 'domain-driven-design': 18, 'sum': 17, 'having': 6, 'uppaal': 2, 'angular-routing': 16, 'embedded': 27, 'gstreamer': 14, 'bare-metal': 8, 'zynq': 1, 'top-command': 1, 'puppeteer': 28, 'browsershot': 1, 'linear-regression': 10, 'statsmodels': 3, 'angular-components': 1, 'responsive-design': 14, 'amazon-ses': 8, 'apk': 10, 'google-analytics-4': 16, 'channel': 8, 'proguard': 5, 'dexguard': 4, 'appsweep': 4, 'broadcastreceiver': 6, 'android-paging-3': 5, 'data-paging': 2, 'prometheus': 28, 'prometheus-alertmanager': 5, 'firefox': 30, 'binary': 20, 'linker': 19, 'class-validator': 1, 'notepad++': 11, 'notepad': 1, 'llama': 14, 'pivot-table': 14, 'apache-superset': 15, 'cloudflare': 23, 'cloudflare-zero-trust': 2, 'blackberry': 1, 'anaconda': 26, 'langchain': 61, 'scalafmt': 1, 'cesiumjs': 2, 'shopware': 7, 'shopware6': 12, 'sas': 12, 'nuxt.js': 45, 'progressive-web-apps': 25, 'oracle': 123, 'plsql': 22, 'oracle12c': 1, 'message': 1, 'sendmessage': 1, 'controller': 17, 'laravel-blade': 21, 'facebook': 37, 'facebook-ads-api': 2, 'facebook-ads': 2, 'google-maps-api-3': 11, 'google-directions-api': 3, 'docusignapi': 14, 'fedora': 7, 'openssl': 45, 'junit5': 14, 'mariadb': 33, 'android-jetpack-compose-material3': 12, 'google-generativeai': 5, 'gemini-ai': 8, 'react-hook-form': 27, 'google-tag-manager': 10, 'nuxt3': 26, 'header': 13, 'wordpress-theming': 19, 'spring-integration-http': 1, 'firebase-hosting': 15, 'gradle-kotlin-dsl': 5, 'rtos': 4, 'kotlin-multiplatform': 12, 'koin': 3, 'lambda': 28, 'api-gateway': 14, 'windows-installer': 11, 'installshield': 2, 'jekyll': 14, 'liquid': 10, 'tuples': 11, 'typeerror': 20, 'logistic-regression': 7, 'training-data': 7, 'data-fitting': 2, 'date-fns': 2, 'migration': 23, 'google-compute-engine': 6, 'on-premises-instances': 1, 'office-js': 15, 'powerpoint-addins': 1, 'multi-module': 2, 'jpa': 56, 'elisp': 1, 'image-compression': 1, 'lossless-compression': 2, 'image-comparison': 1, 'std-function': 4, 'kivy': 37, 'kivymd': 13, 'classification': 22, 'amazon-cloudfront': 11, 'smartcontracts': 9, 'web3js': 15, 'advanced-custom-fields': 11, 'lookup': 6, 'appservice': 1, 'iis-10': 4, 'pkg-config': 5, 'x86': 35, 'kali-linux': 13, 'metasploit': 2, 'cookies': 54, 'setcookie': 4, 'twilio-api': 12, 'smtplib': 7, 'mongodb-atlas': 9, 'atlas-device-sync': 2, 'spacy': 7, 'listview': 13, 'memory': 47, 'memory-management': 28, 'microblink': 1, 'blinkid': 1, 'layout': 26, 'css-mask': 2, 'microservices': 32, 'amazon-ecs': 32, 'openai-api': 71, 'large-language-model': 58, 'llama-index': 7, 'retrieval-augmented-generation': 8, 'out-of-memory': 11, 'code-snippets': 3, 'pointers': 41, '2d': 13, 'asp.net-identity': 13, 'authorization': 27, 'google-oauth': 34, 'multidimensional-array': 18, 'raster': 13, 'contourf': 1, 'wkwebview': 3, 'huggingface-transformers': 30, 'ruby-on-rails-3': 3, 'cypress': 39, 'heap-memory': 7, 'stack-memory': 1, 'yocto': 12, 'openblas': 1, 'yocto-recipe': 3, 'opencv': 108, 'vega-lite': 4, 'vega': 2, 'deneb': 3, 'aem': 7, 'frontend-maven-plugin': 1, 'device': 4, 'profile': 2, 'destructuring': 5, 'amazon-cloudwatch': 17, 'amazon-cloudwatchlogs': 3, 'inheritance': 37, 'config': 10, 'dotenv': 9, 'maps': 15, 'react-map-gl': 2, 'middleware': 25, 'android-jetpack': 12, 'material-you': 1, 'jersey': 3, 'cloud': 15, 'aws-dms': 1, 'if-statement': 52, 'mocking': 29, 'automated-tests': 8, 'code-coverage': 4, 'worksheet-function': 1, 'kafkajs': 1, 'undetected-chromedriver': 2, 'insert': 5, 'cs50': 13, 'string-matching': 2, 'string-comparison': 4, 'candidate': 1, 'azure-application-insights': 12, 'azure-monitor-workbooks': 2, 'uikit': 31, 'uilabel': 2, 'popup': 11, 'window.open': 3, 'crash': 21, 'data-analysis': 28, 'google-datastream': 4, '3d': 37, 'orm': 25, 'exe': 10, '32-bit': 2, 'hyperledger-fabric': 9, 'hyperledger': 2, 'hyperledger-fabric-peer': 1, 'merge': 23, 'data.table': 5, 'tinymce-5': 3, 'wiris': 2, 'jenkins-pipeline': 28, 'jenkins-groovy': 15, 'cicd': 31, 'ethers.js': 10, 'nextjs-dynamic-routing': 5, 'tagging': 4, 'vlan': 1, 'bond': 1, 'nmcli': 1, 'qt': 101, 'encoding': 23, 'signalr': 16, 'var': 4, 'enunciate': 1, 'python-unittest.mock': 4, 'primereact': 5, 'junit': 22, 'mockito': 11, 'aws-secrets-manager': 4, 'aws-roles': 3, 'uwp': 11, 'jump-list': 3, 'secondary-live-tile': 1, 'local-storage': 24, 'db-browser-sqlite': 2, 'ibm-mq': 7, 'datadog': 12, 'otel': 3, 'signal-processing': 14, 'geckodriver': 6, 'collision-detection': 9, 'game-engine': 14, 'reference': 8, 'worksheet': 5, 'datasette': 1, 'masstransit': 11, 'amazon-cloudwatch-synthetics': 1, 'multi-tenant': 10, 'azure-app-registration': 4, 'gitlab-ci': 35, 'post': 28, 'request': 18, 'qq': 1, 'sparse-matrix': 9, 'eigen': 7, 'intel-mkl': 4, 'go-gin': 9, 'extractintent': 1, 'vue-router': 8, 'clustered-index': 2, 'opcache': 1, 'mount': 3, 'nfs': 4, 'scrollbar': 14, 'width': 3, 'horizontal-scrolling': 2, 'django-forms': 22, 'ipython': 9, 'dataspell': 2, 'go-gorm': 4, 'dexie': 1, 'oauth': 12, 'access-token': 9, 'azure-ad-msal': 8, 'amadeus': 3, 'azure-synapse-analytics': 6, 'syntax-error': 16, 'compilation': 22, 'custom-element': 5, 'chrome-extension-manifest-v3': 10, 'content-script': 3, 'geturl': 2, 'cross-validation': 1, 'winpty': 1, 'babeljs': 8, 'enoent': 3, 'visualization': 45, 'apache-beam-io': 1, 'apache-beam-jdbcio': 1, 'pyproj': 1, 'epsg': 1, 'react-navigation': 21, 'firebase-dynamic-links': 3, 'jenkins-shared-libraries': 1, 'error-handling': 50, 'powerbi-embedded': 7, 'environment': 5, 'augmented-reality': 18, 'vuforia': 11, 'is-empty': 3, 'isnullorempty': 1, 'audio': 53, 'autoplay': 1, 'telegram': 35, 'temenos': 3, 'ensemble-learning': 4, 'integration': 12, 'account': 3, 'google-calendar-api': 11, 'google-client': 4, 'raspberry-pi-pico': 15, 'geolocation': 14, 'location': 9, 'navigator': 3, 'pyfakefs': 1, 'calendar': 13, 'qr-code': 11, 'adobe-indesign': 2, 'http': 72, 'disnake': 6, 'matplotlib': 103, 'typo3': 15, 'ddev': 2, 'byte': 6, 'java-bytecode-asm': 2, 'byte-buddy': 2, 'iruby': 1, 'closedxml': 2, 'powerbi-custom-visuals': 3, 'routes': 32, 'charts': 31, 'colors': 17, 'biometrics': 4, 'localauthentication': 1, 'csv': 68, 'zip': 7, 'python-zipfile': 3, 'netflix-dgs': 4, 'webbrowser-control': 3, 'shadow': 2, 'android-elevation': 2, 'request-headers': 7, 'pdf-form': 1, 'apache-kafka-connect': 8, 'scope': 14, 'nuget': 16, 'url-routing': 3, 'dynamic-routing': 3, 'data-manipulation': 5, 'openmp': 4, 'intel': 7, 'intel-oneapi': 1, 'game-development': 61, 'steamworks-api': 3, 'dns': 23, 'oracle-cloud-infrastructure': 4, 'html-parsing': 7, 'text-manipulation': 1, 'formatting': 21, 'spacing': 3, '6502': 3, 'google-directory-api': 3, 'publish': 11, 'overflow': 9, 'css-position': 8, 'absolute': 2, 'sql-server-2019': 8, 'spatie-health': 1, 'cnosdb': 11, 'stripe-payments': 64, 'scripting': 13, 'ipad': 8, 'web-applications': 22, 'aws-cloudformation': 10, 'aws-data-wrangler': 2, 'ggtern': 1, 'mapbox-gl-js': 8, 'web-crawler': 11, 'office-2016': 1, 'excel-online': 1, 'chart.js': 28, 'nexus': 5, 'nexus3': 1, 'react-native-firebase': 5, 'cyclomatic-complexity': 2, 'airbyte': 3, 'focus': 4, 'react-native-gesture-handler': 1, 'react-native-vision-camera': 4, 'lazy-loading': 6, 'angular-router-guards': 3, 'image-processing': 63, 'chatgpt-api': 15, 'share-plus': 1, 'openxml': 4, 'undo': 1, 'nsundomanager': 1, 'push-notification': 39, 'android-notifications': 9, 'web-hosting': 14, 'azure-sql-database': 14, 'try-catch': 7, 'tsx': 8, 'react-tsx': 5, 'forms': 61, 'android-layout': 10, 'simd': 7, 'avx': 2, 'avx2': 3, 'narrowing': 3, 'cdn': 8, 'alibaba-cloud': 1, 'wxwidgets': 8, 'ubuntu-23.10': 1, 'cpu-architecture': 14, 'anypoint-studio': 1, 'cloudhub': 3, 'anypoint-platform': 1, 'twig': 7, 'subdomain': 8, 'saas': 5, 'azure-front-door': 10, 'treeview': 11, 'conditional-formatting': 7, 'command-line-interface': 16, 'spring-native': 3, 'databricks': 33, 'installation': 43, 'objective-c': 16, 'avfoundation': 8, 'avaudiosession': 2, 'facebook-graph-api': 27, 'facebook-workplace': 1, 'stm32': 26, 'keil': 1, 'embos': 1, 'docker-image': 8, 'blur': 4, 'css-filters': 2, 'spreadsheet': 16, 'google-app-engine': 23, 'session-cookies': 8, 'express-session': 7, 'transformer-model': 15, 'kdeplot': 1, 'safearea': 3, 'roslyn': 5, 'pointer-to-member': 1, 'python-2.7': 14, 'multiprocessing': 23, 'pool': 1, 'firebase-cloud-messaging': 45, 'apple-push-notifications': 9, 'hotkeys': 3, 'pyside6': 20, 'variable-assignment': 6, 'redux': 33, 'azure-eventhub': 3, 'execution': 4, 'modbus': 6, 'ellipsis': 2, 'direction': 3, 'helm3': 1, 'helmfile': 1, 'spring-jms': 4, 'regression': 31, 'plugins': 45, 'shortcode': 2, 'wordpress-shortcode': 4, 'perfmon': 1, 'gradlew': 5, 'markdown': 33, 'queue': 17, 'stack': 25, 'reshape': 3, 'macos-catalina': 3, 'macbookpro': 3, 'javabeans': 5, 'rhel7': 2, 'redis-cluster': 6, 'software-distribution': 2, 'socket-timeout-exception': 2, 'libcurl': 5, 'settings': 8, 'node.js-fs': 6, 'data-cleaning': 3, 'trino': 3, 'starburst': 1, 'pine-script-v4': 8, 'sockets': 53, 'aws-cloudwatch-log-insights': 1, 'openxava': 1, 'lottie': 7, 'android-lottie': 1, 'chromatic': 1, 'laravel-livewire': 18, 'google-cloud-functions': 43, 'neo4j': 20, 'cypher': 5, 'types': 37, 'strapi': 25, 'yugabytedb': 1, 'identityserver4': 11, 'amazon-elb': 5, 'gateway': 5, 'apollo-gateway': 1, 'interrupt': 11, 'priority-queue': 3, 'uart': 11, 'spi': 4, 'stackedbarseries': 1, 'qchart': 1, 'spring-kafka': 13, 'firebase-admin': 9, 'mkdir': 1, 'genome': 1, 'foreground-service': 5, 'android-14': 10, 'policy-violation': 1, 'compare': 8, 'uri': 6, 'c3p0': 1, 'pycharm': 51, 'amazon-athena': 12, 'reverse-proxy': 16, 'mod-security2': 2, 'magento': 6, 'whmcs': 3, 'rclone': 3, 'outlook-addin': 2, 'zoom-sdk': 4, 'adyen': 2, 'php-extension': 2, 'floating-ui': 1, 'readonly': 1, 'audit': 6, 'metadata': 9, 'orders': 8, 'llvm': 11, 'webassembly': 25, 'full-text-search': 8, 'emeditor': 1, 'download': 20, 'accessibility': 24, 'voiceover': 6, 'swiftui-tabview': 6, 'stored-procedures': 17, 'cross-correlation': 2, 'swipeview': 1, 'google-drive-api': 23, 'google-picker': 3, 'virtual-server': 3, 'bubble-sort': 5, 'bar-chart': 18, 'schema': 9, 'claims-based-identity': 5, 'codable': 3, 'decodable': 1, 'dynamics-crm': 8, 'microsoft-dynamics': 10, 'dynamics-365': 8, 'whiteboard': 1, 'proxy': 30, 'socks': 2, 'socks5': 1, 'anaconda3': 7, 'android-fragments': 14, 'activity-manager': 1, 'payment-gateway': 10, 'authorize.net': 2, 'payment-processing': 3, 'accept.js': 1, 'translation': 8, 'po': 1, 'birt': 2, 'ceph': 3, 'radosgw': 1, 'instagram-graph-api': 7, 'riverpod': 13, 'grammar': 5, 'entity-framework': 38, 'eloquent': 30, 'integration-testing': 13, 'mongodb-query': 14, 'geojson': 13, 'react-leaflet': 8, 'openpyxl': 14, 'font-awesome': 4, 'drawimage': 1, 'github-packages': 3, 'slider': 16, 'resize': 6, 'divi': 2, 'hadoop': 12, 'py4j': 1, 'intellij-plugin': 5, 'amazon-textract': 2, 'cygwin': 4, 'nas': 3, 'fstab': 1, 'emulation': 14, 'wear-os': 7, 'apple-watch': 4, 'email-attachments': 4, 'exchangelib': 3, 'react-navigation-drawer': 3, 'azure-blob-storage': 21, 'yarnpkg': 6, 'instagram': 14, 'inappbrowser': 1, 'transloco': 1, 'user-interface': 67, 'user-defined-functions': 8, 'tkinter-button': 3, 'react-lifecycle': 2, 'youtube-api': 24, 'google-api-client': 1, 'scenekit': 6, 'onclicklistener': 3, 'spring-authorization-server': 8, 'click': 7, 'gesturedetector': 1, 'cryptography': 19, 'jsch': 4, 'java-security': 2, 'java-compiler-api': 1, 'django-request': 1, 'substr': 1, 'nls-lang': 1, 'vtk': 5, 'menu': 16, 'fluent': 4, 'windows-app-sdk': 3, 'math': 69, 'polynomials': 3, 'sage': 2, 'unix': 26, 'mmap': 1, 'linkedin-api': 17, 'sanity': 10, 'astro': 8, 'astrojs': 2, 'azure-pipelines-yaml': 11, 'element-plus': 2, 'tcp': 30, 'summary': 3, 'python-telegram-bot': 7, 'apple-maps': 3, 'constraints': 9, 'spring-test': 6, 'tags': 14, 'segment': 2, 'scintilla': 2, 'conditional-statements': 14, 'jsp': 13, 'submit': 1, 'csrf-token': 7, 'apache-camel': 13, 'aos.js': 1, 'segmentation-fault': 24, 'malloc': 10, 'pthreads': 4, 'address-sanitizer': 2, 'exceptionhandler': 1, 'retrofit': 9, 'pipe': 18, 'exec': 2, 'mat-select': 1, 'scalapack': 1, 'digital-signature': 12, 'post-quantum-cryptography': 1, 'wamp': 6, 'react-pdf': 4, 'pre-trained-model': 5, 'nuxtjs3': 23, 'aws-iot': 1, 'one-to-one': 1, 'pdf': 73, 'pdf-reader': 1, 'angular-universal': 5, 'react-state': 5, 'two-way-binding': 1, 'char': 11, 'ponyorm': 1, 'collision': 1, 'webots': 1, 'recharts': 9, 'pom.xml': 5, 'declaration': 4, 'padding': 8, 'thermal-printer': 5, 'formkit': 3, 'fastapi-middleware': 2, 'aop': 2, 'aspectj': 4, 'struct': 24, 'overloading': 5, 'operator-keyword': 2, 'autocomplete': 16, 'richtextbox': 4, 'flexmonster': 1, 'xampp': 20, 'retrofit2': 6, 'okhttp': 5, 'virtual-environment': 4, 'amazon-emr': 6, 'velocity': 2, 'data-vault': 1, 'unsatisfiedlinkerror': 1, 'cpu': 12, 'device-driver': 1, 'performancecounter': 2, 'tws': 2, 'tivoli': 2, 'tivoli-work-scheduler': 1, 'tivoli-identity-manager': 1, 'recursion': 49, 'helper': 4, 'sapply': 1, 'hyperlink': 26, 'href': 5, 'onedrive': 5, 'deployer': 1, 'simulation': 20, 'tkinter-canvas': 2, 'sparql': 8, 'craco': 2, 'curl': 37, 'cjk': 2, 'sql-server-2016': 4, 'database-backups': 1, 'data-recovery': 2, 'jpanel': 2, 'jcomponent': 1, 'tiptap': 3, 'solid-state-drive': 1, 'terraform-modules': 2, 'rest-assured': 5, 'jsonresponse': 1, 'jsonreader': 1, 'clang++': 8, 'powerdesigner': 1, 'azure-boards': 2, 'xmpp': 1, 'ejabberd': 1, 'p2': 1, 'model-view-controller': 12, 'collections': 12, 'search': 23, 'webpack-dev-server': 5, 'webpack-module-federation': 8, 'qemu': 21, 'macos-ventura': 4, 'qemu-device': 2, 'gcloud': 10, 'app.yaml': 5, 'barcode-scanner': 8, 'connection': 14, 'slicers': 6, 'bots': 31, 'binding': 18, 'label': 13, 'styles': 1, 'runtime': 13, 'promql': 2, 'imagemagick': 13, 'powerpoint': 19, 'executable': 4, 'executable-format': 1, 'buffer': 9, 'docx': 10, 'azure-openai': 21, 'whisper': 3, 'ecmascript-6': 13, 'e-commerce': 8, 'uitableview': 9, 'addition': 6, 'subtraction': 2, 'textwatcher': 1, 'suiteql': 2, 'phpmailer': 5, 'encryption': 43, 'assetbundle': 1, 'react-state-management': 5, 'servlets': 18, 'web.xml': 1, 'sip': 9, 'screensharing': 2, 'salesforce-lightning': 14, 'wildfly': 14, 'jpa-2.1': 1, 'power-automate-desktop': 6, 'printers': 3, 'dll-injection': 3, 'subset': 7, 'na': 6, 'turbolinks': 5, 'merge-request': 2, 'nltk': 2, 'okta': 7, 'transfer': 2, 'union': 3, 'union-all': 2, 'passwords': 9, 'datepicker': 16, 'jsoup': 2, 'feature-extraction': 7, 'feature-selection': 5, 'apacheignite': 1, 'jobs': 7, 'portal': 5, 'http-status-code-404': 16, 'github-pages': 33, 'docusaurus': 8, 'graphics': 29, 'flappy-bird-clone': 3, 'hadoop-yarn': 4, 'kerberos': 8, 'codenameone': 7, 'css-transitions': 13, 'node-red': 6, 'twilio-php': 2, 'httpie': 1, 'interaction': 4, 'mistral-7b': 5, 'capture': 1, 'realitykit': 10, 'xml-parsing': 7, 'amazon-redshift': 10, 'arm': 26, 'multicore': 2, 'datagridview': 11, 'bearer-token': 5, 'streaming': 11, 'paypal': 13, 'reflection': 11, 'getproperties': 1, 'native-aot': 5, 'polymorphism': 11, 'leaflet': 29, 'load-balancing': 7, 'event-driven-design': 1, 'couchbase': 3, 'spfx': 4, 'cortex-m': 2, 'google-play-services': 8, 'libsodium': 1, 'maui-android': 1, 'database-schema': 3, 'obiee': 2, 'gunicorn': 18, 'react-testing-library': 13, 'fetch-api': 36, 'tinygo': 1, 'terra': 9, 'clojurescript': 2, 'react-select': 6, 'shadow-cljs': 1, 'clojurescript-javascript-interop': 1, 'mfc': 4, 'winforms-interop': 2, 'xlsx': 7, 'swagger': 37, 'animate-on-scroll': 1, 'share': 6, 'daemon': 2, 'many-to-many': 12, 'move-lang': 1, 'diem': 1, 'minio': 10, 'aws-datasync': 1, 'seo': 20, 'meta': 2, 'rollup': 8, 'css-modules': 1, 'react-css-modules': 1, 'sdl-2': 10, 'macos-sonoma': 10, 'matmul': 1, 'file-manipulation': 3, 'wordpress-block-theme': 3, 'transparent': 2, 'avplayerview': 1, 'repmgr': 1, 'twitter-bootstrap': 21, 'fonts': 27, 'webfonts': 1, 'wakatime': 1, 'select': 18, 'textarea': 4, 'console-application': 9, 'jms': 3, 'flutter-listview': 3, 'flutter-objectbox': 2, 'extjs': 5, 'azure-bot-service': 4, 'web-chat': 1, 'ionic-framework': 23, 'inquirer': 2, 'swiftui-previews': 3, 'nullpointerexception': 9, 'datasource': 7, 'service-accounts': 4, 'foreach': 18, 'stm32f4discovery': 1, 'huggingface-datasets': 3, 'squad': 1, 'return-type': 1, 'basic': 2, 'control-flow': 1, 'coldfusion': 5, 'coldfusion-2021': 1, 'audio-processing': 3, 'noise-reduction': 1, 'microsoft-graph-sdks': 6, 'okd': 1, 'android-media3': 8, 'scatter-plot': 7, 'sharding': 2, 'amazon-aurora': 6, 'esp32': 43, 'forth': 1, 'openapi': 21, 'swashbuckle': 3, 'browserstack': 3, 'assertion': 2, 'testcase': 3, 'rbenv': 2, 'while-loop': 13, 'break': 5, 'inner-join': 4, 'named-ranges': 1, 'electron': 48, 'django-admin': 9, 'shapes': 4, 'intersection': 3, 'gnn': 3, 'android-recyclerview': 31, 'android-loader': 1, 'heroku': 29, 'ngrok': 5, 'asp.net-core-8': 12, 'dateonly': 1, 'identity': 13, 'core-audio': 4, 'affinetransform': 1, 'psychtoolbox': 1, 'registration': 5, 'user-registration': 1, 'vigenere': 1, 'parent-child': 3, 'airtable': 2, 'networkmanager': 1, 'media-player': 7, 'mp4': 5, 'scrapy': 33, 'android-ndk': 10, 'aapt': 1, 'aapt2': 1, 'xgbclassifier': 1, 'ray-train': 1, 'vuejs2': 10, 'openlayers': 10, 'azure-active-directory': 39, 'rgb': 4, 'lcd': 7, 'infrared': 3, 'grpc': 23, 'out': 1, 'bitnami': 5, 'bitnami-kafka': 1, 'module-federationnextjs-mfutils': 2, 'sap-gui': 4, 'rest-assured-jsonpath': 1, 'trello': 2, 'vscode-extensions': 25, 'performance-testing': 11, 'nvidia': 11, 'benchmarking': 14, 'module': 29, 'namespaces': 9, 'visual-studio-mac': 2, 'podman': 11, 'java-stream': 11, 'upload': 8, 'django-templates': 25, 'azure-data-explorer': 7, 'volar': 1, 'bloc': 22, 'flutter-bloc': 7, 'time': 25, 'image-segmentation': 5, 'sentinel2': 2, 'ignite': 1, 'material-components-android': 2, 'material-components': 1, 'shapeableimageview': 1, 'remove-if': 2, 'diacritics': 1, 'custom-keyboard': 2, 'google-artifact-registry': 3, 'workload-identity': 1, 'cumulative-sum': 5, 'dolphindb': 10, 'metaprogramming': 5, 'parsing': 27, 'legend': 6, 'appium-android': 4, 'axe': 1, 'switch-statement': 9, 'minecraft': 27, 'pageobjects': 1, 'parameterization': 1, 'protocol-buffers': 11, 'malware': 3, 'opengl': 40, 'physics': 11, 'imageurl': 3, 'kingfisher': 2, 'automatic-license-plate-recognition': 1, 'vuetify.js': 17, 'router': 13, 'webgl': 6, 'ghost-blog': 1, 'codesign': 3, 'escaping': 8, 'osx-server': 1, 'certificate': 13, 'graphql': 33, 'graphql-subscriptions': 1, 'apache-iotdb': 18, 'iotdb': 18, 'ant': 5, 'maven-2': 1, 'ivy': 2, 'virtual-machine': 28, 'cpu-usage': 6, 'system.net': 1, 'httpsys': 1, 'bluetooth-socket': 1, 'page-factory': 1, 'cloudinary': 9, 'ngmodel': 1, 'taxonomy': 1, 'area': 3, 'exoplayer': 10, 'mediasession': 1, 'jackson': 15, 'qt-creator': 6, 'qt6': 19, 'qtandroidextras': 1, 'pybind11': 3, 'assistant': 1, 'data-structures': 51, 'guava': 4, 'google-cloud-sql': 8, 'ecma': 4, 'node-commander': 1, 'oop': 37, 'snowflake-schema': 4, 'transactions': 23, 'linked-server': 2, 'correlation': 8, 'perl': 12, 'coderef': 1, 'ejs': 20, 'ip': 11, 'ssid': 2, 'archlinux': 4, 'openmpi': 1, 'react-usecallback': 1, 'google-sheets-api': 10, 'google-workspace': 17, 'pyside2': 1, 'qwebengineview': 1, 'qwebenginepage': 3, 'web-sys': 1, 'jitsi': 2, 'pyalgotrade': 1, 'windows-10': 13, 'breeze': 4, 'production': 6, 'php-telegram-bot': 1, 'osdev': 2, 'fasm': 3, 'swiftui-scrollview': 4, 'kernel': 17, 'jupyter-irkernel': 1, 'firebase-tools': 7, 'calculation': 4, 'annotations': 22, 'obfuscation': 1, 'pack': 1, 'single-page-application': 13, 'yolov8': 19, 'onion-architecture': 2, 'ccscene': 1, 'tidymodels': 5, 'recaptcha-v3': 2, 'react-google-recaptcha': 1, 'g++': 8, 'abi': 4, 'name-mangling': 2, 'user-controls': 3, 'vsto': 2, 'office-addins': 6, 'patch': 3, 'buildozer': 9, 'python-for-android': 3, 'pymysql': 2, 'devops': 44, 'icons': 17, 'scenebuilder': 4, 'bins': 1, 'svelte': 38, 'wdio': 3, 'matrix': 29, 'probability': 7, 'levelplot': 1, 'r-markdown': 17, 'rstudio': 8, 'knitr': 7, 'invalid-characters': 1, 'yamldotnet': 2, 'tax': 2, 'clear-cache': 1, 'ether': 1, 'xml-validation': 1, 'game-physics': 8, 'window': 16, 'persistence': 4, 'glsl': 14, 'xaml': 43, 'go-ethereum': 2, 'react-forms': 1, 'tauri': 13, 'rust-axum': 4, 'google-api': 32, 'google-account': 2, 'static-methods': 4, 'google-slides': 9, 'gherkin': 1, 'gridfs': 2, 'client-server': 5, 'wireguard': 4, 'premake': 2, 'drupal-commerce': 1, 'drupal-feeds': 1, 'drupal-10': 1, 'argparse': 3, 'postgresql-13': 4, 'export-to-csv': 9, 'fatfs': 3, 'unusernotificationcenter': 1, 'interpreter': 8, 'dsl': 3, 'dump': 4, 'buffer-overrun': 1, 'vim': 12, 'eleventy': 6, 'aws-codecatalyst': 1, 'https': 30, 'blender': 12, 'plotly-dash': 15, 'react-popper': 1, 'pylance': 7, 'opacity': 1, 'http2': 6, 'httpserver': 2, 'varnish': 3, 'varnish-vcl': 1, 'blazor-webassembly': 34, 'swish': 1, 'categories': 7, 'onclick': 17, 'razor-components': 1, 'react-props': 8, 'routeparams': 1, 'gsap': 13, 'element': 9, 'inspect': 1, 'prawn': 1, 'minimagick': 1, 'combine-pdf': 1, 'event-handling': 16, 'cross-browser': 6, 'broadcast-channel': 1, 'swiper.js': 14, 'mysql-python': 1, 'flask-restful': 6, 'async-await': 41, 'mobile-safari': 2, 'mobile-website': 2, 'bison': 5, 'vertex': 1, 'python-imaging-library': 14, 'glfw': 15, 'glad': 5, 'character-encoding': 13, 'non-ascii-characters': 2, 'wchar': 1, 'tailwind-3': 1, 'laravel-breeze': 3, 'panel': 3, 'holoviz-panel': 2, 'option-type': 3, 'iteration': 9, 'runge-kutta': 2, 'c-str': 1, 'home-assistant': 3, 'websecurity': 3, 'chip-8': 2, 'buildroot': 6, 'bulletphysics': 2, 'hook-woocommerce': 16, 'pysimplegui': 4, 'pypi': 4, 'normalization': 8, 'angular-httpclient': 4, 'npm-package': 6, 'netbeans': 9, 'paramiko': 3, 'fabric': 2, 'one-hot-encoding': 4, 'antd': 14, 'placeholder': 4, 'velo': 8, 'stripe-payments-js': 2, 'lua-api': 1, 'lua-c++-connection': 1, 'package': 21, 'doctrine-orm': 5, 'rscript': 3, 'spring-filter': 1, 'language-lawyer': 20, 'partial-specialization': 1, 'non-type-template-parameter': 3, 'spring-webclient': 3, 'data-binding': 16, 'onlongclicklistener': 1, 'jsonata': 3, 'bigdata': 13, 'bit-manipulation': 2, 'bitwise-operators': 5, 'proof': 3, 'curve-fitting': 5, 'memory-leaks': 25, 'garbage-collection': 4, 'global-variables': 6, 'checkbox': 14, 'event-propagation': 1, 'ionic7': 2, 'knn': 4, 'raylib': 9, 'class-library': 2, 'google-cloud-dataproc': 4, 'google-cloud-composer': 5, 'fft': 13, 'monogame': 3, 'waveform': 2, 'zsh': 13, 'oh-my-zsh': 3, 'pytorch-distributions': 1, 'insert-update': 2, 'haskell': 23, 'ihp': 1, 'aws-api-gateway': 25, 'mapping-template': 1, 'scrabble': 1, 'gspread': 1, 'i2c': 10, 'probe': 2, 'swift-concurrency': 4, 'swift-playground': 5, '3d-model': 3, 'type-conversion': 12, 'double': 6, 'prerender': 3, 'conda': 15, 'ubuntu-22.04': 18, 'allennlp': 1, 'jsonnet': 2, 'asp.net-mvc-4': 4, 'asp.net-mvc-3': 2, 'redhat': 8, 'flask-cors': 1, 'autosuggest': 1, 'sublimetext4': 1, 'hidden-markov-models': 4, 'bucket': 5, 'static-files': 3, 'postman-newman': 1, 'ef-code-first': 5, 'c++-templates': 5, 'react-three-fiber': 19, 'asp.net-core-mvc': 38, 'ttkbootstrap': 3, 'variadic-templates': 10, 'splash-js-render': 1, 'soap': 14, 'soap-client': 3, 'client-certificates': 9, 'pfx': 3, 'profiling': 10, 'wiremock': 4, 'adb': 13, 'xpath': 16, 'jsx': 24, 'gtk4': 9, 'adminjs': 5, 'masm': 6, 'blazor-server-side': 41, 'syncfusion': 8, 'c++11': 16, 'rpc': 6, 'react-swiper': 4, 'aws-cdk': 14, 'stack-overflow': 6, 'binary-search': 5, 'twilio-programmable-chat': 2, 'whatsapp-flows': 4, 'angularjs': 30, '.net-core-3.1': 2, 'apple-m1': 10, 'h2o': 1, 'time.h': 1, 'policy': 7, 'supabase-database': 7, 'evaluation': 1, 'yolov4': 1, 'flutter-hive': 3, 'dictionary': 44, 'translate': 4, 'blocking': 2, 'resampling': 2, 'txt': 7, 'stylus-pen': 1, 'skyscanner': 1, 'mailtrap': 1, 'gremlin': 3, 'tinkerpop': 1, 'graph-traversal': 3, 'powerbi-paginated-reports': 2, 'android-13': 5, 'mips': 6, 'google-cloud-datastore': 1, 'odoo': 21, 'pgbouncer': 2, 'imagemagick-convert': 2, 'rmagick': 1, 'appstorage': 1, 'framer-motion': 12, 'aws-fargate': 11, 'aws-sdk': 12, 'cloudflare-r2': 1, 'pythonanywhere': 5, 'increment': 7, 'rangeslider': 1, 'desktop': 6, 'squarespace': 3, 'neuroscience': 4, 'brain-computer-interface': 2, 'react-big-calendar': 1, 'newline': 3, 'pdf-writer': 1, 'bounding-box': 2, 'sveltekit': 47, 'tensorflow2.0': 15, 'keras-layer': 2, 'language-translation': 2, 'mutex': 5, 'semaphore': 4, 'host': 3, 'google-cloud-pubsub': 8, 'dependency-injection': 30, 'autofac': 3, 'gitlab-ci-runner': 8, 'rendering': 15, 'directx': 4, 'projection': 5, 'renderdoc': 3, 'bootstrap-4': 13, 'cisco': 3, 'automapper': 2, 'intel-vtune': 1, 'toggle': 6, 'graalvm': 11, 'graalvm-native-image': 5, 'spring-shell': 1, 'cpu-cache': 2, 'feed': 1, 'scheme': 6, 'gnu': 7, 'guile': 1, 'substring': 8, 'telegram-bot': 30, 'vmware': 10, 'database-replication': 6, 'pouchdb': 2, 'microdata': 2, 'filesystems': 15, 'amazon-ecr': 8, 'makefile': 26, 'mingw-w64': 7, 'react-native-image-picker': 1, 'supabase-js': 5, 'entity': 7, 'passport.js': 15, 'scroll': 27, 'antiforgerytoken': 3, 'google-openidconnect': 2, 'rdma': 3, 'usb': 13, 'spock': 4, 'spring-retry': 1, 'tenancyforlaravel': 2, 'iterator': 7, 'std': 8, 'opaque-pointers': 1, 'influxdb': 9, 'android-webview': 8, 'gnuplot': 2, 'outliers': 5, 'datetimepicker': 3, 'oracle19c': 8, 'ora-01858': 1, 'attachment': 3, 'thread-safety': 8, 'wso2-esb': 2, 'wso2-api-manager': 2, 'wso2-identity-server': 2, 'wso2-enterprise-integrator': 2, 'concatenation': 11, 'spark-streaming': 9, 'jfr': 1, 'dotnet-interactive': 1, 'polyglot-notebooks': 1, 'mqtt': 17, 'azure-eventgrid': 5, 'theory': 3, 'counting': 2, 'filter': 28, 'jquery-ui-sortable': 1, 'photospicker': 1, 'shapefile': 5, 'qgis': 3, 'pyshp': 1, 'carousel': 15, 'embedding': 10, 'feature-detection': 2, 'preg-match': 1, 'prestashop-1.6': 2, 'index.html': 2, 'googlesigninaccount': 1, 'contentful': 3, 'phpmyadmin': 19, 'tqdm': 4, 'grid': 16, 'web-development-server': 14, 'kubernetes-ingress': 11, 'scikit-optimize': 2, 'air': 2, 'dialogflow-es': 4, 'dialogflow-cx': 4, 'clojure': 5, 'branch-and-bound': 2, 'flutter-build': 2, 'flutter-ios-build': 1, 'computer-vision': 41, 'console.log': 4, 'headless-browser': 1, 'drag-and-drop': 16, 'draggable': 6, 'drag': 3, 'dnd-kit': 1, 'ascii': 5, 'formattable': 1, '.env': 5, 'tensorflow-serving': 1, 'amazon-cognito': 24, 'aws-appsync': 7, 'react-bootstrap': 4, 'react-relay': 1, 'cuda': 30, 'webkit': 6, 'fivem': 1, 's3fs': 1, 'libmysqlclient': 4, 'external': 3, 'dynamic-linking': 4, 'voip': 5, 'twilio-twiml': 6, 'asp.net-core-6.0': 9, 'database-migration': 5, 'laravel-migrations': 1, 'dt': 2, 'action-button': 1, 'fluttermap': 4, 'amazon-kinesis-firehose': 2, 'plotly': 60, 'modulenotfounderror': 8, 'quarkus-reactive': 5, 'hibernate-reactive': 1, 'gsutil': 2, 'signalr-hub': 2, 'atlaskit': 1, 'parquet': 13, 'pyarrow': 4, 'azure-static-website-hosting': 3, 'digital-ocean': 12, 'spatial': 9, 'random-walk': 1, 'css-grid': 16, 'minmax': 3, 'quart': 1, 'hypercorn': 2, 'pubspec.yaml': 3, 'flutter-pubspec': 2, 'freefem++': 1, 'monorepo': 21, 'turborepo': 5, 'printf': 8, 'devise': 5, 'omniauth-google-oauth2': 1, 'raw-query-builder': 1, 'editor': 7, 'archive': 6, 'unpack': 2, 'extractor': 1, 'appkit': 5, 'textkit': 2, 'katharsis': 2, 'nextjs-image': 7, 'events': 23, 'split': 14, 'sslhandshakeexception': 1, 'device-owner': 1, 'android-device-owner': 1, 'sdl-mixer': 1, 'angular-providers': 1, 'angular-standalone-components': 11, 'angular-ssr': 5, 'highlight': 10, 'mysql-cli': 1, 'elementor': 21, 'searchbar': 2, 'blog-post': 1, 'laravel-sanctum': 5, 'emu8086': 4, 'php-5.6': 1, 'posix': 6, 'shared-memory': 4, 'aws-glue': 12, 'file-copying': 2, 'std-filesystem': 1, 'terraform-provider-gcp': 1, 'git-config': 1, 'google-ads-api': 13, 'hbs': 1, 'cost-management': 1, 'mui-x-date-picker': 2, 'spring-boot-security': 1, 'google-cloud-iam': 4, 'trailing-whitespace': 1, 'xbox': 4, 'swift-data': 25, 'sdwebimage': 1, 'dispatch-queue': 2, 'pointer-events': 3, 'interceptor': 8, 'bamboo': 2, 'bamboo-specs': 1, 'splash-screen': 6, 'sdl-image': 1, 'rust-ink': 2, 'inky': 1, 'database-connection': 3, 'batch-processing': 6, 'javascript-objects': 4, 'razor-pages': 18, 'functional-programming': 11, 'mongo-go': 2, 'requirements.txt': 4, 'amazon-sagemaker': 17, 'pgzero': 1, 'tasm': 2, 'graphdb': 1, 'f#': 6, 'currying': 1, 'lifting': 1, 'cplex': 11, 'job-scheduling': 4, 'constraint-programming': 9, 'markup': 2, 'border': 6, 'scrollviewer': 1, 'uielement': 1, 'amazon-bedrock': 3, 'configmap': 4, 'nested': 13, 'enable-if': 1, 'local': 3, 'stripe-payment-intent': 4, 'boost-asio': 6, 'ng-bootstrap': 3, 'azure-ad-b2c': 14, 'tempus-dominus-datetimepicker': 2, 'vim-plugin': 1, 'material3': 4, 'gnuradio': 6, 'usrp': 2, 'akka.net': 1, 'akka.net-streams': 1, 'linegraph': 4, 'configuration': 17, 'include': 9, 'decode': 3, 'mips32': 5, 'roman-numerals': 1, 'jql': 1, 'http-live-streaming': 8, 'icecast': 5, 'internet-radio': 1, 'exif': 3, 'bitcode': 1, 'domdocument': 4, 'end-of-line': 2, 'csp': 3, 'pulumi': 2, 'pulumi-python': 1, 'visual-studio-2010': 5, 'enterprise': 2, 'mdm': 1, 'kiosk': 1, 'emm': 1, 'bit': 2, 'crc': 2, 'voxel': 3, 'pdfkit': 3, 'pdfview': 1, 'uml': 5, 'deployment-diagram': 1, 'codemirror': 5, 'toast': 5, 'django-channels': 9, 'android-developer-api': 2, 'background-image': 8, 'methods': 16, 'symfony6': 4, 'serverless-framework': 12, 'aws-serverless': 8, 'aws-sam': 5, 'aws-lambda-layers': 2, 'mouseevent': 8, 'mouse': 9, 'hardware': 11, 'reusability': 3, 'motor-asyncio': 1, 'mysql-shell': 2, 'ide': 22, 'racket': 6, 'dagger': 4, 'google-cloud-filestore': 1, 'flutter-animation': 10, 'httpclient': 8, 'vb.net': 72, 'lwp-useragent': 1, 'sqlmodel': 5, 'version-control': 11, 'x86-16': 7, 'yoast': 4, 'testflight': 1, 'lint': 1, 'vbscript': 10, 'one-trust': 3, 'c-strings': 4, 'apache2': 3, 'web-component': 5, 'stenciljs': 3, 'file-access': 3, 'discount': 1, 'usermetadata': 2, 'quicksort': 6, 'grpc-java': 3, 'reactivex': 1, 'rx-java3': 1, 'dbcontext': 3, 'sqlx': 4, 'countif': 3, 'core-image': 4, 'cifilter': 1, 'ciimage': 1, 'mtkview': 1, 'datagrid': 14, 'winrt-xaml': 2, 'uwp-xaml': 4, 'dll': 19, 'quasar-framework': 6, 'scale': 8, 'custom-painter': 2, 'jetpack-compose-drawscope': 2, 'solidity': 17, 'media-queries': 8, 'display': 12, 'pyomo': 4, 'gurobi': 4, 'highs': 1, 'ssis': 15, 'python-import': 8, 'type-hinting': 6, 'pylint': 10, 'event-loop': 5, 'gradle-daemon': 2, 'django-staticfiles': 1, 'collectstatic': 2, 'shap': 5, 'createcontext': 2, 'io': 13, 'x11': 7, 'this': 4, 'dry': 5, 'npgsql': 7, 'linq2db': 3, 'responsetext': 2, 'whatsapp-cloud-api': 9, 'facebook-business-manager': 1, 'redux-toolkit': 26, 'redux-thunk': 4, 'dotnetnuke': 2, 'plantuml': 2, 'ikvm': 1, 'delegates': 4, 'segue': 1, 'android-camerax': 1, 'television': 5, 'leanback': 3, 'cryptoapi': 2, 'cng': 3, 'polygon': 7, 'shapely': 7, 'boundary': 1, 'blob': 7, 'blazor-auto': 1, 'fee': 3, 'airdrop': 1, 'metaboss': 1, 'codeblocks': 8, 'scheduler': 3, 'virtual-network': 1, 'apriori': 2, 'whatsapi': 6, 'telegram-api': 5, 'mtproto': 1, 'nodemon': 5, 'mongostore': 1, 'dynamic-memory-allocation': 9, 'labview': 3, 'pyqtgraph': 3, 'allocation': 3, 'unions': 1, 'react-icons': 1, 'react-typescript': 8, 'stdvector': 6, 'shopping-cart': 3, 'ienumerable': 3, 'flexbox': 45, 'facebook-opengraph': 2, 'share-open-graph': 2, 'optaplanner': 4, 'thymeleaf': 14, 'hashmap': 19, 'godot3': 2, 'kruskal-wallis': 1, 'intellij-inspections': 3, 'kivy-language': 8, 'entity-framework-8': 1, 'common-table-expression': 5, 'gnupg': 5, 'ubuntu-20.04': 8, 'keyserver': 1, 'data-integrity': 1, 'notnull': 1, 'bytebuffer': 1, 'processing-efficiency': 2, 'memory-efficient': 2, 'mlogit': 1, 'k-fold': 2, 'spark-structured-streaming': 13, 'overlay': 14, 'sankey-diagram': 3, 'filtering': 13, 'react-three-drei': 7, 'apache-velocity': 1, 'woocommerce-memberships': 1, 'supervised-learning': 1, 'multer': 10, 'quotes': 4, 'brackets': 1, 'windows-server-2019': 5, 'veeam': 3, 'azure-static-web-app': 10, 'boost-python': 1, 'appium-ios': 4, 'command': 17, 'docker-desktop': 7, 'ocelot': 2, 'tee': 1, 'isomorphism': 1, 'sharelink': 1, 'stream': 12, 'scanf': 7, 'kubernetes-cluster': 2, 'cilium': 5, 'coding-style': 4, 'quarto': 18, 'open3d': 2, 'trimesh': 2, 'spring-cloud': 9, 'netflix-eureka': 6, 'spring-cloud-config': 2, 'clickhouse': 10, 'rtk-query': 9, 'polylang': 3, 'python-3.11': 6, 'onnx': 8, 'inference': 6, 'b-tree': 2, '2-3-4-tree': 1, 'react-player': 1, 'git-filter-repo': 2, 'iis': 33, 'url-rewriting': 7, 'vue-router4': 2, 'virtualbox': 6, 'lag': 5, 'overriding': 6, 'swift-protocols': 3, 'swift-extensions': 1, 'apache-kafka-streams': 12, 'ktable': 1, 'telerik': 7, 'telerik-grid': 2, 'telerik-mvc': 1, 'audio-player': 4, 'musicbrainz': 1, 'picard': 1, 'identifier': 1, 'local-variables': 2, 'c++26': 3, 'angular2-changedetection': 1, 'jaro-winkler': 2, 'rxjs': 16, 'hover': 6, 'visualvm': 2, 'sdkman': 2, 'jboss': 13, 'jboss7.x': 3, 'ads': 8, 'payment': 9, 'rewardedvideoad': 1, 'kysely': 1, 'user-permissions': 5, 'azure-aks': 16, 'azure-application-gateway': 1, 'httr': 1, 'amazon-selling-partner-api': 4, 'swagger-ui': 17, 'partitioning': 5, 'aws-cli': 9, 'zustand': 3, 'key-value': 3, 'versioning': 5, 'system-design': 11, 'vector-clock': 1, 'np': 1, 'mapkit': 9, 'core-location': 5, 'mkmapcamera': 1, 'uicollectionview': 5, 'uisearchbar': 3, 'memcached': 4, 'spymemcached': 1, 'xmemcached': 1, 'avr': 4, 'microchip': 6, 'atmel': 1, 'atmelstudio': 1, 'attiny': 2, 'laravel-8': 12, 'epplus': 3, 'laravel-artisan': 6, 'laravel-10': 39, 'r2dbc': 1, 'fuzzywuzzy': 2, 'longest-substring': 1, 'concurrency': 28, 'jvm': 17, 'volatile': 1, 'griddb': 7, 'hedera-hashgraph': 2, 'mathjax': 7, 'julian-date': 1, 'aws-aurora-serverless': 1, 'i18next': 9, 'react-i18next': 6, 'photon': 5, 'motorola': 1, 'unlock': 1, 'fastboot': 1, 'html5-video': 6, 'lightgallery': 1, 'go-testing': 1, 'api-design': 11, 'mockups': 1, 'generative': 1, 'wav': 2, 'wave': 1, 'har': 3, 'd3.js': 24, 'postgresql-9.6': 2, 'customcolumn': 2, 'structured-clone': 1, 'jhipster': 8, 'nested-json': 1, 'jax-rs': 3, 'cxf': 5, 'log4j2': 5, 'liveserver': 4, 'github-codespaces': 4, 'splunk-query': 3, 'sequential': 3, 'urlencode': 2, 'dnsmasq': 1, 'coredns': 2, 'transpose': 1, 'avaloniaui': 5, 'spring-integration-dsl': 4, 'spring-integration-jms': 1, 'jellyfin': 1, 'lua': 39, 'roblox': 19, 'linked-list': 12, 'reverse': 7, 'depth-first-search': 4, 'trie': 1, 'webrtc-android': 2, 'git-server': 1, 'create-table': 1, 'azure-data-lake-gen2': 5, 'plaidml': 2, 'vsct': 2, 'openvidu': 2, 'c++-chrono': 4, 'nameerror': 2, 'class-constructors': 1, 'mosaic': 2, 'architecture': 27, 'safety-critical': 1, 'mutate': 4, 'micropython': 7, 'adafruit-circuitpython': 2, 'openstack': 4, 'amazon-cloudtrail': 3, 'port-number': 1, 'drupal-9': 2, 'document.write': 1, 'try-catch-finally': 1, 'hashtable': 2, 'iostream': 2, 'cout': 3, 'stimulusjs': 6, 'importmap-rails': 4, 'amazon-sqs': 11, 'django-urls': 6, 'android-canvas': 3, 'android-bitmap': 1, 'action': 3, 'photoshop': 8, 'extendscript': 3, 'photoshop-script': 3, 'keylogger': 1, 'procedure': 5, 'array-unique': 1, 'firewall': 14, 'azure-virtual-network': 7, 'azure-nsg': 1, 'aws-pinpoint': 1, 'jdbi': 2, 'jdbi3': 2, 'jdbi-jpa': 2, 'django-celery': 4, 'celery-task': 4, 'modifier': 1, 'composable': 7, 'hpc': 4, 'petsc': 1, 'apache-poi': 13, 'google-cloud-vision': 2, 'expression': 4, 'multiplication': 5, 'textutils': 1, 'esp8266': 7, 'autodesk-tandem': 1, 'dialog': 5, 'cascade': 3, 'caprover': 2, 'java.util.logging': 4, 'torch': 4, 'chakra-ui': 11, 'sed': 15, 'tar': 3, 'flutter-provider': 7, 'flutter-navigation': 4, 'core-data': 18, 'dynamic-library': 3, 'wordpress-plugin-creation': 4, 'customization': 5, 'mat-datepicker': 3, 'mat-form-field': 3, 'dataset': 25, 'named-entity-recognition': 4, 'wikidata': 5, 'parallel-processing': 28, 'monospace': 1, 'incognito-mode': 4, 'task': 9, 'asp.net-web-api': 34, 'priority-web-sdk': 1, 'mongoatlas': 1, 'huffman-code': 1, 'materialized-views': 3, 'azure-security': 1, 'nextcord': 1, 'pipewire': 2, 'asp.net-core-7.0': 8, 'yolo': 14, 'data-augmentation': 2, 'pg-cron': 1, 'anorm': 1, 'replit': 6, 'dynamic-programming': 19, 'selenium4': 3, 'google-cloud-run': 13, 'procfile': 1, 'flask-login': 7, 'javacard': 4, 'globalplatform': 1, 'securitydomain': 1, 'tcl': 10, 'introspection': 3, 'hono': 2, 'panel-data': 5, 'economics': 5, 'trend': 2, 'multicollinearity': 1, 'where-clause': 9, 'jsonpath': 2, 'dacpac': 1, 'rad-studio': 2, 'delphi-12-athens': 4, 'graph-theory': 11, 'hypercube': 1, 'imageview': 2, 'jython': 1, 'dropbox': 2, 'revit-api': 4, 'shader': 11, 'document': 7, 'hint': 2, 'inline': 3, 'go-modules': 4, 'go-toolchain': 1, 'google-api-python-client': 5, 'numbers': 8, 'ora-00932': 1, 'android-emulator': 18, 'xunit': 12, 'verify': 3, 'nest': 4, 'organized': 1, 'smallrye': 3, 'wordpress-gutenberg': 11, 'azure-ad-b2c-custom-policy': 6, 'deprecated': 2, 'random': 24, 'rubiks-cube': 1, 'rule-engine': 1, 'sharepoint-2019': 1, 'cart': 9, 'nlog': 6, 'ilogger': 3, 'hardhat': 8, 'thirdweb': 1, 'telerik-reporting': 1, 'fork': 8, 'execvp': 1, 'dup2': 2, 'xdebug': 4, 'metal': 9, 'metalkit': 3, 'nhibernate-validator': 1, 'jakarta-ee': 13, 'spring-boot-3': 14, 'apache-commons-cli': 1, 'x509certificate2': 3, 'png': 8, 'autodesk-forge': 15, 'autodesk-bim360': 2, 'autodesk-designautomation': 5, 'aps': 1, 'title': 2, 'uidocumentinteractioncontroller': 2, 'outsystems': 1, 'compile-time': 4, 'compile-time-constant': 1, 'constant-expression': 2, 'aiogram': 10, 'k3s': 7, 'cpanel': 18, 'schedule': 5, 'elastic-stack': 8, 'devtools': 5, 'elk': 6, 'netty': 3, 'picker': 3, 'linux-kernel': 30, 'printk': 1, 'dmesg': 1, 'telephonymanager': 2, 'generative-pretrained-transformer': 1, 'dart-shelf': 1, 'dbus': 5, 'avahi': 1, 'macvlan': 1, 'face-detection': 7, 'store': 5, 'pinia': 12, 'vue-reactivity': 3, 'mongosh': 2, 'vector-graphics': 1, 'google-chrome-devtools': 12, 'parceljs': 8, 'cognos-11': 1, 'howler.js': 3, 'photon-pun': 2, 'ip-camera': 4, 'onvif': 2, 'rdf': 6, 'jena': 1, 'rdfs': 1, 'shacl': 1, 'recovery': 2, 'data-annotations': 3, 'pypdf': 5, 'pdfcreator': 1, 'rvalue': 1, 'type-traits': 2, 'wsgi': 2, 'bad-gateway': 3, 'relationship': 10, 'text-to-speech': 7, 'app-store-connect': 10, 'console': 13, 'wagtail': 6, 'read-eval-print-loop': 2, 'evcxr': 1, 'qml': 22, 'qt6.4.1': 1, 'generic-associated-types': 1, 'pyside': 3, 'units-of-measurement': 4, 'fastparse': 1, 'resttemplate': 6, 'py-langchain': 16, 'ollama': 2, 'global': 3, 'compiler-warnings': 5, 'extern': 2, 'greenhills': 2, 'importerror': 15, 'findstr': 2, 'pgadmin': 7, 'swift-package-manager': 8, 'goroutine': 9, 'vispy': 1, 'google-developers-console': 6, 'huggingface-trainer': 3, 'laravel-relations': 3, 'laravel-models': 2, 'rotation': 14, 'spinner': 3, 'cube': 3, 'directus': 3, 'mswjs': 1, 'mxgraph': 1, 'realsense': 1, 'flutter-local-notification': 5, 'android-service': 9, 'android-widget': 6, 'autowired': 1, 'pdfparser': 1, 'mvvm': 20, 'execution-time': 2, 'building': 2, 'pkix': 1, 'windows-container': 1, 'windows-server-container': 2, 'liskov-substitution-principle': 2, 'mason': 1, 'file-io': 3, 'attributeerror': 11, 'local-database': 2, 'partition': 2, 'diskspace': 4, 'disk-partitioning': 1, 'webcam': 3, 'lombok': 11, 'monad-transformers': 1, 'port': 12, 'mime-types': 5, 'index-error': 3, 'freezed': 4, 'metamask': 5, 'wallet': 2, 'youtube-player-flutter': 1, 'convex-hull': 1, 'flutter-qrcode': 1, 'crawler4j': 1, 'processing': 6, 'p5.js': 15, 'bios': 6, 'virtualization': 7, 'opensuse': 2, 'wallet-connect': 4, 'pymc3': 1, 'pymc': 5, 'bitmap': 4, 'app-router': 10, 'server-action': 8, 'hangfire': 5, 'hangfire-sql': 1, 'directadmin': 2, 'server-configuration': 1, 'mpdf': 4, 'actionscript-3': 3, 'blackmagic-design': 1, 'tailwind-in-js': 2, 'sharedb': 1, 'embedded-linux': 11, 'u-boot': 1, 'rockchip': 2, 'decimalformat': 1, 'blazor-editform': 2, 'subplot': 4, 'openair': 1, 'levels': 2, 'pdf-generation': 13, 'qwidget': 2, 'qprinter': 1, 'logic': 8, 'prototype': 1, 'arduino-esp32': 17, 'esp-idf': 5, 'esp-idf-sys': 1, 'jekyll-extensions': 2, 'jekyll-theme': 2, 'jekyll-bootstrap': 1, 'valgrind': 9, 'libtorch': 1, 'callgrind': 3, 'worldpay': 1, 'tron': 3, 'yii2': 9, 'usmap': 1, 'google-cloud-sdk': 1, 'drupal-7': 1, 'drupal-modules': 1, 'regexp-replace': 5, 'binance': 14, 'locale': 4, 'lubridate': 4, 'date-parsing': 1, 'perspective': 1, 'sharepoint-2010': 1, 'csom': 2, 'telegraf': 6, 'codeigniter': 16, 'jspdf': 8, 'html2pdf': 2, 'dataview': 2, 'obsidian': 5, 'awt': 5, 'keylistener': 1, 'file-recovery': 2, 'visionos': 5, 'navision': 2, 'azure-logic-apps': 11, 'dataguard': 1, 'rescale': 1, 'ios-privacy-settings': 1, 'get': 14, 'slug': 2, 'powerquery': 32, 'excel-tables': 3, 'assets': 8, 'import-maps': 2, 'minimal-apis': 4, 'raku': 3, 'cross-platform': 12, 'space': 1, 'spark-window-function': 1, 'nasm': 21, 'gnu-make': 8, 'chocolatey': 3, 'with-statement': 1, 'declare': 1, 'ragged-tensors': 1, 'buffer-overflow': 2, 'ssh-keys': 8, 'http-proxy': 5, 'code-formatting': 6, 'grep': 4, 'webmail': 1, 'mx-record': 1, 'microsoft-entra-external-id': 1, 'pino': 2, 'vcf-vcard': 1, 'lzf': 1, 'backup': 10, 'session-variables': 2, 'php-8': 6, 'strcpy': 1, 'deno': 6, 'deno-deploy': 1, 'observable': 6, 'adodb': 3, 'cloudflare-pages': 2, 'secret-key': 2, 'asp.net-webpages': 1, 'matrix-multiplication': 6, 'gpgpu': 2, 'opencl-c': 1, 'inverse': 1, 'fmt': 4, 'rselenium': 2, 'osgi': 3, 'eclipse-rcp': 3, 'osgi-bundle': 1, 'tycho': 2, 'mermaid': 5, 'x86-64': 22, 'calling-convention': 4, 'pkce': 2, 'race-condition': 7, 'thread-sanitizer': 1, 'pretty-print': 2, 'asp.net-core-3.1': 2, 'libreoffice': 4, 'python-docx': 10, 'typescript-generics': 13, 'apache-tomee': 2, 'tomee-8': 1, 'azure-speech': 2, 'uipopovercontroller': 1, 'h2': 9, 'credentials': 4, 'laravel-sail': 8, 'comments': 3, 'naming-conventions': 4, 'pattern-mining': 1, 'gevent': 1, 'eventlet': 1, 'rules': 4, 'template-argument-deduction': 2, 'leiden': 3, 'spring-transactions': 5, 'spring-aspects': 1, 'clean-architecture': 4, 'vue-i18n': 2, 'steam': 6, 'hardware-acceleration': 4, 'acceleration': 2, 'tailwind-ui': 2, 'anova': 3, 'posthoc': 2, 'desctools': 1, 'bonferroni': 1, 'ethernet': 7, 'winscp': 1, 'wifi': 19, 'access-point': 1, 'nofollow': 1, 'asynchronous-messaging-protocol': 1, 'motoko': 1, 'dfinity': 2, 'indentation': 4, 'ignore': 2, 'nested-for-loop': 2, 'xpath-1.0': 1, 'raise': 1, 'raiseerror': 1, 'nosql': 13, 'apple-vision': 1, 'visionkit': 1, 'filter-woocommerce': 1, 'azure-cosmosdb': 14, 'pgvector': 7, 'sqlconnection': 2, 'sqlclient': 6, 'sqlconnection.close': 2, 'linear-algebra': 11, 'matrix-inverse': 3, 'pinchzoom': 2, 'uipinchgesturerecognizer': 1, 'tree': 15, 'arbitrary-values': 1, 'manpage': 1, 'pager': 2, 's2': 1, 'session-state': 5, 'sequelize.js': 21, 'kotlin-flow': 8, 'jetpack-compose-navigation': 4, 'sftp': 5, 'lme4': 6, 'random-effects': 5, 'bluetooth-lowenergy': 15, 'apple-silicon': 6, 'stata': 8, 'survival-analysis': 9, 'survival': 5, 'stable-diffusion': 7, 'convolution': 7, 'audio-source': 1, 'rive': 2, 'galaxy': 1, 'jsonb': 6, 'spring-data-jdbc': 2, 'just-audio': 5, 'bash-completion': 2, 'scipy': 33, 'jaxb': 5, 'ts-jest': 6, 'superscript': 2, 'r-forestplot': 1, 'swipe': 2, 'raspberry-pi4': 18, 'ironsource': 1, 'moviepy': 7, 'rsyslog': 3, 'gnutls': 1, 'dreamhost': 1, 'nodejs-server': 4, 'flutter-scaffold': 2, 'interop': 4, 'dxgi': 2, 'reveal.js': 2, 'textview': 3, 'escpos': 4, 'testfx': 2, 'nalgebra': 2, 'infrastructure-as-code': 2, 'atlantis': 3, 'amazon-rds': 17, 'asp.net-core-signalr': 6, 'laravel-passport': 2, 'fetch': 26, 'mutual-exclusion': 1, 'sprite-kit': 3, 'remote-desktop': 6, 'zerotier': 2, 'react-fullstack': 5, 'scala-3': 5, 'smtp-auth': 2, 'window.location': 2, 'platform-specific': 1, 'screen': 6, 'twitter': 13, 'twitter-api-v1': 2, 'android-jetpack-compose-lazy-column': 1, 'adhoc': 1, 'preloading': 1, 'jit': 5, 'vision': 5, 'mathml': 1, 'status': 1, 'jparepository': 3, 'unicode': 13, 'symbols': 6, 'static-site-generation': 3, 'jamstack': 2, 'brightness': 2, 'gamma': 2, 'mpi4py': 4, 'fxml': 5, 'litedb': 1, 'boolean': 10, 'sampling': 6, 'firemonkey': 7, 'skia': 10, 'skia4delphi': 7, 'azure-communication-services': 3, 'format': 15, 'uint32-t': 1, 'peerjs': 1, 'freeze': 4, 'transparency': 1, 'windows-ce': 1, 'react-server-components': 9, 'pyflink': 2, 'ef-core-6.0': 4, 'anki': 4, 'excel-365': 6, 'android-mediaplayer': 3, 'c-preprocessor': 10, 'rust-clap': 2, 'keycloak': 41, 'multiple-columns': 8, 'find-package': 1, 'rsync': 5, 'google-slides-api': 2, 'routerlinkactive': 1, 'timescaledb': 6, 'horizon': 2, 'rich-domain-model': 1, 'angularfire2': 4, 'angularfire': 2, 'copy': 7, 'field': 6, 'acrobat': 1, 'file-writing': 1, 'nestjs-microservice': 1, 'agora.io': 5, 'subdirectory': 5, 'smbj': 2, 'gravity-forms-plugin': 2, 'gravityforms': 2, 'activerecord': 6, 'text-files': 4, 'bulk': 2, 'bam': 1, 'intellicode': 1, 'unreal-engine5': 21, 'unreal-blueprint': 6, 'mockoon': 2, 'perforce': 4, 'p4v': 2, 'perforce-integrate': 2, 'slice': 10, 'tensor': 12, 'active-directory': 15, 'real-time-multiplayer': 1, 'cypress-session': 1, 'csvhelper': 3, 'memoization': 4, 'dayjs': 1, 'avaudioplayer': 1, 'pan': 1, 'mosquitto': 4, 'paho': 1, 'detection': 5, 'rescue': 1, 'veracrypt': 1, 'sap-commerce-cloud': 1, 'tanuki': 1, 'geocoding': 3, 'marie': 3, 'xmonad': 2, 'listener': 2, 'ode': 2, 'differential-equations': 4, 'xml-binding': 1, 'holoviews': 2, 'friend': 2, 'spring-initializr': 1, 'compiler-directives': 2, 'bootstrap-modal': 7, 'prompt': 4, 'ncurses': 3, 'curses': 3, 'sharedpreferences': 6, 'updates': 4, 'react-native-deep-linking': 1, 'combobox': 10, 'transform': 6, 'micro-frontend': 4, 'pdf.js': 6, 'knockout.js': 2, 'apexcharts': 12, 'redraw': 1, 'echo': 1, 'pipeline': 16, 'alias': 8, 'jsonbuilder': 1, 'plotly-python': 15, 'plotly.js': 5, 'yolov5': 7, 'file-not-found': 2, 'cypress-grep': 1, 'rspec': 4, 'capybara': 3, 'selector': 1, 'android-adapter': 6, 'greasemonkey': 1, 'clerk': 9, 'dotnetzip': 1, 'variant': 2, 'scala-maven-plugin': 1, 'intellij-scala': 1, 'zlib': 2, 'deflate': 1, 'designer': 1, 'ip-address': 4, 'domain-name': 3, 'wazuh': 2, 'system-administration': 3, 'geotiff': 1, 'personal-access-token': 4, 'codelldb': 1, 'containers': 22, 'udp': 9, 'aiortc': 1, 'amazon-eks': 20, 'aws-application-load-balancer': 7, 'cni': 3, 'xstream': 1, 'axon': 1, 'playback': 7, 'live-streaming': 6, 'arduino-uno': 4, 'arduino-ide': 4, 'arduino-c++': 4, 'azure-cosmosdb-sqlapi': 6, 'netflix': 1, 'aws-event-bridge': 4, 'arch': 4, 'fsck': 1, 'stl': 5, 'http-redirect': 1, 'httpresponse': 3, 'login-page': 1, 'command-prompt': 4, 'boot': 6, 'airflow-2.x': 9, 'vscode-devcontainer': 6, 'path-finding': 2, 'cgcontext': 1, 'iosurface': 1, 'scalability': 2, 'rbac': 3, 'coverage.py': 3, 'cls': 3, 'cumulative-layout-shift': 1, 'protected': 2, 'ansi-escape': 1, 'xterm': 1, 'python-unicode': 2, 'comparison': 3, 'distance': 2, 'pause': 1, 'jakarta-validation': 2, 'styled-components': 5, 'pseudo-element': 1, 'njsonschema': 1, 'multi-factor-authentication': 5, 'angular-filters': 1, 'opensearch': 7, 'amazon-opensearch': 5, 'flextable': 3, 'officedown': 1, 'pivot': 14, 'easyphp': 1, 'scipy-optimize': 3, 'git-fork': 1, 'sequence': 11, 'preact-signal': 1, 'git-merge': 1, 'git-rebase': 2, 'elasticsearch-dsl': 2, 'elasticsearch-suggester': 1, 'django-elasticsearch-dsl': 1, 'arcore': 4, 'deb': 1, 'dpkg': 2, 'gekko': 4, 'android-jetpack-navigation': 5, 'pandapower': 1, 'access-violation': 3, 'cgi': 3, 'reporting-services': 10, 'odbc': 10, 'dac': 2, 'grails': 6, 'multiple-conditions': 2, 'shazam': 1, 'acrcloud': 1, 'shazamkit': 1, 'android-audio': 1, 'dompdf': 4, 'codeigniter-4': 7, 'html-to-pdf': 5, 'werkzeug': 1, 'hot-reload': 4, 'xcodebuild': 2, 'dictionary-comprehension': 2, 'python-beautifultable': 1, 'triggers': 16, 'editorconfig': 2, 'event-listener': 3, 'parallax': 1, 'ntdll': 1, 'nt': 2, 'hikaricp': 3, 'spyder': 5, 'python-polars': 25, 'google-maps-markers': 6, 'aruco': 1, 'token': 21, 'pyspark-pandas': 2, 'git-lfs': 5, 'npm-install': 15, 'falsy': 1, 'truthy': 1, 'azure-cli': 9, 'serviceconnection': 1, 'libc': 4, 'unreal': 10, 'aws-billing': 1, 'midi': 3, 'qtmultimedia': 2, 'mongoose-schema': 9, 'mobile-development': 13, 'glm-math': 5, 'freetype': 2, 'python-2.x': 1, 'cpython': 2, 'pinvoke': 3, 'strategy-pattern': 1, 'multiplatform': 1, 'darkmode': 3, 'adminer': 2, 'null': 14, 'undefined-behavior': 2, 'strava': 1, 'celery': 17, 'rsi': 2, 'pandas-ta': 2, 'nx.dev': 2, 'append': 6, 'aws-datastore': 1, 'tk-toolkit': 2, 'hex': 4, 'hsl': 1, 'roc': 3, 'kernel-module': 1, 'combinelatest': 1, 'apple-developer-account': 5, 'istio': 10, 'istio-gateway': 4, 'istio-sidecar': 2, 'servicemesh': 3, 'underscore.js': 1, 'prettier': 4, 'husky': 3, 'google-api-php-client': 2, 'ktor': 14, 'cocoa': 6, 'nstokenfield': 1, 'unity-ui': 3, 'unity-components': 1, 'macropy': 1, 'createremotethread': 1, 'swiftui-navigationlink': 5, 'target': 4, 'drop': 2, 'nextsibling': 1, 'relational-database': 3, 'kotlin-stateflow': 2, 'stdin': 3, 'r-package': 4, 'rss': 3, 'simplepie': 1, 'forecasting': 9, 'forecast': 4, 'clips': 1, 'expert-system': 1, 'at-command': 4, 'set': 10, 'chess': 6, 'minimax': 5, 'python-chess': 3, 'ggstatsplot': 2, 'devenv': 2, 'remix': 2, 'mlflow': 6, 'mlops': 5, 'swiftui-navigationstack': 2, 'win32gui': 1, 'rcp': 3, 'capacity': 3, 'roboflow': 2, 'minio-client': 1, 'formik': 9, 'pokeapi': 1, 'owl': 3, 'ontology': 3, 'protege': 2, 'ubuntu-18.04': 7, 'mediatr': 3, 'react-markdown': 3, 'duckdb': 6, 'wordpress-rest-api': 5, 'android-asynctask': 1, 'neovim-plugin': 7, 'pycord': 5, 'rounded-corners': 2, 'qtstylesheets': 3, 'nxml': 1, 'phpstorm': 12, 'bazel': 9, 'bazel-rules': 4, 'bazel-python': 1, 'mdx': 4, 'cloud-init': 3, 'compiler-construction': 8, 'computer-science': 6, 'dijkstra': 2, 'syncfusion-chart': 1, 'lyx': 1, 'google-earth-engine': 6, 'satellite': 1, 'satellite-image': 2, 'microsoft365-defender': 1, 'django-queryset': 4, 'searchqueryset': 1, 'document-view': 1, 'data-mining': 1, 'sendgrid': 5, 'mailgun': 4, 'rke': 1, 'pcl': 3, 'vtk-9.1.0': 1, 'android-room': 20, 'amazon-simple-email-service': 1, 'cryptoswift': 1, 'alarm': 3, 'expo-notifications': 2, 'expo-calendar': 1, 'chromebook': 7, 'sfx': 1, 'buildship': 1, 'spring-tools-4': 1, 'gnome': 7, 'multiple-monitors': 3, 'pusher': 4, 'webxr': 1, 'android-chrome': 1, 'setup-project': 4, 'exploit': 1, 'bigint': 2, 'agda': 1, 'dependent-type': 1, 'theorem-proving': 1, 'tuya': 4, 'pickle': 7, 'mockmvc': 3, 'hid': 3, 'cosmos-sdk': 1, 'ledger-nano-s': 1, 'agora-web-sdk-ng': 1, 'amazon-advertising-api': 1, 'javac': 2, 'xmlhttprequest': 10, 'android-source': 6, 'shipping-method': 4, 'base64': 12, 'azure-cognitive-services': 6, 'vehicle-routing': 3, 'transport': 2, 'smtp': 17, 'network-programming': 13, 'blobstorage': 1, 'blurry': 1, 'amazon-vpc': 3, 'scala-cats': 2, 'cats-effect': 2, 'multisite': 1, 'terraform-provider-azure': 8, 'delay': 5, 'qpid': 2, 'amazon-mq': 1, 'cross-compiling': 13, 'tracemalloc': 2, 'wamp-protocol': 1, 'query-by-example': 1, 'xampp-vm': 1, 'clang-format': 3, 'hql': 1, 'multiple-select': 2, 'language-server-protocol': 1, 'multiparty': 1, 'bundle-identifier': 3, 'skiasharp': 2, 'pn532': 2, 'bouncycastle': 5, 'node-jose': 1, 'range-v3': 4, 'strip-tags': 1, 'material-design': 8, 'android-toolbar': 2, 'kibana': 13, 'rtsp': 10, 'search-engine': 1, 'bing': 2, 'termux': 7, 'pyinstaller': 12, 'mp3': 6, 'm4a': 1, 'androidx': 5, 'syntax': 11, 'conditional-operator': 2, 'elvis-operator': 2, 'linear-programming': 5, 'keydown': 1, 'js-scrollintoview': 2, 'resolution': 2, 'vulkan': 10, 'aws-ssm': 8, 'ffprobe': 5, 'linker-errors': 13, 'scaling': 3, 'angular-reactive-forms': 5, 'formgroups': 1, 'angular-validation': 1, 'ef-core-7.0': 5, 'codeigniter-3': 5, 'hmvc': 1, 'magento2': 6, 'magento2.4': 3, 'google-finance': 2, 'output': 10, 'pandoc': 6, 'laravel-nova': 3, 'android-windowmanager': 3, 'android-layoutparams': 2, 'delphi-11-alexandria': 7, 'load': 3, 'mongo-driver': 1, 'resources': 8, 'psutil': 2, 'dao': 4, 'quartz': 3, 'dynamics-crm-365': 3, 'webrole': 2, 'max': 5, 'summarize': 1, 'cobol': 5, 'custom-wordpress-pages': 8, 'fast-ai': 2, 'gulp': 1, 'alpine.js': 7, 'resnet': 2, 'siamese-network': 2, 'typescript-typings': 6, 'docker-multi-stage-build': 2, 'associative-array': 2, 'phpstan': 2, 'cloudkit': 7, 'text-extraction': 6, 'themes': 17, 'oh-my-posh': 1, 'react-native-splash-screen': 3, 'binary-tree': 18, 'composer-php': 13, 'algolia': 2, 'css-animations': 11, 'predicate': 1, 'gomoku': 1, 'monads': 2, 'monoids': 1, 'texture-mapping': 3, 'normals': 3, 'pbr': 2, 'sapb1': 3, 'geometryreader': 1, 'lazyvgrid': 2, 'taskcompletionsource': 1, 'c#-4.0': 4, 'zedgraph': 3, 'pyserial': 2, 'cpu-registers': 5, 'robotframework': 18, 'conky': 1, 'temperature': 2, 'connectexception': 1, 'headless': 3, 'genexus': 2, 'constructor': 21, 'promise': 20, 'django-crispy-forms': 1, 'q-learning': 3, 'modal-dialog': 9, 'gsm': 5, 'django-filter': 4, 'python-3.10': 6, 'keycloak-rest-api': 5, 'django-4.1': 1, 'virtuoso': 1, 'mounted-volumes': 1, 'async.js': 2, 'automotive': 2, 'jwplayer': 3, 'gpu-shared-memory': 1, 'serverxmlhttp': 1, 'freertos': 4, 'android-gridlayout': 2, 'oracle11g': 10, 'spring-annotations': 1, 'draftjs': 3, 'react-draft-wysiwyg': 1, 'jasmine': 4, 'karma-runner': 2, 'oledbdestination': 1, 'ib-api': 1, 'file-conversion': 3, 'opencv3.0': 2, 'headless-ui': 1, 'next-intl': 3, 'fpm': 2, 'cl.exe': 1, 'bundler': 3, 'gemfile': 3, 'gemfile.lock': 2, 'picamera': 2, 'distributed-system': 6, 'angular-animations': 3, 'alamofire': 1, 'select-for-update': 2, 'documentation': 8, 'dapper': 9, 'or-tools': 7, 'cp-sat': 6, 'ktor-client': 3, 'npm-scripts': 1, 'http-get': 2, 'ipv4': 4, 'erlang': 2, 'specifications': 1, 'dialyzer': 1, 'masm32': 1, 'audiosession': 1, 'react-native-reanimated': 5, 'metro-bundler': 4, 'react-native-reanimated-v2': 3, 'expo-web': 1, 'getattr': 2, 'intl': 1, 'iot': 14, 'google-home': 4, 'google-smart-home': 3, 'dart-pub': 4, 'kdb': 6, 'wicket': 1, 'programmatically-created': 1, 'ckeditor': 13, 'ckeditor5': 12, 'android-viewpager': 8, 'logstash': 8, 'logstash-filter': 1, 'mediarecorder': 4, 'mediastream': 3, 'tiled': 1, 'flame': 2, 'forge2d': 1, 'themoviedb-api': 2, 'zeromq': 2, 'py2exe': 1, 'passport-local': 3, 'passport-local-mongoose': 1, 'dummy-data': 1, 'argocd': 11, 'gitops': 3, 'symbolic-math': 2, 'caliburn.micro': 2, 'nrwl-nx': 5, 'nrwl': 2, 'nomachine-nx': 6, 'sidebar': 5, 'visual-studio-2017': 3, 'crystal-reports': 8, 'varint': 1, 'fastlane': 1, 'entity-framework-migrations': 6, 'jsxgraph': 1, 'content-management-system': 5, 'bitrix': 2, 'odata': 5, 'tabs': 12, 'custom-functions-excel': 1, 'angularjs-directive': 2, 'double-click': 1, 'right-click': 2, 'code-analysis': 1, 'rollupjs': 4, 'helmet.js': 2, 'yii': 5, 'yii2-advanced-app': 3, 'spring-boot-testcontainers': 2, 'npm-cache': 1, 'fbsdksharedialog': 1, 'xiaomi': 3, 'miui': 2, 'windows-scripting': 4, 'azure-api-management': 5, 'azure-traffic-manager': 1, 'aws-route53': 1, 'size': 3, 'antlr4': 7, 'raytracing': 3, 'airflow-taskflow': 1, 'awesome-notifications': 1, 'swiftui-table': 1, 'emgucv': 4, 'localization': 11, 'laravel-localization': 1, 'backpropagation': 1, '2d-games': 2, 'gdscript': 11, 'streamcontroller': 1, 'socket.io-client': 3, 'angular-material2': 1, 'serverless': 15, 'next-i18next': 2, 'uninstallation': 2, 'openxml-sdk': 2, 'monaco-editor': 7, 'file-transfer': 1, 'lan': 2, 'mit-scratch': 2, 'http-status-code-429': 1, 'nonce': 1, 'salesforce': 20, 'apex': 7, 'soql': 1, 'salesforce-communities': 2, 'bulkupdate': 1, 'entity-relationship': 1, 'diagram': 9, 'matplotlib-animation': 3, 'hash': 16, 'cloudsim': 1, 'jquery-select2': 7, 'jquery-select2-4': 1, 'call': 3, 'voice': 5, 'agora-implementation': 2, 'circleci': 3, 'circleci-orb': 1, 'amazon-sns': 12, 'serial-number': 1, 'django-database': 3, 'django-imagekit': 1, 'wrapper': 3, 'compiler-bug': 5, 'dependencies': 27, 'mysql-5.7': 1, 'mysql-8.0': 3, 'android-ffmpeg': 1, 'vosk': 2, 'plpgsql': 5, 'bonobo': 2, 'spotify': 9, 'igraph': 4, 'python-typing': 11, 'docker-api': 1, 'dockerode': 1, 'spring-boot-starter': 1, 'mongo-shell': 3, 'mongodb-update': 1, 'core-data-migration': 2, 'cursor': 6, 'x-dwm': 1, 'banner': 3, 'jtable': 3, 'pyqt4': 1, 'swiftpm': 1, 'beanshell': 5, 'imagej-macro': 1, 'flutter-image': 3, 'flutter-container': 4, 'flutter-stacked': 4, 'precision': 4, 'keyboard-shortcuts': 11, 'browser-extension': 4, 'self-hosting': 2, 'namecheap': 2, 'preact': 3, 'automatic-semicolon-insertion': 1, 'deno-fresh': 1, 'esp8266wifi': 3, 'executorservice': 4, 'executor': 1, 'init': 3, 'kubelet': 1, 'move': 5, 'flutter-streambuilder': 3, 'quickblox': 1, 'rsa': 8, 'azure-keyvault': 9, 'data-distribution-service': 2, 'px4': 1, 'autopilot': 1, 'latex': 13, 'streamreader': 1, 'filepond': 2, 'tic-tac-toe': 5, 'aedes': 1, 'data-transfer': 3, 'activemq': 5, 'apache-nms': 2, 'inversion-of-control': 1, 'require': 1, 'windows-mixed-reality': 2, 'openxr': 1, 'each': 1, 'assemblyfileversion': 1, 'twitter-bootstrap-3': 2, 'code-readability': 1, 'dropdown': 20, 'submenu': 2, 'instaloader': 1, 'quill': 9, 'palindrome': 1, 'mitmproxy': 1, 'http-toolkit': 1, 'qtwebengine': 2, 'gpt-3': 3, 'plaid': 3, 'crm': 3, 'ngrx-effects': 3, 'ghostscript': 5, 'imagick': 3, '.net-4.8': 7, 'windows-forms-designer': 3, 'windows-server': 3, 'deep-copy': 2, 'memorycache': 1, 'mesh': 7, 'point-clouds': 6, 'triangle': 3, 'rate-limiting': 11, 'chatterbot': 1, 'android-virtual-device': 8, 'fastify': 2, 'lit': 1, 'unbounded-wildcard': 1, 'windows-authentication': 9, 'pyqgis': 1, 'proj': 1, 'seleniumwire': 2, 'cross-entropy': 2, 'natural-logarithm': 1, 'hibernate-envers': 5, 'rename': 6, 'libconfig': 1, 'abstract-class': 9, 'abstract': 4, 'typescript-types': 2, 'webpack-loader': 1, 'linux-device-driver': 9, 'ethernet-phy': 2, 'netlify': 17, 'alexa-presentation-language': 2, 'rocket.chat': 1, 'elixir-iex': 1, 'symfony-forms': 3, 'clang-tidy': 4, 'react-functional-component': 3, 'sharepoint-list': 4, 'xsd': 5, 'restriction': 2, 'signals': 11, 'effects': 3, 'circular-dependency': 5, 'abstractuser': 1, 'fortran': 11, 'qtabwidget': 2, 'airflow-xcom': 2, 'service': 19, 'cookie-session': 1, 'homescreen': 1, 'pow': 2, 'gamma-distribution': 1, 'proportions': 1, 'glmm': 1, 'mikrotik': 3, 'stanford-nlp': 2, 'android-studio-3.0': 3, 'default-constructor': 1, 'zod': 11, 'visual-web-developer-2010': 1, 'twint': 1, 'slack-api': 10, 'slack-bolt': 5, 'complex-numbers': 2, 'activation-function': 3, 'wait': 3, 'table-per-type': 1, 'aframe': 5, 'webvr': 1, 'pyodbc': 4, 'google-search-console': 4, 'renderer': 5, 'capistrano': 3, 'nested-loops': 5, 'spring-boot-actuator': 5, 'screenshot': 7, 'ui-automation': 16, 'microsoft-translator': 1, 'microsoft-entra-id': 13, 'xslt-1.0': 6, 'interactive': 3, 'ipyleaflet': 3, 'watermark': 5, 'pyaudio': 3, 'runtime-packages': 1, 'delphi-3': 1, 'stringr': 5, 'mybatis': 5, 'mybatis-plus': 3, 'temp-tables': 4, 'thumbnails': 5, 'debezium': 2, 'debezium-engine': 1, 'debezium-connect': 2, 'facet-wrap': 2, 'ggdist': 1, 'matlab-guide': 4, 'matlab-deployment': 1, 'm': 6, 'google-forms': 8, 'angular14': 7, 'angular-route-guards': 1, 'meta-tags': 5, 'ms-yarp': 1, 'stringstream': 1, 'saucelabs': 2, 'form-data': 4, 'ninja': 4, 'nearprotocol': 1, 'ms-office': 6, 'big-o': 6, 'wikipedia': 1, 'zos': 6, 'pull-request': 6, 'github-api': 11, 'kubectl': 10, 'gitlab-api': 2, 'pytorch-lightning': 5, 'floating-action-button': 3, 'amazon-comprehend': 2, 'setuptools': 5, 'pyproject.toml': 4, 'laravel-9': 15, 'azure-virtual-machine': 5, 'azure-cloud-services': 1, 'custom-error-handling': 1, 'notify-send': 1, 'guidewire': 5, 'spring-restcontroller': 1, 'positioning': 2, 'twitch': 3, 'twitch-api': 2, 'system-calls': 7, 'azure-private-link': 4, 'android-compose-textfield': 4, 'vsvim': 1, 'azure-storage': 4, 'message-channel': 1, 'capstone': 1, 'aac': 1, 'cypress-iframe': 1, 'header-files': 9, 'include-path': 1, 'c#-8.0': 2, 'nullable-reference-types': 4, 'jsonnode': 1, 'google-cloud-transcoder': 1, 'google-drive-shared-drive': 2, 'aes': 4, 'babel-jest': 3, 'pandas-datareader': 1, 'circular-reference': 2, 'anti-patterns': 1, 'windows-sandbox': 1, 'inputstream': 3, 'jackson-databind': 1, 'jackson-dataformat-yaml': 1, 'react-admin': 5, 'sikuli-x': 2, 'flatlist': 2, 'messenger': 1, 'distributed-transactions': 2, 'openweathermap': 4, 'flet': 9, 'audio-recording': 3, 'low-level': 5, 'screen-recording': 3, 'ts-node': 5, 'arel': 1, 'circos': 2, 'visual-studio-debugging': 7, 'applet': 2, 'composite': 2, 'levenshtein-distance': 2, 'android-sqlite': 4, 'get-request': 1, 'pdf2json': 1, 'pyenv': 7, 'pyenv-virtualenv': 1, 'wasm-bindgen': 2, 'rust-wasm': 1, 'trunk-rs': 2, 'argon2-ffi': 1, 'apscheduler': 4, 'pyright': 6, 'pug': 2, 'lighttpd': 1, 'gitweb': 1, 'apparmor': 1, 'testcafe': 2, 'web-audio-api': 4, 'dfm': 1, 'cfc': 1, 'mongo-express': 3, 'product': 13, 'certificate-pinning': 1, 'android-network-security-config': 2, 'tunneling': 1, 'beagleboneblack': 1, 'xinu': 1, 'moving-average': 4, 'mbed': 2, 'nucleo': 2, 'k8s-serviceaccount': 1, 'summarization': 1, 'google-search': 5, 'wcf': 5, 'spnego': 3, 'objective-c++': 2, 'tibble': 3, 'saml-2.0': 7, 'itfoxtec-identity-saml2': 4, 'android-alertdialog': 7, 'r-mice': 2, 'propensity-score-matching': 1, 'timer': 17, 'pwm': 1, 'ggplotly': 4, 'parallel-coordinates': 2, 'fuzzyjoin': 1, 'animatewithduration': 1, 'nginx-ingress': 7, 'bare-metal-server': 1, 'folium-plugins': 2, 'easy68k': 1, 'permutation': 8, 'array-comparison': 1, 'elasticsearch-plugin': 1, 'sprite': 3, 'phaser-framework': 6, 'phaserjs': 4, 'multihead-attention': 1, 'diffusers': 1, 'template-meta-programming': 3, 'shinyapps': 5, 'rsconnect': 1, 'cics': 1, 'commarea': 1, 'azure-java-sdk': 1, 'certificate-store': 1, 'restore': 5, 'disaster-recovery': 2, 'azure-regions': 1, 'microsoft-planner': 2, 'external-tables': 3, 'grob': 1, 'debugpy': 1, 'userscripts': 2, 'sinon': 4, 'lzw': 2, 'gitpod': 1, 'remote-development': 1, 'jetbrains-gateway': 2, 'html-entities': 1, 'react-helmet': 1, 'nestjsbull': 1, 'tpu': 5, 'burp': 3, 'ursina': 8, 'shopify-app': 2, 'remix.run': 6, 'graphql-js': 1, 'rolling-average': 1, 'mod-wsgi': 2, 'apache2.4': 2, 'std-ranges': 3, 'c++23': 6, 'timestamp': 17, 'diff': 4, 'slurm': 3, 'sbatch': 1, 'centos': 8, 'vertices': 2, 'flutter-native': 2, 'primeflex': 1, 'linechart': 5, 'bootcamp': 1, 'spring-security-rest': 1, 'connect': 2, 'youtrack': 1, 'gtag.js': 1, 'docker-swarm': 4, 'contentview': 2, 'crud': 7, 'raspberry-pi-os': 1, 'json-patch': 1, 'synchronization': 8, 'cdc': 2, 'apache-nifi': 14, 'get-childitem': 1, 'mollie': 1, 'semantic-release': 3, 'google-cloud-dns': 3, 'nfc': 5, 'http-status-code-500': 3, 'knex.js': 8, 'html5-audio': 5, 'audio-streaming': 7, 'ms-access-2013': 1, 'vba7': 4, 'ms-forms': 1, 'riverpod-generator': 1, 'hierarchyid': 1, 'python-requests-html': 2, 'flutter-exception': 1, 'flutter-responsive-layout': 1, 'center': 2, 'immutability': 3, 'encapsulation': 1, 'spring-websocket': 6, 'travel-time': 2, 'refresh': 4, 'hsts': 1, 'missing-data': 1, 'gganimate': 1, 'complexity-theory': 3, 'reduction': 1, 'hamiltonian-path': 1, 'bolt': 1, 'neo4j-driver': 1, 'neptune': 1, 'openframeworks': 1, 'hololens': 6, 'mrtk': 2, 'touchstart': 1, 'hide': 7, 'multilevel-analysis': 1, 'panelr': 1, 'h.264': 4, 'rtp': 1, 'stm32f4': 2, 'actionscript': 2, 'google-datalayer': 2, 'open-source': 13, 'application.properties': 2, 'shinylive': 1, 'vaadin': 8, 'hilla': 1, 'raspberry-pi3': 8, 'paypal-sandbox': 5, 'paypal-ipn': 3, 'paypal-rest-sdk': 5, 'paypal-subscriptions': 1, 'quantile': 2, 'cobalt': 3, 'weighting': 1, 'litespeed': 2, 'hydration': 4, 'client-side-rendering': 1, 'row': 12, 'sql-server-data-tools': 1, 'libvlc': 3, 'marquee': 1, 'python-vlc': 2, 'blacklist': 1, 'tcpserver': 3, 'seq2seq': 2, 'blit': 1, 'hadoop3': 1, 'flutter-go-router': 12, 'azure-cognitive-search': 12, 'aws-batch': 2, 'matchit': 1, 'css-selectors': 12, 'primeng-dropdowns': 2, 'android-auto': 5, 'pdflib': 1, 'displacy': 1, 'range-based-loop': 2, 'mvp': 1, 'projects-and-solutions': 1, 'verification': 4, 'setstate': 6, 'state-management': 8, 'microsoft-oauth': 1, 'panic': 1, 'google-places-autocomplete': 4, 'oracle10g': 2, 'kibana-7': 2, 'system32': 1, 'emscripten': 2, 'non-linear-regression': 3, 'laravel-echo': 1, 'sdn': 2, 'ipsec': 3, 'strongswan': 2, 'factor-analysis': 1, 'qualcomm': 4, 'flutter-inappwebview': 4, 'appendchild': 2, 'postgresql-9.4': 2, 'usagestatsmanager': 1, 'macros': 25, 'referenceerror': 1, 'unit-of-work': 1, 'xunit.net': 2, 'footer': 4, 'haproxy': 7, 'angular-material-table': 1, 'skija': 1, 'ingress-controller': 3, 'openvpn': 2, 'linq-to-xml': 4, 'hard-drive': 2, 'usb-drive': 4, 'loader': 1, 'datetime-format': 3, 'pass-by-reference': 7, 'computational-geometry': 4, 'closest-points': 1, 'python-multiprocessing': 11, 'psycopg2': 8, 'phpseclib': 2, 'redux-persist': 3, 'fusion360': 1, 'terraform-provider-aws': 15, 'http-status-code-401': 6, 'flask-sqlalchemy': 15, 'tableau-api': 2, 'dashboard': 8, 'openedge': 1, 'progress-4gl': 1, 'busboy': 1, 'gensim': 1, 'distributed': 1, 'openai-gym': 4, 'react-scroll': 2, 'google-play-internal-testing': 1, 'laravel-auditing': 1, 'export-to-excel': 5, 'httpd.conf': 2, 'livenessprobe': 1, 'crud-repository': 1, 'htmx': 12, 'message-queue': 8, 'android-koin': 1, 'nullable': 2, 'overwrite': 1, 'windows-defender': 2, 'rom': 1, 'wacom': 1, 'webhid': 1, 'finite-element-analysis': 2, 'siemens': 2, 'siemens-nx': 1, 'ios-universal-links': 5, 'universal-link': 3, 'azureservicebus': 6, 'azure-servicebus-queues': 3, 'react-forwardref': 4, 'react-phone-number-input': 1, 'sourceforge-appscript': 3, 'xv6': 1, 'browsermob-proxy': 1, 'array-formulas': 7, 'mediawiki': 4, 'json-ld': 1, 'kedro': 2, 'storyboard': 6, 'eventtrigger': 1, 'samsung-galaxy': 2, 'southeast-asian-languages': 1, 'compression': 12, 'database-connectivity': 2, 'jetpack': 7, 'gdprconsentform': 3, 'terraform-cloud': 1, 'mongodb-.net-driver': 5, 'amazon-elastic-beanstalk': 15, 'ebextensions': 1, 'controls': 9, 'analysis': 5, 'survey': 7, 'mutt': 1, 'gnus': 1, 'gpt-4': 6, 'web-deployment-project': 1, 'alpine-linux': 5, 'gt': 4, 'social-networking': 3, 'python-unittest': 6, 'django-tests': 4, 'shinywidgets': 4, 'aws-codepipeline': 4, 'rcpp': 4, 'bookdown': 4, 'code-folding': 2, 'laravel-dusk': 3, 'awk': 7, 'particles': 2, 'aiohttp': 5, 'azure-ai': 3, 'git-husky': 2, 'reportlab': 1, 'parallel-foreach': 1, 'google-fit': 3, 'google-fitness-api': 1, 'install.packages': 1, 'liquibase-sql': 1, 'plotly-express': 1, 'flutter-hooks': 1, 'tinymce': 7, 'ignite-ui-angular': 3, 'java-17': 22, 'unsupported-class-version': 1, 'corretto': 2, 'trigonometry': 6, 'raycasting': 3, '2.5d': 1, 'java-ee-8': 1, 'wildfly-26': 1, 'whitespace': 5, 'angular-forms': 5, 'tsconfig': 6, 'strictnullchecks': 1, 'popen': 1, 'cx-freeze': 1, 'adbwireless': 1, 'path-variables': 2, 'mainframe': 3, 'jcl': 2, 'oninput': 2, 'unordered-map': 2, 'sqlplus': 2, 'itext7': 7, 'text-classification': 6, 'peft': 4, 'laravel-5': 7, 'barcode': 5, 'onbeforeunload': 2, 'pytube': 1, 'certbot': 4, 'svelte-3': 1, 'svelte-component': 2, 'busybox': 2, 'public-key-encryption': 3, 'esp-now': 1, 'stable-baselines': 2, 'react-beautiful-dnd': 3, 'metrics': 6, 'otlp-grpc': 2, 'azure-app-configuration': 4, 'azure-feature-manager': 3, 'pentaho-data-integration': 4, 'shinydashboard': 10, 'gns3': 1, 'sequencing': 3, 'verilog': 11, 'sumifs': 4, 'jsonelement': 1, 'fsm': 1, 'ownership': 1, 'android-architecture-navigation': 2, 'fortify': 2, 'casa': 3, 'confluence': 4, 'save': 10, 'admin-ajax': 1, 'qtablewidget': 1, 'flux': 3, 'cudnn': 3, 'gorilla': 2, 'python-sphinx': 9, 'project-reactor': 6, 'operator-overloading': 4, 'multicastdelegate': 1, 'microsoft-edge': 7, 'tensorflow-model-garden': 1, 'xlib': 3, 'cython': 4, 'cythonize': 2, 'python-sounddevice': 1, 'microcontroller': 16, 'embedded-resource': 4, 'locking': 11, 'hlsl': 5, 'compute-shader': 9, 'basic-authentication': 4, 'tomcat8': 5, 'ib-insync': 2, 'annotation-processing': 3, 'acumatica': 5, 'database-restore': 1, 'rights': 1, 'fastapiusers': 4, 'fastapi-crudrouter': 1, 'expired-sessions': 1, 'tfs': 5, 'rowdetails': 1, 'pem': 1, 'rhel': 2, 'firewalld': 1, 'swiftcharts': 1, 'phpunit': 3, 'connected-services': 1, 'powershell-remoting': 1, 'cupy': 6, 'ios17': 6, 'react-day-picker': 2, 'nlohmann-json': 1, 'itext': 12, 'kubernetes-networking': 2, 'dos': 3, 'dosbox': 3, 'graphviz': 3, 'offset': 4, 'nonblank': 2, 'xlwings': 4, 'radzen': 1, 'web-worker': 7, 'weblogic11g': 1, 'spring-cloud-function': 1, 'mpsc': 1, 'locust': 1, 'codespaces': 1, 'threshold': 2, 'webapi': 11, 'laragon': 2, 'private-key': 3, 'deterministic': 2, 'tink': 3, 'sql-grant': 2, 'powermail': 1, 'typo3-12.x': 4, 'etrade-api': 1, 'nsjsonserialization': 1, 'json-annotation': 1, 'formbuilder': 1, 'fiware-orion': 1, 'endianness': 3, 'uint16': 1, 'mergesort': 3, 'kiosk-mode': 1, 'youtube-data-api': 17, 'azure-maps': 2, 'android-viewmodel': 8, 'currency': 4, 'java-money': 2, 'mathcontext': 1, 'swc': 1, 'real-mode': 1, 'x87': 1, 'xai': 2, 'fullcalendar': 9, 'mockserver': 2, 'renewal': 1, 'com-interop': 1, 'microsoft-ui-automation': 1, 'aggregate-functions': 9, 'modelica': 6, 'openmodelica': 5, 'nvim-lspconfig': 2, 'glm': 4, 'polybase': 2, 'oculus': 1, 'libvlcsharp': 2, 'oculusquest': 1, 'vlc-unity': 1, 'vscode-remote-ssh': 2, 'facebook-permissions': 1, 'scheduled-tasks': 13, 'windows-task-scheduler': 8, 'fractals': 3, 'python-pptx': 4, 'angular-ngselect': 3, 'handlebars.js': 7, 'bigcommerce': 2, 'page-refresh': 1, 'bigcommerce-stencil-cli': 1, 'eclipse-plugin': 2, 'struts2': 3, 'micro-optimization': 2, 'event-bubbling': 1, 'fixed-width': 1, 'rust-polars': 6, 'boost': 18, 'boost-json': 1, 'django-allauth': 3, 'postscript': 2, 'vertex-ai-search': 2, 'aws-msk': 7, 'confluent-kafka-dotnet': 3, 'panda3d': 1, 'visual-studio-setup-proje': 4, 'bufferedreader': 3, 'processbuilder': 4, 'copy-paste': 7, 'libreoffice-calc': 1, 'libreoffice-basic': 2, 'logitech': 4, 'right-to-left': 1, 'gesture-recognition': 1, 'pihole': 2, 'resolv': 1, 'cowplot': 1, 'ggsave': 1, 'ggh4x': 1, 'cox': 3, 'qnx': 1, 'node-csv-parse': 1, 'fast-csv': 1, 'concurrent.futures': 3, 'process-pool': 1, 'qcombobox': 2, 'selenoid': 1, 'decomposition': 4, 'periodicity': 1, 'ssa': 2, 'ffi': 6, 'ttk': 4, 'datamodel': 3, 'unix-timestamp': 2, 'naming': 1, 'antlr': 3, 'gdb': 17, 'binary-search-tree': 7, 'toplevel': 2, 'focusout': 1, 'return-value': 4, 'calloc': 1, 'cache-control': 1, 'jsonresult': 1, 'stm32f7': 2, 'time-complexity': 10, 'unreal-engine4': 5, 'utility': 1, 'fvp': 1, 'docker-for-windows': 2, 'oracleclient': 1, 'edt': 1, 'apache-commons-lang3': 1, 'flot': 2, 'event-channel': 2, 'k6': 8, 'python-socketio': 4, 'manifest': 4, 'clickonce': 1, 'code-signing': 8, 'sublimetext3': 2, 'rasa-nlu': 1, 'rasa-core': 1, 'rasa-x': 1, 'rasa-sdk': 1, 'memory-profiling': 2, 'tekton': 2, 'tekton-pipelines': 3, 'owasp': 2, 'protected-mode': 1, 'spring-boot-test': 5, 'powerapps': 16, 'android-manifest': 10, 'huawei-mobile-services': 3, 'androidexported': 1, 'cordova': 10, 'hybrid-mobile-app': 4, 'cordova-admob': 1, 'gstat': 1, 'adobe': 9, 'adobe-illustrator': 3, 'flux-influxdb': 3, 'chronograf': 1, 'lidar': 2, 'hl7-fhir': 4, 'epic': 3, 'openehr': 1, 'vuex': 3, 'freeglut': 1, 'geoserver': 1, 'getfeatureinfo': 1, 'hcl': 2, 'mismatch': 4, 'db-first': 2, 'sublimetext': 3, 'dtd': 1, 'spring-integration-mail': 2, 'interpolation': 5, 'datastage': 3, 'yup': 9, 'extbase': 1, 'typo3-11.x': 2, 'extension-builder3': 1, 'podofo': 1, 'createelement': 2, 'multilabel-classification': 3, 'event-arc': 1, 'breadcrumbs': 1, 'sfinae': 4, 'parameter-pack': 3, 'measure': 11, 'jq': 5, 'pymunk': 5, 'joystick': 2, 'gamepad': 3, 'azure-functions-isolated': 2, 'kpi': 1, 'statistical-test': 1, 'serial-port': 8, 'asn.1': 1, 'ecdsa': 1, 'p1363': 1, 'grid-layout': 1, 'bootstrap-cards': 1, 'rapier-3d': 2, 'gimp': 2, 'youtube': 14, 'sim7600': 1, 'word2vec': 2, 'traffic': 2, 'system-verilog': 6, 'daphne': 6, 'asgi': 3, 'col': 2, 'varbinary': 1, 'google-books': 1, 'google-books-api': 1, 'angular-dependency-injection': 2, 'udl': 1, 'map-projections': 1, 'world-map': 1, 'string-interpolation': 1, 'secrets': 2, 'codemagic': 2, 'multiple-instances': 2, 'pyttsx3': 2, 'dark-theme': 1, 'visnetwork': 1, 'react-vis-network': 1, 'overload-resolution': 3, 'counting-sort': 1, 'remote-access': 16, 'terminology': 3, 'ggpubr': 5, 'rstatix': 7, 'sms': 4, 'celerybeat': 1, 'command-line-arguments': 4, 'ada': 2, 'property-injection': 1, 'aunit': 1, 'huggingface': 23, 'ibm-cloud': 2, 'python-c-api': 1, 'htop': 3, 'php-7.3': 2, 'z-order': 1, 'visual-glitch': 1, 'between': 2, 'pdf-lib.js': 3, 'screen-resolution': 1, 'screen-size': 2, 'singleton': 4, 'grouping': 2, 'counter': 4, 'boto3': 11, 'pyodide': 5, 'flutter-integration-test': 4, 'hfp': 1, 'infineon': 1, 'android-animation': 4, 'distributed-computing': 4, 'superuser': 1, 'speech': 1, 'google-speech-api': 1, 'google-cloud-speech': 3, 'unique': 7, 'dma': 5, 'stm32h7': 5, 'block': 6, 'ats': 1, 'aec': 1, 'dto': 2, 'abp': 10, 'applicationservice': 1, 'timber': 1, 'wpml': 1, 'alignment': 10, 'caplog': 1, 'xbrl': 2, 'app-store': 12, 'domain-model': 1, 'properties': 15, 'spring-cloud-config-server': 2, 'geofencing': 3, 'geofence': 1, 'django-mysql': 1, 'delta-lake': 9, 'pact': 3, 'livechat': 1, 'clipboard': 3, 'pull-to-refresh': 2, 'drive': 1, 'terraform-template-file': 2, 'azure-rm': 2, 'memory-bandwidth': 1, 'large-data': 5, 'multikey': 1, 'solana-web3js': 7, 'solana-program-library': 1, 'solana-transaction-instruction': 3, 'react-navigation-stack': 3, 'azure-artifacts': 3, 'data-files': 1, 'pg-dump': 2, 'webclient': 3, 'systemd': 3, 'mpandroidchart': 1, 'palantir-foundry': 2, 'foundry-code-repositories': 2, 'elementtree': 3, 'mediacapture': 1, 'repo': 3, 'msal.js': 4, 'depends': 1, 'libssl': 2, 'azure-rest-api': 1, 'azure-triggers': 1, 'electron-builder': 11, 'auto-update': 3, 'electron-updater': 2, 'react-apexcharts': 3, 'timezone': 12, 'momentjs': 3, 'timezone-offset': 1, 'moment-timezone': 1, 'transform-feedback': 1, 'pytorch-geometric': 2, 'scenegraph': 1, 'intacct': 1, 'robot': 4, 'kalman-filter': 1, 'apacheds': 1, 'apache-directory': 1, 'copy-constructor': 2, 'django-settings': 1, 'django-cors-headers': 4, 'google-coral': 2, 'htmltools': 1, 'numba': 7, 'mode': 1, 'airflow-webserver': 3, 'code-cleanup': 1, 'teradata': 3, 'informatica': 3, 'ec2-ami': 1, 'gutenberg-blocks': 3, 'distributed-tracing': 4, 'open-telemetry-java': 3, 'publish-subscribe': 7, 'mavlink': 1, 'datatables': 6, 'hashicorp': 4, 'luigi': 1, 'rank': 1, 'github-desktop': 1, 'spring-data-cassandra': 3, 'pydantic-v2': 4, 'aws-codebuild': 6, 'aws-code-deploy': 2, 'clip-path': 6, 'uuid': 2, 'layer': 6, 'metafor': 3, 'xlsxwriter': 2, 'freeswitch': 3, 'fusionpbx': 2, 'firebird': 4, 'auto-increment': 3, 'firebird-4.0': 1, 'vpc-endpoint': 1, 'zimbra': 3, 'zimbra-talk': 1, 'subscription': 6, 'strawberry-graphql': 2, 'pscustomobject': 1, 'ros': 14, 'qt-quick': 3, 'onload-event': 1, 'slack': 10, 'argocd-notification': 1, 'vfs': 1, 'virtualfilesystem': 1, 'macfuse': 2, 'kendo-ui': 6, 'setinterval': 3, 'git-rewrite-history': 1, 'powerapps-canvas': 4, 'powerapps-formula': 3, 'workbench': 1, 'spigot': 7, 'sumologic': 1, 'excel-charts': 3, 'excel-pivot': 1, 'msal-angular': 4, 'administrator': 1, 'spring-thymeleaf': 5, 'sanic': 1, 'flowable': 2, 'shared-variable': 1, 'object-class': 1, 'drawable': 1, 'picasso': 2, 'precision-recall': 2, 'ssrs-2008-r2': 1, 'listitem': 2, 'subreport': 1, 'https-proxy-agent': 1, 'llc': 1, 'spring-mongodb': 1, 'gpio': 3, 'twilio-flow': 1, 'rounding': 5, '360-degrees': 1, 'vhdl': 19, 'parameter-passing': 5, 'strcat': 1, 'class-diagram': 2, 'umbrello': 1, 'windows-7': 3, 'gridsplitter': 2, 'std-span': 1, 'pre-commit.com': 5, 'maui-blazor': 5, 'maui-windows': 5, 'flutter-appbar': 1, 'frequency': 4, 'structure': 5, 'pointer-arithmetic': 1, 'execl': 1, 'sidekiq': 5, 'draw.io': 1, 'executable-jar': 2, 'browser-automation': 3, 'sylius': 2, 'drop-down-menu': 8, 'one-definition-rule': 1, 'plagiarism-detection': 2, 'copyleaks-api': 1, 'unleash': 1, 'arbitrary-precision': 1, 'rpy2': 2, 'demandware': 1, 'salesforce-commerce-cloud': 1, 'ovh': 3, 'react-quill': 4, 'opc-ua': 6, 'node-opcua': 1, 'open62541': 1, 'appwrite': 4, 'signature': 3, 'ansible-role': 1, 'urbanairship.com': 2, 'dhcp': 1, 'azure-cosmosdb-mongoapi': 1, 'one-to-many': 4, 'audio-device': 2, 'function-pointers': 2, 'git-push': 2, 'typer': 1, 'selenium-remotedriver': 1, 'xhtml2pdf': 2, 'pisa': 1, 'registry': 3, 'windows-server-2012': 1, 'instance': 7, 'dill': 1, 'iasyncenumerable': 1, 'configureawait': 1, 'ms-media-foundation': 3, 'material-react-table': 4, 'openedx': 1, 'edx': 1, 'id-card': 1, 'apache-karaf': 1, 'wix4': 3, 'botframework': 7, 'dev-tunnels': 1, 'hlk': 3, 'tally': 2, 'cytoscape.js': 1, 'rdp': 2, 'remote-control': 2, 'aasa': 1, 'microsoft-teams-js': 2, 'photo': 2, 'ftdi': 2, 'dsa': 2, 'collaboration': 2, 'openmax': 1, 'palette': 2, 'avro': 4, 'react.memo': 1, 'custom-fields': 1, 'specflow': 2, 'html-lists': 4, 'sap-business-one-di-api': 1, 'high-availability': 3, 'android-vitals': 1, 'load-time-weaving': 1, 'nsubstitute': 1, 'graphql-python': 1, 'alfresco': 3, 'alfresco-content-repository': 1, 'pie-chart': 4, 'ios-charts': 1, 'repository': 9, 'push': 1, 'parse-platform': 2, 'parse-server': 1, 'saprfc': 2, 'netweaver': 1, 'ambari': 1, 'hiveserver2': 1, 'nsight': 1, 'parameters': 14, 'yum': 4, 'python-2.6': 1, 'scoop-installer': 2, 'trace': 5, 'frida': 6, 'object-tracking': 2, 'pywinauto': 4, 'rdflib': 1, 'session-storage': 2, 'hidden': 2, 'iterable': 1, 'edge-detection': 1, 'userid': 1, 'video-editing': 2, 'delta-live-tables': 7, 'azure-iot-hub': 7, 'azure-iot-dps': 2, 'openjdk-21': 2, 'azure-bicep': 15, 'json-api': 1, 'encode': 4, 'tokenize': 2, 'sentencepiece': 1, 'histogram': 9, 'modelsim': 1, 'amcharts': 3, 'amcharts5': 1, 'enterprise-guide': 1, 'vue-select': 1, 'gps': 6, 'catia': 3, 'apple-appclips': 1, '.net-framework-version': 2, 'jupyter-lab': 16, 'removing-whitespace': 2, 'pam': 1, 'display-manager': 1, 'nswindow': 1, 'mapi': 1, 'nitro': 1, 'wmi': 6, 'cim': 1, 'mi': 1, 'onesignal': 9, 'react-native-onesignal': 3, 'anonymous-class': 1, 'telethon': 7, 'put': 1, 'vue-chartjs': 2, 'bitbucket': 9, 'azcopy': 1, 'bigcommerce-checkout-sdk': 1, 'function-definition': 1, 'pywin32': 7, 'autocad-plugin': 2, 'autocad-scripts': 2, 'tensorrt': 4, 'lightgbm': 4, 'regularized': 1, 'bapi': 1, 'meson-build': 5, 'android-datepicker': 1, 'objectbox': 1, 'greenrobot-objectbox': 1, 'mobile-browser': 2, 'quickbooks-online': 2, 'transformation': 7, 'tomtom': 3, 'graphml': 1, 'dgl': 1, 'ibm-midrange': 4, 'primeng-datatable': 1, 'p-table': 1, 'python-social-auth': 2, 'sqoop': 1, 'outlook-web-addins': 1, 'sql-like': 2, 'eclipse-hawkbit': 1, 'hawkbit': 1, 'slf4j': 3, 'kaboom': 2, 'node-redis': 3, 'equation-solving': 3, 'time-limiting': 2, 'storybook': 3, 'dji-sdk': 2, 'opensaml': 1, 'hardware-security-module': 2, 'prepared-statement': 3, 'sql-injection': 4, 'ballerina-swan-lake': 6, 'zephyr-rtos': 3, 'nordic-semi': 2, 'serverless-plugins': 1, 'apple-sign-in': 3, 'zabbix': 1, 'visual-studio-monaco': 1, 'gradio': 7, 'odoo-15': 5, 'pymongo': 4, 'soapui': 2, 'cqlsh': 2, 'cpack': 2, 'actor': 4, 'picture-in-picture': 1, 'datamapper': 1, 'map-force': 1, 'react-native-pager-view': 2, 'constants': 11, 'constexpr': 3, 'talend': 3, 'cardinality': 1, 'scenarios': 2, 'typo3-9.x': 1, 'fpga': 5, 'register-transfer-level': 1, 'vuetifyjs3': 7, 'v-data-table': 1, 'bnf': 1, 'protocols': 10, 'cvx': 1, 'version': 14, 'dependency-management': 9, 'karel': 1, 'html-heading': 1, 'heading': 3, 'provisioning-profile': 2, 'code-signing-certificate': 2, 'ios-app-signing': 1, 'platformio': 2, 'react-native-webrtc': 1, 'atl': 1, 'google-classroom': 1, 'browser-addons': 1, 'deadlock': 4, 'database-deadlocks': 1, 'array-algorithms': 1, 'google-knowledge-graph': 1, 'openapi-generator': 7, 'openapi-generator-maven-plugin': 1, 'gitignore': 2, 'kong-plugin': 3, 'kong-oidc': 1, 'nuvoton': 1, 'python-jsonschema': 1, 'qt5': 8, 'qlistview': 1, 'qstringlistmodel': 1, 'linear-gradients': 4, 'chord': 2, 'autoencoder': 3, 'portable-executable': 2, 'sentry': 7, 'window-functions': 4, 'jitsi-meet': 2, 'video-conferencing': 1, 'ucanaccess': 2, 'tippyjs': 2, 'stimulus-rails': 1, 'gatsby': 11, 'solid-js': 3, 'servicemanager': 1, 'combinators': 2, 'httplistener': 1, 'objectdisposedexception': 1, 'stringbuilder': 1, 'tcpdump': 6, 'chromadb': 7, 'android-camera2': 5, 'oracle-apex-23': 1, 'backstage': 3, 'web-parts': 2, 'kubernetes-pvc': 1, 'spring-data-mongodb': 4, 'twilio-verify': 1, 'llama-cpp-python': 3, 'single-spa': 2, 'single-spa-react': 2, 'review': 3, 'python-hypothesis': 1, 'riscv': 11, 'plotly-react': 1, 'uisegmentedcontrol': 1, 'swipe-gesture': 2, 'sql-parser': 2, 'scriptdom': 1, 'azure-machine-learning-service': 6, 'machine-learning-model': 2, 'projectile': 2, 'contour': 2, 'atmosphere': 1, 'tooltip': 2, 'naudio': 3, 'asio': 3, 'guitar': 2, 'screen-scraping': 4, 'text-width': 1, 'lazycolumn': 2, 'stack-navigator': 1, 'wdk': 3, 'wdf': 3, 'google-docs-api': 2, 'outlook-restapi': 1, 'protobuf-c': 2, 'angular15': 5, 'cloudflare-warp': 1, 'es6-modules': 9, 'sql-server-2014': 2, 'cakephp': 4, 'cakephp-4.x': 1, 'qualtrics': 4, 'rdbms': 2, 'database-normalization': 1, 'functional-dependencies': 1, 'bcnf': 1, 'keda': 6, 'apple-login': 1, 'django-paypal': 1, 'operator-sdk': 2, 'upsert': 2, 'minicart': 1, 'fasterxml': 2, 'yq': 2, 'axum': 1, 'binaryfiles': 4, 'arguments': 8, 'flutter-audioplayers': 1, 'applicationcontext': 1, 'aws-codecommit': 3, 'lodash': 2, 'public': 3, 'stock': 4, 'business-process-management': 2, 'marketplace': 3, 'company-mode': 1, 'uiwebview': 2, 'marshmallow': 3, 'marshmallow-sqlalchemy': 2, 'covariance': 1, 'google-gemini': 9, 'makersuite': 1, 'datasnap': 6, 'emmet': 2, 'touch': 3, 'touch-event': 5, 'info': 2, 'iis-6': 2, 'pm2': 7, 'sveltekit-adapter-node': 3, 'mautic': 3, 'default': 3, 'glpk': 1, 'spring-jdbc': 3, 'toolstripbutton': 1, 'raspbian': 5, 'pub.dev': 3, 'gpt-2': 5, 'tls1.2': 6, 'vs-installer-project': 3, 'memory-mapped-io': 2, 'ipfs': 4, 'merkle-tree': 1, 'mkpointannotation': 1, 'sgx': 1, 'enclave': 1, 'salt': 1, 'android-navigation': 2, 'mojibake': 1, 'package.json': 6, 'upgrade': 5, 'cups': 2, 'error-log': 1, 'subclass': 6, 'tesseract': 7, 'meshlab': 2, 'uilocalnotification': 3, 'slide': 1, 'devexpress': 6, 'treesitter': 1, 'pydroid': 1, 'bzlmod': 1, 'data-migration': 2, 'ngrx-store': 3, 'string-interning': 2, 'hdr': 1, 'nested-object': 1, 'google-analytics-api': 2, 'google-tag-manager-server-side': 1, 'go-colly': 2, 'mifare': 2, 'mbedtls': 2, 'c#-6.0': 1, 'aws-auto-scaling': 3, 'qapplication': 1, 'colorbox': 1, 'sleep': 5, 'gdbserver': 1, 'acpi': 1, 'pulse': 2, 'data-storage': 2, 'wechat': 1, 'halcon': 1, 'google-text-to-speech': 1, 'keyset-pagination': 1, 'fuzzing': 1, 'afl-fuzz': 1, 'bayesian': 9, 'repeat': 3, 'ddp': 1, 'temporal-database': 1, 'ttl': 1, 'backpressure': 1, 'point': 1, 'nohup': 1, 'rust-cargo': 7, 'position': 8, 'cloudflare-apps': 1, 'knative-serving': 1, 'sharedarraybuffer': 2, 'cross-origin-embedder-policy': 3, 'ram': 5, 'hal': 2, 'patindex': 1, 'jpype': 1, 'sql-view': 1, 'postgresql-triggers': 1, 'mediaelement': 1, 'jetty': 6, 'react-aria': 1, 'react-google-places-autocomplete': 2, 'sys': 5, 'inf': 1, 'servlet-listeners': 2, 'wasi': 3, 'email-notifications': 2, 'harness': 1, 'ampl': 1, 'provider': 3, 'wiringpi': 1, 'localstack': 2, 'garmin': 2, 'avatar': 2, 'touchableopacity': 1, 'git-bash': 6, 'html-imports': 1, 'builder-pattern': 1, 'http-post': 8, 'dotnet-httpclient': 3, 'flexdashboard': 2, 'bulk-import': 1, 'composite-primary-key': 1, 'linker-scripts': 2, 'texas-instruments': 2, 'yubico': 1, 'yubikey': 1, 'optix': 1, 'android-activitymanager': 1, 'aar': 3, 'typescript-utility': 1, 'reportbuilder': 1, 'sqlreportingservice': 1, 'uibezierpath': 2, 'subquery': 4, 'sql++': 1, 'lazarus': 2, 'android-image-capture': 1, 'symfony5': 1, 'code-generation': 6, 'asp.net-core-scaffolding': 2, 'categorical-data': 4, 'autofill': 4, 'password-encryption': 2, 'dom-events': 8, 'source-maps': 2, 'symfony-routing': 1, 'php-8.2': 6, 'primary-key': 3, 'issue-tracking': 1, 'edsdk': 1, 'key': 9, 'azure-functions-runtime': 3, 'gpg-agent': 1, 'apache-arrow': 2, 'tweepy': 1, 'office-scripts': 3, 'ms-office-script': 2, 'azure-policy': 2, 'crypt': 1, 'doc': 3, 'amazon-route53': 4, 'pluggable': 1, 'tidyverse': 8, 'calculated-columns': 4, 'synchronized': 2, 'synchronized-block': 1, 'z3': 6, 'dafny': 3, 'boogie': 1, 'web-extension': 1, 'navmesh': 2, 'strcmp': 1, 'confluent-schema-registry': 2, 'ksqldb': 2, 'lucene.net': 1, 'db-schema': 1, 'spam': 1, 'web-statistics': 1, 'reporting': 5, 'pgp': 1, 'mstsc': 1, 'handle-leak': 1, 'guzzle': 2, 'topological-sort': 1, 'rvest': 4, 'exchange-online': 4, 'nvidia-jetson-nano': 2, 'handsontable': 2, 'qgraphicsitemgroup': 1, 'chainlink': 1, 'eloquent-relationship': 3, 'mediaquery': 5, 'nix': 4, 'builder': 1, 'dapper-extensions': 1, 'lua-userdata': 1, 'supabase-flutter': 3, 'realm-mobile-platform': 1, 'xcode-organizer': 1, 'resteasy': 1, 'kong': 1, 'index-management': 1, 'harmony': 2, 'checkout': 2, 'ioctl': 1, 'restrict-qualifier': 1, 'noexcept': 1, 'navbar': 13, 'sticky': 3, 'margins': 1, 'ably-realtime': 1, 'graphql-spqr': 1, 'graphql-spqr-spring-boot-starter': 1, 'form-submit': 3, 'google-forms-api': 1, 'scrapy-splash': 5, 'future': 4, 'actix-web': 3, 'blue-screen-of-death': 1, 'proto3': 1, 'google-reviews': 1, 'symmetricds': 1, 'pyfmi': 1, 'energyplus': 1, 'tryparse': 2, 'npx': 6, 'react-scripts': 1, 'maximize': 1, 'submission': 2, 'compose-recomposition': 1, 'posts': 1, 'prediction': 7, 'predict': 2, 'series': 4, 'zxing': 4, 'rust-diesel': 1, 'rust-sqlx': 2, 'progress-bar': 4, 'observableobject': 3, 'livewire-3': 7, 'bandpass-filter': 1, 'turbo': 2, 'r-leaflet': 3, 'google-iam': 2, 'domxpath': 1, 'sunburst-diagram': 1, 'mdbootstrap': 2, 'apache-synapse': 3, 'prestashop': 5, 'jquery-ui': 4, 'jquery-ui-droppable': 2, 'stringcomparer': 1, 'cryptocurrency': 8, 'python-binance': 2, 'quaternions': 2, 'tween.js': 1, 'makemigrations': 1, 'ng-idle': 1, 'python-click': 1, 'qliksense': 4, 'tabview': 1, 'itemscontrol': 2, 'definition': 3, 'render.com': 2, 'google-visualization': 4, 'quantization': 1, 'geom-bar': 1, 'overlap': 3, 'multicast': 1, 'transmission': 1, 'oracle11gr2': 1, 'postgis': 8, 'hibernate-spatial': 1, 'kannada': 2, 'refactoring': 3, 'rebase': 5, 'digest-authentication': 1, 'azure-authentication': 1, 'neo4j-apoc': 3, 'vcpkg': 6, 'lettuce': 1, 'picturebox': 1, 'azure-table-storage': 1, 'data-warehouse': 3, 'business-intelligence': 2, 'dimensional-modeling': 3, 'star-schema': 2, 'keycloak-services': 2, 'apache-pig': 1, 'livebindings': 1, 'stringgrid': 1, 'pytorch-dataloader': 2, 'python-multithreading': 6, 'countdowntimer': 2, 'web-inspector': 1, 'heap': 2, 'flake8': 1, 'mapstruct': 5, 'mapper': 1, 'keyboard-events': 3, 'asp.net-core-identity': 7, 'jenkins-update': 1, 'openiddict': 2, 'identity-server': 1, 'drake': 3, 'elevenlabs': 1, 'keystroke': 3, 'node-crypto': 1, 'haar-classifier': 3, 'nivo-slider': 1, 'nivo-react': 1, 'expo-auth-session': 2, 'regex-greedy': 1, 'pki': 2, 'rfc': 1, 'certificate-revocation': 1, 'resilience4j': 4, 'spring-cloud-circuitbreaker': 1, 'python-packaging': 4, 'nested-lists': 2, 'gnuradio-companion': 3, 'modulation': 3, 'video-capture': 3, 'facebook-marketing-api': 1, 'odoo-14': 2, 'buildaction': 1, 'maven-jar-plugin': 1, 'ag-grid-angular': 8, 'loss-function': 5, 'softmax': 2, 'flutter-getx': 5, 'nonlinear-optimization': 1, 'control-theory': 1, 'casadi': 1, 'react-virtualized': 2, 'downshift': 1, 'cacti': 1, 'jodit': 4, 'angular16': 16, 'intersect': 2, 'aws-cdk-typescript': 2, 'bootstrap-themes': 1, 'grafana-loki': 7, 'grafana-variable': 3, 'roles': 5, 'contains': 2, 'winston': 2, 'snappy': 2, 'abstraction': 2, 'hardware-interface': 2, 'storage': 7, 'lead': 2, 'unresolved-external': 1, 'monit': 1, 'read.csv': 3, 'jsdoc': 4, 'chrome-aws-lambda': 2, 'ext4': 1, 'flutter-apk': 2, 'sequelize-cli': 2, 'discriminator': 1, 'table-per-hierarchy': 1, 'google-routes-api': 1, 'connection-pooling': 2, 'eof': 1, 'filewriter': 2, 'printwriter': 2, 'recv': 2, 'drupal': 2, 'qemu-device-backend': 1, 'qualifiers': 1, 'hbase-shell': 1, 'itunes': 1, 'itunes-store': 1, 'find-all-references': 1, 'tfs-2015': 1, 'ggalt': 2, 'pimcore': 2, 'numpy-ndarray': 10, 'mpi': 5, 'rethinkdb': 1, 'sensors': 8, 'co': 1, 'filenames': 2, 'r-raster': 3, 'landsat': 1, 'java-web-start': 2, 'jnlp': 2, 'textjoin': 1, 'android-permissions': 8, 'html-email': 8, 'peewee': 1, 'virtual': 3, 'psql': 6, 'snort': 2, 'ips': 1, 'xmltodict': 1, 'internet-computer': 1, 'kernel-density': 1, 'query-optimization': 11, 'django-custom-user': 1, 'django-select-related': 1, 'language-design': 4, 'azure-notificationhub': 1, 'sentence-transformers': 3, 'bookmarks': 3, 'pptxgenjs': 2, 'dagster': 4, 'mex': 2, 'cmakelists-options': 1, 'invoke': 2, 'polyglot': 1, 'proxy-object': 1, 'combinations': 5, 'database-administration': 3, 'exadata': 1, 'average': 3, 'repaint': 1, 'voice-recognition': 4, 'python-3.12': 2, 'binary-data': 3, 'decompiling': 2, 'community-toolkit-mvvm': 4, 'rhel8': 2, 'bson': 5, 'objectid': 1, 'jprogressbar': 1, 'hmac': 3, 'ngx-translate': 2, 'pyrogram': 7, 'adsense': 2, 'info.plist': 2, 'buildfire': 1, 'jsf': 11, 'primefaces': 8, 'quartz-scheduler': 5, 'quartz.net': 2, 'boost-dynamic-bitset': 1, 'django-timezone': 2, 'xpath-2.0': 1, 'user-experience': 4, 'spring-cloud-netflix': 2, 'design-view': 2, 'des': 1, 'spinnaker-halyard': 1, 'confluent-kafka-python': 1, 'fastavro': 1, 'tabulator': 7, 'looker': 2, 'elasticsearch-aggregation': 1, 'elasticsearch-7': 1, 'nunit-3.0': 1, 'abseil': 1, 'contentful-api': 1, 'valueerror': 3, 'amazon-elasticache': 3, 'yacc': 6, 'lex': 7, 'boolean-expression': 3, 'arithmetic-expressions': 2, 'google-cloud-billing': 1, 'jmc': 1, 'b2b': 1, 'axway': 1, 'apache-storm': 2, 'adfs': 1, 'sustainsys-saml2': 1, 'equation': 2, 'nonlinear-functions': 1, 'http-proxy-middleware': 3, 'banno-digital-toolkit': 2, 'msbi': 1, 'arkit': 7, 'tcplistener': 1, 'file-type': 1, 'brotli': 1, 'contacts': 3, 'carddav': 1, 'multilingual': 9, 'flutter-localizations': 2, 'sfcalendar': 1, 'applocalizations': 1, 'ray': 5, 'ray-tune': 3, 'avplayerlayer': 1, 'vlckit': 1, 'confluent-platform': 5, 'cloud-document-ai': 3, 'gentoo': 1, 'lightning': 5, 'page-layout': 1, 'child-objects': 1, 'redux-reducers': 1, 'section508': 1, 'andi': 1, 'kendo-grid': 3, 'hotwire-rails': 3, 'contravariance': 2, 'backtracking': 5, 'similarity': 2, 'vendor-prefix': 1, 'corruption': 1, 'zebra-scanners': 1, 'useselector': 2, 'resharper': 1, 'decorator': 2, 'dead-code': 1, 'plumber': 3, 'rstudio-connect': 1, 'spring-tool-suite': 1, 'eclipse-marketplace': 1, 'video-player': 3, 'databricks-sql': 3, 'firemonkey-style': 1, 'sanctum': 3, 'mathematical-optimization': 10, 'opl': 4, 'docplex': 3, 'userform': 2, 'dataverse': 5, 'excelquery': 2, 'cleartext': 1, 'fast-excel': 1, 'modulo': 1, 'angular-guards': 2, 'postgresql-12': 1, 'odoo-17': 6, 'cartesian-product': 2, 'stream-provider': 1, 'rpm': 2, 'telemetry': 3, 'svelte-store': 2, 'cubic-bezier': 1, 'activex': 1, 'multiline': 4, 'accessibilityservice': 4, 'spline': 5, 'frame': 3, 'amqp': 3, 'activemq-artemis': 4, 'child-process': 5, 'homography': 5, 'sql-update': 11, 'transition': 3, 'iverilog': 2, 'admob-rewardedvideoad': 1, 'httpplatformhandler': 2, 'data-engineering': 8, 'primes': 4, 'utl-file': 1, 'google-bigquery-storage-api': 1, 'bioinformatics': 5, 'rna-seq': 2, 'genomics': 1, 'angular-resolver': 1, 'centering': 2, 'google-play-games': 2, 'bcc': 1, 'wkhtmltopdf': 5, 'window-managers': 3, 'android-sdk-manager': 1, 'flutter-doctor': 1, 'linkageerror': 1, 'mapdeck': 1, 'middy': 4, 'checksum': 1, 'iridium': 1, 'zoneinfo': 1, 'aws-acm': 4, 'image-formats': 1, 'aslr': 1, 'templating': 2, 'twilio-taskrouter': 4, 'twilio-conference': 4, 'typechecking': 3, 'yahoo-finance': 4, 'listtile': 1, 'conference': 1, 'directx-11': 3, 'tiff': 1, 'great-expectations': 2, 'ipa': 2, 'atlassian-forge': 1, 'ttkwidgets': 1, 'wireless': 1, 'hotspot': 3, 'jaeger': 3, 'bevy': 3, 'servicenow': 2, 'telebot': 3, 'data-stream': 1, 'pixel': 4, 'spl': 1, 'psalm-php': 1, 'react-konva': 2, 'xlookup': 1, 'figma': 1, 'filecopy': 1, 'unixodbc': 2, 'anchor': 6, 'openaiembeddings': 7, 'bruno': 1, 'web-api-testing': 1, 'team-explorer': 1, 'disassembly': 3, 'kustomize': 2, 'lark-parser': 2, 'kvision': 1, 'gridextra': 1, 'exceljs': 4, 'bootloader': 6, 'mocha.js': 5, 'devsecops': 1, 'pinecone': 4, 'atom-editor': 2, 'jolt': 8, 'webpack-production': 1, 'self': 1, 'cookie-httponly': 1, 'octet-stream': 1, 'laravel-query-builder': 3, 'argon2-cffi': 1, 'exit-code': 2, 'tween': 1, 'dotween': 2, 'securityexception': 2, 'richfaces': 1, 'payara': 6, 'jakarta-migration': 1, 'messagebird': 1, 'intro.js': 1, 'spring-data-rest': 4, 'shinyproxy': 1, 'bulma': 2, 'msbuild': 15, 'vuejs3-composition-api': 1, 'vb6': 3, 'rebex': 1, 'whatsapp-stickers': 2, 'sticker': 1, 'savechanges': 1, 'milo': 1, 'menubar': 1, 'mac-catalyst': 2, 'spring-boot-maven-plugin': 1, 'paketo': 2, 'aws-iot-greengrass': 2, 'pcap': 2, 'splunk': 2, 'population': 2, 'pre-signed-url': 1, 'drf-spectacular': 1, 'r-sf': 1, 'sitemap.xml': 1, 'dymola': 3, 'mysql-error-1442': 1, 'auditing': 1, 'destructor': 2, 'pure-virtual': 1, 'rrdtool': 1, 'alexa-voice-service': 2, 'unity-webgl': 7, 'python-itertools': 4, 'uvicorn': 3, 'easyadmin': 1, 'google-schemas': 1, 'tiktok-api': 1, 'azure-hybrid-connections': 1, 'vsix': 5, 'roslyn-code-analysis': 1, 'azure-deployment': 3, 'nx-monorepo': 6, 'numerical-methods': 4, 'v4l2': 1, 'ipywidgets': 3, 'detox': 3, 'react-pdfrenderer': 2, 'python-interactive': 1, 'android-actionbar': 3, 'auto-vectorization': 1, 'trafficshaping': 1, 'three-tier': 1, 'appointment': 2, 'crop': 4, 'stretched': 1, 'pdfplumber': 1, 'excel-2016': 5, 'serilog': 11, 'joomla': 5, 'joomla4': 2, '8051': 1, 'mcu': 2, 'android-espresso': 3, 'videocall': 2, 'styling': 5, 'azure-webapps': 1, 'react-native-stylesheet': 1, 'reselect': 1, 'shuttle': 1, 'tflite': 2, 'aura-framework': 1, 'owl-carousel': 1, 'owl-carousel-2': 1, 'memory-corruption': 1, 'mingw': 8, 'libstdc++': 1, 'azure-private-dns': 3, 'azure-private-dns-zone': 1, 'querying': 1, 'imagepicker': 3, 'pyez': 1, 'process-management': 1, 'data-jpa-test': 4, 'attributes': 9, 'import-from-excel': 3, 'google-groups': 1, 'google-groups-api': 1, 'tkinter-entry': 3, 'xsd-validation': 2, 'callable': 2, 'classnotfoundexception': 2, 'jna': 1, 'jlink': 2, 'pcap4j': 1, 'approval-tests': 1, 'react-simple-maps': 1, 'termios': 1, 'directcompute': 1, 'msgbox': 2, 'processmapr': 1, 'box-api': 2, 'boxapiv2': 1, 'lwc': 7, 'stm32cubeide': 10, 'target-platform': 1, 'google-cloud-build': 3, 'odoo-16': 8, 'geant4': 1, 'holoviz': 1, 'django-socialauth': 1, 'express-generator': 1, 'gluon': 1, 'gluonfx': 2, 'chord-diagram': 3, 'cucumberjs': 1, 'self-signed-certificate': 1, 'eclipse-jdt': 1, 'module-path': 1, 'google-identity': 2, 'matlab-app-designer': 1, 'vaadin-flow': 2, 'vaadin-grid': 2, 'thingsboard': 3, 'chai': 6, 'long-polling': 2, 'tikzjax': 1, 'azure-diagnostics': 1, 'usb-debugging': 1, 'kable': 2, 'kableextra': 3, 'framebuffer': 2, 'static-libraries': 3, 'static-linking': 5, 'initialization': 8, 'idioms': 2, 'type-deduction': 2, 'bulkinsert': 5, 'compatibility': 2, 'rabbitmq.client': 1, 'database-performance': 2, 'bindingsource': 2, 'bindinglist': 1, 'google-chrome-os': 2, 'lucene': 1, 'zebra-printers': 1, 'ppd': 1, 'bsp': 1, 'space-partitioning': 1, 'bsp-tree': 1, 'libusb': 3, 'jenkins-template-engine': 2, 'browser-api': 1, 'audiokit': 5, 'angular-schematics': 1, 'matplotlib-widget': 2, 'electron-packager': 5, 'add-in': 3, 'azure-storage-account': 5, 'jfreechart': 3, 'aggregateroot': 2, 'jpql': 3, 'mantine': 4, 'dio': 6, 'sample': 1, 'period': 1, 'distribute': 1, 'react-native-video': 1, 'multer-gridfs-storage': 1, 'wandb': 1, 'accelerate': 3, 'stomp': 2, 'sockjs': 1, 'pandera': 1, 'python-3.6': 3, 'cheerio': 4, 'flowise': 2, 'amazon-workmail': 1, 'ssas-tabular': 1, 'master-detail': 2, 'winget': 1, 'buildspec': 2, 'docker-copy': 1, 'multiplayer': 2, 'unity-networking': 1, 'r-box': 1, 'system.data': 1, 'new-operator': 2, 'gyroscope': 2, 'regex-group': 5, 'bioconductor': 1, 'meta-analysis': 1, 'laradock': 4, 'apollo-client': 3, 'react-apollo': 1, 'jaws-screen-reader': 1, 'accessibility-api': 3, 'ajaxsubmit': 1, 'lasagne': 1, 'python-nolearn': 1, 'enumeration': 2, 'debian-bookworm': 1, 'kql': 12, 'srand': 1, 'sam': 1, 'google-play-billing': 1, 'apple-app-site-association': 2, 'src': 3, 'autogen': 2, 'learning-rate': 2, 'flip': 1, 'autotest': 2, 'simulator': 3, 'simpledateformat': 3, 'unparseable': 1, 'google-assistant': 2, 'xml-sitemap': 1, 'keycloak-admin-client': 1, 'typoscript': 1, 'gnu-arm': 1, 'informatica-powercenter': 2, 'fgets': 1, 'gets': 1, 'github-flow': 1, 'jedis': 3, 'redisson': 3, 'image-recognition': 2, 'clarifai': 1, 'autodesk-viewer': 4, 'forge': 2, 'csrf': 10, 'angular-http-interceptors': 1, 'android-volley': 2, 'sslsocketfactory': 1, 'flink-sql': 5, 'selenium-grid': 4, 'scikit-image': 1, 'template-matching': 3, 'ssim': 1, 'crypto++': 1, 'llamacpp': 1, 'sharp': 6, 'cell': 4, 'autoload': 7, 'sentiment-analysis': 7, 'stm32f1': 2, 'string-formatting': 1, 'condition-variable': 3, 'thread-synchronization': 1, 'restructuredtext': 5, 'lldb': 3, 'truthtable': 1, 'sign-in-with-apple': 1, 'azure-powershell': 6, 'vue-storefront': 2, 'firebase-console': 2, 'azure-log-analytics': 5, 'azure-resource-graph': 2, 'web-push': 3, 'wtelegramclient': 3, 'stacking-context': 2, 'pic18': 1, 'owin': 2, 'service-worker': 7, 'f5': 1, 'oracle-rest-data-services': 1, 'golem': 1, 'metaplex': 3, 'anchor-solana': 6, 'expo-go': 4, 'mysqljs': 2, 'z-index': 4, 'radix': 2, 'google-auth-library': 2, 'brightway': 2, 'rfc3161': 1, 'rx-java': 1, 'micronaut-client': 1, 'python-re': 4, 'netlogo': 5, 'fifo': 3, 'substrate': 1, 'assert': 3, 'conditional-compilation': 2, 'dnn9': 1, 'json-deserialization': 5, 'json4s': 1, 'zfs': 1, 'billing': 1, 'asyncpg': 1, 'css-loader': 1, 'gdal': 6, 'group': 1, 'operator-lifecycle-manager': 1, 'azure-iot-edge': 4, 'seaborn-0.12.x': 1, 'doctype': 2, 'rapidjson': 1, 'snapchat': 2, 'sqlstate': 1, 'poco': 1, 'nvm': 3, 'apache-httpclient-5.x': 2, 'httpentity': 1, 'android-edittext': 2, 'android-scrollview': 1, 'android-nestedscrollview': 1, 'azure-sdk-python': 1, 'datastax-java-driver': 3, 'cassandra-4.0': 2, 'http-status-code-504': 1, 'opera': 1, 'azure-analysis-services': 1, 'reactor-netty': 3, 'using': 3, 'microsoft-graph-files': 1, 'browser-cache': 3, 'key-bindings': 2, 'shared-element-transition': 1, 'flutter-table': 1, 'message-driven-bean': 1, 'python-poetry': 12, 'hammerspoon': 1, 'fennel': 1, 'vk': 1, 'weather-api': 1, 'hero': 1, 'statechart': 1, 'opensymphony': 1, 'kramdown': 2, 'pytest-cov': 1, 'pytest-split': 1, 'spring-data-elasticsearch': 2, 'testcontainers': 4, 'staruml': 1, 'at-protocol': 2, 'nelmioapidocbundle': 1, 'sha': 3, 'hashlib': 1, 'github-projects': 1, 'apex-code': 1, 'clearscript': 2, 'supplier': 1, 'gitea': 4, 'blockquote': 1, 'textbox': 3, 'rails-activestorage': 3, 'vscode-keybinding': 3, 'atlassian-sourcetree': 1, 'log4j': 3, 'reset': 2, 'asp.net-core-tag-helpers': 1, 'react-app-rewired': 2, 'artifactory': 5, 'mixed-models': 2, 't-test': 4, 'lmertest': 1, 'firebird2.1': 1, 'gaps-in-data': 1, 'flutter-windows': 3, 'flutter-debug': 1, 'radar-chart': 1, 'sheetjs': 4, 'std-variant': 2, '68000': 1, 'archunit': 1, 'vector-tiles': 1, 'mvt': 1, 'remote-server': 3, 'fluent-bit': 2, 'editmode': 1, 'cypress-conditional-testing': 1, 'swiftui-animation': 2, 'shallow-clone': 1, 'livewires': 1, 'wso2-micro-integrator': 2, 'extjs4.2': 1, 'image-stitching': 4, 'opencv-stitching': 2, 'snackbar': 2, 'android-snackbar': 2, 'third-party-cookies': 1, 'wss': 3, 'insert-query': 1, 'gazebo-simu': 3, 'line-breaks': 3, 'generic-constraints': 1, 'armhf': 1, 'pdftk': 1, 'dom-to-image': 1, 'auto-delete': 1, 'activecollab': 1, 'private': 2, 'shortcut': 2, 'tidyr': 6, 'amazon-redshift-serverless': 1, 'hibernate-6.x': 4, 'pentaho': 6, 'ballerina-java-interop': 1, 'jqgrid': 2, 'jmeter-5.0': 2, 'influx-line-protocol': 1, 'cudf': 5, 'memory-address': 2, 'rollback': 2, 'db2-luw': 1, 'vector-database': 2, 'jquery-masonry': 1, 'page-fault': 1, 'renovate': 4, 'language-model': 1, 'fairseq': 1, 'api-security': 1, 'fallback': 3, 'shedlock': 2, 'laravel-6': 2, 'datastore': 1, 'android-jetpack-datastore': 1, 'corespotlight': 1, 'thread-sleep': 1, 'mean': 6, 'online-store': 1, 'digital-assets': 1, 'gumroad': 1, 'twincat': 3, 'qiskit': 1, 'text-formatting': 2, 'vee-validate': 3, 'appsettings': 4, 'yolonas': 2, 'informix': 1, 'scatter3d': 1, 'git-submodules': 2, 'symlink': 2, 'facebook-messenger-bot': 3, 'dotnet-aspire': 1, 'cloud-native': 1, 'inline-styles': 1, 'apimonitor': 1, 'uiscenedelegate': 2, 'hibernate-mapping': 1, 'webm': 2, 'stub': 1, 'intercept': 2, 'podspec': 3, 'expo-module': 2, 'foundation': 3, 'woocommerce-bookings': 1, 'unc': 2, 'cifs': 4, 'keystore': 4, 'google-index': 1, 'shinydashboardplus': 1, 'apple-developer': 5, 'json.net': 7, 'forwarding': 1, 'websphere': 6, 'wsadmin': 1, 'angular-upgrade': 1, 'siebel': 1, 'cocoapods': 12, 'hyperopt': 3, 'zipexception': 1, 'odp.net': 1, 'oracle-manageddataaccess': 2, 'tableau-desktop': 5, 'kinect-v2': 2, 'pykinect': 1, 'return': 7, 'price': 6, 'spring-session': 2, 'proxmox': 5, 'lotus-notes': 1, 'domino-designer-eclipse': 1, 'py-telegram-bot-api': 2, 'java-21': 4, 'virtual-threads': 3, 'vue-composition-api': 3, 'ui-design': 1, 'kvm': 3, 'dxf': 4, 'pyvista': 1, 'image-slicer': 1, 'ownership-semantics': 1, 'sve': 2, 'mapbox-android': 3, 'database-partitioning': 1, 'flashback': 1, 'sentinel': 2, 'aws-step-functions': 4, 'state-machine-workflow': 1, 'entra': 2, 'universal': 1, 'pypubsub': 1, 'pyp': 1, 'webview2': 7, 'xml-dsig': 2, 'cert-manager': 2, 'facebook-apps': 1, 'ngx-echarts': 1, 'blazemeter': 1, 'learnpress': 1, 'opengrok': 2, 'mstest': 2, 'typegoose': 1, 'global-payments-api': 3, 'capacitor': 6, 'transactionscope': 3, 'javaagents': 1, 'hmmlearn': 3, 'seqhmm': 1, 'utm': 1, 'attribution': 1, 'pong': 1, 'alert': 6, 'expo-file-system': 1, 'fieldimager': 1, 'cardlayout': 1, 'multimethod': 1, 'unmarked-package': 1, 'occupancy-map': 2, 'azure-appservice': 7, 'nosql-aggregation': 1, 'firebase-app-check': 4, 'google-play-integrity-api': 3, 'browser-close': 1, 'background-service': 5, 'background-fetch': 2, 'jquery-mobile': 2, 'jquery-mobile-popup': 1, 'powermock': 1, 'powermockito': 1, 'janitor': 1, 'googletest': 5, 'structured-bindings': 1, 'anonymous-struct': 1, 'mailgun-api': 1, 'avalanche': 1, 'transactional-replication': 2, 'firmware': 3, 'cisco-ios': 1, 'arcgis': 5, 'boost-signals2': 1, 'signals2': 1, 'librosa': 1, 'dllimport': 3, 'dllexport': 2, 'python-appium': 2, 'robotframework-ide': 1, 'stringify': 2, 'angular-fullstack': 1, 'esbuild': 4, 'mathtype': 1, 'layout-manager': 1, 'linearlayoutmanager': 1, 'find': 10, 'puppet': 3, 'puppet-enterprise': 3, 'sqlfluff': 2, 'bipartite': 2, 'two-factor-authentication': 3, 'gaps-and-islands': 3, 'rp2040': 3, 'spring-cloud-stream': 8, 'spring-cloud-dataflow': 1, 'dynamics-crm-2013': 1, 'dynamics-365-sales': 2, 'empty-list': 1, 'personalization': 1, 'react-native-cli': 2, 'apache-calcite': 2, 'page-load-time': 1, 'packagecompiler.jl': 1, 'ranking': 3, 'objectmapper': 3, 'lm': 2, 'levenberg-marquardt': 1, 'aerospike': 2, 'screen-readers': 2, 'any': 1, 'android-intent': 13, 'elastic-cloud': 1, 'amazon-kms': 4, 'ksh': 1, 'back-button': 1, 'react-perfect-scrollbar': 1, 'combinatorics': 4, 'excel-web-addins': 1, 'ms-office-addin': 1, 'pre-commit-hook': 5, 'developer-tools': 3, 'apple-developer-enterprise': 1, 'penetration-testing': 3, 'equality': 1, 'pi': 3, 'pdf-viewer': 2, 'shadow-root': 1, 'azure-blob-trigger': 1, 'devextreme': 3, 'fasttext': 2, 'backbone.js': 2, 'ninja-forms': 2, 'singlechildscrollview': 2, 'response': 7, 'als': 1, 'vscode-snippets': 1, 'node-worker-threads': 2, 'data-preprocessing': 5, 'dart-ui': 1, 'http-status-code-301': 1, 'detectron': 2, 'multi-select': 3, 'jquery-chosen': 1, 'performance-estimation': 1, 'windows-runtime': 2, 'artifact': 1, 'energy': 1, 'asterisk': 1, 'pbx': 1, 'google-cardboard': 1, 'swifter': 1, 'innerhtml': 3, 'innertext': 1, '.net-assembly': 1, 'package-managers': 3, 'windowbuilder': 1, 'string-operations': 1, 'aws-sdk-net': 1, 'gtsummary': 4, 'voice-interactor': 1, 'libpq': 1, 'devextreme-angular': 1, 'can-bus': 6, 'dynamics-crm-online': 2, 'threejs-editor': 2, 'tanstack': 6, 'system-information': 1, 'transcription': 2, 'owner': 1, 'navigation-drawer': 6, 'smooth-scrolling': 3, 'rfacebook': 1, 'paperjs': 2, 'wolfram-mathematica': 1, 'phase': 1, 'android-lifecycle': 3, 'coroutine': 5, 'polling': 2, 'tidyterra': 1, 'popupwindow': 1, 'worker': 3, 'beanstalkd': 1, 'pheanstalk': 1, 'docusignconnect': 1, 'docusignapextoolkit': 1, 'scientific-notation': 1, 'sumo': 3, 'gatling': 2, 'extension-methods': 3, 'euclidean-distance': 2, 'combine': 5, 'updating': 1, 'dispatch': 2, 'angular-router': 6, 'frappe': 4, 'torrent': 1, 'magnet-uri': 1, 'poisson': 2, 'git-fetch': 1, 'gdi': 2, 'stretchblt': 1, 'nbformat': 1, 'fiona': 1, 'aesthetics': 2, 'geom-sf': 1, 'application-shutdown': 1, 'continuations': 1, 'bytea': 2, 'java-native-interface': 5, 'operators': 2, 'core-nfc': 1, 'point-cloud-library': 1, 'memorystream': 2, 'system.text.json': 7, 'presto': 1, 'fragmentstateadapter': 1, 'adjustment': 1, 'adblock': 1, 'fullcalendar-5': 1, 'fullcalendar-6': 1, 'pycaret': 1, 'openssh': 5, 'sshd': 1, 'java-ee-7': 1, 'salesforce-marketing-cloud': 1, 'emoji': 3, 'rawstring': 1, 'moq': 4, 'internal-class': 1, 'accordion': 3, 'phpbrew': 1, 'ojalgo': 1, 'decoding': 3, 'luau': 4, 'httpwebrequest': 1, 'scrapy-pipeline': 3, 'noclassdeffounderror': 1, 'sat': 1, 'portforwarding': 3, 'microsoft-graph-toolkit': 1, 'nodelist': 1, 'glew': 1, 'rush': 1, 'brain.js': 1, 'conflict': 2, 'change-password': 1, 'across': 1, 'linkedin-jsapi': 1, 'cqrs': 5, 'event-sourcing': 1, 'google-admin-sdk': 1, 'daisyui': 2, 'solana-cli': 1, 'arduino-esp8266': 5, 'cmake-language': 2, 'libc++': 1, 'android-softkeyboard': 2, 'android-presentation': 1, 'android-navigation-graph': 1, 'dockerignore': 1, 'binning': 2, 'typography': 3, 'coordinate-transformation': 2, 'abaqus-odb': 1, 'cdf': 2, 'drone.io': 1, 'spree': 2, 'thread-divergence': 2, 'unit-conversion': 1, 'pixel-density': 1, 'php-curl': 4, 'github-flavored-markdown': 1, 'rtx': 1, 'qtopengl': 3, 'implements': 1, 'many-to-one': 2, 'orphan-removal': 2, 'probability-density': 3, 'pbxproj': 1, 'postgresql-9.3': 2, 'postgresql-9.5': 1, 'postgresql-9.2': 1, 'vue-tsc': 1, 'pyscript': 3, 'cycle': 1, 'custom-theme': 2, 'metadata-extractor': 1, 'disk': 4, 'ms-access-2016': 2, 'lib': 6, 'caret': 1, 'r2u': 1, 'node-webkit': 1, 'nwjs': 1, 'strip': 3, 'biginteger': 2, 'gmp': 3, 'glob': 1, 'sparse-checkout': 1, 'git-sparse-checkout': 1, 'fuzzy-search': 3, 'fuzzy-comparison': 1, 'pattern-matching': 6, 'matcher': 1, 'card': 3, 'commandbar': 1, 'solaris': 1, 'dbx': 1, 'solaris-studio': 1, 'unhandled-exception': 2, 'pid': 3, 'superagent': 1, 'django-mptt': 1, 'aix': 1, 'mixed-integer-programming': 2, 'coin-or-cbc': 1, 'wireshark': 7, 'ganglia': 1, 'sigv4': 1, 'clickable': 2, 'stream-builder': 2, 'flutter-reorderable-listview': 1, 'psycopg3': 4, 'typing': 1, 'laravel-folio': 1, 'autohotkey': 3, 'oxygenxml': 1, 'elasticnet': 1, 'amazon-iam': 8, 'amazon-neptune': 3, 'android-geofence': 1, 'android-ble': 1, 'android-wireless': 1, 'circe': 2, 'docker-container': 4, 'read-csv': 1, 'c++-cli': 8, 'temporal': 1, 'shader-graph': 1, 'dynamicparameters': 1, 'bridge': 3, 'zillow': 1, 'django-validation': 1, 'csproj': 2, 'load-data-infile': 2, 'django-serializer': 1, 'dj-rest-auth': 1, 'prototype-pattern': 1, 'flatten': 1, 'google-distancematrix-api': 2, 'wiki': 1, 'fingerprint': 4, 'dynamics-al': 4, 'frame-rate': 2, 'twenty-twenty-three-theme': 1, 'replication': 4, 'swap': 2, 'processor': 3, 'distinct-values': 1, 'in-place': 2, 'ag-charts-react': 2, 'ag-charts': 3, 'navhostcontroller': 1, 'sqlbulkcopy': 1, 'group-concat': 1, 'checkboxlist': 2, 'nssecurecoding': 1, 'bluej': 1, 'qmainwindow': 1, 'dask-dataframe': 2, 'angular-changedetection': 3, 'angular-signals': 2, 'laratrust': 1, 'slatejs': 2, 'date-range': 3, 'servicestack': 2, 'ormlite-servicestack': 1, 'sandbox': 5, 'mutagen': 1, 'swift-data-relationship': 2, 'ghci': 1, 'django-cms': 3, 'choropleth': 4, 'apple-music': 2, 'apple-musickit': 1, '.npmrc': 2, 'npmrc': 1, 'ntp': 4, 'epson': 2, 'lpt': 1, 'escp2': 1, 'amp-html': 2, 'amp-img': 2, 'snap': 1, 'audit-logging': 4, 'notificationcenter': 3, 'azure-ad-graph-api': 4, 'laravel-backpack': 3, 'laravel-backpack-5': 3, 'mailmerge': 3, 'moleculer': 1, 'moleculer-web': 1, 'ms-project': 2, 'subproject': 2, 'vueuse': 1, 'azure-waf': 3, 'merge-images': 1, 'chromakey': 1, 'latency': 2, 'pyvis': 1, 'summernote': 1, 'redactor': 1, 'azure-identity': 2, 'arm64': 8, 'fftw': 3, 'fortigate': 1, 'forticlient': 1, 'image-slider': 2, 'less': 2, 'paste': 3, 'java.util.concurrent': 4, 'android-view': 1, 'swiftui-menu': 1, 'openfeign': 1, 'export': 7, 'safari-web-extension': 2, 'dynamic-arrays': 2, 'k-means': 6, 'sql-insert': 2, 'dependency-resolver': 1, 'pypika': 1, 'grpc-web': 2, 'gesture': 3, 'tap': 2, 'flutter-release': 2, 'hdf5': 2, 'pyhdf': 1, 'procdumpforlinux': 1, 'icmp': 3, 'crashlytics': 4, 'spotless': 1, 'exit': 4, 'try-except': 2, 'kinect-sdk': 1, 'logical-operators': 3, 'aws-sam-cli': 2, 'p4python': 1, 'macos-sierra': 1, 'nifti': 1, 'nibabel': 1, 'android-constraintlayout': 1, 'fish': 1, 'scatterpie': 1, 'geom-map': 1, 'react-calendar': 1, 'react-calendar-timeline': 1, 'mapped-types': 1, 'rapids': 2, '.net-4.6.1': 1, 'generator': 2, 'http-error': 2, 'py2app': 1, 'springfox': 1, 'autodesk-data-management': 1, 'autodesk-construction-cloud': 3, 'autodesk-realitycapture': 1, 'pre': 1, 'pywavelets': 1, 'spring-oauth2': 3, 'generate-series': 1, 'recursive-cte': 1, 'system-tables': 1, 'kubernetes-service': 1, 'ng-packagr': 1, 'stdmap': 1, 'artisan-serve': 1, 'tizen': 4, 'ember.js': 1, 'ember-cli': 1, 'linkedin-j': 1, 'refresh-token': 5, 'django-rest-framework-simplejwt': 2, 'stb-image': 5, 'python-3.8': 1, 'concurrenthashmap': 2, 'react-native-hermes': 1, 'adc': 4, 'adafruit': 4, 'rocksdb': 8, 'xerces-c': 2, 'grafana-tempo': 2, 'sqlanywhere': 2, 'mobilink': 1, 'laravel-authentication': 3, 'laravel-fortify': 2, 'google-maps-react': 1, 'rce': 1, 'core-web-vitals': 2, 'interaction-to-next-paint': 1, 'first-input-delay': 1, 'negamax': 1, 'connect-four': 1, 'converters': 3, 'after-update': 1, 'build-error': 2, 'variadic': 2, 'freshchat': 2, 'bi-publisher': 2, 'oracle-ebs': 3, 'jsdom': 1, 'array-broadcasting': 1, 'elementwise-operations': 1, 'firefox-addon': 4, 'manifest.json': 2, 'playwright-java': 2, 'authorization-header': 1, 'android-arrayadapter': 2, 'onitemselectedlistener': 1, 'opensips': 1, 'jssip': 2, 'fake-function-framework': 1, 'file-manager': 1, 'sigint': 1, 'ctl': 1, 'godaddy-api': 4, 'swr': 3, 'javacv': 2, 'taglib': 1, 'warnings': 10, 'insert-select': 1, 'hardcode': 1, 'termux-linux': 1, 'in-memory-database': 1, 'confluent-kafka-go': 2, 'samsung-mobile': 2, 'renpy': 1, 'continuous-aggregates': 1, 'mtls': 1, 'roadrunner': 4, 'excel-interop': 1, 'maven-3': 3, 'maven-plugin': 3, 'maven-archetype': 1, 'cyber-panel': 3, 'gzip': 3, 'citrix': 1, 'default-programs': 1, 'urllib': 1, 'androidautomotiveemulator': 1, 'shift': 3, 'android-contentprovider': 2, 'mat-tab': 1, 'samsung': 2, 'redcarpet': 1, 'flutter-hotreload': 1, 'statamic': 1, 'hyper-v': 3, 'amd': 1, 'app-inventor': 1, 'haxm': 1, 'urlsession': 6, 'text-processing': 3, 'unix-text-processing': 1, 'pnpm-workspace': 1, 'sqliteopenhelper': 1, 'android-4.4-kitkat': 1, 'springdoc': 3, 'ascii-art': 2, 'data-representation': 3, 'go-templates': 5, 'terraform-helm-provider': 2, 'freemarker': 2, 'fullscreen': 3, 'n-queens': 1, 'spring-data-envers': 1, 'turtle-graphics': 4, 'notion-api': 1, 'notion': 2, 'facebook-javascript-sdk': 1, 'xcode-cloud': 1, 'imutils': 1, 'pci': 5, 'onblur': 1, 'rust-proc-macros': 2, 'xml-serialization': 1, 'httpclientfactory': 1, 'amazon-polly': 1, 'pixi.js': 2, 'stencil-buffer': 1, 'urp': 2, 'iptables': 3, 'typesense': 1, 'typescript-module-resolution': 1, 'cross-apply': 1, 'pca': 4, 'dependabot': 4, 'github-dependabot': 1, 'hls.js': 2, 'aws-xray': 1, 'initialization-vector': 1, 'hugo': 3, 'border-radius': 2, 'credits': 2, 'mpxj': 1, 'mpp': 2, 'light': 2, 'intel-ipp': 1, 'sparklines': 1, 'maven-jetty-plugin': 1, 'spfx-extension': 2, 'eslintrc': 1, 'recipe': 1, 'maven-jaxb2-plugin': 1, 'irepository': 1, 'arabic': 5, 'order-of-execution': 1, 'flask-restx': 2, 'nerdctl': 2, 'fold-expression': 2, 'uiimage': 2, 'prologue': 1, 'inversifyjs': 1, 'bitbucket-pipelines': 3, 'php-deployer': 1, 'zero': 1, 'echarts4r': 5, 'observedobject': 2, 'e2e-testing': 3, 'wysiwyg': 2, 'textselection': 3, 'matching': 1, 'cpmpy': 1, 'azure-public-ip': 1, 'data-transform': 1, 'isometric': 1, 'abap': 3, 'opensql': 2, 'parser-generator': 1, 'peg': 1, 'atomic': 1, 'c#-9.0': 1, 'interlocked': 1, 'nsurlsessiondatatask': 1, 'openmdao': 1, 'unityads': 1, 'canvas-lms': 1, 'codesys': 1, 'iec61131-3': 1, 'grafana-mimir': 3, 'robotjs': 1, 'nan': 1, 'jax': 5, 'flax': 1, 'delimited': 1, 'fips': 1, 'jose4j': 1, 'google-bigquery-java': 1, 'json-table': 1, 'guice': 1, 'type-parameter': 3, 'jls': 1, 'bean-validation': 1, 'hibernate-validator': 2, 'pdp': 2, 'gauge': 4, 'donut-chart': 2, 'hetzner-cloud': 1, 'regional-settings': 1, 'shapeless': 1, 'user-agent': 2, 'glpi': 1, 'xdgutils': 2, 'zendesk': 1, 'zendesk-api': 1, 'emmeans': 3, 'launch': 3, 'txtextcontrol': 1, 'mojolang': 2, 'cql': 1, 'corpus': 2, 'sketching': 1, 'substitution': 3, 'timeout': 5, 'exchange-server': 7, 'left-join': 1, 'rpgle': 1, 'reactive': 7, 'pentaho-spoon': 2, 'pyglet': 2, 'xvfb': 1, 'google-ads-script': 2, 'google-ads-data-hub': 1, 'terragrunt': 1, 'frustum': 1, 'aggregation': 3, 'expo-build': 1, 'expo-dev-client': 1, 'swiftydropbox': 1, 'vert.x': 3, 'geo': 3, 'haversine': 2, 'dynamic-components': 1, 'coding-efficiency': 2, 'ota': 2, 'qttest': 1, 'svn': 5, 'android-workmanager': 1, 'urllib3': 1, 'libressl': 1, 'rusqlite': 1, 'dynamics-crm-2011': 1, 'pcre2': 2, 'jitpack': 2, 'live-templates': 1, 'maximo': 1, 'exiftool': 2, 'azure-marketplace': 1, 'arabic-support': 1, 'gaussian-process': 1, 'gpy': 1, 'lexikjwtauthbundle': 1, 'angular12': 1, 'urlsplit': 1, 'truncation': 1, 'shutdown': 1, 'java-http-client': 2, 'java-record': 2, 'packing': 1, 'janusgraph': 4, 'gremlinpython': 2, 'gremlin-java': 1, 'scichart': 1, 'scichart.js': 1, 'raw-ethernet': 1, 'viewdata': 1, 'angular-ui-router': 4, 'pulp': 8, 'python-zip': 1, 'git-sync': 1, 'hapi': 2, 'videochat': 1, 'heredoc': 1, 'forward-declaration': 2, 'amazon-sagemaker-clarify': 1, 'marklogic-10': 1, 'mlcp': 3, 'att': 1, 'udpclient': 2, 'same-origin-policy': 3, 'laravel-socialite': 4, 'podfile': 2, 'discourse': 1, 'sbt': 4, 'codepen': 1, 'django-generatedfield': 1, 'spring-data-neo4j': 3, 'nspredicate': 1, 'application-pool': 1, 'identify': 1, 'chaquopy': 1, 'alter': 2, 'connexion': 1, 'sequence-generators': 1, 'gssapi': 2, 'serverpod': 2, 'copy-on-write': 2, 'stack-trace': 1, 'java-ws': 1, 'openwebstart': 1, 'pomelo': 1, 'titlebar': 1, 'machine-code': 1, 'libp2p': 1, 'stepper': 3, 'autodesk-model-derivative': 3, 'target-framework': 1, 'nssm': 1, 'facelets': 1, 'keyerror': 2, 'lazy-evaluation': 2, 'pyarmor': 1, 'sku': 1, 'set-difference': 1, 'geotools': 1, 'jts': 2, 'yarn-lock.json': 2, 'has-many': 1, 'attempto': 1, 'battery': 3, 'stm8': 2, 'bun': 3, 'orbital-mechanics': 1, 'abstract-syntax-tree': 5, 'acorn': 1, 'string-view': 1, 'huggingface-tokenizers': 4, 'aad-b2c': 3, 'svd': 2, 'inno-setup': 3, 'hasura': 1, 'python-turtle': 6, 'graphql-java': 3, 'user-input': 7, 'delta-sharing': 1, 'njs': 2, 'axapta': 4, 'x++': 4, 'dynamics-ax-2012': 2, 'azure-search-.net-sdk': 1, 'passkey': 2, 'gremlin-server': 1, 'janus': 2, 'running-count': 1, 'avl-tree': 1, 'pass-by-value': 1, 'rmi': 1, 'viewport': 3, 'yang': 1, 'live': 1, 'miniconda': 2, 'quad': 2, 'chat': 10, 'dlib': 3, 'contenteditable': 1, 'pre-commit': 3, 'pnp-js': 1, 'bayesian-networks': 1, 'r2winbugs': 2, 'thunderbird': 2, 'read-unread': 1, 'user-management': 2, 'jaydebeapi': 1, 'waitress': 1, 'robocopy': 1, 'comtypes': 1, 'android-camera': 4, 'swagger-2.0': 5, 'path-provider': 2, 'konvajs': 2, 'konva': 5, 'pattern-recognition': 1, 'settimeout': 6, 'infinite-loop': 6, 'slam': 1, 'carla': 2, 'uglifyjs': 1, 'tensorflow-lite': 5, 'teamcity': 2, 'outlook-calendar': 1, 'twincat-ads': 1, 'twincat-ads-.net': 1, 'array-map': 4, 'mime': 2, 'hdfs': 4, 'react-native-ble-plx': 2, 'apache-spark-2.0': 1, 'apache-spark-3.0': 1, 'bdd': 4, 'ei': 1, 'zwcad': 1, 'named-pipes': 3, 'angular-library': 4, 'angular13': 1, 'django-crontab': 1, 'extended-precision': 1, 'selection': 3, 'back-testing': 3, 'lightweight-charts': 2, 'httpcontext': 1, 'spring-graphql': 2, 'payload': 3, 'shortest-path': 1, 'bellman-ford': 1, 'mutablestateof': 1, 'partial': 2, 'elf': 2, 'platform': 2, 'gravitee': 1, 'file-format': 2, 'python-class': 2, 'decay': 1, 'sigbus': 1, 'bsd': 2, 'bmake': 1, 'snowflake-stage': 2, 'openxlsx': 2, 'windows-services': 4, 'topshelf': 1, 'wallpaper': 2, 'angular-ui-bootstrap': 1, 'django-orm': 4, 'pyramid': 1, 'jooq': 2, 'email-verification': 3, 'pddl': 1, 'aws-api-gateway-v2': 1, 'adaptive-cards': 3, 'short': 3, 'wxpython': 3, 'sizer': 1, 'braintree': 1, 'simplejdbccall': 2, 'jasperserver': 2, 'android-input-method': 1, 'flask-celery': 1, 'keycloak-connect': 3, 'keycloak-gatekeeper': 1, 'icloud': 4, 'gfortran': 5, 'multiple-records': 2, 'workspace': 1, 'sfdatagrid': 2, 'sqlperformance': 1, 'drop-duplicates': 1, 'tclientdataset': 1, 'libgdx': 4, 'backwards-compatibility': 2, 'jdbctemplate': 8, 'elsa-workflows': 2, 'org.json': 1, 'android-studio-girafee': 1, 'n-gram': 1, 'better-sqlite3': 1, 'duration': 2, 'posixct': 1, 'activeadmin': 2, 'ransack': 2, 'vscode-tasks': 3, 'multivariate-time-series': 1, 'spring-3': 1, 'jtextpane': 1, 'datefilter': 1, 'dir-compare': 1, 'collection-json': 1, 'problog': 2, 'xquery': 4, 'basex': 1, 'boxplot': 3, 'brace-expansion': 1, 'timeserieschart': 1, 'concourse': 2, 'concourse-pipeline': 1, 'git-repo': 1, 'list-initialization': 1, 'class-members': 1, 'stdinitializerlist': 1, 'google-vpc': 3, 'style-dictionary': 2, 'design-tokens': 2, 'hdl': 7, 'quartus': 2, 'hotfix': 2, 'canvasjs': 1, 'min': 1, 'woocommerce-rest-api': 5, 'scoped': 1, 'higher-order-components': 1, 'react-native-flatlist': 4, 'ieee-754': 2, 'subnormal-numbers': 1, 'google-wallet': 2, 'sequelize-typescript': 2, 'elevated-privileges': 2, 'runas': 1, 'in-app-subscription': 5, 'flutter-in-app-purchase': 1, 'oracle.manageddataaccess': 1, 'custom-protocol': 3, 'sql-server-profiler': 1, 'angular-bootstrap': 1, 'serilog-sinks-mssqlserver': 1, 'jira-xray': 2, 'preview': 7, 'third-party-libraries': 2, 'backspace': 1, 'csh': 2, 'data-management': 2, 'data-lake': 1, 'google-cloud-kms': 1, 'key-management': 1, 'apollo': 2, 'mutation': 1, 'mailkit': 1, 'mimekit': 1, 'automation-testing': 6, 'testrigor': 1, 'missing-symbols': 1, 'geonames': 1, 'accelerometer': 1, 'measurement': 2, 'inertial-navigation': 1, 'receiver': 3, 'embree': 1, 'uvc': 1, 'shared-ptr': 1, 'selenium2library': 1, 'preforking': 1, 'react-native-webview': 3, 'qtquick2': 2, 'ag-grid-vue': 3, 'sas-macro': 1, 'react-memo': 1, 'hstack': 2, 'android-launcher': 1, 'farsi': 1, 'ab-testing': 1, 'loadbalancer': 1, 'javax.xml': 1, 'rxjs-observables': 1, 'cad': 2, 'record': 3, 'nestjs-config': 2, 'nestjs-passport': 2, 'nestjs-jwt': 1, 'deepspeed': 3, 'dbix-class': 1, 'p8': 1, 'authlib': 1, 'recover': 2, 'moodle': 4, 'lti': 1, 'vegan': 1, 'dart2js': 1, 'angular-template': 1, 'flutter-easy-localization': 2, 'windows-clustering': 1, 'html-select': 3, 'material-design-bootstrap': 1, 'spotfire': 2, 'device-tree': 2, 'logback': 7, 'spring-logback': 3, 'local-files': 1, 'simplemde': 1, 'mousehover': 1, 'onhover': 1, 'data-ingestion': 2, 'vscode-problem-matcher': 1, 'required': 3, 'unocss': 1, 'basename': 1, 'dynamic-tables': 2, 'android-pendingintent': 3, 'hubspot-api': 1, 'pycrypto': 1, 'table-partitioning': 1, 'crt': 1, 'libsystem': 1, 'protobufjs': 1, 'type-definition': 1, 'blue-green-deployment': 2, 'novnc': 1, 'grok': 1, 'frp': 2, 'rospy': 2, 'dagger-hilt': 9, 'soc': 1, 'samd21': 1, 'scrapyd': 1, 'caddyfile': 1, 'mercure': 1, 'saf': 1, 'vue-render-function': 1, 'scikit-survival': 1, 'bookshelf.js': 1, 'rx-swift': 1, 'glassfish-4.1': 1, 'python-behave': 2, 'pytest-bdd': 2, 'buildpath': 1, 'grepl': 2, 'mars-simulator': 1, 'eager-loading': 1, 'html-webpack-plugin': 1, 'mini-css-extract-plugin': 2, 'webpack-html-loader': 1, 'selecteditem': 1, 'wiremock-standalone': 3, 'multiple-inheritance': 3, 'template-toolkit': 1, 'classnotfound': 1, 'face-api': 1, 'video-toolbox': 1, 'lean': 4, 'pynput': 1, 'pgadmin-4': 5, 'mininet': 1, 'google-cloud-vm': 1, 'osmdroid': 1, 'query-string': 3, 'okta-api': 1, 'uber-api': 1, 'boxable': 1, 'xjc': 1, 'dead-letter': 1, 'confluent-cloud': 1, 'mkv': 1, 'distribution': 3, 'c++-modules': 5, 'pdf-extraction': 1, 'jbig2': 1, 'ocrmypdf': 2, 'fastq': 1, 'android-testing': 3, 'android-instrumentation': 1, 'firebase-test-lab': 1, 'firebase-app-distribution': 1, 'internal-app-sharing': 1, 'visreg': 2, 'render-to-texture': 2, 'datatables-1.10': 1, 'aws-sdk-js': 2, 'ioexception': 2, 'sharpziplib': 1, 'facebook-php-sdk': 1, 'mapr': 1, 'ios16': 3, 'episerver': 1, 'optimizely': 1, 'episerver-forms': 1, 'slickgrid': 1, 'angular-slickgrid': 2, 'slickgriduniversal': 1, 'intervention': 1, 'flutter-video-player': 1, 'sql-order-by': 2, 'pytest-mock': 3, 'php-pest': 2, 'kudu': 1, 'gcs': 1, 'google-cloud-cdn': 1, 'hyper': 1, 'saga': 1, 'camel-saga': 1, 'file-handling': 4, 'bigdecimal': 1, 'erc20': 3, 'angular-material-tab': 1, 'j': 3, 'apache-pulsar': 2, 'graphql-spring-boot': 1, 'pg': 1, 'stat': 2, 'project-loom': 2, 'fl-chart': 1, 'screencapturekit': 2, 'move-semantics': 3, 'decltype': 1, 'qcamera': 1, 'latitude-longitude': 6, 'gijgo-grid': 1, 'oraclelinux': 1, 'bootstrap-select': 1, 'arrow-keys': 1, 'amazon-waf': 2, 'calibration': 3, 'rtsp-client': 2, 'github-for-windows': 1, 'apache-hudi': 2, 'fiftyone': 1, 'plotly.graph-objects': 1, 'azure-web-pubsub': 1, 'azure-pubsub': 1, 'kraft': 1, 'wolfssl': 1, 'papaparse': 2, 'azure-stream-analytics': 1, 'i3': 1, 'perf': 4, 'intel-pmu': 1, 'ffmpeg-wasm': 1, 'goland': 2, 'pytest-fixtures': 2, 'stacked-bar-chart': 4, 'mouselistener': 1, 'redash': 2, 'postgresql-9.1': 2, 'android-theme': 3, 'reduce': 2, 'bezier': 2, 'swupdate': 1, 'virtual-network-interface': 1, 'connection-timeout': 2, 'xero-api': 1, 'javax.imageio': 1, 'twelvemonkeys': 1, 'system': 6, 'downgrade': 2, 'paddle-paddle': 2, 'paddle': 2, 'uiviewcontroller': 3, 'uinavigationcontroller': 1, 'uivisualeffectview': 1, 'spatie-activitylog': 1, 'websphere-9': 1, 'appstore-approval': 1, 'cgfloat': 1, 'swiftui-layout': 2, 'vector-search': 1, 'navcontroller': 1, 'jsonify': 1, 'java-home': 3, 'google-container-registry': 1, 'digital': 2, 'computer-forensics': 2, 'invoice': 5, 'star-schema-datawarehouse': 1, 'kimball': 1, 'stripes': 2, 'flutter-circularprogressindicator': 1, 'indexoutofboundsexception': 2, 'google-mlkit': 3, 'pose-estimation': 2, 'alarmmanager': 5, 'cleardb': 2, 'raw': 2, 'mongodb-indexes': 1, 'event-driven': 1, 'hidden-files': 1, 'microsoft-file-explorer': 1, 'smoothing': 2, 'curve': 2, 'fable-r': 2, 'fabletools': 1, 'react-native-snap-carousel': 1, 'graph-databases': 4, 'unload': 1, 'shinymodules': 1, 'nuxmv': 1, 'tvos': 3, 'undefined': 6, 'mysql-error-1044': 1, 'faster-rcnn': 1, 'apm': 6, 'gravity': 3, 'uniswap': 3, 'cas': 2, 'aws-iam-policy': 1, 'documentformat': 3, 'configserver': 1, 'sd-card': 2, 'proactive-message': 2, 'wagtail-admin': 2, 'wagtail-snippet': 1, 'safeareaview': 1, 'draggesture': 4, 'array-push': 1, 'trait-bounds': 1, 'opengl-es': 7, 'es6-promise': 3, 'realloc': 2, 'lexical': 1, 'ntext': 1, 'consensus': 3, 'go-libp2p': 1, 'associative': 1, 'text-styling': 1, 'blessed': 1, 'ignition': 1, 'oryx': 1, 'gson': 2, 'x11-forwarding': 1, 'gsheets': 2, 'semantics': 1, 'dokku': 1, 'weblogic': 2, 'vscode-pdf': 1, 'hfs': 2, 'functional-interface': 1, 'sudoku': 1, 'django-csrf': 2, 'memory-leak-detector': 1, 'visualsvn': 1, 'excel-solver': 1, 'autosys': 2, 'xcframework': 3, 'solar2d': 1, 'scrapy-playwright': 2, 'mapquest': 1, 'database-roles': 1, 'chat-gpt-4': 3, 'powerpivot': 1, 'expansion': 1, 'keychain': 1, 'cuckoo': 1, 'lxml': 4, 'playlist': 2, 'iconv': 1, 'netbeans-platform': 1, 'mobx': 4, 'mobx-react': 5, 'amazon-lightsail': 2, 'electronic-signature': 4, 'visio': 2, 'branch-prediction': 1, 'scp': 3, 'snapshot': 2, 'jetpack-compose-modalbottomsheet': 2, 'numeric-limits': 1, 'polyhedra': 1, 'file-location': 1, 'countable': 1, 'icloud-drive': 1, 'django-signals': 3, 'xamarin.essentials': 1, 'gated-recurrent-unit': 1, 'gru': 1, 'hashicorp-vault': 2, 'spring-cloud-config-client': 1, 'react-dom': 2, 'string-to-datetime': 1, 'contextmenu': 5, 'panresponder': 1, 'terratest': 1, 'swt': 1, 'jframe': 4, 'jpasswordfield': 1, 'dsbulk': 1, 'sybase': 3, 'sap-iq': 1, 'offlineapps': 1, 'gallery': 1, 'email-validation': 2, 'plc': 2, 'opc': 2, 'dde': 1, 'transfer-learning': 1, 'mumps': 2, 'outer-product': 1, 'discord-buttons': 1, 'thonny': 6, 'mojolicious': 1, 'repository-pattern': 1, 'sendinput': 1, 'conio': 1, 'serenity-bdd': 1, 'cucumber-serenity': 1, 'ado': 2, 'xls': 1, 'test-plan': 2, 'bastion-host': 1, 'kanban': 2, 'docker-for-mac': 1, 'ocean': 1, 'digital-ocean-apps': 1, 'indy': 1, 'flyway': 3, 'avplayer': 3, 'quantitative-finance': 5, 'zeroshot-classification': 1, 'filenotfounderror': 1, 'loading': 4, 'spotify-app': 2, 'drawing': 5, 'shinyjs': 3, 'pathlib': 1, 'array-difference': 1, 'array-initialization': 1, '360-panorama': 1, 'pannellum': 1, 'coderunner': 2, 'xmllint': 1, 'custom-ui': 1, 'test-bench': 1, '8-bit': 2, 'image-cropper': 1, 'azure-ml-pipelines': 1, 'azure-promptflow': 2, 'uint8t': 1, 'uint8array': 1, 'chararray': 1, 'mtu': 1, 'azure-mobile-services': 1, 'git-patch': 1, 'git-am': 1, 'convertapi': 2, 'file-get-contents': 2, 'zsh-completion': 1, 'squid': 2, 'azure-devops-extensions': 1, 'strict-aliasing': 1, 'python-install': 1, 'winsock2': 3, 'netstat': 1, 'jira-agile': 2, 'virtualenvwrapper': 1, 'class-instance-variables': 1, 'rust-no-std': 1, 'managed': 2, 'ionos': 2, 'runner': 1, 'phpspreadsheet': 1, 'phpoffice-phpspreadsheet': 1, 'exactly-once': 2, 'kafka-transactions-api': 2, 'autosar': 3, 'pdu': 1, 'grayscale': 1, 'bitmapimage': 2, 'lamp': 2, 'openfst': 1, 'chromecast': 1, 'google-cast': 1, 'google-cast-sdk': 1, 'colormap': 1, 'paraview': 1, 'wmic': 2, 'surface-pro': 1, 'site24x7': 1, 'semantic-search': 1, 'wpf-controls': 3, 'xctest': 3, 'xcuitest': 2, 'xcuiautomation': 2, 'fixest': 2, 'relational-division': 1, 'iisreset': 1, 'joi': 1, 'wildcard': 1, 'laravel-permission': 2, 'querydsl': 2, 'confirmation': 1, 'cuda-uva': 1, 'a-star': 2, 'webdrivermanager-java': 1, 'sequence-diagram': 2, 'cudatoolkit': 1, 'javadoc': 3, 'maven-javadoc-plugin': 1, 'kotlinx': 2, 'bloom': 1, 'flex-lexer': 4, 'implicit-conversion': 1, 'htmlsession': 1, 'eviews': 1, 'ardl': 1, 'squash': 1, 'getstream-io': 2, 'flutter-textformfield': 1, 'system.reactive': 3, 'rx.net': 2, 'material-table': 1, 'language-agnostic': 3, 'goto': 1, 'animated-gif': 2, 'enumerate': 3, 'iconbutton': 1, 'flutter-button': 1, 'face': 1, 'insight': 1, 'tinytex': 1, 'physics-engine': 2, 'routerlink': 1, 'off-canvas-menu': 1, 'aws-graviton': 1, 'square': 2, 'virtualhost': 3, 'virtual-camera': 1, 'chrony': 1, 'wcag': 2, 'restfb': 1, 'qwebview': 1, 'multiple-results': 1, 'msw': 1, 'biblatex': 1, 'postman-collection-runner': 2, 'postman-pre-request-script': 1, 'changestream': 1, 'playwright-python': 6, 'alpha-beta-pruning': 1, 'rocky-os': 1, 'recommendation-engine': 1, 'matrix-factorization': 1, 'subscriber': 2, 'usdz': 1, 'retry-logic': 2, 'aws-sqs-fifo': 1, 'otrs': 1, 'ticket-system': 2, 'x-axis': 1, 'serverless-webpack-plugin': 1, 'projection-matrix': 1, 'camera-matrix': 1, 'chunking': 1, 'doctrine': 7, 'symphony-cms': 1, 'truedepth-camera': 2, 'nuitka': 1, 'fancybox': 1, 'bitronix': 1, 'blazor-bootstrap': 1, 'textlocal': 2, 'semantic-versioning': 2, 'package-management': 1, 'kerberos-delegation': 1, 'virtualscroll': 1, 'calculated-field': 1, 'jstl': 2, 'sql-agent-job': 1, 'real-time': 6, 'libavcodec': 2, 'rq': 1, 'smarty3': 2, 'sqlcommand': 1, 'multi-agent-reinforcement-learning': 2, 'react-notifications-component': 1, 'spring-context': 1, 'minecraft-forge': 2, 'scapy': 3, 'app-initializer': 1, 'delphi-2010': 1, 'rfid': 3, 'on-demand-resources': 1, 'bulk-load': 3, '2phase-commit': 1, 'file-sharing': 1, 'android-sharing': 1, 'aws-iot-core': 1, 'react-leaflet-v4': 2, 'lazy-initialization': 1, 'visual-studio-test-runner': 1, 'purrr': 1, 'typedef': 3, 'media': 2, 'wordpress-media': 1, 'wpbakery': 1, 'kinect': 1, 'laravel-valet': 3, 'bottom-sheet': 7, 'web3-react': 1, 'saleslogix': 1, 'yocto-layer': 1, 'ocaml': 1, 'ocamllex': 1, 'ocamlyacc': 1, '3d-modelling': 2, 'alpha': 1, 'serviceloader': 1, 'build-tools': 2, 'blogs': 1, 'azure-logic-app-standard': 1, 'checkmarx': 1, 'idisposable': 1, 'cefsharp': 4, 'etcd': 1, 'patroni': 1, 'aws-credentials': 1, 'mui-x': 3, 'nearest-neighbor': 2, 'artifacts': 1, 'vuetify-datatable': 1, 'fixtures': 1, 'unix-socket': 2, 'triangulation': 2, 'motion': 1, 'inputmismatchexception': 1, 'solr9': 1, 'sequence-points': 1, 'synchronous': 4, 'delta-rs': 1, 'standard-deviation': 1, 'friend-function': 1, 'lvm': 2, 'orphan': 1, 'sonata-admin': 1, 'sonata': 1, 'zshrc': 3, 'http-delete': 1, 'safehandle': 1, 'edit': 1, 'apprtc': 1, 'python-oracledb': 2, 'delete-file': 1, 'xsd.exe': 1, 'camera-intrinsics': 1, 'dlt': 1, 'crash-reports': 1, 'talkback': 2, 'system.drawing': 1, 'tsqlt': 1, 'hatch': 2, 'sodium': 1, 'rectangles': 5, 'req': 1, 'httr2': 1, 'tasker': 3, 'lighting': 1, 'gameplay-kit': 1, 'plsqldeveloper': 1, 'yarn-v4': 1, 'tensorflow1.15': 2, 'aws-security-group': 2, 'nextui': 3, 'unetstack': 3, 'slidetoggle': 1, 'asp.net-core-localization': 1, 'iso-3166': 1, 'google-translate': 3, 'googletrans': 2, 'cacerts': 1, 'firebase-analytics': 2, 'clone': 6, 'simulink': 4, 'legacy-code': 1, 'bridging': 1, 'zpl': 1, 'zebra': 1, 'flutter-workmanager': 2, 'docker-registry': 4, 'harbor': 1, 'htmlcollection': 1, 'brother-print-sdk': 1, 'staking': 1, 'facebook-pixel': 1, 'chain': 2, 'angular-cli': 3, 'closures': 5, 'olap-cube': 1, 'continuous-deployment': 3, 'salesforce-developer': 1, 'sqlcipher': 1, 'rails-event-store': 1, 'python-internals': 1, 'virtual-keyboard': 2, 'android-virtual-keyboard': 1, 'array-agg': 1, 'tabular': 1, 'imbalanced-data': 1, 'tensorrt-python': 1, 'nswag': 1, 'fontconfig': 1, 'apache-httpcomponents': 1, 'object-detection-api': 2, 'react-google-maps': 1, 'python-sockets': 2, 'mat-autocomplete': 2, 'android-music-player': 2, 'linear-search': 1, 'user-defined-variables': 1, 'django-q': 1, 'shorebird': 1, 'cdi': 1, 'criteria-api': 2, 'completable-future': 2, 'argparse.jl': 1, 'data-synchronization': 1, 'syncthing': 1, 'geoip': 1, 'konga': 1, 'ip-blocking': 2, 'influxql': 1, 'windows-update': 1, 'sfc': 1, 'remarkjs': 1, 'kubernetes-apiserver': 1, 'fabric8-kubernetes-client': 1, 'subtotal': 1, 'weblogic12c': 1, 'weblogic9.x': 1, 'jcrop': 2, 'coords': 2, 'deselect': 1, 'imageareaselect': 2, 'openshift-origin': 1, 'qaf': 1, 'appium-java': 1, 'swagger-maven-plugin': 1, 'sortablejs': 2, 'directx-12': 2, 'jackson-dataformat-xml': 1, 'winrm': 2, 'mips64': 1, 'sap-pi': 1, 'aspect-ratio': 2, 'pusher-js': 2, 'laravel-websockets': 1, 'seven-segment-display': 1, 'ftps': 1, 'apache-commons-net': 1, 'alpakka': 1, 'pact-net': 1, 'pdfa': 1, 'react-lazy-load': 1, 'google-local-search': 1, 'jbpm': 4, 'imdb': 3, 'djoser': 1, 'sketchware': 1, 'sha1': 1, 'integrity': 1, 'font-size': 1, 'float32': 1, 'device-orientation': 1, 'pymqi': 1, 'percentage': 2, 'asp.net-apicontroller': 1, 'apache-httpclient-4.x': 1, 'node-windows': 1, 'scientific-computing': 3, 'system.data.sqlite': 2, 'android-gps': 1, 'react-native-ble-manager': 1, 'openid': 1, 'low-latency': 3, 'waf': 1, 'pci-e': 2, 'pci-bus': 1, 'angular-cdk-overlay': 1, 'cloud-foundry': 3, 'remote-branch': 1, 'pyinfra': 1, 'terraform-cli': 1, 'binance-api-client': 2, 'questasim': 1, 'rdd': 1, 'symfonyux': 2, 'inverse-transform': 1, 'lwjgl': 5, 'joml': 1, 'git-rev-list': 2, 'fisheye': 1, 'sealed': 1, 'android-jetpack-compose-list': 1, 'android-mediaprojection': 1, 'malformed': 1, 'lc3': 1, 'date-format': 1, 'cultureinfo': 1, 'intellij-14': 3, 'nats.io': 1, 'smartcard': 3, 'smartcard-reader': 3, 'selectpdf': 1, 'joomla-component': 1, 'uimenuitem': 1, 'bcrypt': 7, 'tello-drone': 1, 'odm': 2, 'keyman': 1, 'keyman-developer': 1, 'hana': 7, 'sap-cap': 4, 'azure-configuration': 1, 'flutter-routes': 2, 'php-8.1': 3, 'merge-conflict-resolution': 1, 'git-workflow': 1, 'feature-branch': 1, 'c#-ziparchive': 1, 'auto': 3, 'puzzle': 4, 'spatial-query': 1, 'persian-calendar': 1, 'sepa': 1, 'slot': 2, 'micrometer': 1, 'taipy': 3, 'esxi': 2, 'swiftui-charts': 2, 'web-testing': 7, 'electronic-direct-mail': 1, 'hyperledger-composer': 1, 'hyperledger-chaincode': 3, 'delegation': 1, 'communication': 2, 'azure-pipelines-release-pipeline': 1, 'federated-identity': 2, 'scaffolding': 1, 'scaffold': 2, 'hoisting': 1, 'spawn': 1, 'chrome-custom-tabs': 1, 'parallels': 1, 'react-flow': 2, 'shopee': 1, 'jfrog-cli': 1, 'modeling': 1, 'react-native-tabnavigator': 1, 'jks': 3, 'nsattributedstring': 3, 'apache-phoenix': 2, 'langchain-js': 4, 'qdrant': 2, 'nhibernate': 2, 'fluent-nhibernate': 2, 'nxp-microcontroller': 1, 'segger-jlink': 1, 'mpeg': 1, 'chrome-web-store': 1, 'google-chrome-webview': 1, 'cracking': 1, 'x64dbg': 1, 'contact-form-7': 2, 'calayer': 1, 'uiwindow': 1, 'powershell-7.3': 1, 'ldd': 1, 'phone-number': 1, 'save-image': 1, 'wgs84': 1, 'esri-maps': 1, 're2': 2, 'tabula': 1, 'gdi+': 2, 'production-environment': 1, 'drawer': 1, 'react-spring': 1, 'linux-mint': 1, 'dotnet-tool': 1, 'ejb': 1, 'form-control': 1, 'mat-error': 1, 'wp-admin': 1, 'front-controller': 1, 'instagram-api': 4, 'stdatomic': 1, 'readwritelock': 1, 'sdlc': 1, 'swagger-3.0': 1, 'nxjs': 2, 'httplib': 1, 'react-native-permissions': 1, 'react-native-image-crop-picker': 2, 'searchkick': 1, 'yield': 2, 'concurrently': 1, 'react-suspense': 3, 'seleniumbase': 1, 'generate': 1, 'causality': 2, 'causal-inference': 3, 'dowhy': 1, 'openai-whisper': 5, 'apache-fineract': 2, 'formatdatetime': 2, 'spring-cloud-gateway': 3, 'ibm-watson': 1, 'watson-assistant': 1, 'powershell-3.0': 2, 'android-kernel': 1, 'dc.js': 1, 'crossfilter': 1, 'behat': 1, 'mjpeg': 1, 'subnet': 4, 'azure-alerts': 2, 'yahoo': 2, 'yahoo-api': 1, 'yahoo-mail': 1, 'textcolor': 1, 'scanning': 3, 'nested-if': 1, 'kubernetes-cronjob': 1, 'iges': 1, 'dyld': 1, 'observablecollection': 1, 'alm': 1, 'espressif-idf': 1, 'datagram': 1, 'blank-line': 1, 'window-size': 2, 'layout-viewport': 3, 'mailchimp': 1, 'bigcartel': 1, 'in-app-billing': 2, 'tpkeyboardavoiding': 1, 'sqflite': 2, 'dce': 1, 'ifs': 1, 'ln': 1, 'sliding-window': 1, 'reminders': 1, 'url-scheme': 3, 'jenkins-cli': 1, 'magnolia': 1, 'nbomber': 1, 'asp.net-mvc-5': 1, 'entity-framework-6': 1, 'soft-delete': 1, 'google-one-tap': 1, 'fedcm': 1, 'modelio': 1, 'commonjs': 5, 'dotfiles': 1, 'pose': 1, 'g2o': 1, 'gauche': 1, 'chat-copilot': 1, 'free': 3, 'factoextra': 1, 'vue3-openlayers': 1, 'second-level-cache': 1, 'windows-server-2022': 3, 'next-link': 1, 'magma-ca': 1, 'galera': 1, 'spring-starter': 1, 'app-bundle': 1, 'liferay-7': 1, 'least-privilege': 1, 'wstring': 1, 'android-mvvm': 2, 'android-paging': 1, 'csvreader': 1, 'nothing': 1, 'dynamodb-queries': 4, 'google-apps-script-api': 1, 'enzyme': 1, 'server-sent-events': 7, 'responsestream': 1, 'netcat': 2, 'csr': 1, 'gui-testing': 3, 'css-shapes': 1, 'encryption-symmetric': 2, 'kubernetes-secrets': 3, 'backslash-commands': 1, 'pfsense': 1, 'ctf': 1, 'junit4': 2, 'readme': 1, 'chai-as-promised': 1, 'watch': 1, 'ktlint': 2, 'houghcircles': 1, 'java.util.date': 2, 'eid': 1, 'node-canvas': 1, 'cordova-ios': 1, 'cypress-cucumber-preprocessor': 2, 'cypress-origin': 1, 'naiveui': 1, 'multiprocess': 4, 'cookiejar': 1, 'asp.net-ajax': 1, 'xilinx': 2, 'dpdk': 1, 'vfio': 1, 'dpdk-pmd': 1, 'starship': 2, 'window-soft-input-mode': 1, 'ezdxf': 3, 'image-conversion': 2, 'heic': 1, 'roblox-studio': 9, 'string-concatenation': 3, 'pyusb': 1, 'nagios': 1, 'thruk': 1, 'rspec-rails': 2, 'shoulda-matchers': 1, 'dicom': 1, 'dicomweb': 1, 'xml-deserialization': 1, 'business-objects': 1, 'response-entity': 1, 'vivado': 5, 'apptrackingtransparency': 1, 'video-codecs': 1, 'relocation': 1, 'getter-setter': 2, 'escape-analysis': 1, 'raspberry-pi2': 1, 'zap': 1, 'zapier-cli': 1, 'eas': 8, 'servicenow-client-scripts': 1, 'sqlsrv': 1, 'etherscan': 1, 'delta': 2, 'alex': 2, 'serial-communication': 1, 'phonepe': 2, 'acumatica-kb': 1, 'auto-route': 1, 'tenancy': 1, 'signtool': 1, 'msix': 2, 'missingmethodexception': 1, 'pdftron': 1, 'grpc-c++': 1, 'qpid-proton': 2, 'jquery-ui-datepicker': 2, 'replaceall': 1, 'power-management': 1, 'logback-classic': 1, 'datacontext': 1, 'contentpresenter': 1, 'nstextview': 2, 'nstextstorage': 1, 'mail-server': 1, 'telecommunication': 3, 'angular-errorhandler': 1, 'cmsmadesimple': 1, 'servlet-filters': 1, 'togglebutton': 1, 'webdriver-io': 4, 'webdriver-io-v4': 1, 'nicegui': 3, 'applepay': 1, 'background-color': 4, 'jmeter-plugins': 1, 'greatest-n-per-group': 1, 'data-corruption': 1, 'office-automation': 1, 'mod-proxy': 1, 'legacy': 2, 'mousewheel': 1, 'plesk': 3, 'android-tv': 6, 'excel-2007': 1, 'docstring': 1, 'sweetalert2': 2, 'android-package-managers': 2, 'ora2pg': 2, 'react-native-fbsdk-next': 1, 'arcgis-js-api': 4, 'compose-multiplatform': 5, 'neo4j-ogm': 1, 'fluentd': 2, 'com+': 2, 'audiounit': 1, 'smtp-server': 1, 'kernighan-and-ritchie': 1, 'tcpdf': 2, 'pades': 1, 'lockscreen': 2, 'android-lockscreenwidget': 1, 'syntax-highlighting': 5, 'nano': 1, 'cloudwatch-alarms': 2, 'amazon-billing': 3, 'ftp': 6, 'lftp': 1, 'duplicity': 1, 'remap': 1, 'vs-code-settings': 1, 'laravel-routing': 1, 'gpu.js': 1, 'typename': 1, 'event-viewer': 2, 'nim-lang': 1, 'postmessage': 1, 'rcpparmadillo': 1, 'rcppparallel': 1, 'recordtype': 1, 'uiscrollview': 1, 'uistackview': 1, 'vscode-code-runner': 2, 'entropy': 1, 'react-native-maps': 2, 'cross-reference': 1, 'mastercard': 1, 'swoole': 1, 'laravel-octane': 1, 'delete-row': 2, 'wai-aria': 2, 'xcdatamodel': 1, 'ujson': 1, 'upickle': 1, 'mockk': 1, 'one-time-password': 2, 'locked': 1, 'instascan': 1, 'dynamically-generated': 1, 'sre': 1, 'jquery-ui-selectable': 2, 'aeron': 1, 'foreground': 1, 'responsiveness': 3, 'huggingface-api': 1, 'simplex-noise': 2, 'nav': 1, 'llvm-ir': 2, 'gam': 2, 'mgcv': 2, 'adjacency-matrix': 1, 'division': 3, 'pseudocode': 1, 'information-retrieval': 3, 'unstructured-data': 1, 'rtl-sdr': 2, 'esp-12f': 1, 'powerset': 1, 'bitmask': 1, 'ruff': 1, 'criteria': 1, 'expo-av': 2, 'pre-build-event': 1, 'nlua': 1, 'bytecode': 1, 'samesite': 1, 'last-insert-id': 1, 'bubble.io': 1, 'obd-ii': 1, 'hc-05': 1, 'code-injection': 1, 'monkeypatching': 2, 'pester': 1, 'uitextfielddelegate': 1, 'android-viewbinding': 1, 'unity3d-2dtools': 1, 'trx': 1, 'datajoint': 1, 'jjwt': 1, 'chalk': 1, 'non-repetitive': 1, 'winui': 2, 'browserlist': 2, 'android-cookiemanager': 1, 'iterm2': 2, 'mono': 2, 'virtual-reality': 2, 'steamvr': 2, 'manual-testing': 1, 'drf-yasg': 1, 'next-images': 1, 'observer-pattern': 2, 'shared-hosting': 2, 'firebaseui': 1, 'linkedblockingqueue': 1, 'iso': 2, 'onnxruntime': 4, 'directml': 1, 'vendor': 1, 'laravel-package': 1, 'conan-2': 2, 'qhull': 1, 'orange': 3, 'formarray': 2, 'angular-formbuilder': 1, 'flutter-state': 1, 'contextmanager': 1, 'rosetta': 1, 'rosetta-2': 1, 'divide': 1, 'gradio-chatinterface': 4, 'maatwebsite-excel': 2, 'power-platform': 2, 'lektor': 1, 'setup.py': 1, 'slowdown': 1, 'distube': 1, 'google-street-view': 1, 'rppico': 1, 'image-generation': 1, 'public-key': 1, 'setx': 2, 'google-api-dotnet-client': 2, 'multimodal': 3, 'webauthn': 2, 'turkish': 1, 'simplexml': 1, 'android-room-migration': 2, 'retool': 1, 'ryujit': 1, 'iokit': 1, 'aws-amplify-cli': 4, 'spring-resource-server': 1, 'php-7.4': 1, 'fast-refresh': 1, 'cachestorage': 1, 'aws-certificate-manager': 1, 'gitlab-ce': 1, 'kmk': 1, 'online-game': 1, 'cannon.js': 1, 'delphi-multithreading': 1, 'nsis': 1, 'periodic-task': 1, 'django-celery-beat': 1, 'tabulate': 2, 'sequence-alignment': 1, 'python-tabulate': 1, 'hackintosh': 2, 'laravel-vue': 1, 'react-ref': 1, 'aws-permissions': 1, 'controlsfx': 2, 'lightmode': 1, 'mod-auth-openidc': 1, 'preserve': 3, 'flutter-cupertino': 1, 'development-environment': 3, 'shiny-reactivity': 1, 'neon': 1, 'yuv': 1, 'clingo': 1, 'nestjs-typeorm': 1, 'addressables': 2, 'binlog': 1, 'puppeteer-sharp': 3, 'phoenix-live-view': 2, 'validationerror': 1, 'static-typing': 1, 'uefi': 2, 'arxiv': 1, 'parsec': 1, 'rti-dds': 1, 'asyncstorage': 3, 'twitter-api-v2': 6, 'interactive-brokers': 3, 'spiral': 1, 'maven-indexer': 1, 'file-extension': 1, 'webdeploy': 2, 'tps': 1, 'keystonejs': 2, 'quarkus-native': 1, 'crafting-interpreters': 1, 'cubit': 1, 'flutter-cubit': 1, 'scipy.stats': 2, 'programming-languages': 1, 'github-linguist': 1, 'appdelegate': 1, 'arraybuffer': 1, 'video-card': 1, 'nvlink': 1, '3cx': 3, 'flutter-bottomnavigation': 1, 'flutter-pageview': 1, 'duende-identity-server': 1, 'core-animation': 1, 'cgaffinetransform': 1, 'imap': 3, 'pycuda': 3, 'iequatable': 1, 'ctags': 1, 'universal-ctags': 1, 'eyeshot': 1, 'scs': 1, 'pointofservice': 1, 'git-add': 1, 'url-parameters': 1, 'superglobals': 1, 'tsup': 1, 'docker-build': 3, 'vnet': 2, 'equals': 4, 'hashcode': 2, 'sequel': 1, 'google-appsheet': 2, 'astropy': 2, 'astronomy': 4, 'wrk': 1, 'jsf-2': 1, 'drm': 1, 'nosuchfileexception': 1, 'videosdk.live': 3, 'passenger': 1, 'custom-controls': 2, 'yt-dlp': 1, 'likert': 1, 'qmake': 1, 'amazon-memory-db': 1, 'freebsd': 4, 'sslpinning': 1, 'multipath': 1, 'z3py': 1, '5g': 1, 'sqlite3-python': 2, 'stop-words': 1, 'spring-mybatis': 4, 'radare2': 1, 'cypress-each': 1, 'semantic-segmentation': 1, 'mineflayer': 2, 'corrupt-data': 1, 'wavesurfer.js': 1, 'startup': 2, 'protobuf-net': 1, 'protobuf-java': 1, 'grpc-go': 2, 'protobuf-go': 1, 'winverifytrust': 1, 'cgo': 1, 'facebook-sharer': 1, 'dotnetcorecli': 1, 'branching-and-merging': 1, 'protected-branches': 1, 'ecmascript-2020': 1, 'dylib': 1, 'conventions': 1, 'flow-control': 1, 'postcss': 1, 'postcss-loader': 2, 'blogger': 4, 'flutter-design': 2, 'go-html-template': 2, 'watchkit': 2, 'for-of-loop': 1, 'shopware6-app': 2, 'exc-bad-access': 1, 'simple-form': 1, 'application-security': 1, 'web-developer-toolbar': 2, 'quantlib': 1, 'react-native-call-keep': 1, 'trace32': 1, 'landscape': 1, 'arcmap': 1, 'keras-rl': 1, 'bufferedimage': 1, 'vue-props': 4, 'concourse-git-resource': 1, 'hotchocolate': 2, 'save-as': 1, 'inputsimulator': 1, 'facebook-c#-sdk': 1, 'nestedscrollview': 1, 'webcrypto-api': 1, 'android-contextmenu': 1, 'bunifu': 1, 'vertical-text': 1, 'quic': 3, 'http3': 2, 'webtransport': 7, 'ora-06550': 1, 'self-signed': 2, 'webgpu': 2, 'code-contracts': 1, 'bidirectional': 3, 'factory': 2, 'typeinfo': 1, 'class-factory': 1, 'asp.net-core-css-isolation': 1, 'iio': 1, 'android-bottomsheetdialog': 1, 'ordinal': 1, 'smote': 1, 'oversampling': 1, 'pandas-loc': 1, 'cosine-similarity': 4, 'lsa': 2, 'qscintilla': 1, 'flutter-macos': 1, 'customclipper': 1, 'python-dotenv': 3, 'dictvectorizer': 1, 'gelf': 1, 'custom-widgets': 2, 'real-time-data': 1, 'apache-tiles': 1, 'iis-7': 2, 'floating-accuracy': 4, 'identity-management': 1, 'maxmind': 1, 'system.windows.media': 1, 'difference': 1, 'p-value': 1, 'grouped-bar-chart': 1, 'pydub': 3, 'mplab': 1, 'proteus': 1, 'internet-explorer': 1, 'sql-timestamp': 1, 'word-list': 1, 'qudpsocket': 1, 'windows-rs': 1, 'pygal': 1, 'server-side': 4, 'cucumber-java': 2, 'keymapping': 1, 'wikidata-query-service': 2, 'google-maps-flutter': 3, 'primefaces-dataexporter': 2, 'nlp.js': 1, 'network-load-balancer': 2, 'mybatis-mapper': 3, 'blazorise': 3, 'dwg': 1, 'mdns': 1, 'hierarchical-data': 2, 'aws-documentdb-mongoapi': 2, 'tf.data.dataset': 1, 'processmaker': 1, 'parallel.foreach': 1, '.net-4.5': 1, 'zooming': 4, 'c#-3.0': 1, 'spl-autoload-register': 1, 'rsocket': 3, 'openwebrtc': 1, 'flutter-positioned': 3, 'keras-tuner': 1, 'dramatiq': 1, 'dynamic-sql': 1, 'node-pools': 1, 'gnu-parallel': 1, 'git-completion': 1, 'model-comparison': 1, 'arviz': 2, 'carplay': 3, 'sycl': 1, 'folderbrowserdialog': 1, 'medium-editor': 1, 'docusigncompositetmplts': 1, 'formik-material-ui': 1, 'tizen-studio': 1, 'tizen-tv': 1, 'nsviewrepresentable': 1, 'bunnycdn': 1, 'hunspell': 1, 'hyphenation': 1, 'robotics': 2, 'uibackgroundcolor': 1, 'kendo-scheduler': 1, 'kendo-react-ui': 1, 'kendo-contextmenu': 1, 'azure-cloud-shell': 1, 'formatexception': 1, 'eel': 2, 'ttkthemes': 2, 'pinterest-api': 1, 'extention-cli': 1, 'scala-macros': 1, 'izumi': 1, 'aggregates': 1, 'go-http': 1, 'waitgroup': 2, 'uno-platform': 1, 'h3': 1, 'tumblr': 3, 'probability-theory': 1, 'proxies': 1, 'creative-cloud': 1, 'google-jax': 1, 'skyfield': 1, 'web-mediarecorder': 1, 'beef': 1, 'google-chrome-storage': 1, 'masm64': 1, 'autoscaling': 4, 'excel-external-data': 1, 'doctest': 1, 'verbose': 1, 'vmdk': 1, 'grafana-api': 1, 'rider': 4, 'run-configuration': 1, 'agora': 1, 'add-on': 2, 'tree-traversal': 1, 'cvzone': 1, 'android-vectordrawable': 2, 'automator': 1, 'flatpak': 1, 'vscodium': 2, 'angular-routerlink': 1, 'prose-mirror': 1, 'remirror': 1, 'injectable': 1, 'prettytable': 2, 'colorama': 3, 'http-status-code-403': 1, 'fiddler': 1, 'google-secret-manager': 3, 'kestrel-http-server': 1, 'singly-linked-list': 3, 'multi-layer': 1, 'complex-networks': 1, 'geom-point': 2, 'ggrepel': 2, 'textlabel': 1, 'sirishortcuts': 1, 'intersection-types': 1, 'copying': 1, 'video-compression': 1, 'swiftui-matchedgeometryeffect': 1, 'sjplot': 2, 'chrome-for-testing': 2, 'buildx': 1, 'hamming-distance': 1, 'google-photos': 1, 'geotagging': 1, 'apple-photos': 1, 'shopify-liquid': 2, 'windows-terminal': 3, 'lab': 1, 'acl': 3, 'tortoise-orm': 1, 'uicollectionviewcell': 2, 'xib': 2, 'collectionview': 3, 'factorization': 1, 'dokuwiki': 1, 'avalonia': 4, 'glut': 1, 'form-with': 1, 'idris': 2, 'cat': 2, 'uifont': 1, 'catextlayer': 1, 'udev': 1, 'torchvision': 1, 'jpeg2000': 1, 'flutter-method-channel': 1, 'gzipstream': 1, 'turbo-frames': 1, 'aptos': 2, 'unbound': 1, 'pancakeswap': 1, 'aws-device-farm': 1, 'swig': 1, 'aws-codeartifact': 1, 'electron-forge': 3, 'swiftui-searchable': 1, 'photosui': 1, 'cumulative-frequency': 1, 'sixlabors.imagesharp': 2, 'set-comprehension': 1, 'wordle-game': 2, 'chrome-canary': 1, 'ld-preload': 1, 'hdmi': 1, 'breadth-first-search': 2, 'dockerhub': 2, 'test-ads': 1, 'rembg': 1, 'yarn-v2': 1, 'yarnpkg-v2': 2, 'expo-image-picker': 1, 'vuejs-slots': 1, 'deepl': 1, 'worker-service': 1, 'flutter-packages': 2, 'libphonenumber': 1, 'octave': 3, 'pdist': 1, 'google-fonts': 2, 'resample': 2, 'gradle-plugin': 1, 'stackexchange.redis': 2, 'pairing': 1, 'nsurlsession': 1, 'background-task': 1, 'cc': 1, 'airplay': 1, 'parcel': 1, 'abaqus': 2, 'coupling': 1, 'scipy-optimize-minimize': 1, 'opencore': 1, 'kubernetes-java-client': 2, 'alsa': 1, 'mpv': 1, 'surround': 1, 'native-php': 2, 'encoder-decoder': 2, 'text-generation': 1, 'vcxproj': 1, 'questdb': 4, 'mcmc': 2, 'hierarchical-bayesian': 2, 'asdf': 2, 'ms-access-2007': 1, 'winit': 2, 'janus-gateway': 1, 'glib': 5, 'custom-error-pages': 1, 'errordocument': 1, 'binary-indexed-tree': 1, 'iobluetooth': 1, 'mathquill': 1, 'android-styles': 1, 'android-annotations': 2, 'erd': 1, 'entity-attribute-value': 1, 'semantic-ui': 1, 'react-18': 1, 'paragraph': 2, 'no-data': 1, 'appicon': 1, 'pseudo-class': 3, 'mouse-cursor': 1, 'tapir': 1, 'wgpu-rs': 1, 'cefpython': 1, 'pywebview': 2, 'amplifyjs': 4, 'medical-imaging': 1, 'flutter-camera': 2, 'custom-domain': 1, 'gitlab-pages': 1, 'fusioncharts': 1, 'rails-admin': 3, 'nsfetchedresultscontroller': 2, 'ios-app-group': 1, 'python-idle': 2, 'userdefaults': 1, 'manjaro': 4, 'mv': 1, 'fragment-shader': 3, 'workbox': 1, 'angular-service-worker': 1, 'google-community-connector': 1, 'eeprom': 1, 'seccomp': 1, 'barryvdh': 1, 'handheld': 1, 'rust-ndarray': 3, 'android-statusbar': 1, 'intrinsics': 1, 'auth-guard': 1, 'starrocks': 1, 'bin': 1, 'hierarchy': 1, 'navigationbar': 1, 'swiftui-sharelink': 1, 'keypoint': 1, 'openpose': 1, 'sim-card': 1, 'lte': 1, '3g-network': 1, 'asp.net-mvc-routing': 1, 'wavelet': 2, 'laravel-dompdf': 4, 'httpx': 5, 'ef-fluent-api': 1, 'slack-commands': 2, 'slack-block-kit': 1, 'android-imageview': 1, 'android-photo-picker': 1, 'timetable': 1, 'nat': 4, 'freeradius': 1, 'delete-operator': 1, 'topology': 1, 'esmodules': 1, 'android-multidex': 2, 'app-store-connect-api': 2, 'auto-indent': 1, 'django-authentication': 4, 'repeater': 1, 'polar-coordinates': 1, 'postgres-9.6': 1, 'reinstall': 1, 'microphone': 2, 'imgui': 3, 'tmux': 2, 'attention-model': 3, 'npm-registry': 1, 'cornerradius': 1, 'uicontextualaction': 1, 'ionic6': 1, 'android-ksoap2': 1, 'file-watcher': 1, 'flatpickr': 1, 'maxima': 1, 'wxmaxima': 1, 'intelephense': 1, 'php-intelephense': 1, 'riscv32': 2, 'apache-zookeeper': 4, 'broker': 3, 'snmp-trap': 1, 'software-design': 3, 'resourcebundle': 1, 'google-cloud-compute-engine': 1, 'django-multiselectfield': 1, 'skaffold': 2, 'dynamics-nav': 1, 'dynamics-business-central': 4, 'businesscentral': 3, 'phpmqtt': 1, 'mne-python': 1, 'eeglab': 1, 'serverless-architecture': 1, 'handlebars.net': 1, 'uhd': 1, 'loss': 1, 'libfuse': 1, 'coq': 1, 'integer-arithmetic': 1, '.so': 2, 'imu': 1, 'subclassing': 1, 'numpy-slicing': 4, 'ffmpeg-python': 2, 'relplot': 1, 'lunarvim': 1, 'tetris': 2, 'ilog': 1, 'stacked': 2, 'ply': 1, 'ctad': 1, 'windows-shell': 1, 'chunks': 1, 'easyocr': 2, 'vertex-shader': 4, 'gpu-instancing': 1, 'simscape': 2, 'trim': 3, 'json-view': 1, 'devtools.jsonview.enabled': 1, 'setpreference': 1, 'sse': 1, 'mmx': 1, 'publish-profiles': 1, 'fasta': 1, 'rtools': 1, 'hydra-core': 1, 'webview-flutter': 1, 'unmanaged': 1, 'inventory-management': 1, 'fn': 1, 'integral': 2, 'uitabbar': 1, 'phoenix-framework': 2, 'virus': 1, 'malware-detection': 2, 'sceditor': 1, 'coin-change': 1, 'redis-stack': 1, 'es6-module-loader': 1, 'signal-handling': 1, 'resource-cleanup': 1, 'grpc-c#': 2, 'brms': 1, 'cancellation': 2, 'isset': 1, 'error-reporting': 1, 'checkin': 1, 'signals-slots': 2, 'qt-signals': 1, 'pcre': 1, 'spectral': 1, 'spectral-python': 2, 'matter.js': 1, 'audiosegment': 1, 'filesize': 1, 'pyyaml': 1, 'lowercase': 1, 'tolower': 2, 'libreadline': 1, 'cross-join': 1, 'getopt': 1, 'relative-path': 1, 'rest-client': 2, 'vscode-restclient': 1, 'sigterm': 2, 'slick.js': 4, 'winappdriver': 1, 'appium-desktop': 1, 'package-name': 1, 'android-application-class': 1, 'power-automate-custom-connector': 1, 'git-checkout': 1, 'deprecation-warning': 2, 'systemd-journald': 1, 'nvidia-jetson': 1, 'repositorylookupedit': 1, 'spring-profiles': 1, 'spring-properties': 1, 'bigbluebutton': 1, 'azure-http-trigger': 1, 'azure-functions-node.js': 1, 'connectycube': 1, 'chips': 1, 'partitioned': 1, 'android-appcompat': 2, 'oaep': 1, 'vala': 1, 'nextra': 1, 'hamiltonian-cycle': 1, 'saxon': 1, 'xinclude': 1, 'windowinsets': 1, 'nested-fields': 1, 'dbplyr': 3, 'git-tag': 1, 'android-viewholder': 1, 'mailitem': 2, 'mersenne-twister': 1, 'aws-sdk-go': 1, 'laravel-7': 1, 'laravel-horizon': 1, 'forgot-password': 1, 'reset-password': 1, 'delphi-2007': 1, 'intraweb': 1, 'iaas': 1, 'rust-embedded': 2, 'rust-macros': 1, 'unreal-development-kit': 1, 'django-deployment': 2, 'mogrify': 1, 'apache-camel-mail': 1, 'dbvisualizer': 1, 'quantile-regression': 2, 'minecraft-fabric': 5, 'arb': 1, 'facet': 1, 'patchwork': 1, 'pywinusb': 1, 'mkmapview': 1, 'nsfetchrequest': 1, 'payload-cms': 2, 'cloudfiles': 1, 'wp-graphql': 1, 'safari-extension': 2, 'ingress-nginx': 3, 'kong-ingress': 1, 'kubernetes-gateway-api': 1, 'grpc-python': 1, 'tsc': 2, 'super': 2, 'cloudnative-pg': 2, 'hdf': 2, 'opentk': 3, 'expand': 1, 'slidedown': 1, 'clsx': 2, 'plist': 1, 'openscad': 1, 'prometheus-operator': 1, 'kube-state-metrics': 1, 'grub': 3, 'nse': 2, 'non-standard-evaluation': 2, 'tensorflow-probability': 1, 'quadratic': 1, 'applicative': 1, 'idris2': 2, 'combinatory-logic': 1, 'calculator': 5, 'pyopengl': 1, 'mesa': 1, 'glx': 1, 'falcon': 1, 'gpt4all': 1, 'knapsack-problem': 3, 'move-constructor': 1, 'servicestack.redis': 1, 'decision-tree': 1, 'rpart': 1, 'codebuild': 1, 'code-organization': 1, 'django-class-based-views': 1, 'sqlite-net': 1, 'android-service-binding': 1, 'vcl': 2, 'razor-class-library': 3, 'php-beautifier': 1, 'tedious': 1, 'checkpoint': 1, 'wal': 1, 'snapcraft': 1, 'qubes-os': 1, 'hash-function': 1, 'shellcode': 1, 'best-first-search': 1, 'nativewind': 3, 'stdtuple': 1, 'teachable-machine': 1, 'dedicated': 1, 'influxdb-2': 2, 'marionette': 2, 'firefox-marionette': 2, 'convex': 1, 'fluent-ui': 2, 'git-branch': 5, 'git-filter': 2, 'flip-flop': 2, 'change-detector-ref': 1, 'openocd': 3, 'readfile': 1, 'createprocess': 1, 'goreleaser': 1, 'apsw': 1, 'fetchcontent': 1, 'yarn-workspaces': 2, 'dereference': 1, 'instruction-set': 1, 'jscript': 2, 'roi': 1, 'google-vision': 1, 'sbcl': 1, 'wsdl2java': 2, 'bsc': 2, 'pycairo': 2, 'pdfmake': 3, 'rigid-bodies': 1, 'rapier': 1, 'multihomed': 1, 'hyperledger-fabric-ca': 1, 'libreoffice-writer': 3, 'c#-datatable': 1, 'golden-test': 1, 'python-3.9': 2, 'facebook-graph-api-v2.0': 1, 'password-hash': 1, 'inputevent': 1, 'python4delphi': 1, 'python-decorators': 1, 'postman-testcase': 1, 'azure-spatial-anchors': 1, 'flower': 1, 'comparator': 1, 'subscript': 1, 'gnucobol': 1, 'h5py': 6, 'mojarra': 1, 'playsound': 2, 'python-playsound': 2, 'compose-desktop': 2, 'bounded-contexts': 3, 'modular-monolith': 1, 'variadic-functions': 3, 'rpostgres': 2, 'simpy': 3, 'oserror': 2, 'microsoft-metro': 1, 'mobile-country-code': 1, 'jetpack-compose-animation': 1, 'vaadin24': 2, 'onappear': 1, 'akka': 2, 'akka-stream': 1, 'psr-4': 2, 'laravel-telescope': 2, 'ggpattern': 1, 'azure-language-understanding': 1, 'multi-project': 1, 'consul': 2, 'ioptions': 1, 'huawei-developers': 3, 'zigzag': 1, 'vxworks': 1, 'automatic-ref-counting': 1, 'mjs': 1, 'ctypes': 4, 'word-embedding': 2, 'nmap': 1, 'realtek': 1, 'helium': 1, 'core-ui': 1, 'voronoi': 1, 'azure-oauth2': 1, 'zebra-puzzle': 1, 'foreign-data-wrapper': 1, 'markov-chains': 2, 'r2jags': 1, 'postfix-mta': 4, 'mongoengine': 1, 'wtforms': 2, 'flask-admin': 1, 'distributed-training': 1, 'windows-firewall': 3, 'activation': 1, 'swift-composable-architecture': 1, 'shinythemes': 1, 'block-device': 1, 'quota': 1, 'diarization': 2, 'speaker-diarization': 2, 'wavelet-transform': 1, 'spectrogram': 2, 'qsqldatabase': 1, 'amazon-transcribe': 1, 'livekit': 1, 'morphia': 1, 'nodemcu': 2, 'vgg-net': 2, 'linqpad': 1, 'natural-sort': 1, 'natsort': 1, 'php-ffi': 2, 'sqlitejdbc': 1, 'vbulletin': 1, 'reverse-geocoding': 1, 'popover': 1, 'swiftui-navigationview': 3, 'ical4j': 1, 'sardine': 1, 'template-specialization': 2, 'parameter-expansion': 2, 'cx-oracle': 1, 'p2p': 2, 'vip': 1, 'uprobe': 1, 'flutter-floor': 1, 'roomle': 1, 'reentrancy': 1, 'sql-server-2017': 1, 'node-mysql': 1, 'android-autofill-manager': 1, 'custom-post-type': 2, 'sim800l': 1, 'web-config': 2, 'doppler': 1, 'where-in': 1, 'sql-null': 1, 'apache-config': 1, 'analyzer': 1, 'usbserial': 1, 'spectrum': 1, 'ondblclick': 1, 'hashcat': 1, 'angular-pwa': 4, 'collab': 1, 'jvm-bytecode': 1, 'inet': 1, 'randomaccessfile': 1, 'ssh2': 1, 'blending': 1, 'sharepoint-jsom': 1, 'sharepoint-addin': 1, 'hikvision': 1, 'peer': 2, 'native-activity': 1, 'scrape': 2, 'matplotlib-basemap': 1, 'gwt': 1, 'nested-filters': 2, 'query-building': 2, 'richtext': 1, 'hosted': 1, 'posprinter': 1, 'ctc': 1, 'supabase-realtime': 1, 'cardano': 1, 'traveling-salesman': 1, 'heuristics': 1, 'cron-task': 2, 'distinct': 1, 'hevc': 1, 'mutability': 1, 'libsvm': 1, 'normalize': 1, 'scriptable-object': 1, 'rocket-chip': 1, 'codesandbox': 1, 'week-number': 1, 'font-face': 1, 'libs': 1, 'direct2d': 1, 'debouncing': 1, 'heads-up-notifications': 1, 'photokit': 1, 'woocommerce-subscriptions': 2, 'react-bootstrap-nav': 1, 'scroll-snap': 2, 'shiny-server': 2, 'image-editor': 1, 'spring-security-6': 2, 'mfmailcomposeviewcontroller': 1, 'helidon': 1, 'qtime': 1, 'asp.net-mvc-viewmodel': 1, 'spacevim': 2, 'mobilenet': 1, 'albumentations': 2, 'laravel-validation': 1, 'google-polyline': 1, 'feedback': 1, 'truetype': 1, 'font-rendering': 3, 'tablerow': 1, 'migrate': 1, 'f2py': 2, 'core-graphics': 3, 'ios-sharesheet': 1, 'openvpn-connect': 1, 'dynamicobject': 1, 'tmp': 2, 'http-status-code-405': 1, 'hwnd': 1, 'postgresql-14': 2, 'web-performance': 1, 'mwaa': 1, 'outbound': 1, 'haxeflixel': 1, 'apn': 1, 'openinventor': 1, 'coin3d': 1, 'http-token-authentication': 1, 'tf-idf': 1, 'relation': 1, 'mui-datatable': 4, 'linux-from-scratch': 1, 'shopify-storefront-api': 2, 'opentype': 1, 'vlc': 2, 'leaderboard': 1, 'geoalchemy2': 1, 'mongorepository': 1, 'number-theory': 3, 'modular-arithmetic': 1, 'python-cffi': 1, 'manhattan': 1, 'angular-compiler': 1, 'ffmpegkit': 2, 'factory-method': 1, 'strtotime': 2, 'straight-line-detection': 1, 'jib': 3, 'servicem8': 1, 'flash-list': 1, 'multiple-arguments': 2, 'clap': 2, 'tensorflow-datasets': 4, 'elysiajs': 1, 'android-anr-dialog': 1, 'etw': 1, 'mutiny': 1, 'apl': 2, 'gnu-apl': 1, 'rdkit': 1, 'graphical-logo': 1, 'ms-access-forms': 1, 'debugview': 1, 'powershell-7.0': 1, 'automatic-variable': 1, 'android-spinner': 1, 'core-foundation': 1, 'guacamole': 1, 'freerdp': 1, 'preload': 1, 'xplane': 1, 'shlex': 1, 'pyperclip': 1, 'wand': 1, 'pythonw': 1, 'iso8601': 1, 'go-build': 1, 'smart-wizard': 1, 'watir': 2, 'page-object-gem': 1, 'ruby-watir': 1, 'passive-event-listeners': 1, 'nanoframework': 1, 'poker': 1, 'tesseract.js': 1, 'fpdf': 1, 'bazel-cpp': 2, 'epoch': 1, 'custom-code': 1, 'culture': 1, 'observers': 1, 'mediabrowserservicecompat': 1, 'next-router': 1, 'steam-web-api': 4, 'steambot': 2, 'onmousemove': 1, 'pyheif': 1, 'intunemam': 1, 'scriptblock': 1, 'getline': 1, 'sitecore': 1, 'renesas-rx': 1, 'after-effects': 1, 'multilinestring': 1, 'bukkit': 4, 'timepicker': 1, 'leaflet.markercluster': 1, 'allure': 4, 'autosave': 1, 'war': 2, 'package-private': 1, 'microsoft-identity-web': 1, 'svgr': 1, 'google-docs': 6, 'tsdoc': 1, 'spring-rest': 1, 'bluetooth-peripheral': 1, 'victoriametrics': 1, 'lmdb': 1, 'gratia': 1, 'python-rq': 1, 'pytest-asyncio': 2, 'autocorrect': 1, 'few-shot-learning': 1, 'stripe-apps': 1, 'hyperscript': 1, 'filetree': 1, 'gnome-shell': 1, 'yandexcloud': 1, 'cds': 1, 'gjs': 1, 'mesibo': 1, 'apple-mail': 1, 'getserversideprops': 1, 'getstaticprops': 1, 'static-compilation': 1, 'python-importlib': 1, 'dalex': 1, 'infowindow': 1, 'rating': 1, 'collection-radio-buttons': 1, 'markerclusterer': 1, 'ruby-on-rails-5': 3, 'github-token': 1, 'bookmarklet': 2, 'integer-overflow': 4, 'uncertainty': 1, 'jsonlite': 1, 'azure-redis-cache': 2, 'buildconfiguration': 1, 'color-space': 2, 'direct-labels': 1, 'low-level-code': 1, 'codehighlighter': 1, 'circuit-breaker': 1, 'oxyplot': 1, 'react-to-print': 3, 'supervisord': 2, 'captcha': 1, 'qweb': 2, 'ipdb': 1, 'throttling': 1, 'gemini': 4, 'errorbar': 1, '.net-maui.shell': 1, 'discord.net': 1, 'craftcms': 2, 'preprocessor-directive': 1, 'phylogeny': 1, 'ape': 1, 'multi-index': 2, 'http-status-code-503': 1, 'django-countries': 1, 'regex-look-ahead': 1, 'measurement-protocol': 1, 'unexpected-token': 3, 'radix-ui': 2, 'openssl-engine': 1, 'cd': 1, 'git-alias': 1, 'canactivate': 1, 'primitive-types': 2, 'blazor-jsruntime': 1, 'python-embedding': 1, 'qdrantclient': 1, 'blazorstrap': 1, 'data-class': 1, 'sparklyr': 1, 'angular-httpclient-interceptors': 3, 'fork-ts-checker-webpack-plugin': 1, 'ifnull': 1, 'docker-run': 1, 'limit': 4, 'zipkin': 2, 'flurl': 1, 'rbenv-gemset': 1, 'numpy-memmap': 2, 'iterable-unpacking': 1, 'device-admin': 1, 'device-policy-manager': 1, 'autograd': 2, 'vyper': 1, 'upwork-api': 2, 'fp-ts': 2, 'ubuntu-16.04': 1, 'md5': 2, 'session-timeout': 1, 'django-email': 2, 'django-errors': 1, 'web3php': 1, 'jprofiler': 1, 'jmx': 3, 'jconsole': 1, 'query-builder': 2, 'memory-limit': 1, 'zoo': 1, 'rollapply': 1, 'tidyverts': 1, 'behavior': 1, 'titleview': 1, 'net-maui': 1, 'discord-jda': 3, 'react-navigation-v6': 2, 'show-hide': 1, 'model-binding': 1, 'textmeshpro': 1, 'refit': 1, 'notify': 1, 'tensorflow-federated': 1, 'federated-learning': 1, 'vue3-carousel': 1, 'android-management-api': 1, 'redirect-uri-mismatch': 1, 'power-law': 1, 'network-traffic': 1, 'simple-peer': 1, 'nodatime': 1, 'osx-elcapitan': 1, 'wsdl': 2, 'compiler-generated': 1, 'kubeflow': 2, 'kubeflow-pipelines': 2, 'threecsg': 2, 'zscaler': 1, 'ebay-api': 1, 'control-characters': 1, 'java.util.scanner': 1, 'easygui': 1, 'completion': 1, 'appcenter': 3, 'google-drive-picker': 2, 'primefaces-datatable': 1, 'nestjs-mongoose': 1, 'mongoose-middleware': 1, 'baseline-profile': 1, 'macrobenchmark': 1, 'compilationmode': 1, 'aspx-user-control': 1, 'htmlwidgets': 2, 'r2d3': 2, 'app-engine-flexible': 1, 'gil': 1, 'jsonparser': 1, 'quarkus-rest-client': 1, 'gpytorch': 1, 'multivariate-partition': 1, 'magnetometer': 1, 'tcpclient': 1, 'sslstream': 1, 'icc': 2, 'serilog-aspnetcore': 1, 'serilog-expressions': 1, 'suffix-array': 1, 'opensilver': 1, 'codemirror-modes': 1, 't3editor': 1, 'gio': 2, 'nautilus': 2, 'jboss6.x': 1, 'self-attention': 2, 'pic': 2, 'livecharts': 3, 'capistrano3': 1, 'launchd': 1, 'avrdude': 1, 'atmega32': 1, 'visual-studio-app-center': 1, 'nexus-iq': 1, 'ansible-collections': 1, 'sonar-runner': 1, 'ziparchive': 1, 'php-zip-archive': 1, 'jmx-exporter': 2, 'web3modal': 2, 'mat-stepper': 1, 'outlook-api': 1, 'androidpublisher': 1, 'dataformat': 1, 'rhandsontable': 1, 'chromium-embedded': 1, 'addsubview': 2, 'jupiter-tessellation': 1, 'azure-resource-manager': 3, 'oxygene': 1, 'showtimepicker': 1, 'stdthread': 1, 'informatica-powerexchange': 1, 'informatica-data-integration-hub': 1, 'ddd-debugger': 1, 'git-flow': 2, 'inquirerjs': 1, 'amazon-efs': 1, 'azure-form-recognizer': 4, 'bluecove': 1, 'server-side-attacks': 1, 'qdbus': 1, 'gitlab-ci.yml': 1, 'modular': 1, 'psexec': 2, 'karma-jasmine': 3, 'google-chrome-headless': 1, 'packaging': 1, 'debian-packaging': 1, 'subscribe': 2, 'particles.js': 4, 'google-indexing-api': 1, 'usage-statistics': 1, 'filtered-index': 1, 'ng-apexcharts': 1, 'ora-04063': 1, 'c++-winrt': 2, 'gant': 1, 'domcrawler': 1, 'jquery-isotope': 1, 'multiple-choice': 1, 'twitter-oauth': 2, 'paytm': 1, 'dbus-python': 1, 'viola-jones': 1, 'insomnia': 1, 'jquery-ui-autocomplete': 1, 'elevatr': 1, 'crtp': 1, 'mailto': 1, 'inferred-type': 1, 'sdf': 2, 'figma-api': 1, 'figma-plugin': 1, 'swiftui-text': 1, 'stencil-component': 1, 'numeric': 2, 'joptionpane': 1, 'chart.js-datalabels': 1, 'getter': 2, 'setter': 1, 'esb': 1, 'jxbrowser': 1, 'flash-memory': 3, 'docker-java': 1, 'vlsi': 2, 'shopify-app-bridge': 1, 'quandl': 1, 'arangodb': 1, 'mixed-content': 2, 'destroy': 1, 'allocator': 1, 'packet-sniffers': 1, 'deobfuscation': 1, 'paas': 1, 'json-schema-validator': 1, 'text-parsing': 2, 'pimpl-idiom': 1, 'grapesjs': 1, 'react-native-gifted-chat': 1, 'mongoose-populate': 1, 'sql-truncate': 1, 'libpcap': 1, 'caniuse-lite': 1, 'ansible-2.x': 1, 'ansible-template': 1, 'recurly': 1, 'line': 2, 'google-bi-engine': 1, 'moea-framework': 1, 'windows-firewall-api': 1, 'f-string': 2, 'self-healing': 1, 'filepicker': 1, 'multipartfile': 1, 'desolve': 1, 'android-imagebutton': 3, 'serenity': 1, 'colima': 1, 'lexer': 1, 'nearley': 1, 'moto': 2, 'react-firebase-hooks': 2, 'spring-cloud-task': 1, 'telephony': 2, 'dialogflow-es-fulfillment': 2, 'direct-buffer': 1, 'mixture-model': 1, 'history': 2, 'autoit': 1, 'chrome-options': 2, 'virtual-functions': 2, 'spring-camel': 3, 'mechanize': 1, 'ibm-datapower': 3, 'facebook-access-token': 1, 'working-directory': 1, 'mobile-ad-mediation': 1, 'applovin': 1, 'tomcat10': 4, 'juce': 1, 'speed-dial': 1, '.app': 1, 'msgpack': 2, 'pyo3': 2, 'cyber-ark': 2, 'equivalent': 2, 'bitbake': 1, 'libftdi': 1, 'orientdb': 1, 'google-apps': 4, 'iis-modules': 1, 'lorawan': 1, 'picoblaze': 1, 'rfe': 1, 'pysam': 1, 'google-api-java-client': 1, 'tinymce-6': 1, 'bootstrap-icons': 1, 'regedit': 2, 'credential-manager': 4, 'wcf-security': 1, 'class-transformer': 1, 'graphhopper': 1, 'kubernetes-custom-resources': 2, 'update-attributes': 1, 'primeng-menu': 1, 'requestanimationframe': 1, 'maptiler': 1, 'reportico': 1, 'openhtmltopdf': 1, 'wearables': 1, 'nrf52840': 1, 'ej2-syncfusion': 1, 'consumer': 2, 'throughput': 2, 'redpanda': 2, 'embedded-jetty': 1, 'value-categories': 1, 'azure-releases': 1, 'direnv': 1, 'as.date': 1, 'cppserver': 1, 'meson-cmake-module': 1, 'pressable': 1, 'react-children': 1, 'vertex-ai-pipeline': 1, 'w3c-validation': 1, 'runtime-compilation': 1, 'node-vm2': 1, 'qbuttongroup': 1, 'persist': 1, 'laravel-admin': 1, 'vision-pro': 1, 'concurrentmodificationexception': 1, 'round-robin': 1, 'shinybs': 1, 'bslib': 1, 'aspose': 1, 'schema.org': 1, 'codeigniter-query-builder': 1, 'bokeh': 2, 'react-error-boundary': 1, 'openstack-nova': 1, 'opentext': 1, 'pyathena': 2, 'resource-files': 1, 'ionic5': 1, 'razorpay': 1, 'flutter-razorpay': 1, 'razorpay-andoid-sdk': 1, 'pygobject': 1, 'socketserver': 1, 'frozenset': 1, 'integer-division': 1, 'redux-saga': 2, 'flutter-redux': 2, 'angular-social-login': 1, 'python-logging': 2, 'django-logging': 1, 'ngx-socket-io': 1, 'hough-transform': 1, 'ssmtp': 1, 'telegram-webhook': 1, 'pojo': 1, 'zoneddatetime': 1, 'instant': 1, 'pose-detection': 2, 'cephfs': 1, 'sections': 2, 'flutter-notification': 2, 'app-config': 1, 'vue-typescript': 1, 'flutter-sharedpreference': 3, 'nvidia-deepstream': 2, 'trilateration': 1, 'r-tree': 1, 'mod-security': 1, 'restart': 3, 'java-io': 1, 'objectinputstream': 1, 'objectoutputstream': 1, 'github-graphql': 2, 'react-material-ui-form-validator': 2, 'rviz': 1, 'urdf': 1, 'large-files': 1, 'spree-auth-devise': 1, 'custom-component': 1, 'lib-nfc': 1, 'slate-react': 1, 'ehcache': 1, 'phabricator': 1, 'arcanist': 1, 'colorbar': 1, 'vue-quill-editor': 1, 'multiple-tables': 1, 'uncaught-exception': 1, 'mix-blend-mode': 1, 'profiler': 1, 'android-networking': 1, 'semantic-kernel': 2, 'perforce-client-spec': 1, 'stereo-3d': 2, 'subshell': 1, 'linear-optimization': 1, 'ftp-server': 1, 'disable': 1, 'nouislider': 1, 'yelp': 1, 'callstack': 1, 'unpivot': 1, 'hashset': 1, 'classcastexception': 1, 'publisher': 2, 'webgl2': 4, 'uniform-distribution': 1, 'payment-method': 2, 'xml-namespaces': 1, 'jenkins-job-dsl': 1, 'baresip': 1, 'framerjs': 1, 'theia': 1, 'osxfuse': 1, 'azure-servicebus-topics': 1, 'centroid': 1, 'oauth2-playground': 2, 'wifi-direct': 2, 'bonjour': 2, 'public-folders': 1, 'jvectormap': 1, 'coinbase-api': 1, 'libmodbus': 1, 'jboss-eap-7': 1, 'git-untracked': 1, 'git-mv': 1, 'disk-io': 2, 'ioutils': 1, 'system-profiler': 1, 'point-in-time-recovery': 1, 'ta-lib': 2, 'cvxopt': 1, 'huggingface-hub': 1, 'clipboard.js': 1, 'union-types': 1, 'output-buffering': 1, 'uitypeeditor': 1, 'amazon-kcl': 1, 'spring-cloud-stream-binder-kinesis': 1, 'sobel': 1, 'script-tag': 1, 'apt-get': 1, 'openbmc': 1, 'ironpython': 1, 'nyc': 1, 'drupal-8': 1, 'pdfjs-dist': 1, 'mlp': 3, 'jagged-arrays': 1, 'cascadingparameter': 1, 'cascadingvalue': 1, 'feature-flags': 1, 'keypress': 2, 'som': 1, 'nomad': 2, 'seaweedfs': 1, 'speaker': 1, 'video-encoding': 1, 'vmware-player': 1, 'dotnet-cli': 1, 'cadquery': 1, 'selectors-api': 1, 'stubbing': 1, 'paystack': 1, 'jssor': 1, 'word-wrap': 1, 'flood-fill': 1, 'flooding': 1, 'vcredist': 1, 'powershell-5.0': 1, 'sticky-footer': 2, 'openswoole': 2, 'tf2onnx': 2, 'go-interface': 1, 'chainercv': 1, 'dagger-2': 1, 'synthetic': 2, 'evaluation-function': 1, 'systemctl': 1, 'my.cnf': 1, 'nsurl': 1, 'regex-lookarounds': 3, 'regex-negation': 1, 'fluid': 1, 'react-native-community': 1, 'stochastic': 1, 'technical-indicator': 1, 'bitbucket-api': 1, 'traceback': 2, 'pagedown': 1, 'edge-function': 1, 'doctrine-query': 1, '16-bit': 1, 'code-splitting': 1, 'pac': 1, 'smart-device': 1, 'rx-java2': 1, 'apache-commons': 2, 'google-image-search': 1, 'delphi-xe': 1, 'video-upload': 1, 'azure-sdk-.net': 1, 'aws-media-convert': 2, 'shaka': 3, 'dash.js': 2, 'igx-grid': 1, 'handle': 3, 'windowed': 1, 'rust-bindgen': 1, 'word-spacing': 1, 'asp.net-core-middleware': 1, 'notation': 1, 'java-time': 1, 'fireblocks-api': 1, 'lifetime-scoping': 1, 'reference-lifetimes': 1, 'spotipy': 2, 'maskedtextbox': 1, 'google-managed-prometheus': 1, 'power-virtual-agents': 1, 'wifimanager': 1, 'shared': 1, 'scoping': 1, 'event-based-programming': 1, 'imgur': 1, 'twilio-programmable-voice': 1, 'apply': 3, 'testng.xml': 2, 'throw': 1, 'immutable-collections': 1, 'parentheses': 2, 'bmp': 1, 'onsubmit': 1, 'mina-deploy': 1, 'maui-ios': 2, 'health-check': 1, 'pcf': 1, 'drat': 1, 'android-jetifier': 1, 'white-labelling': 1, 'fetchxml': 1, 'ef-core-8.0': 1, 'utf8mb4': 1, 'm3u8': 2, 'grpc-dotnet': 1, 'airflow-api': 1, 'vt-x': 1, 'ffplay': 1, 'pbkdf2': 1, 'symfony-security': 1, 'whatwg-streams-api': 1, 'ellipse': 2, 'sass-variables': 1, 'css-layer': 1, 'redistimeseries': 1, 'redis-stack-server': 1, 'populate': 1, 'auto-populate': 1, 'stdev': 1, 'dmarc': 1, 'genetics': 1, 'solidworksapi': 1, 'selection-sort': 1, 'asp.net-authorization': 1, 'microsoft-identity-platform': 2, 'sonatype': 1, 'maven-central': 1, 'react-native-svg': 3, 'poco-libraries': 1, 'android-motionlayout': 1, 'laravel-jetstream': 2, 'tensorly': 1, 'line-drawing': 1, 'dapr': 1, 'android-app-bundle': 2, 'web-application-firewall': 1, 'recaptcha-enterprise': 2, 'azure-monitoring': 1, 'aws-identitypools': 1, 'wdm': 2, 'hlk-studio': 1, 'fuzzy-logic': 1, 'rlang': 2, 'rtdn': 1, 'apollo-federation': 1, 'dbf': 1, 'inventory': 1, 'tensorflow-hub': 1, 'ggeffects': 1, 'sim800': 2, 'lov': 1, 'ghidra': 1, 'integer-programming': 1, 'github-secret': 1, 'updatepanel': 1, 'postback': 1, 'git-commit': 1, 'xtable': 2, 'ipados': 3, 'gams-math': 1, 'devserver': 1, 'vlang': 1, 'logitech-gaming-software': 2, 'nixos': 1, 'nixpkgs': 1, 'xlsm': 1, 'zend-framework': 1, 'zend-framework3': 1, 'laminas': 1, 'change-data-capture': 1, 'azure-devops-self-hosted-agent': 1, 'azure-devops-server-2022': 1, 'intel-fortran': 1, 'multinomial': 1, 'editorfor': 1, 'philips-hue': 1, 'achartengine': 1, 'yii2-basic-app': 1, 'boost-multi-index': 1, 'hubspot': 1, 'hubl': 1, 'double-quotes': 1, 'func': 2, 'nstableviewcell': 2, 'building-github-actions': 2, 'github-actions-reusable-workflows': 1, 'rapidxml': 1, 'ubuntu-14.04': 1, 'non-printing-characters': 2, 'get-it': 1, 'epf': 1, 'nstoolbaritem': 1, 'ontouchlistener': 1, 'android-touch-event': 1, 'tomcat8.5': 1, 'datacontractjsonserializer': 1, 'android-mediasession': 1, 'fileoutputstream': 1, 'eventkit': 1, 'targets-r-package': 2, 'interstitial': 1, 'setjmp': 1, 'ucontext': 1, 'psd': 1, 'android-studio-debugger': 1, 'beforeupdate': 1, 'fakeiteasy': 1, 'google-translation-api': 1, 'moxy': 1, 'hybridauth': 1, 'castle-dynamicproxy': 1, 'service-fabric-actor': 1, 'windows-driver': 3, 'pydev': 1, 'debug-mode': 1, 'singularity-container': 1, 'inorder': 1, 'search-tree': 1, 'directed-graph': 1, 'weighted-graph': 1, 'node-centrality': 1, 'okio': 1, 'pymodbus': 2, 'screen-capture': 1, 'awtrobot': 1, 'stdset': 1, 'konvajs-reactjs': 1, 'anti-cheat': 1, 'google-earth': 2, 'uitabbarcontroller': 1, 'com-port': 1, 'cardreader': 1, 'ggboxplot': 1, 'stm': 1, 'winscard': 1, 'cielab': 1, 'qsort': 1, 'sample-rate': 1, 'automatic-speech-recognition': 2, 'broadcast': 1, 'flags': 1, 'spmd': 1, 'custom-taxonomy': 1, 'taxonomy-terms': 1, 'openconnect': 1, 'ruby-on-rails-4': 1, 'xor': 1, 'webdav': 1, 'batch-rename': 1, 'django-related-manager': 1, 'django-3.2': 1, 'nes': 1, 'laravel-snappy': 1, 'pdfmerger': 1, 'toolbar': 4, 'facebook-appreview': 2, 'odp.net-managed': 1, 'odp': 1, 'unauthorized': 2, 'libcurl.net': 1, 'react-stripe': 1, 'contact-center': 1, 'mapkitannotation': 1, 'tkinter-menu': 1, 'drift': 1, 'microsoft-copilot': 1, 'reagent': 1, 'electric-clojure': 1, 'public-key-exchange': 1, 'linode': 1, 'mapster': 1, 'sailpoint': 1, 'p7b': 1, 'health-monitoring': 1, 'healthconnect': 1, 'pytest-xdist': 1, 'pd.offsets': 1, 'weekofmonth': 1, 'qdialog': 1, 'qobject': 1, 'logstash-grok': 1, 'flutter-plugin': 1, 'authenticode': 1, 'xcrun': 1, 'notarize': 1, 'notarization': 1, 'c++builder': 2, 'asp.net-membership': 1, 'half-precision-float': 2, 'meter': 1, 'dlms': 1, 'ktorm': 1, 'android-update-app': 1, 'uibutton': 1, 'dbms-scheduler': 1, 'amazon-pay': 1, 'parcelable': 1, 'android-multi-module': 1, 'azure-dashboard': 1, 'metricbeat': 1, 'refs': 1, 'resolve': 1, 'tkintermapview': 1, 'swagger-core': 1, 'exists': 1, 'exchangewebservices': 1, 'cascadingdropdown': 1, 'predictive': 2, 'http-content-length': 1, 'microsoft-live-meeting': 1, 'sybase-asa': 1, 'hibernate.cfg.xml': 1, 'windows-server-2012-r2': 2, 'xp-cmdshell': 1, 'internet-connection': 1, 'sql-scripts': 1, 'distributed-database': 1, 'inboxsdk': 1, 'filtered': 1, 'discrete-mathematics': 1, 'recursive-datastructures': 1, 'master-slave': 1, 'mount-point': 1, 'amd-rocm': 1, 'yolov7': 1, 'module-augmentation': 1, 'cloudcustodian': 1, 'required-field': 1, 'react-native-native-module': 1, 'exploratory-data-analysis': 1, 'r-data-explorer': 1, 'angular-module-federation': 3, 'strawberry-perl': 1, 'javascript-import': 1, 'function-templates-overloading': 1, 'gmailr': 1, 'poly': 1, 'custom-renderer': 1, 'nlme': 1, 'rgdal': 1, 'maze': 1, 'xcode-storyboard': 1, 'viewdidload': 1, 'jax-ws': 1, 'wsimport': 1, 'api-key': 1, '64-bit': 1, 'pydrive': 1, 'pydrive2': 1, 'libav': 1, 'json-value': 1, 'recursive-type': 1, 'stm32cubemx': 1, 'traffic-simulation': 1, 'receipt': 1, 'heidisql': 1, 'sql-function': 1, 'tdengine': 14, 'akka-cluster': 1, 'akka-remote-actor': 1, 'remote-actors': 1, 'mxe': 1, 'react-native-textinput': 1, 'negation': 1, 'carrot2': 1, 'semantic-web': 1, 'pellet': 1, 'isolation-level': 1, 'conda-forge': 1, 'feature-tracking': 1, 'aioredis': 1, 'seafile-server': 1, 'pgloader': 1, 'nx-workspace': 1, 'waffle-chart': 1, 'yeoman': 1, 'yo': 1, 'jmix': 1, 'final': 2, 'in-app': 1, 'fbsnapshottestcase': 1, 'efk': 1, 'confidential-information': 1, 'mayavi.mlab': 1, 'omniauth': 1, 'lithium': 1, 'dataprovider': 1, 'redhat-containers': 1, 'android-studio-2.1': 1, 'android-ide': 1, 'macdeployqt': 1, 'deepstream': 1, 'java-memory-model': 1, 'bitcoin-testnet': 1, 'davinci-resolve': 1, 'amplify-auth-cognito': 1, 'nft': 2, 'hashpack': 1, 'fluid-layout': 1, 'infragistics': 1, 'xamrichtexteditor': 1, 'boost-interprocess': 1, 'excel-2019': 1, 'iso8583': 1, 'django-login': 1, 'member-access-enumeration': 1, 'sizeof': 2, 'in-app-update': 1, 'amazon-cloudhsm': 1, 'django-rest-framework-jwt': 1, 'scrollviewreader': 1, 'foregroundnotification': 1, 'ravendb': 1, 'ravendb4': 1, 'ravendb-http': 1, 'ravendb5': 1, 'localnotification': 2, 'python-os': 1, 'dummy-variable': 1, 'mudtextfield': 1, 'prestashop-1.7': 1, 'onkeyup': 1, 'geohashing': 1, 'azure-backup-vault': 1, 'expss': 1, 'pencilkit': 1, 'pkcanvasview': 1, 'html-rendering': 1, 'uipath': 1, 'net-snmp': 1, 'nonfactors-mvc-grid': 1, 'deepface': 2, 'spring-aop': 1, 'kotlinx.serialization': 1, 'kmongo': 2, 'jose': 1, 'pointycastle': 1, 'facebook-webhooks': 1, 'navigationsplitview': 1, 'maven-publish': 3, 'demo': 1, 'github-package-registry': 2, 'shopify-api-node': 1, 'lenses': 1, 'uvm': 1, 'edaplayground': 1, 'ipfs-kubo': 1, 'atmega': 3, 'mplab-x': 1, 'plinq': 1, 'c#-11.0': 1, 'c#-12.0': 1, 'mutable': 2, 'excel-dates': 2, 'facebook-authentication': 1, 'timing': 1, 'jitter': 1, 'pybrain': 2, 'cucumber-jvm': 1, 'cucumber-junit': 1, 'office-interop': 1, 'pacman': 4, 'email-signature': 1, 'ed25519': 1, 'remotewebdriver': 1, 'factorial': 1, 'geom': 1, 'checkstyle': 1, 'concurrent-ruby': 1, 'propshaft': 1, '3dsmax': 2, 'maxscript': 1, 'data-lineage': 1, 'timefold': 2, 'depth': 1, 'bytedeco-javacv': 1, 'margin': 2, 'android-soong': 1, 'android-make': 1, 'vsphere': 2, 'vmware-clarity': 1, 'intel-pin': 1, 'dynamics-crm-4': 1, 'cannot-find-symbol': 1, 'mui-x-charts': 1, 'flipbookr': 1, 'recursive-backtracking': 1, 'apache-drill': 2, 'tortoisehg': 3, 'filemerge': 2, 'bnd': 1, 'bndtools': 1, 'sign-in-with-google': 1, 'kendo-ui-window': 1, 'custom-sort': 1, 'simple-salesforce': 2, 'gdkpixbuf': 2, 'ccparticlesystem': 2, 'react-chartjs-2': 2, 'mailjet': 1, 'jenkins-x': 1, 'sysbench': 1, 'boost-graph': 1, 'lando': 1, 'skype': 2, 'sktime': 1, 'context-free-grammar': 1, 'computation-theory': 1, 'context-free-language': 1, 'automata-theory': 1, 'computer-science-theory': 1, 'countdown': 2, 'octobercms': 1, 'octobercms-plugins': 1, 'sails.js': 1, 'domexception': 1, 'smart-pointers': 1, 'sql-server-2012': 2, 'shoelace': 1, 'cakephp-2.0': 1, 'form-helpers': 1, 'webspeech-api': 1, 'pantheon': 1, 'olingo': 1, 'classpath': 1, 'trumbowyg': 1, 'ime': 1, 'tamagui': 1, 'cache-invalidation': 1, 'laravel-5.7': 1, 'iqueryable': 1, 'asp.net-core-routing': 1, 'crossword': 1, 'divider': 1, 'checkjs': 1, 'spwn': 1, 'oracle21c': 2, 'gmail-imap': 1, 'not-exists': 1, 'notin': 1, 'ruby-on-rails-5.2': 1, 'pyc': 1, 'uncompyle6': 1, 'rust-futures': 1, 'readxl': 2, 'test-suite': 1, 'q': 3, 'qpython': 1, 'uicontextmenuinteraction': 1, 'concurrentdictionary': 1, 'babel-loader': 1, 'mysql2': 1, 'bloomberg': 3, 'pkcs#11': 1, 'libwebsockets': 1, 'sap-cloud-sdk': 1, 'react-google-maps-api': 1, 'sugarcube': 1, 'msxml2': 1, 'matchedgeometryeffect': 1, 'flutter-html': 1, 'love2d': 1, 'git-diff': 1, 'pmdarima': 1, 'quoting': 1, 'android-backup-service': 1, 'encrypted-shared-preference': 1, 'dense-rank': 1, 'viewmodifier': 2, 'spring-micrometer': 1, 'spring-integration-sftp': 1, 'micrometer-tracing': 1, 'overpass-api': 2, 'mpu': 1, 'type-declaration': 1, 'sea-orm': 1, 'nativescript': 1, 'nativescript-webview': 1, 'android-file': 1, 'mpmediaitem': 1, 'mpmediapickercontroller': 1, 'cagradientlayer': 1, 'getprocaddress': 1, 'test-coverage': 1, 'logout': 1, 'prisma-orm': 1, 'laravel-mix': 1, 'pywikibot': 1, 'kops': 1, 'kubernetes-statefulset': 1, 'hexdump': 2, 'memory-dump': 1, 'simctl': 1, 'dtype': 1, 'documentviewer': 1, 'map-function': 1, 'voting-system': 1, 'android-drawable': 1, 'sqlkata': 1, 'least-squares': 1, 'elevation': 1, '.net-4.0': 1, 'hasp': 1, 'customvalidator': 1, 'dart-vm': 1, 'apache-spark-dataset': 1, 'function-call': 3, 'git-clone': 1, 'android-gradle-plugin-8.0': 2, 'freetds': 1, 'tiny-tds': 1, 'hamburger-menu': 1, 'fixed': 2, 'script-fu': 1, 'gimpfu': 1, 'tms-web-core': 1, 'eyed3': 1, 'pty': 1, 'node-pty': 1, 'xml-documentation': 1, 'vuelidate': 2, 'solidworks': 1, 'android-billing': 1, 'post-processing': 1, 'hreflang': 1, 'vector2': 1, 'clojure-core': 1, 'azure-service-principal': 1, 'standards': 1, 'polly': 1, 'system.linq.dynamic': 1, 'directed-acyclic-graphs': 3, 'copy-assignment': 1, 'relayjs': 1, 'tweets': 1, 'imgix': 1, 'imgix-js': 1, 'indicator': 2, 'psychopy': 1, 'math.h': 1, 'sms-verification': 2, 'seam-carving': 1, 'reportbuilder3.0': 1, 'flutter-webrtc': 2, 'maple': 5, 'openvr': 1, 'azure-spring-cloud': 1, 'multiset': 1, 'startactivityforresult': 2, 'kusto-explorer': 1, 'azure-analytics': 1, 'case-sensitive': 1, 'fyne': 1, 'axis': 3, 'libpqxx': 1, 'fatal-error': 1, 'sas-jmp': 1, 'pyocd': 1, 'microstation': 1, 'arcpy': 1, 'cdata': 1, 'connectivity': 1, 'data-integration': 3, '.net-4.6.2': 1, 'buffering': 1, 'docview': 1, 'bottom-up': 1, 'kriging': 2, 'kiba-etl': 1, 'openshift-pipelines': 1, 'binance-smart-chain': 1, 'openrowset': 1, 'skscene': 1, 'vstack': 1, 'model-driven': 1, 'bull': 1, 'service-layer': 1, 'sql-date-functions': 1, 'bootstrap-vue': 1, 'ssms-2017': 1, 'adx': 3, 'pynini': 1, 'rouge': 1, 'entities': 1, 'google-tv': 1, 'dreamservice': 1, 'yardstick': 1, 'quarkus-kafka': 1, 'ckan': 1, 'friendly-url': 1, 'smtpclient': 1, 'preprocessor': 1, 'gsub': 1, 'generatestaticparams': 1, 'tm': 1, 'stemming': 1, 'qlikview': 1, 'bpmn': 5, 'processmodel': 1, 'selenium-extent-report': 1, 'druid': 1, 'omnet++': 2, 'libclang': 1, 'simplewebrtc': 1, 'uiimagepickercontroller': 1, 'powershell-core': 1, 'mention': 2, 'hibernate-5.x': 1, 'grails-3.1': 1, 'lzma': 1, 'html-agility-pack': 1, 'descendant': 1, 'assembly-resolution': 1, 'currentuiculture': 1, 'partial-views': 1, 'azure-app-service-plans': 1, 'react-table': 3, 'microsoft.identity.web': 1, 'landscape-portrait': 1, 'amazon-fire-tv': 2, 'rollout': 1, 'xaml-islands': 1, 'prometheus-blackbox-exporter': 1, 'google-photos-api': 1, 'qaxobject': 1, 'prop': 1, 'laravel-api': 1, 'kotlin-symbol-processing': 1, 'redis-cli': 1, 'docusign-sdk': 1, 'kogito': 2, 'grid-system': 1, 'xsd-1.1': 1, 'dyalog': 1, 'azure-automation': 1, 'azure-managed-identity': 1, 'offline': 1, 'megamenu': 1, 'mozilla-deepspeech': 1, 'surveyjs': 1, 'decentralized-applications': 1, 'cryptojs': 3, 'keyword': 2, 'rtk': 1, 'gaussianblur': 1, 'amazon-app-runner': 1, 'kdiff3': 1, 'connection-pool': 1, 'trustedconnection': 1, 'distinguishedname': 1, 'pymssql': 1, 'datadog-dashboard': 1, 'monday.com': 1, 'jsp-tags': 2, 'servlet-3.0': 1, 'chronicle-queue': 1, 'nestjs-swagger': 1, 'rtf': 1, 'cypress-component-test-runner': 1, 'adventure': 1, 'pyppeteer': 1, 'clustermap': 1, 'fabric8': 1, 'handshake': 2, 'jsse': 1, 'invoke-command': 1, 'start-process': 1, 'bank': 1, 'ole': 1, 'windows-kernel': 1, 'firebird-3.0': 1, 'snakemake': 3, 'pypsa': 2, 'yaxis': 1, 'chisel': 2, 'text-recognition': 1, 'diamond-problem': 1, 'graph-neural-network': 1, 'kafka-streams-binder': 1, 'php-ini': 1, 'cmis': 1, 'usefetch': 1, 'methodhandle': 1, 'aws-parameter-store': 2, 'mapbox-ios': 1, 'memgraphdb': 2, 'opencypher': 1, 'letter': 1, 'listbox': 1, 'sonarcloud': 1, 'numerical-integration': 1, 'phishing': 1, 'ansible-inventory': 2, 'visual-paradigm': 1, 'to-date': 1, 'cflags': 1, 'statusbar': 1, 'overlapping': 1, 'rubocop': 1, 'lint-staged': 1, 'email-client': 1, 'zimlet': 1, 'web3py': 1, 'ns2': 1, 'froala': 1, 'dm': 1, 'stderr': 1, 'console.writeline': 1, 'spring-cloud-aws': 1, 'relative-import': 1, 'nsnotificationcenter': 1, 'p4a': 1, 'editorjs': 1, 'mongotemplate': 1, 'eventemitter': 1, 'umzug': 1, 'rexx': 1, 'pyquery': 1, 'jakarta-mail': 1, 'puppeteer-cluster': 1, 'vue-test-utils': 1, 'live555': 1, 'ngoninit': 1, 'dynamic-pivot': 1, 'isosurface': 1, 'maml': 1, 'meta-learning': 1, 'pubspec': 1, 'aspxgridview': 1, 'mysql-json': 1, 'facebook-messenger': 3, 'iformfile': 1, 'web-container': 1, 'belongs-to': 1, 'slider-revolution': 1, 'android-shortcut': 1, 'paddleocr': 1, 'modelsummary': 1, 'laravel-cashier': 2, 'imaplib': 1, 'tmpfs': 1, 'spring-cloud-sleuth': 1, 'google-cloud-logging': 3, 'spring-cloud-gcp': 3, 'django-managers': 1, 'github-cli': 1, 'numpyro': 1, 'bambi': 1, 'webautomation': 1, 'pheatmap': 1, 'tabcontrol': 1, 'googlemock': 1, 'root-finding': 1, 'detours': 1, 'dev-c++': 1, 'jawsdb-maria': 1, 'atexit': 1, 'tabwidget': 1, 'nodejs-stream': 1, 'boto': 1, 'chi-squared': 1, 'shallow-copy': 1, 'spread-syntax': 1, 'immutability-helper': 1, 'wordnet': 1, 'trap': 1, 'windows-store-apps': 1, 'whm': 1, 'cpanel-uapi': 1, 'spring-amqp': 1, 'spring-rabbit': 1, 'collapsable': 1, 'oauth-1.0a': 1, 'neshan': 1, 'neshan-android-sdk': 1, 'springdoc-openapi-ui': 2, '4g': 1, 'ubsan': 1, 'stdlaunder': 1, 'static-data': 1, 'postgis-installation': 1, 'ld': 1, 'variadic-macros': 1, 'token-pasting-operator': 1, 'manytomanyfield': 1, 'catalog': 1, 'objection.js': 1, 'google-workspace-add-ons': 1, 'mmu': 1, 'supervisor-mode': 1, 'devise-jwt': 1, 'pim': 1, 'master-data-management': 1, 'flying-saucer': 1, 'genesys': 2, 'genesys-platform-sdk': 2, 'selenium-ide': 1, 'filestream': 1, 'game-center': 1, 'component-space': 1, 'amazonsellercentral': 2, 'delayed-job': 1, 'agenda': 1, 'mastodon': 1, 'python-gitlab': 1, 'nopcommerce': 1, 'xcode-target': 1, 'spark-submit': 1, 'uicomponents': 1, 'pandas-settingwithcopy-warning': 1, 'lifecycle': 3, 'aws-sdk-nodejs': 1, 'dropdownbutton': 1, 'flutter-dropdownbutton': 1, 'typescript-5': 1, 'back4app': 3, 'react-leaflet-v3': 1, 'azure-durable-functions': 1, 'java-15': 1, 'android-xml': 1, 'cgal': 1, 'pg-partman': 1, 'assign': 1, 'fleet': 1, 'apache-commons-io': 1, 'point-in-polygon': 1, 'symfony5.4': 1, 'struts-tags': 1, 'versionupgrade': 1, 'node-postgres': 1, 'intersection-observer': 2, 'google-news': 1, 'causalml': 1, 'jtag': 1, 'clique': 1, 'ids': 2, 'runtime-configuration': 1, 'database-security': 1, 'std-bitset': 1, 'api-versioning': 1, 'carter': 1, 'elapsedtime': 1, 'angular-moment': 1, 'coalesce': 1, 'jenkins-docker': 1, 'flutter-platform-channel': 1, 'olap': 1, 'tidb': 1, 'analytical': 1, 'multicol': 1, 'cts': 1, 'lerna': 1, 'modbus-tcp': 1, 'windows-forms-core': 1, 'easy-modbus': 1, 'cut': 1, 'jgit': 1, 'git-refspec': 1, 'huawei-map-kit': 1, 'etherpad': 1, 'read-the-docs': 1, 'protoc': 1, 'vue-cli': 2, 'haproxy-ingress': 1, 'bittorrent': 1, 'pcapplusplus': 1, 'mysqlbinlog': 1, 'everscale': 1, 'venomblockchain': 1, 'default-document': 1, 'prefix': 1, 'redis-sentinel': 2, 'minizinc': 1, 'multiple-assignment': 1, 'azure-static-web-app-routing': 1, 'label-encoding': 1, 'shiro': 2, 'pac4j': 3, 'wix3.11': 1, 'signserver': 1, 'code-composer': 1, 'x-frame-options': 2, 'krakend': 1, 'reality-composer': 1, 'text-rendering': 1, 'teams-toolkit': 1, 'scd2': 1, 'gitpython': 1, 'django-oauth-toolkit': 1, 'github-rulesets': 1, 'nimbus': 3, 'wshttpbinding': 1, 'basichttpbinding': 1, 'orgchart': 1, 'qregularexpression': 1, 'parameterized': 1, 'parameterized-unit-test': 1, 'sql-delete': 2, 'cascading-deletes': 1, 'relaycommand': 1, 'commandparameter': 2, 'grand-central-dispatch': 1, 'parallel-testing': 1, 'macos-monterey': 1, 'laravel-excel': 3, 'debug-symbols': 2, 'ref': 1, 'flask-wtforms': 1, 'node-telegram-bot-api': 4, 'huggingface-evaluate': 1, 'chrf': 1, 'hapi-fhir': 2, 'smart-on-fhir': 2, 'tinymce-plugins': 1, 'django-tinymce': 1, 'omnifaces': 1, 'dspace': 1, 'spring-vault': 1, 'czmq': 1, 'android-custom-view': 1, 'custom-view': 1, 'weibo': 1, 'vscode-python': 2, 'v-model': 2, 'xerces': 1, 'wkt': 1, 'datagrip': 1, 'shardingsphere': 1, 'flask-mail': 2, 'victory-charts': 1, 'victory-native': 1, 'exoplayer2.x': 3, 'abcpdf': 2, 'anonymous-function': 4, 'rdl': 1, 'ssrs-2019': 1, 'daemonset': 1, 'raft': 1, 'sugarcrm': 1, 'array-merge': 1, 'roxygen2': 1, 'android-location': 1, 'android-wallpaper': 1, 'wallpapermanager': 1, 'go-redis': 1, 'typescript-decorator': 1, 'qos': 1, 'side-channel-attacks': 1, 'matomo': 1, 'dkim': 1, 'triton': 2, 'raw-sockets': 4, 'react-native-iap': 2, 'switch-expression': 2, 'spring-cloud-stream-binder-kafka': 1, 'html-react-parser': 1, 'scons': 1, 'transitive-dependency': 1, 'autofilter': 1, 'amba': 1, 'netplan': 1, 'ntl': 1, 'unicode-string': 1, 'quicktime': 2, 'flask-appbuilder': 1, 'tokio-postgres': 1, 'react-data-grid': 1, 'google-blogger-api': 1, 'valet': 1, 'alpha-transparency': 3, 'type-annotation': 2, 'solution': 3, 'capl': 2, 'nvml': 2, 'nvidia-smi': 2, 'parameterized-constructor': 2, 'flask-mongoengine': 1, 'innodb': 2, 'rootkit': 2, 'mediasoup': 2, 'rtcpeerconnection': 2, 'tortoisegit': 2, 'batching': 1, 'docxtemplater': 1, 'quectel': 1, 'code-push': 3, 'react-native-code-push': 3, 'java-failsafe': 2, 'opnsense': 2, 'fastcgi': 3, 'twilio-flex': 1, 'twilio-cli': 1, 'gtkassistant': 1, 'mklocalsearch': 1, 'wit-ai': 1, 'apache-james': 1, 'gaussian': 1, 'gradient-descent': 1, 'code-editor': 1, 'pepper': 1, 'asp-classic': 1, 'icecast2': 2, 'cocoa-touch': 2, 'uigesturerecognizer': 2, 'torsocks': 1, 'wgsl': 1, 'geemap': 1, 'location-services': 1, 'flickity': 1, 'flask-jwt-extended': 1, 'imagej': 1, 'fiji': 1, 'ajaxform': 1, 'redis-search': 1, 'object-graph': 1, 'node.js-typeorm': 1, 'currency-formatting': 1, 'strncpy': 2, 'strncmp': 2, 'coefficients': 1, 'mle': 1, 'typeguards': 1, 'mediadevices': 1, 'fgarch': 1, 'veins': 1, 'pandas.excelwriter': 1, 'excel-writer-xlsx': 1, 'revert': 1, 'errno': 1, 'kmdf': 2, 'flash-cs6': 1, 'mxnet': 1, 'failed-to-connect': 1, 'oledb': 1, 'oledbexception': 1, 'arduino-ultra-sonic': 2, 'javaexec-gradle-plugin': 4, 'sql-server-2005': 2, 'powershell-7': 2, 'angularbuild': 2, 'core': 2, 'keycloak-nodejs-connect': 1, 'msys': 1, 'argmax': 1, 'regex-recursion': 2, 'traversal': 1, 'sqlcmd': 2, 'dataproc': 2, 'google-cloud-dataproc-serverless': 2, 'expert-advisor': 2, 'rgl': 2, 'qt-installer': 2, 'bing-maps': 2, 'katalon-studio': 2, 'azure-signalr': 1, 'pipenv': 2, 'pairplot': 2, 'github-app': 2, 'probot': 2, 'spoon': 2, 'dateadd': 1, 'function-parameter': 1, 'node-gyp': 1, 'late-binding': 1, 'dynamic-dispatch': 1, 'dolt': 1, 'action-scheduler': 1, 'directory-structure': 1, 'nul': 1, 'resume': 1, 'dqn': 1, 'object-oriented-analysis': 1, 'accounting': 1, 'blas': 1, 'datediff': 1, 'equivalence': 1, 'compositing': 1, 'pinot': 1, 'eslint-plugin-vue': 1, 'mitov-audio-lab': 1, 'dataimporthandler': 1, 'wordpress-theme-astra': 1, 'service-reference': 1, 'leveldb': 1, 'levigo': 1, 'ipmitool': 2, 'list-comprehension': 1, 'testthat': 1, 'mask-rcnn': 1, 'zombie-process': 1, 'particle.js': 1, 'leakcanary': 2, 'shadertoy': 2, 'shadermaterial': 2, 'rworldmap': 2, 'google-people-api': 2, 'android-vibration': 2, 'storefront': 2, 'jspdf-autotable': 2, 'websphere-liberty': 2, 'open-liberty': 4, 'kubernetes-deployment': 2, 'copula': 1, 'android-broadcast': 2, 'callscreeningservice': 1, 'aliexpress': 1, 'dart-isolates': 1, 'for-json': 1, 'redis-py': 2, 'lucee': 1, 'cfdocument': 1, 'label-studio': 1, 'opengl-es-2.0': 2, 'google-ad-manager': 3, 'revenue': 2, 'ad-management': 3, 'messagebroker': 1, 'ibm-integration-bus': 1, 'extended-sql': 1, 'mammoth': 1, 'custom-authentication': 1, 'password-less': 1, 'cmsis': 1, 'digital-assets-links': 1, 'magento-ee': 1, 'geom-text': 1, 'greenplum': 1, 'vue-sfc': 1, 'apple-cryptokit': 1, 'cryptokit': 1, 'neopixel': 1, 'adafruit-circuitpython-neopixel': 1, 'context-switching': 1, 'mysql-error-1064': 1, 'graphene-django': 1, 'ecmascript-2024': 1, 'jquery-ui-resizable': 1, 'apache-mina': 1, 'indirection': 1, 'database-view': 1, 'database-caching': 1, 'html2canvas': 1, 'huawei-cloud': 2, 'xarrows': 1, 'google-cloud-stackdriver': 2, 'visual-web-developer': 2, 'convex-optimization': 2, 'inner-product': 2, 'clip': 3, 'instantiation': 1, 'minifilter': 1, 'jmespath': 1, 'ansi-c': 2, 'vuefire': 1, 'redisearch': 1, 'chiseltest': 1, 'android-progressbar': 1, 'layer-list': 1, 'reddit': 1, 'brute-force': 1, 'praw': 3, 'rerender': 1, 'powerapps-modeldriven': 1, 'rich': 2, 'python-textual': 1, 'forever-frame': 2, 'jhipster-gateway': 2, 'azure-data-lake': 2, 'menuitem': 3, 'manual': 2, 'abp-framework': 2, 'librdkafka': 3, 'vscode-git': 2, 'ag': 1, 'ng-build': 1, 'angular-environmentproviders': 1, 'passport-google-oauth': 1, 'nrf52': 2, 'maql': 1, 'appcontainer': 1, 'activiti': 1, 'azureml-python-sdk': 1, 'reactstrap': 1, 'azure-video-indexer': 1, 'uialertcontroller': 1, 'custom-font': 1, 'keystonejs6': 1, 'trojan': 1, 'poppler': 1, 'poppler-utils': 1, 'android-uiautomator': 1, 'microstrategy': 1, 'portability': 1, 'fadein': 3, 'netty4': 1, 'gpo': 2, 'icx': 2, 'google-web-designer': 1, 'webui': 1, 'uniqueidentifier': 2, 'mirth': 2, 'skeletal-animation': 2, 'terraform-provider-datadog': 2, 'swagger-ui-express': 1, 'react-native-paper': 1, 'amazon-redshift-spectrum': 1, 'qtspim': 1, 'apktool': 1, 'android-icons': 1, 'callkit': 2, 'webdriverwait': 2, '400-bad-request': 3, 'thread-local': 1, 'scoped-value': 1, 'wicked-pdf': 2, 'python-descriptors': 2, 'salt-stack': 1, 'moshi': 2, 'non-static': 2, 'uid': 2, 'python-black': 1, 'syslog': 1, 'ubuntu-server': 1, 'user-profile': 1, 'yarnpkg-v3': 1, 'signalr.client': 1, 'android-external-storage': 2, 'show': 3, 'git-svn': 3, 'bullmq': 2, 'avogadro': 1, 'laravel-notification': 1, 'expect': 2, 'fly': 2, 'wasp': 2, 'reportportal': 1, 'elixir-jason': 1, 'charat': 1, 'facial-identification': 1, 'catalina': 1, 'ip-restrictions': 1, 'django-testing': 3, 'portable-class-library': 1, 'nvme': 2, 'rs485': 2, 'ggmap': 2, 'react-highcharts': 1, 'rustup': 2, 'file-move': 1, 'network-protocols': 1, 'winmain': 2, 'do-while': 2, 'continue': 2, 'fluent-ffmpeg': 1, 'nvenc': 1, 'long-format-data': 1, 'azure-iot-central': 1, 'cox-regression': 2, 'varying': 1, 'exposure': 1, 'mupdf': 1, 'cell-formatting': 1, 'decimal-precision': 1, '.net-standard': 2, '.net-standard-2.0': 2, 'flutter-change-notifier': 2, 'online-compilation': 1, 'pomelo-entityframeworkcore-mysql': 1, 'javasound': 1, 'libalsa': 1, 'ctype': 1, 'minimize': 1, 'sdl-ttf': 1, 'flask-mysql': 2, 'jetbrains-rider': 2, 'sourcegenerators': 2, 'getenv': 3, 'environ': 3, 'preventdefault': 2, 'stoppropagation': 2, 'cosmos': 1, 'quarkus-security-webauthn': 1, 'specman': 1, 'setenv': 1, 'todo': 2, 'bochs': 2, 'react-native-config': 2, 'xcode-archive': 2, 'google-api-nodejs-client': 2, 'amazon-ami': 2, 'amazon-kinesis-video-streams': 2, 'foldable': 1, 'leptonica': 1, 'handwriting-recognition': 1, 'ndb': 1, 'page-title': 1, 'kbar': 2, 'anyof': 2, 'mezzanine': 1, 'simultaneous': 1, 'jmenu': 1, 'jmenuitem': 1, 'jmenubar': 1, 'sinatra': 2, 'erb': 1, 'telnet': 2, 'byzantine': 2, 'twemoji': 1, 'hwid': 1, 'gobject': 1, 'tfrecord': 1, 'django-apps': 1, 'bryntum-scheduler': 1, 'video.js': 1, 'volume': 1, 's3-kafka-connector': 2, 'decompiler': 2, 'compiler-specific': 2, 'datatemplate': 1, 'datagridcolumn': 1, 'compiler-flags': 1, 'stack-pointer': 1, 'apple-clang': 1, 'adonis.js': 1, 'openurl': 1, 'redigo': 2, 'fedora-21': 2, 'widget-test-flutter': 2, 'content-type': 2, 'lwip': 1, 'post-increment': 1, 'launcher': 1, 'pygame-surface': 1, 'pygame2': 1, 'getjson': 1, 'loglog': 2, 'trpc.io': 2, 'ddd-repositories': 2, 'insertion-order': 2, 'scrollrect': 2, 'virtual-inheritance': 2, 'inherited-constructors': 3, 'unified-automation-sdk': 1, 'hazard': 1, 'vast': 2, 'google-ima': 2, 'member': 2, 'wow.js': 2, 'codegen': 2, 'tornadofx': 1, 'image-preprocessing': 1, 'pid-controller': 1, 'chart.js2': 1, 'polish': 1, 'sidekiq-cron': 2, 'genymotion': 2, 'process.start': 1, 'resultset': 1, 'automatic-differentiation': 1, 'spotify-scio': 1, 'mysql-error-1292': 1, 'msvc14': 1, 'toolchain': 1, 'audiotrack': 1, 'tarsosdsp': 1, 'audio-route': 1, 'android-audio-streams': 1, 'inherited': 1, 'qstatemachine': 1, 'video-recording': 1, 'spring-rsocket': 2, 'rsocket-js': 2, 'vuedraggable': 1, 'socketexception': 1, 'bentoml': 1, 'mod-fcgid': 1, 'luxon': 1, 'statistical-sampling': 1, 'nbdev': 1, 'google-cloud-shell': 1, 'opendkim': 1, 'orientation': 1, 'reboot': 1}\n"
          ]
        }
      ]
    },
    {
      "cell_type": "code",
      "source": [
        "threshold = int(len(df) * 0.01)\n",
        "rare_tags = [key for key, value in tags_count.items() if value < threshold]\n",
        "len(rare_tags), rare_tags[:5]"
      ],
      "metadata": {
        "id": "bD_HR-nH3hIb",
        "outputId": "c9114ff7-0ca9-456b-fd24-870573ef883c",
        "colab": {
          "base_uri": "https://localhost:8080/"
        }
      },
      "execution_count": 12,
      "outputs": [
        {
          "output_type": "execute_result",
          "data": {
            "text/plain": [
              "(11934, ['intellij-idea', 'permissions', 'glassfish', 'primeng', 'mpmath'])"
            ]
          },
          "metadata": {},
          "execution_count": 12
        }
      ]
    },
    {
      "cell_type": "code",
      "source": [
        "tags_list = df.Tags.to_list()\n",
        "revised_tags_list = []\n",
        "indices_to_drop = []\n",
        "\n",
        "for idx, Tags in enumerate(tags_list):\n",
        "  tags_list = eval(Tags)\n",
        "  revised_tags = []\n",
        "\n",
        "  for Tags in tags_list:\n",
        "    if Tags not in rare_tags:\n",
        "      revised_tags.append(Tags)\n",
        "\n",
        "  if len(revised_tags) == 0:\n",
        "    indices_to_drop.append(idx)\n",
        "  else:\n",
        "    revised_tags_list.append(revised_tags)\n",
        "\n",
        "df = df.drop(indices_to_drop).reset_index(drop=True)\n",
        "df.shape"
      ],
      "metadata": {
        "id": "pJQrtTqY4BG-",
        "outputId": "522518a9-d690-44f2-e503-fa58db3081ef",
        "colab": {
          "base_uri": "https://localhost:8080/"
        }
      },
      "execution_count": 13,
      "outputs": [
        {
          "output_type": "execute_result",
          "data": {
            "text/plain": [
              "(20262, 4)"
            ]
          },
          "metadata": {},
          "execution_count": 13
        }
      ]
    },
    {
      "cell_type": "code",
      "source": [
        "df['revised_tags'] = revised_tags_list"
      ],
      "metadata": {
        "id": "HiGpv7jp4w3s"
      },
      "execution_count": 14,
      "outputs": []
    },
    {
      "cell_type": "code",
      "source": [
        "df.tail()"
      ],
      "metadata": {
        "id": "t0f7rNyV44i1",
        "outputId": "a21eca2b-e0c9-400f-bb0e-5589c9e897f2",
        "colab": {
          "base_uri": "https://localhost:8080/",
          "height": 1000
        }
      },
      "execution_count": 15,
      "outputs": [
        {
          "output_type": "execute_result",
          "data": {
            "text/plain": [
              "                                                                                                                                                              Question  \\\n",
              "20257                                                                                                                                   How to calculate ema in polars   \n",
              "20258                                                                                         Open whatsapp account while the number is used in Facebook developer app   \n",
              "20259  About triangles in HTML, I saw solutions using borders, translate, etc, but no one solving this issue: how to set a link only to the triangle area? [duplicate]   \n",
              "20260                                                                                                 Accessing & Sending Phone Call(of the other party) To The Server   \n",
              "20261                                                                                                                          Converting curl command to Laravel Http   \n",
              "\n",
              "                                                                                                                                                                                                           Summary  \\\n",
              "20257                            So, basically, I'm trying to write an equivalent of this code but use polars instead of pandas. def ema(close, length=None, talib=None, offset=None, **kwargs): \"\"\"Indicator: ...   \n",
              "20258  Hey friends I hope that you are doing well. I'm building a Platform and I'm integrating Whatsapp with it. In fact any new user opens an account a Whatsapp message sent to him automatically. And if he ...   \n",
              "20259      I want to create a triangle and set a link (changing cursor etc) only to the visible area of this triangle, leaving the transparent area untouched and unlinked. All the solutions here, I tried to ...   \n",
              "20260  I have an app idea for a school project, where I need to send the call recording of the other party to a server. I am running a nodejs server which is ready to receive a Buffer or Blob. So all I need ...   \n",
              "20261          I'm stuck while converting a curl command to Laravel Http facade command. curl -i --upload-file ~/Desktop/Myimage.jpg -H 'Authorization: Bearer Redacted' \"https://www.linkedin.com/dms-uploads/...   \n",
              "\n",
              "                                                                        Tags  \\\n",
              "20257                    ['python', 'python-3.x', 'pandas', 'python-polars']   \n",
              "20258                                                ['laravel', 'whatsapp']   \n",
              "20259                     ['html', 'css', 'hyperlink', 'cursor', 'triangle']   \n",
              "20260  ['java', 'android', 'kotlin', 'android-studio', 'mobile-development']   \n",
              "20261                                        ['laravel', 'curl', 'php-curl']   \n",
              "\n",
              "            Username                  revised_tags  \n",
              "20257           nima  [python, python-3.x, pandas]  \n",
              "20258       nabilkrs                     [laravel]  \n",
              "20259  Marcos Laredo                   [html, css]  \n",
              "20260      Zepticona       [java, android, kotlin]  \n",
              "20261      Jude F'do                     [laravel]  "
            ],
            "text/html": [
              "\n",
              "  <div id=\"df-90c34fe3-eb52-49ba-86a5-02fc2106c903\" class=\"colab-df-container\">\n",
              "    <div>\n",
              "<style scoped>\n",
              "    .dataframe tbody tr th:only-of-type {\n",
              "        vertical-align: middle;\n",
              "    }\n",
              "\n",
              "    .dataframe tbody tr th {\n",
              "        vertical-align: top;\n",
              "    }\n",
              "\n",
              "    .dataframe thead th {\n",
              "        text-align: right;\n",
              "    }\n",
              "</style>\n",
              "<table border=\"1\" class=\"dataframe\">\n",
              "  <thead>\n",
              "    <tr style=\"text-align: right;\">\n",
              "      <th></th>\n",
              "      <th>Question</th>\n",
              "      <th>Summary</th>\n",
              "      <th>Tags</th>\n",
              "      <th>Username</th>\n",
              "      <th>revised_tags</th>\n",
              "    </tr>\n",
              "  </thead>\n",
              "  <tbody>\n",
              "    <tr>\n",
              "      <th>20257</th>\n",
              "      <td>How to calculate ema in polars</td>\n",
              "      <td>So, basically, I'm trying to write an equivalent of this code but use polars instead of pandas. def ema(close, length=None, talib=None, offset=None, **kwargs): \"\"\"Indicator: ...</td>\n",
              "      <td>['python', 'python-3.x', 'pandas', 'python-polars']</td>\n",
              "      <td>nima</td>\n",
              "      <td>[python, python-3.x, pandas]</td>\n",
              "    </tr>\n",
              "    <tr>\n",
              "      <th>20258</th>\n",
              "      <td>Open whatsapp account while the number is used in Facebook developer app</td>\n",
              "      <td>Hey friends I hope that you are doing well. I'm building a Platform and I'm integrating Whatsapp with it. In fact any new user opens an account a Whatsapp message sent to him automatically. And if he ...</td>\n",
              "      <td>['laravel', 'whatsapp']</td>\n",
              "      <td>nabilkrs</td>\n",
              "      <td>[laravel]</td>\n",
              "    </tr>\n",
              "    <tr>\n",
              "      <th>20259</th>\n",
              "      <td>About triangles in HTML, I saw solutions using borders, translate, etc, but no one solving this issue: how to set a link only to the triangle area? [duplicate]</td>\n",
              "      <td>I want to create a triangle and set a link (changing cursor etc) only to the visible area of this triangle, leaving the transparent area untouched and unlinked. All the solutions here, I tried to ...</td>\n",
              "      <td>['html', 'css', 'hyperlink', 'cursor', 'triangle']</td>\n",
              "      <td>Marcos Laredo</td>\n",
              "      <td>[html, css]</td>\n",
              "    </tr>\n",
              "    <tr>\n",
              "      <th>20260</th>\n",
              "      <td>Accessing &amp; Sending Phone Call(of the other party) To The Server</td>\n",
              "      <td>I have an app idea for a school project, where I need to send the call recording of the other party to a server. I am running a nodejs server which is ready to receive a Buffer or Blob. So all I need ...</td>\n",
              "      <td>['java', 'android', 'kotlin', 'android-studio', 'mobile-development']</td>\n",
              "      <td>Zepticona</td>\n",
              "      <td>[java, android, kotlin]</td>\n",
              "    </tr>\n",
              "    <tr>\n",
              "      <th>20261</th>\n",
              "      <td>Converting curl command to Laravel Http</td>\n",
              "      <td>I'm stuck while converting a curl command to Laravel Http facade command. curl -i --upload-file ~/Desktop/Myimage.jpg -H 'Authorization: Bearer Redacted' \"https://www.linkedin.com/dms-uploads/...</td>\n",
              "      <td>['laravel', 'curl', 'php-curl']</td>\n",
              "      <td>Jude F'do</td>\n",
              "      <td>[laravel]</td>\n",
              "    </tr>\n",
              "  </tbody>\n",
              "</table>\n",
              "</div>\n",
              "    <div class=\"colab-df-buttons\">\n",
              "\n",
              "  <div class=\"colab-df-container\">\n",
              "    <button class=\"colab-df-convert\" onclick=\"convertToInteractive('df-90c34fe3-eb52-49ba-86a5-02fc2106c903')\"\n",
              "            title=\"Convert this dataframe to an interactive table.\"\n",
              "            style=\"display:none;\">\n",
              "\n",
              "  <svg xmlns=\"http://www.w3.org/2000/svg\" height=\"24px\" viewBox=\"0 -960 960 960\">\n",
              "    <path d=\"M120-120v-720h720v720H120Zm60-500h600v-160H180v160Zm220 220h160v-160H400v160Zm0 220h160v-160H400v160ZM180-400h160v-160H180v160Zm440 0h160v-160H620v160ZM180-180h160v-160H180v160Zm440 0h160v-160H620v160Z\"/>\n",
              "  </svg>\n",
              "    </button>\n",
              "\n",
              "  <style>\n",
              "    .colab-df-container {\n",
              "      display:flex;\n",
              "      gap: 12px;\n",
              "    }\n",
              "\n",
              "    .colab-df-convert {\n",
              "      background-color: #E8F0FE;\n",
              "      border: none;\n",
              "      border-radius: 50%;\n",
              "      cursor: pointer;\n",
              "      display: none;\n",
              "      fill: #1967D2;\n",
              "      height: 32px;\n",
              "      padding: 0 0 0 0;\n",
              "      width: 32px;\n",
              "    }\n",
              "\n",
              "    .colab-df-convert:hover {\n",
              "      background-color: #E2EBFA;\n",
              "      box-shadow: 0px 1px 2px rgba(60, 64, 67, 0.3), 0px 1px 3px 1px rgba(60, 64, 67, 0.15);\n",
              "      fill: #174EA6;\n",
              "    }\n",
              "\n",
              "    .colab-df-buttons div {\n",
              "      margin-bottom: 4px;\n",
              "    }\n",
              "\n",
              "    [theme=dark] .colab-df-convert {\n",
              "      background-color: #3B4455;\n",
              "      fill: #D2E3FC;\n",
              "    }\n",
              "\n",
              "    [theme=dark] .colab-df-convert:hover {\n",
              "      background-color: #434B5C;\n",
              "      box-shadow: 0px 1px 3px 1px rgba(0, 0, 0, 0.15);\n",
              "      filter: drop-shadow(0px 1px 2px rgba(0, 0, 0, 0.3));\n",
              "      fill: #FFFFFF;\n",
              "    }\n",
              "  </style>\n",
              "\n",
              "    <script>\n",
              "      const buttonEl =\n",
              "        document.querySelector('#df-90c34fe3-eb52-49ba-86a5-02fc2106c903 button.colab-df-convert');\n",
              "      buttonEl.style.display =\n",
              "        google.colab.kernel.accessAllowed ? 'block' : 'none';\n",
              "\n",
              "      async function convertToInteractive(key) {\n",
              "        const element = document.querySelector('#df-90c34fe3-eb52-49ba-86a5-02fc2106c903');\n",
              "        const dataTable =\n",
              "          await google.colab.kernel.invokeFunction('convertToInteractive',\n",
              "                                                    [key], {});\n",
              "        if (!dataTable) return;\n",
              "\n",
              "        const docLinkHtml = 'Like what you see? Visit the ' +\n",
              "          '<a target=\"_blank\" href=https://colab.research.google.com/notebooks/data_table.ipynb>data table notebook</a>'\n",
              "          + ' to learn more about interactive tables.';\n",
              "        element.innerHTML = '';\n",
              "        dataTable['output_type'] = 'display_data';\n",
              "        await google.colab.output.renderOutput(dataTable, element);\n",
              "        const docLink = document.createElement('div');\n",
              "        docLink.innerHTML = docLinkHtml;\n",
              "        element.appendChild(docLink);\n",
              "      }\n",
              "    </script>\n",
              "  </div>\n",
              "\n",
              "\n",
              "<div id=\"df-eaf31fd4-85e3-4ce9-9d57-4b3a68e1fb18\">\n",
              "  <button class=\"colab-df-quickchart\" onclick=\"quickchart('df-eaf31fd4-85e3-4ce9-9d57-4b3a68e1fb18')\"\n",
              "            title=\"Suggest charts\"\n",
              "            style=\"display:none;\">\n",
              "\n",
              "<svg xmlns=\"http://www.w3.org/2000/svg\" height=\"24px\"viewBox=\"0 0 24 24\"\n",
              "     width=\"24px\">\n",
              "    <g>\n",
              "        <path d=\"M19 3H5c-1.1 0-2 .9-2 2v14c0 1.1.9 2 2 2h14c1.1 0 2-.9 2-2V5c0-1.1-.9-2-2-2zM9 17H7v-7h2v7zm4 0h-2V7h2v10zm4 0h-2v-4h2v4z\"/>\n",
              "    </g>\n",
              "</svg>\n",
              "  </button>\n",
              "\n",
              "<style>\n",
              "  .colab-df-quickchart {\n",
              "      --bg-color: #E8F0FE;\n",
              "      --fill-color: #1967D2;\n",
              "      --hover-bg-color: #E2EBFA;\n",
              "      --hover-fill-color: #174EA6;\n",
              "      --disabled-fill-color: #AAA;\n",
              "      --disabled-bg-color: #DDD;\n",
              "  }\n",
              "\n",
              "  [theme=dark] .colab-df-quickchart {\n",
              "      --bg-color: #3B4455;\n",
              "      --fill-color: #D2E3FC;\n",
              "      --hover-bg-color: #434B5C;\n",
              "      --hover-fill-color: #FFFFFF;\n",
              "      --disabled-bg-color: #3B4455;\n",
              "      --disabled-fill-color: #666;\n",
              "  }\n",
              "\n",
              "  .colab-df-quickchart {\n",
              "    background-color: var(--bg-color);\n",
              "    border: none;\n",
              "    border-radius: 50%;\n",
              "    cursor: pointer;\n",
              "    display: none;\n",
              "    fill: var(--fill-color);\n",
              "    height: 32px;\n",
              "    padding: 0;\n",
              "    width: 32px;\n",
              "  }\n",
              "\n",
              "  .colab-df-quickchart:hover {\n",
              "    background-color: var(--hover-bg-color);\n",
              "    box-shadow: 0 1px 2px rgba(60, 64, 67, 0.3), 0 1px 3px 1px rgba(60, 64, 67, 0.15);\n",
              "    fill: var(--button-hover-fill-color);\n",
              "  }\n",
              "\n",
              "  .colab-df-quickchart-complete:disabled,\n",
              "  .colab-df-quickchart-complete:disabled:hover {\n",
              "    background-color: var(--disabled-bg-color);\n",
              "    fill: var(--disabled-fill-color);\n",
              "    box-shadow: none;\n",
              "  }\n",
              "\n",
              "  .colab-df-spinner {\n",
              "    border: 2px solid var(--fill-color);\n",
              "    border-color: transparent;\n",
              "    border-bottom-color: var(--fill-color);\n",
              "    animation:\n",
              "      spin 1s steps(1) infinite;\n",
              "  }\n",
              "\n",
              "  @keyframes spin {\n",
              "    0% {\n",
              "      border-color: transparent;\n",
              "      border-bottom-color: var(--fill-color);\n",
              "      border-left-color: var(--fill-color);\n",
              "    }\n",
              "    20% {\n",
              "      border-color: transparent;\n",
              "      border-left-color: var(--fill-color);\n",
              "      border-top-color: var(--fill-color);\n",
              "    }\n",
              "    30% {\n",
              "      border-color: transparent;\n",
              "      border-left-color: var(--fill-color);\n",
              "      border-top-color: var(--fill-color);\n",
              "      border-right-color: var(--fill-color);\n",
              "    }\n",
              "    40% {\n",
              "      border-color: transparent;\n",
              "      border-right-color: var(--fill-color);\n",
              "      border-top-color: var(--fill-color);\n",
              "    }\n",
              "    60% {\n",
              "      border-color: transparent;\n",
              "      border-right-color: var(--fill-color);\n",
              "    }\n",
              "    80% {\n",
              "      border-color: transparent;\n",
              "      border-right-color: var(--fill-color);\n",
              "      border-bottom-color: var(--fill-color);\n",
              "    }\n",
              "    90% {\n",
              "      border-color: transparent;\n",
              "      border-bottom-color: var(--fill-color);\n",
              "    }\n",
              "  }\n",
              "</style>\n",
              "\n",
              "  <script>\n",
              "    async function quickchart(key) {\n",
              "      const quickchartButtonEl =\n",
              "        document.querySelector('#' + key + ' button');\n",
              "      quickchartButtonEl.disabled = true;  // To prevent multiple clicks.\n",
              "      quickchartButtonEl.classList.add('colab-df-spinner');\n",
              "      try {\n",
              "        const charts = await google.colab.kernel.invokeFunction(\n",
              "            'suggestCharts', [key], {});\n",
              "      } catch (error) {\n",
              "        console.error('Error during call to suggestCharts:', error);\n",
              "      }\n",
              "      quickchartButtonEl.classList.remove('colab-df-spinner');\n",
              "      quickchartButtonEl.classList.add('colab-df-quickchart-complete');\n",
              "    }\n",
              "    (() => {\n",
              "      let quickchartButtonEl =\n",
              "        document.querySelector('#df-eaf31fd4-85e3-4ce9-9d57-4b3a68e1fb18 button');\n",
              "      quickchartButtonEl.style.display =\n",
              "        google.colab.kernel.accessAllowed ? 'block' : 'none';\n",
              "    })();\n",
              "  </script>\n",
              "</div>\n",
              "\n",
              "    </div>\n",
              "  </div>\n"
            ]
          },
          "metadata": {},
          "execution_count": 15
        }
      ]
    },
    {
      "cell_type": "code",
      "source": [
        "revised_tags_list = df.revised_tags.to_list()\n",
        "revised_tags_count = {}\n",
        "for Tags in revised_tags_list:\n",
        "  tags_list = Tags\n",
        "  for Tags in tags_list:\n",
        "    if Tags in revised_tags_count.keys():\n",
        "      revised_tags_count[Tags] += 1\n",
        "    else:\n",
        "      revised_tags_count[Tags] = 1\n",
        "print(f\"Number of Tags: {len(revised_tags_count)}\")\n",
        "print(revised_tags_count)"
      ],
      "metadata": {
        "id": "4uQhgRIR47jo",
        "outputId": "85e4ddd4-c11a-4940-c37f-bd786dcadb8e",
        "colab": {
          "base_uri": "https://localhost:8080/"
        }
      },
      "execution_count": 16,
      "outputs": [
        {
          "output_type": "stream",
          "name": "stdout",
          "text": [
            "Number of Tags: 36\n",
            "{'java': 1485, 'angular': 539, 'python': 3769, 'python-3.x': 480, 'javascript': 2614, 'html': 1025, 'css': 746, 'react-native': 439, 'c#': 1307, 'ios': 478, 'r': 676, 'android': 1180, 'django': 413, 'azure': 353, 'reactjs': 1619, 'flutter': 901, 'kotlin': 383, 'laravel': 386, 'c++': 899, 'postgresql': 359, 'c': 430, 'sql': 483, 'mysql': 328, 'docker': 441, 'swift': 424, 'visual-studio-code': 301, 'excel': 398, 'typescript': 747, 'pandas': 379, 'node.js': 798, 'spring-boot': 512, 'next.js': 534, 'php': 797, '.net': 335, 'amazon-web-services': 388, 'dart': 302}\n"
          ]
        }
      ]
    },
    {
      "cell_type": "code",
      "source": [
        "encode_tags_types = { key: idx for idx, (key, value) in enumerate(revised_tags_count.items())}\n",
        "with open(\"tags_types_encoded.json\", \"w\") as fp:\n",
        "  json.dump(encode_tags_types, fp)"
      ],
      "metadata": {
        "id": "UZ_00Wco56KP"
      },
      "execution_count": 17,
      "outputs": []
    },
    {
      "cell_type": "code",
      "source": [
        "# We need this because for multilabel classification all Tags have possibility to be present in the predictions\n",
        "categorical_tags_list = []\n",
        "revised_tags_list = df.revised_tags.to_list()\n",
        "\n",
        "for revised_tags in revised_tags_list:\n",
        "  categorical_list = [0] * len(encode_tags_types)\n",
        "  for Tags in revised_tags:\n",
        "    tags_type_index = encode_tags_types[Tags]\n",
        "    categorical_list[tags_type_index] = 1\n",
        "  categorical_tags_list.append(categorical_list)\n",
        "\n",
        "categorical_tags_list[3][:23]"
      ],
      "metadata": {
        "id": "JpXuU_gk6Q1i",
        "outputId": "401dc7f8-f5a5-4dea-eb5a-8448aab14b47",
        "colab": {
          "base_uri": "https://localhost:8080/"
        }
      },
      "execution_count": 19,
      "outputs": [
        {
          "output_type": "execute_result",
          "data": {
            "text/plain": [
              "[1, 0, 0, 0, 0, 0, 0, 0, 0, 0, 0, 0, 0, 0, 0, 0, 0, 0, 0, 0, 0, 0, 0]"
            ]
          },
          "metadata": {},
          "execution_count": 19
        }
      ]
    },
    {
      "cell_type": "code",
      "source": [
        "df['tags_cat_list'] = categorical_tags_list\n",
        "df.head()"
      ],
      "metadata": {
        "id": "frJhpKlB8Zyf",
        "outputId": "a4b47dc2-ca2a-4c0e-e388-5fde3b5bcb8b",
        "colab": {
          "base_uri": "https://localhost:8080/",
          "height": 1000
        }
      },
      "execution_count": 20,
      "outputs": [
        {
          "output_type": "execute_result",
          "data": {
            "text/plain": [
              "                                                      Question  \\\n",
              "0                 IntelliJ IDEA and Glassfish for Java web app   \n",
              "1                  How to style Menu item in Ng Prime Menubar?   \n",
              "2                      How does this function not return true?   \n",
              "3          Error in setting cell values for a TableView column   \n",
              "4  Updating the coordinates of the child element after scaling   \n",
              "\n",
              "                                                                                                                                                                                                        Summary  \\\n",
              "0   I am having trouble getting a simple java web app running. I am going through this tutorial. I am using: IntelliJ IDEA ultimate ed. 2023.3.2 JDK: 19.0.1 Glassfish: 7.0.9 I have gotten to part 5 under ...   \n",
              "1                                            i just started using ng prime, i used the p-menubar <p-menubar [model]=\"items\"></p-menubar> this is the component file : this.items = [ { label: 'First item', ...   \n",
              "2   I am writing a program in Python and so far everthing seems working correctly. I am a bit confused by only one result in a series of mathematics, in the case of x = 169, i = 13 this function seems to ...   \n",
              "3  I'm a newbie to JavaFX (still learning) and I'm currently in the topic of TableViews. I have followed this one particular YouTube video where he made a program about inserting cells to a TableView and ...   \n",
              "4      Help me figure out how to update coordinates for child elements in the form of imgElement images in div canvas-cameras. In the center there is a div with a background picture. In the div, I add as ...   \n",
              "\n",
              "                                                    Tags  \\\n",
              "0  ['java', 'intellij-idea', 'permissions', 'glassfish']   \n",
              "1                                 ['angular', 'primeng']   \n",
              "2                     ['python', 'python-3.x', 'mpmath']   \n",
              "3                                     ['java', 'javafx']   \n",
              "4                          ['javascript', 'html', 'css']   \n",
              "\n",
              "                Username             revised_tags  \\\n",
              "0                  Krabs                   [java]   \n",
              "1  yacine ben gharsallah                [angular]   \n",
              "2               Willtech     [python, python-3.x]   \n",
              "3               Doggoder                   [java]   \n",
              "4             Snacker991  [javascript, html, css]   \n",
              "\n",
              "                                                                                                  tags_cat_list  \n",
              "0  [1, 0, 0, 0, 0, 0, 0, 0, 0, 0, 0, 0, 0, 0, 0, 0, 0, 0, 0, 0, 0, 0, 0, 0, 0, 0, 0, 0, 0, 0, 0, 0, 0, 0, 0, 0]  \n",
              "1  [0, 1, 0, 0, 0, 0, 0, 0, 0, 0, 0, 0, 0, 0, 0, 0, 0, 0, 0, 0, 0, 0, 0, 0, 0, 0, 0, 0, 0, 0, 0, 0, 0, 0, 0, 0]  \n",
              "2  [0, 0, 1, 1, 0, 0, 0, 0, 0, 0, 0, 0, 0, 0, 0, 0, 0, 0, 0, 0, 0, 0, 0, 0, 0, 0, 0, 0, 0, 0, 0, 0, 0, 0, 0, 0]  \n",
              "3  [1, 0, 0, 0, 0, 0, 0, 0, 0, 0, 0, 0, 0, 0, 0, 0, 0, 0, 0, 0, 0, 0, 0, 0, 0, 0, 0, 0, 0, 0, 0, 0, 0, 0, 0, 0]  \n",
              "4  [0, 0, 0, 0, 1, 1, 1, 0, 0, 0, 0, 0, 0, 0, 0, 0, 0, 0, 0, 0, 0, 0, 0, 0, 0, 0, 0, 0, 0, 0, 0, 0, 0, 0, 0, 0]  "
            ],
            "text/html": [
              "\n",
              "  <div id=\"df-ed0c775a-5d23-47e4-9668-930141581588\" class=\"colab-df-container\">\n",
              "    <div>\n",
              "<style scoped>\n",
              "    .dataframe tbody tr th:only-of-type {\n",
              "        vertical-align: middle;\n",
              "    }\n",
              "\n",
              "    .dataframe tbody tr th {\n",
              "        vertical-align: top;\n",
              "    }\n",
              "\n",
              "    .dataframe thead th {\n",
              "        text-align: right;\n",
              "    }\n",
              "</style>\n",
              "<table border=\"1\" class=\"dataframe\">\n",
              "  <thead>\n",
              "    <tr style=\"text-align: right;\">\n",
              "      <th></th>\n",
              "      <th>Question</th>\n",
              "      <th>Summary</th>\n",
              "      <th>Tags</th>\n",
              "      <th>Username</th>\n",
              "      <th>revised_tags</th>\n",
              "      <th>tags_cat_list</th>\n",
              "    </tr>\n",
              "  </thead>\n",
              "  <tbody>\n",
              "    <tr>\n",
              "      <th>0</th>\n",
              "      <td>IntelliJ IDEA and Glassfish for Java web app</td>\n",
              "      <td>I am having trouble getting a simple java web app running. I am going through this tutorial. I am using: IntelliJ IDEA ultimate ed. 2023.3.2 JDK: 19.0.1 Glassfish: 7.0.9 I have gotten to part 5 under ...</td>\n",
              "      <td>['java', 'intellij-idea', 'permissions', 'glassfish']</td>\n",
              "      <td>Krabs</td>\n",
              "      <td>[java]</td>\n",
              "      <td>[1, 0, 0, 0, 0, 0, 0, 0, 0, 0, 0, 0, 0, 0, 0, 0, 0, 0, 0, 0, 0, 0, 0, 0, 0, 0, 0, 0, 0, 0, 0, 0, 0, 0, 0, 0]</td>\n",
              "    </tr>\n",
              "    <tr>\n",
              "      <th>1</th>\n",
              "      <td>How to style Menu item in Ng Prime Menubar?</td>\n",
              "      <td>i just started using ng prime, i used the p-menubar &lt;p-menubar [model]=\"items\"&gt;&lt;/p-menubar&gt; this is the component file : this.items = [ { label: 'First item', ...</td>\n",
              "      <td>['angular', 'primeng']</td>\n",
              "      <td>yacine ben gharsallah</td>\n",
              "      <td>[angular]</td>\n",
              "      <td>[0, 1, 0, 0, 0, 0, 0, 0, 0, 0, 0, 0, 0, 0, 0, 0, 0, 0, 0, 0, 0, 0, 0, 0, 0, 0, 0, 0, 0, 0, 0, 0, 0, 0, 0, 0]</td>\n",
              "    </tr>\n",
              "    <tr>\n",
              "      <th>2</th>\n",
              "      <td>How does this function not return true?</td>\n",
              "      <td>I am writing a program in Python and so far everthing seems working correctly. I am a bit confused by only one result in a series of mathematics, in the case of x = 169, i = 13 this function seems to ...</td>\n",
              "      <td>['python', 'python-3.x', 'mpmath']</td>\n",
              "      <td>Willtech</td>\n",
              "      <td>[python, python-3.x]</td>\n",
              "      <td>[0, 0, 1, 1, 0, 0, 0, 0, 0, 0, 0, 0, 0, 0, 0, 0, 0, 0, 0, 0, 0, 0, 0, 0, 0, 0, 0, 0, 0, 0, 0, 0, 0, 0, 0, 0]</td>\n",
              "    </tr>\n",
              "    <tr>\n",
              "      <th>3</th>\n",
              "      <td>Error in setting cell values for a TableView column</td>\n",
              "      <td>I'm a newbie to JavaFX (still learning) and I'm currently in the topic of TableViews. I have followed this one particular YouTube video where he made a program about inserting cells to a TableView and ...</td>\n",
              "      <td>['java', 'javafx']</td>\n",
              "      <td>Doggoder</td>\n",
              "      <td>[java]</td>\n",
              "      <td>[1, 0, 0, 0, 0, 0, 0, 0, 0, 0, 0, 0, 0, 0, 0, 0, 0, 0, 0, 0, 0, 0, 0, 0, 0, 0, 0, 0, 0, 0, 0, 0, 0, 0, 0, 0]</td>\n",
              "    </tr>\n",
              "    <tr>\n",
              "      <th>4</th>\n",
              "      <td>Updating the coordinates of the child element after scaling</td>\n",
              "      <td>Help me figure out how to update coordinates for child elements in the form of imgElement images in div canvas-cameras. In the center there is a div with a background picture. In the div, I add as ...</td>\n",
              "      <td>['javascript', 'html', 'css']</td>\n",
              "      <td>Snacker991</td>\n",
              "      <td>[javascript, html, css]</td>\n",
              "      <td>[0, 0, 0, 0, 1, 1, 1, 0, 0, 0, 0, 0, 0, 0, 0, 0, 0, 0, 0, 0, 0, 0, 0, 0, 0, 0, 0, 0, 0, 0, 0, 0, 0, 0, 0, 0]</td>\n",
              "    </tr>\n",
              "  </tbody>\n",
              "</table>\n",
              "</div>\n",
              "    <div class=\"colab-df-buttons\">\n",
              "\n",
              "  <div class=\"colab-df-container\">\n",
              "    <button class=\"colab-df-convert\" onclick=\"convertToInteractive('df-ed0c775a-5d23-47e4-9668-930141581588')\"\n",
              "            title=\"Convert this dataframe to an interactive table.\"\n",
              "            style=\"display:none;\">\n",
              "\n",
              "  <svg xmlns=\"http://www.w3.org/2000/svg\" height=\"24px\" viewBox=\"0 -960 960 960\">\n",
              "    <path d=\"M120-120v-720h720v720H120Zm60-500h600v-160H180v160Zm220 220h160v-160H400v160Zm0 220h160v-160H400v160ZM180-400h160v-160H180v160Zm440 0h160v-160H620v160ZM180-180h160v-160H180v160Zm440 0h160v-160H620v160Z\"/>\n",
              "  </svg>\n",
              "    </button>\n",
              "\n",
              "  <style>\n",
              "    .colab-df-container {\n",
              "      display:flex;\n",
              "      gap: 12px;\n",
              "    }\n",
              "\n",
              "    .colab-df-convert {\n",
              "      background-color: #E8F0FE;\n",
              "      border: none;\n",
              "      border-radius: 50%;\n",
              "      cursor: pointer;\n",
              "      display: none;\n",
              "      fill: #1967D2;\n",
              "      height: 32px;\n",
              "      padding: 0 0 0 0;\n",
              "      width: 32px;\n",
              "    }\n",
              "\n",
              "    .colab-df-convert:hover {\n",
              "      background-color: #E2EBFA;\n",
              "      box-shadow: 0px 1px 2px rgba(60, 64, 67, 0.3), 0px 1px 3px 1px rgba(60, 64, 67, 0.15);\n",
              "      fill: #174EA6;\n",
              "    }\n",
              "\n",
              "    .colab-df-buttons div {\n",
              "      margin-bottom: 4px;\n",
              "    }\n",
              "\n",
              "    [theme=dark] .colab-df-convert {\n",
              "      background-color: #3B4455;\n",
              "      fill: #D2E3FC;\n",
              "    }\n",
              "\n",
              "    [theme=dark] .colab-df-convert:hover {\n",
              "      background-color: #434B5C;\n",
              "      box-shadow: 0px 1px 3px 1px rgba(0, 0, 0, 0.15);\n",
              "      filter: drop-shadow(0px 1px 2px rgba(0, 0, 0, 0.3));\n",
              "      fill: #FFFFFF;\n",
              "    }\n",
              "  </style>\n",
              "\n",
              "    <script>\n",
              "      const buttonEl =\n",
              "        document.querySelector('#df-ed0c775a-5d23-47e4-9668-930141581588 button.colab-df-convert');\n",
              "      buttonEl.style.display =\n",
              "        google.colab.kernel.accessAllowed ? 'block' : 'none';\n",
              "\n",
              "      async function convertToInteractive(key) {\n",
              "        const element = document.querySelector('#df-ed0c775a-5d23-47e4-9668-930141581588');\n",
              "        const dataTable =\n",
              "          await google.colab.kernel.invokeFunction('convertToInteractive',\n",
              "                                                    [key], {});\n",
              "        if (!dataTable) return;\n",
              "\n",
              "        const docLinkHtml = 'Like what you see? Visit the ' +\n",
              "          '<a target=\"_blank\" href=https://colab.research.google.com/notebooks/data_table.ipynb>data table notebook</a>'\n",
              "          + ' to learn more about interactive tables.';\n",
              "        element.innerHTML = '';\n",
              "        dataTable['output_type'] = 'display_data';\n",
              "        await google.colab.output.renderOutput(dataTable, element);\n",
              "        const docLink = document.createElement('div');\n",
              "        docLink.innerHTML = docLinkHtml;\n",
              "        element.appendChild(docLink);\n",
              "      }\n",
              "    </script>\n",
              "  </div>\n",
              "\n",
              "\n",
              "<div id=\"df-35ebcb94-d4f2-456d-b626-d3fe3a4e5c38\">\n",
              "  <button class=\"colab-df-quickchart\" onclick=\"quickchart('df-35ebcb94-d4f2-456d-b626-d3fe3a4e5c38')\"\n",
              "            title=\"Suggest charts\"\n",
              "            style=\"display:none;\">\n",
              "\n",
              "<svg xmlns=\"http://www.w3.org/2000/svg\" height=\"24px\"viewBox=\"0 0 24 24\"\n",
              "     width=\"24px\">\n",
              "    <g>\n",
              "        <path d=\"M19 3H5c-1.1 0-2 .9-2 2v14c0 1.1.9 2 2 2h14c1.1 0 2-.9 2-2V5c0-1.1-.9-2-2-2zM9 17H7v-7h2v7zm4 0h-2V7h2v10zm4 0h-2v-4h2v4z\"/>\n",
              "    </g>\n",
              "</svg>\n",
              "  </button>\n",
              "\n",
              "<style>\n",
              "  .colab-df-quickchart {\n",
              "      --bg-color: #E8F0FE;\n",
              "      --fill-color: #1967D2;\n",
              "      --hover-bg-color: #E2EBFA;\n",
              "      --hover-fill-color: #174EA6;\n",
              "      --disabled-fill-color: #AAA;\n",
              "      --disabled-bg-color: #DDD;\n",
              "  }\n",
              "\n",
              "  [theme=dark] .colab-df-quickchart {\n",
              "      --bg-color: #3B4455;\n",
              "      --fill-color: #D2E3FC;\n",
              "      --hover-bg-color: #434B5C;\n",
              "      --hover-fill-color: #FFFFFF;\n",
              "      --disabled-bg-color: #3B4455;\n",
              "      --disabled-fill-color: #666;\n",
              "  }\n",
              "\n",
              "  .colab-df-quickchart {\n",
              "    background-color: var(--bg-color);\n",
              "    border: none;\n",
              "    border-radius: 50%;\n",
              "    cursor: pointer;\n",
              "    display: none;\n",
              "    fill: var(--fill-color);\n",
              "    height: 32px;\n",
              "    padding: 0;\n",
              "    width: 32px;\n",
              "  }\n",
              "\n",
              "  .colab-df-quickchart:hover {\n",
              "    background-color: var(--hover-bg-color);\n",
              "    box-shadow: 0 1px 2px rgba(60, 64, 67, 0.3), 0 1px 3px 1px rgba(60, 64, 67, 0.15);\n",
              "    fill: var(--button-hover-fill-color);\n",
              "  }\n",
              "\n",
              "  .colab-df-quickchart-complete:disabled,\n",
              "  .colab-df-quickchart-complete:disabled:hover {\n",
              "    background-color: var(--disabled-bg-color);\n",
              "    fill: var(--disabled-fill-color);\n",
              "    box-shadow: none;\n",
              "  }\n",
              "\n",
              "  .colab-df-spinner {\n",
              "    border: 2px solid var(--fill-color);\n",
              "    border-color: transparent;\n",
              "    border-bottom-color: var(--fill-color);\n",
              "    animation:\n",
              "      spin 1s steps(1) infinite;\n",
              "  }\n",
              "\n",
              "  @keyframes spin {\n",
              "    0% {\n",
              "      border-color: transparent;\n",
              "      border-bottom-color: var(--fill-color);\n",
              "      border-left-color: var(--fill-color);\n",
              "    }\n",
              "    20% {\n",
              "      border-color: transparent;\n",
              "      border-left-color: var(--fill-color);\n",
              "      border-top-color: var(--fill-color);\n",
              "    }\n",
              "    30% {\n",
              "      border-color: transparent;\n",
              "      border-left-color: var(--fill-color);\n",
              "      border-top-color: var(--fill-color);\n",
              "      border-right-color: var(--fill-color);\n",
              "    }\n",
              "    40% {\n",
              "      border-color: transparent;\n",
              "      border-right-color: var(--fill-color);\n",
              "      border-top-color: var(--fill-color);\n",
              "    }\n",
              "    60% {\n",
              "      border-color: transparent;\n",
              "      border-right-color: var(--fill-color);\n",
              "    }\n",
              "    80% {\n",
              "      border-color: transparent;\n",
              "      border-right-color: var(--fill-color);\n",
              "      border-bottom-color: var(--fill-color);\n",
              "    }\n",
              "    90% {\n",
              "      border-color: transparent;\n",
              "      border-bottom-color: var(--fill-color);\n",
              "    }\n",
              "  }\n",
              "</style>\n",
              "\n",
              "  <script>\n",
              "    async function quickchart(key) {\n",
              "      const quickchartButtonEl =\n",
              "        document.querySelector('#' + key + ' button');\n",
              "      quickchartButtonEl.disabled = true;  // To prevent multiple clicks.\n",
              "      quickchartButtonEl.classList.add('colab-df-spinner');\n",
              "      try {\n",
              "        const charts = await google.colab.kernel.invokeFunction(\n",
              "            'suggestCharts', [key], {});\n",
              "      } catch (error) {\n",
              "        console.error('Error during call to suggestCharts:', error);\n",
              "      }\n",
              "      quickchartButtonEl.classList.remove('colab-df-spinner');\n",
              "      quickchartButtonEl.classList.add('colab-df-quickchart-complete');\n",
              "    }\n",
              "    (() => {\n",
              "      let quickchartButtonEl =\n",
              "        document.querySelector('#df-35ebcb94-d4f2-456d-b626-d3fe3a4e5c38 button');\n",
              "      quickchartButtonEl.style.display =\n",
              "        google.colab.kernel.accessAllowed ? 'block' : 'none';\n",
              "    })();\n",
              "  </script>\n",
              "</div>\n",
              "\n",
              "    </div>\n",
              "  </div>\n"
            ]
          },
          "metadata": {},
          "execution_count": 20
        }
      ]
    },
    {
      "cell_type": "markdown",
      "source": [
        "# Dataloaders and Modeling"
      ],
      "metadata": {
        "id": "ZQd-qsmH8p-X"
      }
    },
    {
      "cell_type": "code",
      "source": [
        "labels = list(encode_tags_types.keys())"
      ],
      "metadata": {
        "id": "o70JRkrf8rcS"
      },
      "execution_count": 22,
      "outputs": []
    },
    {
      "cell_type": "code",
      "source": [
        "model_name = \"distilroberta-base\"\n",
        "model_cls = AutoModelForSequenceClassification\n",
        "config = AutoConfig.from_pretrained(model_name)\n",
        "config.num_labels = len(labels)\n",
        "\n",
        "hf_arch, hf_config, hf_tokenizer, hf_model = get_hf_objects(model_name, model_cls=model_cls, config=config)\n",
        "hf_model.config.problem_type = \"multi_label_classification\""
      ],
      "metadata": {
        "id": "5_FSnyKYAEjc",
        "outputId": "0cf65926-e32e-4ae7-f572-fa2c86b0b5ba",
        "colab": {
          "base_uri": "https://localhost:8080/",
          "height": 363,
          "referenced_widgets": [
            "dcf19d185d6549b38ac9eb3dd0414978",
            "1f148b8b94204d7387f22170d0bc272c",
            "023df1b123a24e6b8c98e3c05bcb76fe",
            "fa9bf86cbaa74c829c2ad16c8d235a7e",
            "bbd72d359b044658b79e2a585b7cc5a6",
            "631debdc9eb04726890bf00a1ab2d69f",
            "dc7e46219259471c9bb340b68fc4588e",
            "71295ec994734200895c05aaa15b97c8",
            "854eafbb3a3e4309a9b37cba312fc4ca",
            "e7d1290514d94d57b66b48e8f899e4ec",
            "66dd92d565164de2a865933f4ed6d463",
            "e28e684dbb8944e1ab94cd174ad72b46",
            "76c18fbaf07f43d3b0d9044041409b19",
            "7cd696924816485ea23ec3c192bd627d",
            "a2d3decb2e28413b86991ca341b9634e",
            "94154997812e4ebdb1ac06d049c4be29",
            "0b5dbbf1881f4f099f3e205999aa27b8",
            "aeed6282575e4af6bd511e803bb19051",
            "e2bdac36036640129a96f6bce5318846",
            "597624f671654eefaca6d3442d48856e",
            "e030c4b441a7405a928dad97135df729",
            "b70a5ea1cc484297a776ccb40aa55b65",
            "82a2f5e749a94eb7897958e4c65f2a82",
            "98c8dc68c5ad411f9e2e596aa1f3dcf7",
            "c153e5264d92473fa660e1a99790cd69",
            "c04a88dc19774c3f8b292ae38c4a37cc",
            "a2603ddadcab46a99f32edf2561b0dc0",
            "262cec3fa1454c42894672741c841bcf",
            "e3a76434611b4d92a983f09ddc1df26b",
            "73c224474ca84653aba60f83f3ac69e9",
            "9d559a9fc81e40eeab2999cf273b0909",
            "21ae74bc62d141adb95f38e141aef331",
            "4ae04f819993478a9de24bd0e8a9e504",
            "3943f10ef59d4a5a94c500290dd1dcf8",
            "49ec80491d4a429e8848801186101a90",
            "297698cd0ef34ddf9661233ccc0c89aa",
            "4d15a62d5e614fdcb5d6347631af9bbb",
            "46ad8b5400b44e3ca37cda5e99cc1205",
            "5809d0b6f0744b6689a7904ed4fcb16f",
            "e4e3676ca4d14c1dba8463cdfbdc4488",
            "7d4de92aa2e941d2a6e55ab8364de8fc",
            "e3c0391407434131aaa4fc92d25ea412",
            "35a7304e8d7f43e885dae882b827c772",
            "39e38d4031a647f6a5f821d5cf613101",
            "b7a40249c0424d10808c70d353fab8ef",
            "01c9800675154283b3ea39c41f57c04b",
            "a2b2142795f24e0f8d53b298641c50be",
            "265ebf1bde664ef7987beb996685298c",
            "c01a5d749a0e442d9dd7c18dd07d2b67",
            "beb7de9c5e6b48f7ae66d6002a5757a9",
            "c7ac2e39ab9f4a6a969982997c318d72",
            "64f84552b1734697a97d9185bba7d246",
            "31a62aac682641a0bb6fcfc9825bac47",
            "145a46a9d30049ba9eb01df0f054b506",
            "15b7f57e0f6447af97fa9a055c39ef67"
          ]
        }
      },
      "execution_count": 23,
      "outputs": [
        {
          "output_type": "stream",
          "name": "stderr",
          "text": [
            "/usr/local/lib/python3.10/dist-packages/huggingface_hub/utils/_token.py:72: UserWarning: \n",
            "The secret `HF_TOKEN` does not exist in your Colab secrets.\n",
            "To authenticate with the Hugging Face Hub, create a token in your settings tab (https://huggingface.co/settings/tokens), set it as secret in your Google Colab and restart your session.\n",
            "You will be able to reuse this secret in all of your notebooks.\n",
            "Please note that authentication is recommended but still optional to access public models or datasets.\n",
            "  warnings.warn(\n"
          ]
        },
        {
          "output_type": "display_data",
          "data": {
            "text/plain": [
              "config.json:   0%|          | 0.00/480 [00:00<?, ?B/s]"
            ],
            "application/vnd.jupyter.widget-view+json": {
              "version_major": 2,
              "version_minor": 0,
              "model_id": "dcf19d185d6549b38ac9eb3dd0414978"
            }
          },
          "metadata": {}
        },
        {
          "output_type": "display_data",
          "data": {
            "text/plain": [
              "vocab.json:   0%|          | 0.00/899k [00:00<?, ?B/s]"
            ],
            "application/vnd.jupyter.widget-view+json": {
              "version_major": 2,
              "version_minor": 0,
              "model_id": "e28e684dbb8944e1ab94cd174ad72b46"
            }
          },
          "metadata": {}
        },
        {
          "output_type": "display_data",
          "data": {
            "text/plain": [
              "merges.txt:   0%|          | 0.00/456k [00:00<?, ?B/s]"
            ],
            "application/vnd.jupyter.widget-view+json": {
              "version_major": 2,
              "version_minor": 0,
              "model_id": "82a2f5e749a94eb7897958e4c65f2a82"
            }
          },
          "metadata": {}
        },
        {
          "output_type": "display_data",
          "data": {
            "text/plain": [
              "tokenizer.json:   0%|          | 0.00/1.36M [00:00<?, ?B/s]"
            ],
            "application/vnd.jupyter.widget-view+json": {
              "version_major": 2,
              "version_minor": 0,
              "model_id": "3943f10ef59d4a5a94c500290dd1dcf8"
            }
          },
          "metadata": {}
        },
        {
          "output_type": "display_data",
          "data": {
            "text/plain": [
              "model.safetensors:   0%|          | 0.00/331M [00:00<?, ?B/s]"
            ],
            "application/vnd.jupyter.widget-view+json": {
              "version_major": 2,
              "version_minor": 0,
              "model_id": "b7a40249c0424d10808c70d353fab8ef"
            }
          },
          "metadata": {}
        }
      ]
    },
    {
      "cell_type": "code",
      "source": [
        "blocks = (TextBlock(hf_arch, hf_config, hf_tokenizer, hf_model), MultiCategoryBlock(encoded=True,vocab=labels))\n",
        "dblock = DataBlock(blocks=blocks, get_x=ColReader('Summary'), get_y=ColReader('tags_cat_list'), splitter=RandomSplitter(valid_pct=0.1, seed=42))"
      ],
      "metadata": {
        "id": "4qeRvUcWCa-y"
      },
      "execution_count": 28,
      "outputs": []
    },
    {
      "cell_type": "code",
      "source": [
        "dls = dblock.dataloaders(df, bs=32)\n",
        "torch.save(dls, \"/content/drive/MyDrive/Capstone_3/dataloaders/dls-multilabel-Question-classifier.pkl\")"
      ],
      "metadata": {
        "id": "tfAwCGksC1Of"
      },
      "execution_count": 29,
      "outputs": []
    },
    {
      "cell_type": "code",
      "source": [
        "# dls = torch.load(\"dataloaders/dls-multilabel-book-classifier.pkl\")"
      ],
      "metadata": {
        "id": "NsnkgXUSFoLJ"
      },
      "execution_count": 30,
      "outputs": []
    },
    {
      "cell_type": "code",
      "source": [
        "dls.vocab"
      ],
      "metadata": {
        "id": "N_fFkyvKFpnl",
        "outputId": "4dc06987-b6f1-4b6f-a822-a4b767923c2c",
        "colab": {
          "base_uri": "https://localhost:8080/"
        }
      },
      "execution_count": 31,
      "outputs": [
        {
          "output_type": "execute_result",
          "data": {
            "text/plain": [
              "['java', 'angular', 'python', 'python-3.x', 'javascript', 'html', 'css', 'react-native', 'c#', 'ios', 'r', 'android', 'django', 'azure', 'reactjs', 'flutter', 'kotlin', 'laravel', 'c++', 'postgresql', 'c', 'sql', 'mysql', 'docker', 'swift', 'visual-studio-code', 'excel', 'typescript', 'pandas', 'node.js', 'spring-boot', 'next.js', 'php', '.net', 'amazon-web-services', 'dart']"
            ]
          },
          "metadata": {},
          "execution_count": 31
        }
      ]
    },
    {
      "cell_type": "code",
      "source": [
        "dls.show_batch(dataloaders=dls, max_n=4, trunc_at=512)"
      ],
      "metadata": {
        "id": "THrlFDEgFtfg",
        "outputId": "fca56ddd-f49c-49cc-a35a-5544afcff807",
        "colab": {
          "base_uri": "https://localhost:8080/",
          "height": 299
        }
      },
      "execution_count": 32,
      "outputs": [
        {
          "output_type": "display_data",
          "data": {
            "text/plain": [
              "<IPython.core.display.HTML object>"
            ],
            "text/html": [
              "<table border=\"1\" class=\"dataframe\">\n",
              "  <thead>\n",
              "    <tr style=\"text-align: right;\">\n",
              "      <th></th>\n",
              "      <th>text</th>\n",
              "      <th>target</th>\n",
              "    </tr>\n",
              "  </thead>\n",
              "  <tbody>\n",
              "    <tr>\n",
              "      <th>0</th>\n",
              "      <td>С данного сайта(https://schoolhm.ru/10-%d0%ba%d0%bb%d0%b0%d1%81%d1%81-%d1%8e%d1%84%d0%bc%d0%bb/) нужно спарсить все ссылки на документы в словарь, ключом к которому будет название этого файла. В итоге...</td>\n",
              "      <td>[python]</td>\n",
              "    </tr>\n",
              "    <tr>\n",
              "      <th>1</th>\n",
              "      <td>import pandas as pd columns = ['S1', 'S2', 'S3', 'S4', 'S5'] df = pd.DataFrame({'Patient':['p1', 'p2', 'p3', 'p4', 'p5', 'p6', 'p7', 'p8', 'p8', 'p10'], 'S1':[0.7, 0.3, 0.5, 0.8,...</td>\n",
              "      <td>[python, pandas]</td>\n",
              "    </tr>\n",
              "    <tr>\n",
              "      <th>2</th>\n",
              "      <td>Is there a known pattern or algorithm behind Reddit post IDs, or are they randomly generated? 18q9dhv,18q8gaq,18q87k5,18q6i9j,18q6i7e,18q5m9b,18q4znf,18q4zne,18q4quv,18q4jra,18q45h1,18q2zu8 i want to...</td>\n",
              "      <td>[python]</td>\n",
              "    </tr>\n",
              "    <tr>\n",
              "      <th>3</th>\n",
              "      <td>I have following dataset. Product Timestamp A 2023-12-27 22:37:44.717 A 2023-12-27 22:38:39.403 A 2023-12-27 22:39:34.447 B 2023-12-27 22:40:28.733 B 2023-12-27 22:41:21.460 A 2023-12-27 22:43:...</td>\n",
              "      <td>[sql]</td>\n",
              "    </tr>\n",
              "  </tbody>\n",
              "</table>"
            ]
          },
          "metadata": {}
        }
      ]
    },
    {
      "cell_type": "code",
      "source": [
        "doc(accuracy_multi)"
      ],
      "metadata": {
        "id": "ohKcMvzPFzUr",
        "outputId": "b951c81c-52d6-4265-c79a-3963959b34d7",
        "colab": {
          "base_uri": "https://localhost:8080/",
          "height": 155
        }
      },
      "execution_count": 33,
      "outputs": [
        {
          "output_type": "display_data",
          "data": {
            "text/plain": [
              "<IPython.core.display.HTML object>"
            ],
            "text/html": [
              "<hr/>\n",
              "<h3>accuracy_multi</h3>\n",
              "<blockquote><pre><code>accuracy_multi(inp, targ, thresh=0.5, sigmoid=True)</code></pre></blockquote><p>Compute accuracy when `inp` and `targ` are the same size.</p>\n",
              "<p><a href=\"https://docs.fast.ai/metrics.html#accuracy_multi\" target=\"_blank\" rel=\"noreferrer noopener\">Show in docs</a></p>"
            ]
          },
          "metadata": {}
        }
      ]
    },
    {
      "cell_type": "code",
      "source": [
        "model = BaseModelWrapper(hf_model)\n",
        "\n",
        "acc_02 = partial(accuracy_multi, thresh=0.2)\n",
        "\n",
        "learner = Learner(dls,\n",
        "                  model,\n",
        "                  opt_func=partial(OptimWrapper, opt=torch.optim.AdamW),\n",
        "                  loss_func=BCEWithLogitsLossFlat(),\n",
        "                  metrics=[acc_02],\n",
        "                  cbs=[BaseModelCallback],\n",
        "                  splitter=blurr_splitter\n",
        "                  ).to_fp16()"
      ],
      "metadata": {
        "id": "WI6M9KILF47i"
      },
      "execution_count": 34,
      "outputs": []
    },
    {
      "cell_type": "markdown",
      "source": [
        "# Stage - 0"
      ],
      "metadata": {
        "id": "YkA8guftGCGe"
      }
    },
    {
      "cell_type": "code",
      "source": [
        "learner.freeze()"
      ],
      "metadata": {
        "id": "ZlE41NRRGEDo"
      },
      "execution_count": 35,
      "outputs": []
    },
    {
      "cell_type": "code",
      "source": [
        "learner.lr_find(suggest_funcs=[slide, valley])"
      ],
      "metadata": {
        "id": "y7fA_BHoGPen",
        "outputId": "2d6332b5-bdf5-4322-8f27-d364f8db9939",
        "colab": {
          "base_uri": "https://localhost:8080/",
          "height": 472
        }
      },
      "execution_count": 36,
      "outputs": [
        {
          "output_type": "display_data",
          "data": {
            "text/plain": [
              "<IPython.core.display.HTML object>"
            ],
            "text/html": [
              "\n",
              "<style>\n",
              "    /* Turns off some styling */\n",
              "    progress {\n",
              "        /* gets rid of default border in Firefox and Opera. */\n",
              "        border: none;\n",
              "        /* Needs to be in here for Safari polyfill so background images work as expected. */\n",
              "        background-size: auto;\n",
              "    }\n",
              "    progress:not([value]), progress:not([value])::-webkit-progress-bar {\n",
              "        background: repeating-linear-gradient(45deg, #7e7e7e, #7e7e7e 10px, #5c5c5c 10px, #5c5c5c 20px);\n",
              "    }\n",
              "    .progress-bar-interrupted, .progress-bar-interrupted::-webkit-progress-bar {\n",
              "        background: #F44336;\n",
              "    }\n",
              "</style>\n"
            ]
          },
          "metadata": {}
        },
        {
          "output_type": "display_data",
          "data": {
            "text/plain": [
              "<IPython.core.display.HTML object>"
            ],
            "text/html": []
          },
          "metadata": {}
        },
        {
          "output_type": "execute_result",
          "data": {
            "text/plain": [
              "SuggestedLRs(slide=0.0008317637839354575, valley=0.0002290867705596611)"
            ]
          },
          "metadata": {},
          "execution_count": 36
        },
        {
          "output_type": "display_data",
          "data": {
            "text/plain": [
              "<Figure size 640x480 with 1 Axes>"
            ],
            "image/png": "[encoded data removed]"
          },
          "metadata": {}
        }
      ]
    },
    {
      "cell_type": "code",
      "source": [
        "learner.fit_one_cycle(2,4.75e-4)"
      ],
      "metadata": {
        "id": "PMEVFTv8GdzG",
        "outputId": "eb0dd8fd-f27f-4f85-f822-b922a9519ede",
        "colab": {
          "base_uri": "https://localhost:8080/",
          "height": 112
        }
      },
      "execution_count": 37,
      "outputs": [
        {
          "output_type": "display_data",
          "data": {
            "text/plain": [
              "<IPython.core.display.HTML object>"
            ],
            "text/html": [
              "\n",
              "<style>\n",
              "    /* Turns off some styling */\n",
              "    progress {\n",
              "        /* gets rid of default border in Firefox and Opera. */\n",
              "        border: none;\n",
              "        /* Needs to be in here for Safari polyfill so background images work as expected. */\n",
              "        background-size: auto;\n",
              "    }\n",
              "    progress:not([value]), progress:not([value])::-webkit-progress-bar {\n",
              "        background: repeating-linear-gradient(45deg, #7e7e7e, #7e7e7e 10px, #5c5c5c 10px, #5c5c5c 20px);\n",
              "    }\n",
              "    .progress-bar-interrupted, .progress-bar-interrupted::-webkit-progress-bar {\n",
              "        background: #F44336;\n",
              "    }\n",
              "</style>\n"
            ]
          },
          "metadata": {}
        },
        {
          "output_type": "display_data",
          "data": {
            "text/plain": [
              "<IPython.core.display.HTML object>"
            ],
            "text/html": [
              "<table border=\"1\" class=\"dataframe\">\n",
              "  <thead>\n",
              "    <tr style=\"text-align: left;\">\n",
              "      <th>epoch</th>\n",
              "      <th>train_loss</th>\n",
              "      <th>valid_loss</th>\n",
              "      <th>accuracy_multi</th>\n",
              "      <th>time</th>\n",
              "    </tr>\n",
              "  </thead>\n",
              "  <tbody>\n",
              "    <tr>\n",
              "      <td>0</td>\n",
              "      <td>0.100507</td>\n",
              "      <td>0.098480</td>\n",
              "      <td>0.958964</td>\n",
              "      <td>00:39</td>\n",
              "    </tr>\n",
              "    <tr>\n",
              "      <td>1</td>\n",
              "      <td>0.089138</td>\n",
              "      <td>0.091517</td>\n",
              "      <td>0.960637</td>\n",
              "      <td>00:35</td>\n",
              "    </tr>\n",
              "  </tbody>\n",
              "</table>"
            ]
          },
          "metadata": {}
        }
      ]
    },
    {
      "cell_type": "code",
      "source": [
        "learner.save(\"Question-classifier-stage-0\")"
      ],
      "metadata": {
        "id": "zVD0XXikGeWt",
        "outputId": "2e17ab1b-4e62-4542-8856-bba9abd842f5",
        "colab": {
          "base_uri": "https://localhost:8080/"
        }
      },
      "execution_count": 38,
      "outputs": [
        {
          "output_type": "execute_result",
          "data": {
            "text/plain": [
              "Path('models/Question-classifier-stage-0.pth')"
            ]
          },
          "metadata": {},
          "execution_count": 38
        }
      ]
    },
    {
      "cell_type": "markdown",
      "source": [
        "# Stage - 1"
      ],
      "metadata": {
        "id": "zsLvSi4LH2EV"
      }
    },
    {
      "cell_type": "code",
      "source": [
        "# learner.load(\"book-classifier-stage-0\")"
      ],
      "metadata": {
        "id": "aZbGYiTmGeZs"
      },
      "execution_count": null,
      "outputs": []
    },
    {
      "cell_type": "code",
      "source": [
        "learner.unfreeze()"
      ],
      "metadata": {
        "id": "uC-WbmGdGedG"
      },
      "execution_count": 39,
      "outputs": []
    },
    {
      "cell_type": "code",
      "source": [
        "learner.lr_find(suggest_funcs=[slide, valley])"
      ],
      "metadata": {
        "id": "RmktsBsnGejs",
        "outputId": "d5b81e8e-9cb4-4e20-c4fe-3d83ef58230a",
        "colab": {
          "base_uri": "https://localhost:8080/",
          "height": 472
        }
      },
      "execution_count": 40,
      "outputs": [
        {
          "output_type": "display_data",
          "data": {
            "text/plain": [
              "<IPython.core.display.HTML object>"
            ],
            "text/html": [
              "\n",
              "<style>\n",
              "    /* Turns off some styling */\n",
              "    progress {\n",
              "        /* gets rid of default border in Firefox and Opera. */\n",
              "        border: none;\n",
              "        /* Needs to be in here for Safari polyfill so background images work as expected. */\n",
              "        background-size: auto;\n",
              "    }\n",
              "    progress:not([value]), progress:not([value])::-webkit-progress-bar {\n",
              "        background: repeating-linear-gradient(45deg, #7e7e7e, #7e7e7e 10px, #5c5c5c 10px, #5c5c5c 20px);\n",
              "    }\n",
              "    .progress-bar-interrupted, .progress-bar-interrupted::-webkit-progress-bar {\n",
              "        background: #F44336;\n",
              "    }\n",
              "</style>\n"
            ]
          },
          "metadata": {}
        },
        {
          "output_type": "display_data",
          "data": {
            "text/plain": [
              "<IPython.core.display.HTML object>"
            ],
            "text/html": []
          },
          "metadata": {}
        },
        {
          "output_type": "execute_result",
          "data": {
            "text/plain": [
              "SuggestedLRs(slide=0.0020892962347716093, valley=1.4454397387453355e-05)"
            ]
          },
          "metadata": {},
          "execution_count": 40
        },
        {
          "output_type": "display_data",
          "data": {
            "text/plain": [
              "<Figure size 640x480 with 1 Axes>"
            ],
            "image/png": "[encoded data removed]"
          },
          "metadata": {}
        }
      ]
    },
    {
      "cell_type": "code",
      "source": [
        "learner.fit_one_cycle(3,slice(4.75e-3, 2.25e-5))"
      ],
      "metadata": {
        "id": "vmGXoa_jINSE",
        "outputId": "838d9c86-af13-41f5-cd2a-49f81e641fd4",
        "colab": {
          "base_uri": "https://localhost:8080/",
          "height": 143
        }
      },
      "execution_count": 41,
      "outputs": [
        {
          "output_type": "display_data",
          "data": {
            "text/plain": [
              "<IPython.core.display.HTML object>"
            ],
            "text/html": [
              "\n",
              "<style>\n",
              "    /* Turns off some styling */\n",
              "    progress {\n",
              "        /* gets rid of default border in Firefox and Opera. */\n",
              "        border: none;\n",
              "        /* Needs to be in here for Safari polyfill so background images work as expected. */\n",
              "        background-size: auto;\n",
              "    }\n",
              "    progress:not([value]), progress:not([value])::-webkit-progress-bar {\n",
              "        background: repeating-linear-gradient(45deg, #7e7e7e, #7e7e7e 10px, #5c5c5c 10px, #5c5c5c 20px);\n",
              "    }\n",
              "    .progress-bar-interrupted, .progress-bar-interrupted::-webkit-progress-bar {\n",
              "        background: #F44336;\n",
              "    }\n",
              "</style>\n"
            ]
          },
          "metadata": {}
        },
        {
          "output_type": "display_data",
          "data": {
            "text/plain": [
              "<IPython.core.display.HTML object>"
            ],
            "text/html": [
              "<table border=\"1\" class=\"dataframe\">\n",
              "  <thead>\n",
              "    <tr style=\"text-align: left;\">\n",
              "      <th>epoch</th>\n",
              "      <th>train_loss</th>\n",
              "      <th>valid_loss</th>\n",
              "      <th>accuracy_multi</th>\n",
              "      <th>time</th>\n",
              "    </tr>\n",
              "  </thead>\n",
              "  <tbody>\n",
              "    <tr>\n",
              "      <td>0</td>\n",
              "      <td>0.094125</td>\n",
              "      <td>0.095471</td>\n",
              "      <td>0.956935</td>\n",
              "      <td>01:18</td>\n",
              "    </tr>\n",
              "    <tr>\n",
              "      <td>1</td>\n",
              "      <td>0.073992</td>\n",
              "      <td>0.082824</td>\n",
              "      <td>0.963653</td>\n",
              "      <td>01:01</td>\n",
              "    </tr>\n",
              "    <tr>\n",
              "      <td>2</td>\n",
              "      <td>0.048622</td>\n",
              "      <td>0.080881</td>\n",
              "      <td>0.966628</td>\n",
              "      <td>01:02</td>\n",
              "    </tr>\n",
              "  </tbody>\n",
              "</table>"
            ]
          },
          "metadata": {}
        }
      ]
    },
    {
      "cell_type": "code",
      "source": [
        "learner.save(\"Question-classifier-stage-1\")"
      ],
      "metadata": {
        "id": "be2qAhdwITat",
        "outputId": "464a1728-64d8-44ec-d608-cfd26a62f7d6",
        "colab": {
          "base_uri": "https://localhost:8080/"
        }
      },
      "execution_count": 42,
      "outputs": [
        {
          "output_type": "execute_result",
          "data": {
            "text/plain": [
              "Path('models/Question-classifier-stage-1.pth')"
            ]
          },
          "metadata": {},
          "execution_count": 42
        }
      ]
    },
    {
      "cell_type": "code",
      "source": [
        "learner.export(\"models/Question-classifier-stage-1.pkl\")"
      ],
      "metadata": {
        "id": "XjuLxxF0IW94"
      },
      "execution_count": 43,
      "outputs": []
    }
  ]
}